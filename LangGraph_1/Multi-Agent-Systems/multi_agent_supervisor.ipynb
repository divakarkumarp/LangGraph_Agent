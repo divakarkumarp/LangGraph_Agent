{
 "cells": [
  {
   "cell_type": "code",
   "execution_count": null,
   "id": "efa19d97",
   "metadata": {},
   "outputs": [],
   "source": [
    "from typing import Annotated, List\n",
    "from typing import Literal\n",
    "from langchain_community.tools.tavily_search import TavilySearchResults\n",
    "from langchain_community.document_loaders import WebBaseLoader\n",
    "from langchain_core.tools import tool\n",
    "from langchain_experimental.utilities import PythonREPL\n",
    "from typing_extensions import TypedDict\n",
    "from langchain_openai import ChatOpenAI\n",
    "from langgraph.graph import MessagesState, END,StateGraph, START\n",
    "from langgraph.types import Command\n",
    "from langgraph.prebuilt import create_react_agent"
   ]
  },
  {
   "cell_type": "code",
   "execution_count": 2,
   "id": "808f00d1",
   "metadata": {},
   "outputs": [],
   "source": [
    "import os\n",
    "from dotenv import load_dotenv\n",
    "load_dotenv()\n",
    "GOOGLE_API_KEY=os.getenv(\"GOOGLE_API_KEY\")\n",
    "TAVILY_API_KEY=os.getenv(\"TAVILY_API_KEY\")\n",
    "GROQ_API_KEY=os.getenv(\"GROQ_API_KEY\")\n",
    "LANGSMITH_API_KEY=os.getenv(\"LANGSMITH_API_KEY\")\n",
    "os.environ[\"GOOGLE_API_KEY\"] = GOOGLE_API_KEY\n",
    "os.environ[\"TAVILY_API_KEY\"] = TAVILY_API_KEY\n",
    "os.environ[\"GROQ_API_KEY\"]= GROQ_API_KEY\n",
    "os.environ[\"LANGSMITH_API_KEY\"] = LANGSMITH_API_KEY\n",
    "os.environ[\"LANGSMITH_TRACING\"]=\"true\"\n",
    "os.environ[\"LANGSMITH_ENDPOINT\"]=\"https://api.smith.langchain.com\""
   ]
  },
  {
   "cell_type": "markdown",
   "id": "074190c3",
   "metadata": {},
   "source": [
    "#### Create Tools\n",
    "\n",
    "**ResearchTeam tools:**\n",
    "The research team can use a search engine and url scraper to find information on the web. Feel free to add additional functionality below to boost the team performance!"
   ]
  },
  {
   "cell_type": "code",
   "execution_count": 5,
   "id": "6c111804",
   "metadata": {},
   "outputs": [],
   "source": [
    "tavaily_tool=TavilySearchResults(max_results=5)"
   ]
  },
  {
   "cell_type": "code",
   "execution_count": 6,
   "id": "83d2d8d3",
   "metadata": {},
   "outputs": [],
   "source": [
    "@tool\n",
    "def scrape_webpages(urls: List[str]) -> str:\n",
    "    \"\"\"Use requests and bs4 to scrape the provided web pages for detailed information.\"\"\"\n",
    "    loader = WebBaseLoader(urls)\n",
    "    docs = loader.load()\n",
    "    return \"\\n\\n\".join(\n",
    "        [\n",
    "            f'<Document name=\"{doc.metadata.get(\"title\", \"\")}\">\\n{doc.page_content}\\n</Document>'\n",
    "            for doc in docs\n",
    "        ]\n",
    "    )"
   ]
  },
  {
   "cell_type": "markdown",
   "id": "99c57b37",
   "metadata": {},
   "source": [
    "**Document writing team tools**:\n",
    "Next up, we will give some tools for the doc writing team to use. We define some bare-bones file-access tools below."
   ]
  },
  {
   "cell_type": "code",
   "execution_count": 9,
   "id": "6cf4af25",
   "metadata": {},
   "outputs": [],
   "source": [
    "from pathlib import Path\n",
    "from tempfile import TemporaryDirectory\n",
    "from typing import Dict, Optional\n",
    "\n",
    "_TEMP_DIRECTORY = TemporaryDirectory()\n",
    "WORKING_DIRECTORY = Path(_TEMP_DIRECTORY.name)\n",
    "\n",
    "\n",
    "@tool\n",
    "def create_outline(\n",
    "    points: Annotated[List[str], \"List of main points or sections.\"],\n",
    "    file_name: Annotated[str, \"File path to save the outline.\"],\n",
    ") -> Annotated[str, \"Path of the saved outline file.\"]:\n",
    "    \"\"\"Create and save an outline.\"\"\"\n",
    "    with (WORKING_DIRECTORY / file_name).open(\"w\") as file:\n",
    "        for i, point in enumerate(points):\n",
    "            file.write(f\"{i + 1}. {point}\\n\")\n",
    "    return f\"Outline saved to {file_name}\"\n"
   ]
  },
  {
   "cell_type": "code",
   "execution_count": 10,
   "id": "82b63610",
   "metadata": {},
   "outputs": [],
   "source": [
    "@tool\n",
    "def read_document(\n",
    "    file_name: Annotated[str, \"File path to read the document from.\"],\n",
    "    start: Annotated[Optional[int], \"The start line. Default is 0\"] = None,\n",
    "    end: Annotated[Optional[int], \"The end line. Default is None\"] = None,\n",
    ") -> str:\n",
    "    \"\"\"Read the specified document.\"\"\"\n",
    "    with (WORKING_DIRECTORY / file_name).open(\"r\") as file:\n",
    "        lines = file.readlines()\n",
    "    if start is None:\n",
    "        start = 0\n",
    "    return \"\\n\".join(lines[start:end])"
   ]
  },
  {
   "cell_type": "code",
   "execution_count": 11,
   "id": "8c83e8f8",
   "metadata": {},
   "outputs": [],
   "source": [
    "@tool\n",
    "def write_document(\n",
    "    content: Annotated[str, \"Text content to be written into the document.\"],\n",
    "    file_name: Annotated[str, \"File path to save the document.\"],\n",
    ") -> Annotated[str, \"Path of the saved document file.\"]:\n",
    "    \"\"\"Create and save a text document.\"\"\"\n",
    "    with (WORKING_DIRECTORY / file_name).open(\"w\") as file:\n",
    "        file.write(content)\n",
    "    return f\"Document saved to {file_name}\"\n"
   ]
  },
  {
   "cell_type": "code",
   "execution_count": 12,
   "id": "93b1ef8a",
   "metadata": {},
   "outputs": [],
   "source": [
    "@tool\n",
    "def edit_document(\n",
    "    file_name: Annotated[str, \"Path of the document to be edited.\"],\n",
    "    inserts: Annotated[\n",
    "        Dict[int, str],\n",
    "        \"Dictionary where key is the line number (1-indexed) and value is the text to be inserted at that line.\",\n",
    "    ],\n",
    ") -> Annotated[str, \"Path of the edited document file.\"]:\n",
    "    \"\"\"Edit a document by inserting text at specific line numbers.\"\"\"\n",
    "\n",
    "    with (WORKING_DIRECTORY / file_name).open(\"r\") as file:\n",
    "        lines = file.readlines()\n",
    "\n",
    "    sorted_inserts = sorted(inserts.items())\n",
    "\n",
    "    for line_number, text in sorted_inserts:\n",
    "        if 1 <= line_number <= len(lines) + 1:\n",
    "            lines.insert(line_number - 1, text + \"\\n\")\n",
    "        else:\n",
    "            return f\"Error: Line number {line_number} is out of range.\"\n",
    "\n",
    "    with (WORKING_DIRECTORY / file_name).open(\"w\") as file:\n",
    "        file.writelines(lines)\n",
    "\n",
    "    return f\"Document edited and saved to {file_name}\"\n",
    "\n",
    "\n",
    "# Warning: This executes code locally, which can be unsafe when not sandboxed\n",
    "\n",
    "repl = PythonREPL()"
   ]
  },
  {
   "cell_type": "code",
   "execution_count": 13,
   "id": "f491bb74",
   "metadata": {},
   "outputs": [],
   "source": [
    "@tool\n",
    "def python_repl_tool(\n",
    "    code: Annotated[str, \"The python code to execute to generate your chart.\"],\n",
    "):\n",
    "    \"\"\"Use this to execute python code. If you want to see the output of a value,\n",
    "    you should print it out with `print(...)`. This is visible to the user.\"\"\"\n",
    "    try:\n",
    "        result = repl.run(code)\n",
    "    except BaseException as e:\n",
    "        return f\"Failed to execute. Error: {repr(e)}\"\n",
    "    return f\"Successfully executed:\\n```python\\n{code}\\n```\\nStdout: {result}\""
   ]
  },
  {
   "cell_type": "markdown",
   "id": "5354a6dc",
   "metadata": {},
   "source": [
    "* Create a worker agent.\n",
    "* Create a supervisor for the sub-graph."
   ]
  },
  {
   "cell_type": "code",
   "execution_count": 14,
   "id": "b863d0f6",
   "metadata": {},
   "outputs": [],
   "source": [
    "from typing import List, Optional, Literal\n",
    "from langchain_core.language_models.chat_models import BaseChatModel\n",
    "from langchain_core.messages import HumanMessage, trim_messages\n",
    "\n",
    "class State(MessagesState):\n",
    "    next: str\n",
    "\n",
    "\n",
    "def make_supervisor_node(llm: BaseChatModel, members: list[str]) -> str:\n",
    "    options = [\"FINISH\"] + members\n",
    "    system_prompt = (\n",
    "        \"You are a supervisor tasked with managing a conversation between the\"\n",
    "        f\" following workers: {members}. Given the following user request,\"\n",
    "        \" respond with the worker to act next. Each worker will perform a\"\n",
    "        \" task and respond with their results and status. When finished,\"\n",
    "        \" respond with FINISH.\"\n",
    "    )\n",
    "\n",
    "    class Router(TypedDict):\n",
    "        \"\"\"Worker to route to next. If no workers needed, route to FINISH.\"\"\"\n",
    "\n",
    "        next: Literal[*options]\n",
    "\n",
    "    def supervisor_node(state: State) -> Command[Literal[*members, \"__end__\"]]:\n",
    "        \"\"\"An LLM-based router.\"\"\"\n",
    "        messages = [\n",
    "            {\"role\": \"system\", \"content\": system_prompt},\n",
    "        ] + state[\"messages\"]\n",
    "        response = llm.with_structured_output(Router).invoke(messages)\n",
    "        goto = response[\"next\"]\n",
    "        if goto == \"FINISH\":\n",
    "            goto = END\n",
    "\n",
    "        return Command(goto=goto, update={\"next\": goto})\n",
    "\n",
    "    return supervisor_node"
   ]
  },
  {
   "cell_type": "markdown",
   "id": "2e3e1c43",
   "metadata": {},
   "source": [
    "#### Define Agent Teams\n",
    "**Research Team**"
   ]
  },
  {
   "cell_type": "code",
   "execution_count": 16,
   "id": "883e360f",
   "metadata": {},
   "outputs": [],
   "source": [
    "llm = ChatOpenAI(model=\"gpt-4o-mini\")"
   ]
  },
  {
   "cell_type": "code",
   "execution_count": 18,
   "id": "e67b0418",
   "metadata": {},
   "outputs": [],
   "source": [
    "search_agent = create_react_agent(llm, tools=[tavaily_tool])"
   ]
  },
  {
   "cell_type": "code",
   "execution_count": 19,
   "id": "7cc0d9cf",
   "metadata": {},
   "outputs": [
    {
     "data": {
      "text/plain": [
       "AIMessage(content='Hello! How can I assist you today?', additional_kwargs={'refusal': None}, response_metadata={'token_usage': {'completion_tokens': 9, 'prompt_tokens': 8, 'total_tokens': 17, 'completion_tokens_details': {'accepted_prediction_tokens': 0, 'audio_tokens': 0, 'reasoning_tokens': 0, 'rejected_prediction_tokens': 0}, 'prompt_tokens_details': {'audio_tokens': 0, 'cached_tokens': 0}}, 'model_name': 'gpt-4o-mini-2024-07-18', 'system_fingerprint': 'fp_54eb4bd693', 'id': 'chatcmpl-BYX83qtpB3EPsAYuD90I9BTVpfuYz', 'finish_reason': 'stop', 'logprobs': None}, id='run-52827125-5749-4eb5-b6e4-f7421fd32f09-0', usage_metadata={'input_tokens': 8, 'output_tokens': 9, 'total_tokens': 17, 'input_token_details': {'audio': 0, 'cache_read': 0}, 'output_token_details': {'audio': 0, 'reasoning': 0}})"
      ]
     },
     "execution_count": 19,
     "metadata": {},
     "output_type": "execute_result"
    }
   ],
   "source": [
    "llm.invoke(\"hi\")"
   ]
  },
  {
   "cell_type": "code",
   "execution_count": 20,
   "id": "a4e29842",
   "metadata": {},
   "outputs": [],
   "source": [
    "def search_node(state: State) -> Command[Literal[\"supervisor\"]]:\n",
    "    result = search_agent.invoke(state)\n",
    "    return Command(\n",
    "        update={\n",
    "            \"messages\": [\n",
    "                HumanMessage(content=result[\"messages\"][-1].content, name=\"search\")\n",
    "            ]\n",
    "        },\n",
    "        # We want our workers to ALWAYS \"report back\" to the supervisor when done\n",
    "        goto=\"supervisor\",\n",
    "    )"
   ]
  },
  {
   "cell_type": "code",
   "execution_count": 21,
   "id": "35138e4a",
   "metadata": {},
   "outputs": [],
   "source": [
    "web_scraper_agent = create_react_agent(llm, tools=[scrape_webpages])"
   ]
  },
  {
   "cell_type": "code",
   "execution_count": 22,
   "id": "cb3937ee",
   "metadata": {},
   "outputs": [],
   "source": [
    "def web_scraper_node(state: State) -> Command[Literal[\"supervisor\"]]:\n",
    "    result = web_scraper_agent.invoke(state)\n",
    "    return Command(\n",
    "        update={\n",
    "            \"messages\": [\n",
    "                HumanMessage(content=result[\"messages\"][-1].content, name=\"web_scraper\")\n",
    "            ]\n",
    "        },\n",
    "        # We want our workers to ALWAYS \"report back\" to the supervisor when done\n",
    "        goto=\"supervisor\",\n",
    "    )\n",
    "\n",
    "\n",
    "research_supervisor_node = make_supervisor_node(llm, [\"search\", \"web_scraper\"])"
   ]
  },
  {
   "cell_type": "code",
   "execution_count": 23,
   "id": "db6068a3",
   "metadata": {},
   "outputs": [],
   "source": [
    "research_builder = StateGraph(State)\n",
    "research_builder.add_node(\"supervisor\", research_supervisor_node)\n",
    "research_builder.add_node(\"search\", search_node)\n",
    "research_builder.add_node(\"web_scraper\", web_scraper_node)\n",
    "\n",
    "research_builder.add_edge(START, \"supervisor\")\n",
    "research_graph = research_builder.compile()"
   ]
  },
  {
   "cell_type": "code",
   "execution_count": null,
   "id": "79f3a723",
   "metadata": {},
   "outputs": [
    {
     "data": {
      "image/png": "[encoded data removed]",
      "text/plain": [
       "<IPython.core.display.Image object>"
      ]
     },
     "metadata": {},
     "output_type": "display_data"
    }
   ],
   "source": [
    "from IPython.display import Image, display\n",
    "\n",
    "display(Image(research_graph.get_graph().draw_mermaid_png()))"
   ]
  },
  {
   "cell_type": "code",
   "execution_count": 26,
   "id": "909a5bff",
   "metadata": {},
   "outputs": [
    {
     "name": "stdout",
     "output_type": "stream",
     "text": [
      "{'supervisor': {'next': 'search'}}\n",
      "---\n",
      "{'search': {'messages': [HumanMessage(content=\"The Akash Missile is an advanced surface-to-air missile system developed by India's Defence Research and Development Organisation (DRDO). Here are some key features of the Akash Missile:\\n\\n1. **Specifications**:\\n   - **Length**: Approximately 5.8 meters\\n   - **Diameter**: 350 mm\\n   - **Launch Weight**: 710–720 kg\\n   - **Wingspan**: 1,105 mm\\n\\n2. **Performance**:\\n   - **Maximum Speed**: Mach 2.5 to Mach 3.5 (up to 4,200 km/h)\\n   - **Operational Range**: 25 to 30 km\\n   - **Altitude Coverage**: Capable of engaging targets up to 20 km in altitude\\n\\n3. **Guidance System**:\\n   - Utilizes **command guidance** with digital autopilot and a sophisticated multi-function fire control radar (Rajendra), which can track multiple targets and guide multiple missiles simultaneously.\\n   - An on-board seeker takes over for terminal guidance, improving its ability to engage moving threats.\\n\\n4. **Warhead**: \\n   - Designed to carry a 60 kg high-explosive or nuclear warhead.\\n\\n5. **Propulsion**:\\n   - Features a solid-fuel, ramjet propulsion system.\\n\\n6. **Mobility and Deployment**:\\n   - The Akash missile system is mounted on tracked or wheeled platforms for rapid deployment and mobility across various terrains.\\n\\n7. **Countermeasures**:\\n   - Includes electronic counter-counter measures (ECCM), making it resilient against enemy jamming and deception techniques.\\n\\n8. **Kill Probability**:\\n   - High theoretical kill probability of around 88% with a single missile, and up to 99% when fired in salvos.\\n\\nThese attributes make the Akash Missile a formidable asset for India's air defense capabilities. It is designed to protect assets against a variety of aerial threats including fighter jets, cruise missiles, and drones. For more detailed information, you can refer to sources like [Wikipedia](https://en.wikipedia.org/wiki/Akash_(missile)) and [Airforce Technology](https://www.airforce-technology.com/projects/akash-surface-to-air-missile-system/).\", additional_kwargs={}, response_metadata={}, name='search', id='1a8c2139-348e-4af8-8efe-affdffc9f52d')]}}\n",
      "---\n",
      "{'supervisor': {'next': 'web_scraper'}}\n",
      "---\n",
      "{'web_scraper': {'messages': [HumanMessage(content=\"The Akash missile is an advanced surface-to-air missile system developed by India's Defence Research and Development Organisation (DRDO). Here are the key features and specifications of the Akash missile, based on the latest information:\\n\\n### General Specifications:\\n- **Length**: Approximately 5.78 meters (19 ft)\\n- **Diameter**: 0.35 meters (1.15 ft)\\n- **Launch Weight**: 720 kg (1,587 lb)\\n- **Propulsion**: Ramjet-rocket propulsion system\\n- **Maximum Speed**: Mach 2.8 to Mach 3.5 (approximately 3,400 to 4,300 km/h)\\n\\n### Performance:\\n- **Operational Range**: 25 to 35 km\\n- **Altitude Coverage**: Effective at engaging targets up to 18,000 meters (59,055 ft)\\n- **Kill Probability**: Approximately 88% with a single missile; can be increased to 98.5% by launching a second missile shortly after the first.\\n\\n### Guidance and Control:\\n- **Guidance System**: \\n  - Mid-course: Command guidance with data links.\\n  - Terminal: Active radar homing.\\n- **Autonomous Operation**: Capable of engaging multiple targets simultaneously.\\n- **Radar System**: Utilizes an advanced battery-level radar known as Rajendra, which can track multiple targets and guide several missiles simultaneously.\\n\\n### Warhead:\\n- **Warhead Types**: Can carry various warheads including a 60 kg high-explosive or nuclear warhead.\\n- **Detonation Mechanism**: Radio proximity fuse integrated for effective targeting.\\n\\n### Mobility and Deployment:\\n- **Launch Platforms**: \\n  - Deployable from both tracked and wheeled platforms, including T-72 or BMP-2 chassis for the army and Tata trucks for the Air Force.\\n- **Operational Flexibility**: Designed for quick deployment in various terrains and conditions.\\n\\n### Electronic Countermeasures:\\n- **ECCM (Electronic Counter-Counter Measures)**: The Akash missile system is equipped with advanced ECCM features to maintain effectiveness against jamming and electronic warfare threats.\\n\\n### Development History:\\n- The development of the Akash missile began in 1983, and the first flight was conducted in 1990. It has since undergone numerous trials and tests to enhance its capabilities.\\n\\n### Recent Developments:\\n- The latest variants such as Akash-1S and Akash-NG (Next Generation) are under development, offering improved features and capabilities in missile defense.\\n\\n### Key Operators:\\n- **Indian Army** and **Indian Air Force** are the primary operators of the Akash missile system.\\n\\nOverall, the Akash missile system plays a critical role in India's air defense strategy, capable of addressing a range of aerial threats including aircraft, drones, and missiles. For more detailed information, you may refer to resources from [Wikipedia](https://en.wikipedia.org/wiki/Akash_(missile)) and [Airforce Technology](https://www.airforce-technology.com/projects/akash-surface-to-air-missile-system/).\", additional_kwargs={}, response_metadata={}, name='web_scraper', id='889771d1-b868-454f-b457-54ef84f90332')]}}\n",
      "---\n",
      "{'supervisor': {'next': '__end__'}}\n",
      "---\n"
     ]
    }
   ],
   "source": [
    "for s in research_graph.stream(\n",
    "    {\"messages\": [(\"user\", \"Feature of Akash Missile?\")]},\n",
    "    {\"recursion_limit\": 100},\n",
    "):\n",
    "    print(s)\n",
    "    print(\"---\")"
   ]
  },
  {
   "cell_type": "markdown",
   "id": "200571f1",
   "metadata": {},
   "source": [
    "**Document Writing Team**\n",
    "\n",
    "Create the document writing team below using a similar approach. This time, we will give each agent access to different file-writing tools.\n",
    "\n",
    "Note that we are giving file-system access to our agent here, which is not safe in all cases."
   ]
  },
  {
   "cell_type": "code",
   "execution_count": 34,
   "id": "52c5f93a",
   "metadata": {},
   "outputs": [],
   "source": [
    "llm = ChatOpenAI(model=\"gpt-4o-mini\")"
   ]
  },
  {
   "cell_type": "code",
   "execution_count": 27,
   "id": "981f989b",
   "metadata": {},
   "outputs": [],
   "source": [
    "doc_writer_agent = create_react_agent(\n",
    "    llm,\n",
    "    tools=[write_document, edit_document, read_document],\n",
    "    prompt=(\n",
    "        \"You can read, write and edit documents based on note-taker's outlines. \"\n",
    "        \"Don't ask follow-up questions.\"\n",
    "    ),\n",
    ")"
   ]
  },
  {
   "cell_type": "code",
   "execution_count": 28,
   "id": "d851c20f",
   "metadata": {},
   "outputs": [],
   "source": [
    "def doc_writing_node(state: State) -> Command[Literal[\"supervisor\"]]:\n",
    "    result = doc_writer_agent.invoke(state)\n",
    "    return Command(\n",
    "        update={\n",
    "            \"messages\": [\n",
    "                HumanMessage(content=result[\"messages\"][-1].content, name=\"doc_writer\")\n",
    "            ]\n",
    "        },\n",
    "        # We want our workers to ALWAYS \"report back\" to the supervisor when done\n",
    "        goto=\"supervisor\",\n",
    "    )\n",
    "\n",
    "\n",
    "note_taking_agent = create_react_agent(\n",
    "    llm,\n",
    "    tools=[create_outline, read_document],\n",
    "    prompt=(\n",
    "        \"You can read documents and create outlines for the document writer. \"\n",
    "        \"Don't ask follow-up questions.\"\n",
    "    ),\n",
    ")"
   ]
  },
  {
   "cell_type": "code",
   "execution_count": 29,
   "id": "0e4888f2",
   "metadata": {},
   "outputs": [],
   "source": [
    "def note_taking_node(state: State) -> Command[Literal[\"supervisor\"]]:\n",
    "    result = note_taking_agent.invoke(state)\n",
    "    return Command(\n",
    "        update={\n",
    "            \"messages\": [\n",
    "                HumanMessage(content=result[\"messages\"][-1].content, name=\"note_taker\")\n",
    "            ]\n",
    "        },\n",
    "        # We want our workers to ALWAYS \"report back\" to the supervisor when done\n",
    "        goto=\"supervisor\",\n",
    "    )\n",
    "\n",
    "\n",
    "chart_generating_agent = create_react_agent(\n",
    "    llm, tools=[read_document, python_repl_tool]\n",
    ")"
   ]
  },
  {
   "cell_type": "code",
   "execution_count": 30,
   "id": "cf84df60",
   "metadata": {},
   "outputs": [],
   "source": [
    "def chart_generating_node(state: State) -> Command[Literal[\"supervisor\"]]:\n",
    "    result = chart_generating_agent.invoke(state)\n",
    "    return Command(\n",
    "        update={\n",
    "            \"messages\": [\n",
    "                HumanMessage(\n",
    "                    content=result[\"messages\"][-1].content, name=\"chart_generator\"\n",
    "                )\n",
    "            ]\n",
    "        },\n",
    "        # We want our workers to ALWAYS \"report back\" to the supervisor when done\n",
    "        goto=\"supervisor\",\n",
    "    )\n",
    "\n",
    "\n",
    "doc_writing_supervisor_node = make_supervisor_node(\n",
    "    llm, [\"doc_writer\", \"note_taker\", \"chart_generator\"]\n",
    ")"
   ]
  },
  {
   "cell_type": "code",
   "execution_count": 31,
   "id": "22920f32",
   "metadata": {},
   "outputs": [],
   "source": [
    "# Create the graph here\n",
    "paper_writing_builder = StateGraph(State)\n",
    "paper_writing_builder.add_node(\"supervisor\", doc_writing_supervisor_node)\n",
    "paper_writing_builder.add_node(\"doc_writer\", doc_writing_node)\n",
    "paper_writing_builder.add_node(\"note_taker\", note_taking_node)\n",
    "paper_writing_builder.add_node(\"chart_generator\", chart_generating_node)\n",
    "\n",
    "paper_writing_builder.add_edge(START, \"supervisor\")\n",
    "paper_writing_graph = paper_writing_builder.compile()"
   ]
  },
  {
   "cell_type": "code",
   "execution_count": 32,
   "id": "b916484e",
   "metadata": {},
   "outputs": [
    {
     "data": {
      "image/png": "[encoded data removed]",
      "text/plain": [
       "<IPython.core.display.Image object>"
      ]
     },
     "metadata": {},
     "output_type": "display_data"
    }
   ],
   "source": [
    "from IPython.display import Image, display\n",
    "\n",
    "display(Image(paper_writing_graph.get_graph().draw_mermaid_png()))"
   ]
  },
  {
   "cell_type": "code",
   "execution_count": 33,
   "id": "5cea33e5",
   "metadata": {},
   "outputs": [
    {
     "name": "stdout",
     "output_type": "stream",
     "text": [
      "{'supervisor': {'next': 'doc_writer'}}\n",
      "---\n",
      "{'doc_writer': {'messages': [HumanMessage(content='I have written the outline and the poem about cats to disk. The files are saved as:\\n\\n1. **cat_poem_outline.txt** - Contains the outline of the poem.\\n2. **cat_poem.txt** - Contains the poem itself.', additional_kwargs={}, response_metadata={}, name='doc_writer', id='d34bbad6-af63-48d1-9095-19412c795215')]}}\n",
      "---\n",
      "{'supervisor': {'next': 'note_taker'}}\n",
      "---\n",
      "{'note_taker': {'messages': [HumanMessage(content=\"The outline and the poem about cats have been created. Here are the contents:\\n\\n### Outline for Poem about Cats (`cat_poem_outline.txt`)\\n\\n1. Introduction to cats\\n2. Whiskers and paws\\n3. Curiosity of cats\\n4. Feline playfulness\\n5. Cats at rest\\n6. Conclusion: The charm of cats\\n\\n### Poem about Cats (`cat_poem.txt`)\\n\\n```\\n# Poem about Cats\\n\\nIn sunlit patches where shadows play,  \\nLies the regal cat, in her own ballet.  \\nWith fur like silk and eyes that gleam,  \\nShe weaves through the day like a soft, sweet dream.\\n\\nWith graceful leaps and purring sounds,  \\nShe claims her kingdom, her territory bounds.  \\nTo chase the light that dances bright,  \\nIn her world of wonder, everything’s right.\\n\\nEach morning begins with a stretch and yawn,  \\nA flick of the tail as she greets the dawn.  \\nThe thrill of the chase, a toy mouse in flight,  \\nShe pounces with glee, a most joyful sight.\\n\\nAnd when the day fades to twilight’s embrace,  \\nIn cozy corners, she finds her space.  \\nWith gentle sighs and rhythmic purrs,  \\nShe whispers secrets only a cat confers.\\n\\nOh, how she curls upon my lap,  \\nContent in the warmth of our shared nap.  \\nHer spirit wild, yet so serene,  \\nIn every moment, a queen that reigns supreme.\\n\\nEach flick of her whiskers, each curl of her paw,  \\nReminds me of beauty in simplest awe.  \\nFrom the softest of meows to the loudest of plays,  \\nMy heart, she conquers, in countless ways.\\n\\nSo here's to the creature with grace so profound,  \\nIn every heartbeat, a love that is found.  \\nWith each soft purr, an enchanting refrain,  \\nLife is more joyful, when a cat you attain.\\n```\\n\\nThese files have been successfully saved.\", additional_kwargs={}, response_metadata={}, name='note_taker', id='5c6bf3b5-a5f3-4f88-96c0-768b9c7ab36c')]}}\n",
      "---\n",
      "{'supervisor': {'next': 'chart_generator'}}\n",
      "---\n",
      "{'chart_generator': {'messages': [HumanMessage(content=\"The outline and poem about cats have been successfully created and saved. Here's a summary:\\n\\n### Outline for Poem about Cats\\n1. **Introduction to cats**\\n2. **Whiskers and paws**\\n3. **Curiosity of cats**\\n4. **Feline playfulness**\\n5. **Cats at rest**\\n6. **Conclusion: The charm of cats**\\n\\n### Poem about Cats\\n**In sunlit patches where shadows play,**  \\n**Lies the regal cat, in her own ballet.**  \\n**With fur like silk and eyes that gleam,**  \\n**She weaves through the day like a soft, sweet dream.**\\n\\n**With graceful leaps and purring sounds,**  \\n**She claims her kingdom, her territory bounds.**  \\n**To chase the light that dances bright,**  \\n**In her world of wonder, everything’s right.**\\n\\n**Each morning begins with a stretch and yawn,**  \\n**A flick of the tail as she greets the dawn.**  \\n**The thrill of the chase, a toy mouse in flight,**  \\n**She pounces with glee, a most joyful sight.**\\n\\n**And when the day fades to twilight’s embrace,**  \\n**In cozy corners, she finds her space.**  \\n**With gentle sighs and rhythmic purrs,**  \\n**She whispers secrets only a cat confers.**\\n\\n**Oh, how she curls upon my lap,**  \\n**Content in the warmth of our shared nap.**  \\n**Her spirit wild, yet so serene,**  \\n**In every moment, a queen that reigns supreme.**\\n\\n**Each flick of her whiskers, each curl of her paw,**  \\n**Reminds me of beauty in simplest awe.**  \\n**From the softest of meows to the loudest of plays,**  \\n**My heart, she conquers, in countless ways.**\\n\\n**So here's to the creature with grace so profound,**  \\n**In every heartbeat, a love that is found.**  \\n**With each soft purr, an enchanting refrain,**  \\n**Life is more joyful when a cat you attain.**  \\n\\nIf you need further modifications or additional information, let me know!\", additional_kwargs={}, response_metadata={}, name='chart_generator', id='53d56312-b778-4971-ada1-94c9bd87608d')]}}\n",
      "---\n",
      "{'supervisor': {'next': '__end__'}}\n",
      "---\n"
     ]
    }
   ],
   "source": [
    "for s in paper_writing_graph.stream(\n",
    "    {\n",
    "        \"messages\": [\n",
    "            (\n",
    "                \"user\",\n",
    "                \"Write an outline for poem about cats and then write the poem to disk.\",\n",
    "            )\n",
    "        ]\n",
    "    },\n",
    "    {\"recursion_limit\": 100},\n",
    "):\n",
    "    print(s)\n",
    "    print(\"---\")"
   ]
  },
  {
   "cell_type": "markdown",
   "id": "3ab19741",
   "metadata": {},
   "source": [
    "**Add Layers**\n",
    "\n",
    "In this design, we are enforcing a top-down planning policy. We've created two graphs already, but we have to decide how to route work between the two.\n",
    "\n",
    "We'll create a third graph to orchestrate the previous two, and add some connectors to define how this top-level state is shared between the different graphs."
   ]
  },
  {
   "cell_type": "code",
   "execution_count": 44,
   "id": "8b4d846b",
   "metadata": {},
   "outputs": [],
   "source": [
    "from langchain_core.messages import BaseMessage"
   ]
  },
  {
   "cell_type": "code",
   "execution_count": 45,
   "id": "035209fa",
   "metadata": {},
   "outputs": [],
   "source": [
    "llm = ChatOpenAI(model=\"gpt-4o-mini\")"
   ]
  },
  {
   "cell_type": "code",
   "execution_count": 46,
   "id": "89ea0bed",
   "metadata": {},
   "outputs": [],
   "source": [
    "teams_supervisor_node = make_supervisor_node(llm, [\"research_team\", \"writing_team\"])"
   ]
  },
  {
   "cell_type": "code",
   "execution_count": 47,
   "id": "cf991a21",
   "metadata": {},
   "outputs": [],
   "source": [
    "def call_research_team(state: State) -> Command[Literal[\"supervisor\"]]:\n",
    "    response = research_graph.invoke({\"messages\": state[\"messages\"][-1]})\n",
    "    return Command(\n",
    "        update={\n",
    "            \"messages\": [\n",
    "                HumanMessage(\n",
    "                    content=response[\"messages\"][-1].content, name=\"research_team\"\n",
    "                )\n",
    "            ]\n",
    "        },\n",
    "        goto=\"supervisor\",\n",
    "    )"
   ]
  },
  {
   "cell_type": "code",
   "execution_count": 48,
   "id": "285b0463",
   "metadata": {},
   "outputs": [],
   "source": [
    "def call_paper_writing_team(state: State) -> Command[Literal[\"supervisor\"]]:\n",
    "    response = paper_writing_graph.invoke({\"messages\": state[\"messages\"][-1]})\n",
    "    return Command(\n",
    "        update={\n",
    "            \"messages\": [\n",
    "                HumanMessage(\n",
    "                    content=response[\"messages\"][-1].content, name=\"writing_team\"\n",
    "                )\n",
    "            ]\n",
    "        },\n",
    "        goto=\"supervisor\",\n",
    "    )"
   ]
  },
  {
   "cell_type": "code",
   "execution_count": 49,
   "id": "1b38db6f",
   "metadata": {},
   "outputs": [],
   "source": [
    "# Define the graph.\n",
    "super_builder = StateGraph(State)\n",
    "super_builder.add_node(\"supervisor\", teams_supervisor_node)\n",
    "super_builder.add_node(\"research_team\", call_research_team)\n",
    "super_builder.add_node(\"writing_team\", call_paper_writing_team)\n",
    "\n",
    "super_builder.add_edge(START, \"supervisor\")\n",
    "super_graph = super_builder.compile()"
   ]
  },
  {
   "cell_type": "code",
   "execution_count": 50,
   "id": "d3554df6",
   "metadata": {},
   "outputs": [
    {
     "data": {
      "image/png": "[encoded data removed]",
      "text/plain": [
       "<IPython.core.display.Image object>"
      ]
     },
     "metadata": {},
     "output_type": "display_data"
    }
   ],
   "source": [
    "from IPython.display import Image, display\n",
    "\n",
    "display(Image(super_graph.get_graph().draw_mermaid_png()))"
   ]
  },
  {
   "cell_type": "code",
   "execution_count": 51,
   "id": "89441ba4",
   "metadata": {},
   "outputs": [
    {
     "name": "stdout",
     "output_type": "stream",
     "text": [
      "{'supervisor': {'next': 'research_team'}}\n",
      "---\n",
      "{'research_team': {'messages': [HumanMessage(content=\"### Brief Report on AI Agents\\n\\n**Introduction**\\nAI agents are autonomous software systems designed to perform specific tasks or sets of tasks based on user instructions. Since 2023, they have seen remarkable growth across various industries, including customer service, healthcare, and automation, significantly altering how businesses operate.\\n\\n**Market Overview**\\nThe market for AI agents has expanded rapidly, valued at approximately $3.7 billion in 2023, with projections to reach $150 billion by 2025. This surge is largely driven by advancements in cloud-based AI, Internet of Things (IoT) devices, and automation technologies, making AI agents more accessible and powerful. Major players in the market include IBM's Watson, Amazon's Alexa, and numerous startups focusing on specialized AI services.\\n\\n**Types of AI Agents**\\n1. **Chatbot-like Agents**: These are designed to handle specific queries or complex tasks. For instance, Cognosys functions similarly to chatbots but extends its capabilities to create workflows for complex operations.\\n2. **Autonomous Agents**: Open-source agents like Auto-GPT take user goals and break them down into subtasks, capable of performing various functions such as content creation and translation.\\n3. **Task-specific Agents**: Some AI agents focus on executing particular job-like functions, exemplified by various coding assistants. These agents streamline processes in industries such as software development.\\n\\n**Capabilities and Use Cases**\\nAI agents are capable of:\\n- Automating repetitive tasks to save time and enhance efficiency.\\n- Performing data analysis to inform decision-making.\\n- Providing personalized customer service experiences.\\n- Enabling creativity in areas like content generation and design.\\n\\nReal-world applications have reported significant transformations in productivity and operational efficiency, often exceeding simple task automation.\\n\\n**Future Prospects**\\nLooking ahead, the evolution of AI agents is expected to continue, with advancements in generative AI leading to more profound impacts across sectors. A report highlighted that by 2025, the ubiquity of AI agents will likely shift them from niche applications to essential tools for various organizations, automating routine tasks and enhancing business capabilities.\\n\\n**Conclusion**\\nAI agents represent a major step forward in the integration of artificial intelligence into the workplace. Their growth in functionality, accessibility, and market presence heralds a transformative era where automation and intelligent assistance become standard practice across diverse industries.\\n\\n#### References\\n1. [Litslink - AI Agents Statistics: Usage And Market Insights](https://litslink.com/blog/ai-agent-statistics)\\n2. [Exploding Topics - List of the 15 Best AI Agents In 2024](https://explodingtopics.com/blog/ai-agents)\\n3. [NFX - The Five Stages of AI Agent Evolution](https://www.nfx.com/post/ai-agent-revolution)\\n4. [BCG - AI Agents Can Be the New All-Stars on Your Team](https://www.bcg.com/publications/2025/how-ai-can-be-the-new-all-star-on-your-team)\\n5. [Forbes - Beyond Moonshots: AI Agents Will Come To Earth In 2025](https://www.forbes.com/sites/libertbarry/2024/11/22/beyond-moonshots-ai-agents-will-come-to-earth-in-2025/)\", additional_kwargs={}, response_metadata={}, name='research_team', id='2bed6e1d-a152-4fd0-8baf-763b4d14ebbf')]}}\n",
      "---\n",
      "{'supervisor': {'next': 'writing_team'}}\n",
      "---\n",
      "{'writing_team': {'messages': [HumanMessage(content='Great! If you need any further assistance with the report or outline, feel free to ask.', additional_kwargs={}, response_metadata={}, name='writing_team', id='416edf90-0a9e-4f74-9200-f8604bf7265c')]}}\n",
      "---\n",
      "{'supervisor': {'next': '__end__'}}\n",
      "---\n"
     ]
    }
   ],
   "source": [
    "for s in super_graph.stream(\n",
    "    {\n",
    "        \"messages\": [\n",
    "            (\"user\", \"Research AI agents and write a brief report about them.\")\n",
    "        ],\n",
    "    },\n",
    "    {\"recursion_limit\": 150},\n",
    "):\n",
    "    print(s)\n",
    "    print(\"---\")"
   ]
  },
  {
   "cell_type": "code",
   "execution_count": 52,
   "id": "de307b13",
   "metadata": {},
   "outputs": [
    {
     "name": "stdout",
     "output_type": "stream",
     "text": [
      "{'supervisor': {'next': 'research_team'}}\n",
      "---\n",
      "{'research_team': {'messages': [HumanMessage(content=\"### Brief Report on the S-400 Missile System\\n\\nThe **S-400 Triumf** (NATO reporting name: SA-21 Growler) is a sophisticated mobile surface-to-air missile (SAM) system developed by Russia's Almaz Central Design Bureau. It was designed in response to the evolving threats in aerial warfare and the need to counter advanced Western air defense systems like the MIM-104 Patriot.\\n\\n#### Development and Deployment\\n- The S-400 system was approved for service on **April 28, 2007**, and became operational on **August 6, 2007**.\\n- It was developed as an upgrade to the earlier S-300 family of missile defense systems, which were created in the late 20th century.\\n- The first successful tests were conducted in **1999**, marking the beginning of the system's formal development.\\n\\n#### Features and Capabilities\\n- The S-400 is designed to target not only aircraft but also UAVs and cruise missiles, providing a multi-layered defense against various aerial threats.\\n- It has a **long operational range** and high adaptability, allowing it to engage multiple targets simultaneously.\\n- The system can also perform terminal ballistic missile defense, adding to its defensive capabilities.\\n\\n#### Operational History\\n- The S-400 has been deployed in several conflict zones, including the **Syrian Civil War** and the ongoing **Russo-Ukrainian War**.\\n- It has been acquired by multiple countries, including **India**, which signed a deal for five systems in **October 2018**, strengthening its defensive posture against regional threats.\\n\\n#### Global Impact and Relations\\n- The deployment of the S-400 has sparked international discussions regarding military alliances and defense capabilities, particularly between Russia and countries such as China and Turkey, which have also procured the system.\\n- While the S-400 enhances the air defense capabilities of its operators, it has also led to geopolitical tensions, especially with NATO countries.\\n\\nIn conclusion, the S-400 Triumf is a critical component of modern military defense, reflecting advancements in aerospace technology and the complexities of contemporary warfare dynamics. Its development illustrates the importance of having a capable air defense system in national security strategies. \\n\\nFor more detailed information, you can explore sources such as [Wikipedia](https://en.wikipedia.org/wiki/S-400_missile_system) and [Vajiram & Ravi](https://vajiramandravi.com/upsc-exam/s-400-missile-system/).\", additional_kwargs={}, response_metadata={}, name='research_team', id='b08893a8-a231-4c03-b701-0cf65eb5f581')]}}\n",
      "---\n",
      "{'supervisor': {'next': 'writing_team'}}\n",
      "---\n",
      "{'writing_team': {'messages': [HumanMessage(content='The outline for the report on the S-400 Missile System has been successfully created and saved as \"S400_Missile_System_Report_Outline.md\". If you need any further assistance or details added to the report or outline, feel free to ask!', additional_kwargs={}, response_metadata={}, name='writing_team', id='3871bca9-183c-4bb4-96ff-619c792c26d5')]}}\n",
      "---\n",
      "{'supervisor': {'next': '__end__'}}\n",
      "---\n"
     ]
    }
   ],
   "source": [
    "for s in super_graph.stream(\n",
    "    {\n",
    "        \"messages\": [\n",
    "            (\"user\", \"S400 and write a brief report about them.\")\n",
    "        ],\n",
    "    },\n",
    "    {\"recursion_limit\": 150},\n",
    "):\n",
    "    print(s)\n",
    "    print(\"---\")"
   ]
  }
 ],
 "metadata": {
  "kernelspec": {
   "display_name": ".venv",
   "language": "python",
   "name": "python3"
  },
  "language_info": {
   "codemirror_mode": {
    "name": "ipython",
    "version": 3
   },
   "file_extension": ".py",
   "mimetype": "text/x-python",
   "name": "python",
   "nbconvert_exporter": "python",
   "pygments_lexer": "ipython3",
   "version": "3.12.3"
  }
 },
 "nbformat": 4,
 "nbformat_minor": 5
}
