{
 "cells": [
  {
   "cell_type": "code",
   "execution_count": null,
   "id": "bdcfe5aa",
   "metadata": {},
   "outputs": [],
   "source": [
    "from typing import Annotated\n",
    "from typing import Literal\n",
    "from langchain_community.tools.tavily_search import TavilySearchResults\n",
    "from langchain_core.tools import tool\n",
    "from langchain_experimental.utilities import PythonREPL\n",
    "from typing_extensions import TypedDict\n",
    "from langchain_openai import ChatOpenAI\n",
    "from langgraph.graph import MessagesState, END,StateGraph, START\n",
    "from langgraph.types import Command\n",
    "from langchain_core.messages import HumanMessage\n",
    "from langgraph.prebuilt import create_react_agent\n",
    "import os"
   ]
  },
  {
   "cell_type": "code",
   "execution_count": 15,
   "id": "a99824b3",
   "metadata": {},
   "outputs": [
    {
     "data": {
      "text/plain": [
       "True"
      ]
     },
     "execution_count": 15,
     "metadata": {},
     "output_type": "execute_result"
    }
   ],
   "source": [
    "from dotenv import load_dotenv\n",
    "load_dotenv()"
   ]
  },
  {
   "cell_type": "markdown",
   "id": "f6b1c7a9",
   "metadata": {},
   "source": [
    "### Loading the model"
   ]
  },
  {
   "cell_type": "code",
   "execution_count": 16,
   "id": "e7c1a98a",
   "metadata": {},
   "outputs": [],
   "source": [
    "# openai_model=ChatOpenAI(model=\"gpt-4o-mini\")\n",
    "\n",
    "\n",
    "from langchain_openai import AzureChatOpenAI\n",
    "openai_model = AzureChatOpenAI(\n",
    "    api_key=os.getenv(\"AZURE_OPENAI_API_KEY\"),\n",
    "    api_version=\"2024-08-01-preview\",\n",
    "    model=\"gpt-4o-mini\",\n",
    "    azure_endpoint=os.getenv(\"AZURE_OPENAI_API_BASE_CHAT\")\n",
    ")"
   ]
  },
  {
   "cell_type": "code",
   "execution_count": 17,
   "id": "a29722b5",
   "metadata": {},
   "outputs": [
    {
     "data": {
      "text/plain": [
       "'Hello! How can I assist you today?'"
      ]
     },
     "execution_count": 17,
     "metadata": {},
     "output_type": "execute_result"
    }
   ],
   "source": [
    "openai_model.invoke(\"hi\").content"
   ]
  },
  {
   "cell_type": "code",
   "execution_count": 18,
   "id": "d79c3a8f",
   "metadata": {},
   "outputs": [],
   "source": [
    "def clean_text(text):\n",
    "    import re\n",
    "    clean_text = re.sub(r\"<think>.*?</think>\\s*\", \"\", text, flags=re.DOTALL)\n",
    "    return clean_text"
   ]
  },
  {
   "cell_type": "code",
   "execution_count": 19,
   "id": "c12a20bb",
   "metadata": {},
   "outputs": [],
   "source": [
    "response=openai_model.invoke(\"hi\")"
   ]
  },
  {
   "cell_type": "code",
   "execution_count": 20,
   "id": "b3ff5b18",
   "metadata": {},
   "outputs": [
    {
     "data": {
      "text/plain": [
       "'Hello! How can I assist you today?'"
      ]
     },
     "execution_count": 20,
     "metadata": {},
     "output_type": "execute_result"
    }
   ],
   "source": [
    "response.content"
   ]
  },
  {
   "cell_type": "code",
   "execution_count": 21,
   "id": "b64d6c8a",
   "metadata": {},
   "outputs": [
    {
     "data": {
      "text/plain": [
       "'Hello! How can I assist you today?'"
      ]
     },
     "execution_count": 21,
     "metadata": {},
     "output_type": "execute_result"
    }
   ],
   "source": [
    "clean_text(response.content)"
   ]
  },
  {
   "cell_type": "code",
   "execution_count": 22,
   "id": "8d07d3be",
   "metadata": {},
   "outputs": [],
   "source": [
    "tavaily_tool=TavilySearchResults()"
   ]
  },
  {
   "cell_type": "code",
   "execution_count": 23,
   "id": "9b0aeff2",
   "metadata": {},
   "outputs": [
    {
     "data": {
      "text/plain": [
       "[{'title': \"Gross Domestic Product: An Economy's All\",\n",
       "  'url': 'https://www.imf.org/en/Publications/fandd/issues/Series/Back-to-Basics/gross-domestic-product-GDP',\n",
       "  'content': '[](https://www.imf.org/en/Publications/fandd/issues/Series/Back-to-Basics/gross-domestic-product-GDP#) [](https://www.imf.org/en/Publications/fandd/issues/Series/Back-to-Basics/gross-domestic-product-GDP#) *   [About](https://www.imf.org/en/About \"About the IMF\")  *   [Countries](https://www.imf.org/en/Countries \"Countries\")  *   [A](https://www.imf.org/en/countries#A) *   [B](https://www.imf.org/en/countries#B) *   [C](https://www.imf.org/en/countries#C) *   [D](https://www.imf.org/en/countries#D) *   [E](https://www.imf.org/en/countries#E) *   [F](https://www.imf.org/en/countries#F) *   [G](https://www.imf.org/en/countries#G) *   [H](https://www.imf.org/en/countries#H) *   [I](https://www.imf.org/en/countries#I) *   [J](https://www.imf.org/en/countries#J) *   [K](https://www.imf.org/en/countries#K) *   [L](https://www.imf.org/en/countries#L) *   [M](https://www.imf.org/en/countries#M) *   [N](https://www.imf.org/en/countries#N) *   [O](https://www.imf.org/en/countries#O) *   [P](https://www.imf.org/en/countries#P) *   [Q](https://www.imf.org/en/countries#Q) *   [R](https://www.imf.org/en/countries#R) *   [S](https://www.imf.org/en/countries#S) *   [T](https://www.imf.org/en/countries#T) *   [U](https://www.imf.org/en/countries#U) *   [V](https://www.imf.org/en/countries#V) *   [Y](https://www.imf.org/en/countries#Y) *   [Z](https://www.imf.org/en/countries#Z) *   [IMF Resident Representative Offices](https://www.imf.org/en/Countries/ResRep) *   [IMF and Europe](https://www.imf.org/en/Countries/Regions/Europe) *   [What We Do](https://www.imf.org/en/Capacity-Development/what-we-do) *   [Country Stories](https://www.imf.org/en/Capacity-Development/cd-stories) *   [Country Focus](https://www.imf.org/en/News/country-focus) *   [Regional Economic Reports](https://www.imf.org/en/publications/reo) [Finance & Development Magazine](https://www.imf.org/en/Publications/fandd) When real GDP is growing strongly,[employment](https://www.imf.org/external/pubs/ft/fandd/basics/unemploy.htm)is likely to be increasing as companies hire more workers for their factories and people have more money in their pockets. *   [Inflation](https://www.imf.org/en/Publications/fandd/issues/Series/Back-to-Basics/Inflation \"Inflation\") [More](https://www.imf.org/en/Publications/fandd/issues) *   [About](https://www.imf.org/en/About) *   [Countries](https://www.imf.org/en/Countries) *   [Publications](https://www.imf.org/en/Publications)',\n",
       "  'score': 0.98583},\n",
       " {'title': 'Gross domestic product - Wikipedia',\n",
       "  'url': 'https://en.wikipedia.org/wiki/Gross_domestic_product',\n",
       "  'content': \"[3][4][5] GDP is often used to measure the economic performance of a country or region. [2] Several national and international economic organizations maintain definitions of GDP, such as the OECD and the International Monetary Fund. [6][7] GDP is often used as a metric for international comparisons as well as a broad measure of economic progress. It is often considered to be the world's most powerful statistical indicator of national development and progress.\",\n",
       "  'score': 0.98304},\n",
       " {'title': 'Gross Domestic Product (GDP) Formula and How to Use It',\n",
       "  'url': 'https://www.investopedia.com/terms/g/gdp.asp',\n",
       "  'content': 'The GDP growth rate compares the annual or quarterly change in a country’s economic output to measure how fast an economy is growing. Nominal GDP is an assessment of economic production in an economy that includes current prices in its calculation. The GDP growth rate compares the year-over-year (or quarterly) change in a country’s economic output to measure how fast an economy is growing. While GDP measures the economic activity within the physical borders of\\xa0a country (whether the producers are native to that country or foreign-owned entities), gross national product (GNP) is a measurement of the overall production of people or corporations native to a country, including those based abroad.',\n",
       "  'score': 0.97697},\n",
       " {'title': '[PDF] What is GDP? - Bureau of Economic Analysis',\n",
       "  'url': 'https://www.bea.gov/system/files/2020-04/GDP-Education-by-BEA.pdf',\n",
       "  'content': 'Gross Total market valueDomestic Within the United States Product Goods and services GDP is the way we measure the U.S. economy and its growth. GDP = the total market value of the final goods and services produced within the United States in a year. What is GDP? Why is GDP important? • U.S. GDP is always a huge number — trillions of dollars per year. There is a four-part formula: C + I + G + NX = GDP Personal Consumption Expenditures Also called consumer spending: the goods and services people buy, such as groceries, clothing, cellphone service and health care. = GDP The total market value of the goods and services produced within the United States in a year. What is not in GDP?',\n",
       "  'score': 0.97313},\n",
       " {'title': 'Nominal gross domestic product (GDP) - OECD',\n",
       "  'url': 'https://www.oecd.org/en/data/indicators/nominal-gross-domestic-product-gdp.html',\n",
       "  'content': 'Gross domestic product (GDP) is the standard measure of the value added created through the production of goods and services in a country during a certain',\n",
       "  'score': 0.96796}]"
      ]
     },
     "execution_count": 23,
     "metadata": {},
     "output_type": "execute_result"
    }
   ],
   "source": [
    "tavaily_tool.invoke(\"what is a gdp?\")"
   ]
  },
  {
   "cell_type": "code",
   "execution_count": 24,
   "id": "32fed0fc",
   "metadata": {},
   "outputs": [],
   "source": [
    "code = \"\"\"\n",
    "x = 5\n",
    "y = x * 2\n",
    "print(y)\n",
    "\"\"\""
   ]
  },
  {
   "cell_type": "code",
   "execution_count": 25,
   "id": "65efad84",
   "metadata": {},
   "outputs": [],
   "source": [
    "repl=PythonREPL()"
   ]
  },
  {
   "cell_type": "code",
   "execution_count": 26,
   "id": "d2d6d148",
   "metadata": {},
   "outputs": [
    {
     "name": "stderr",
     "output_type": "stream",
     "text": [
      "Python REPL can execute arbitrary code. Use with caution.\n"
     ]
    },
    {
     "data": {
      "text/plain": [
       "'10\\n'"
      ]
     },
     "execution_count": 26,
     "metadata": {},
     "output_type": "execute_result"
    }
   ],
   "source": [
    "repl.run(code)"
   ]
  },
  {
   "cell_type": "code",
   "execution_count": 27,
   "id": "6dd2b82d",
   "metadata": {},
   "outputs": [
    {
     "name": "stderr",
     "output_type": "stream",
     "text": [
      "<>:13: SyntaxWarning: invalid escape sequence '\\`'\n",
      "<>:13: SyntaxWarning: invalid escape sequence '\\`'\n",
      "<>:13: SyntaxWarning: invalid escape sequence '\\`'\n",
      "<>:13: SyntaxWarning: invalid escape sequence '\\`'\n",
      "C:\\Users\\divak\\AppData\\Local\\Programs\\Python\\Python311\\ipykernel_18212\\3901756031.py:13: SyntaxWarning: invalid escape sequence '\\`'\n",
      "  result_str = f\"Successfully executed:\\n\\`\\`\\`python\\n{code}\\n\\`\\`\\`\\nStdout: {result}\"\n",
      "C:\\Users\\divak\\AppData\\Local\\Programs\\Python\\Python311\\ipykernel_18212\\3901756031.py:13: SyntaxWarning: invalid escape sequence '\\`'\n",
      "  result_str = f\"Successfully executed:\\n\\`\\`\\`python\\n{code}\\n\\`\\`\\`\\nStdout: {result}\"\n"
     ]
    }
   ],
   "source": [
    "@tool\n",
    "def python_repl_tool(\n",
    "    code: Annotated[str, \"The python code to execute to generate your chart.\"],\n",
    "):\n",
    "    \"\"\"Use this to execute python code and do math. If you want to see the output of a value,\n",
    "    you should print it out with `print(...)`. This is visible to the user.\"\"\"\n",
    "    \n",
    "    try:\n",
    "        result = repl.run(code)\n",
    "    except BaseException as e:\n",
    "        return f\"Failed to execute. Error: {repr(e)}\"\n",
    "    \n",
    "    result_str = f\"Successfully executed:\\n\\`\\`\\`python\\n{code}\\n\\`\\`\\`\\nStdout: {result}\"\n",
    "    return result_str"
   ]
  },
  {
   "cell_type": "code",
   "execution_count": 28,
   "id": "8023a692",
   "metadata": {},
   "outputs": [
    {
     "name": "stdout",
     "output_type": "stream",
     "text": [
      "Successfully executed:\n",
      "\\`\\`\\`python\n",
      "\n",
      "x = 5\n",
      "y = x * 2\n",
      "print(y)\n",
      "\n",
      "\\`\\`\\`\n",
      "Stdout: 10\n",
      "\n"
     ]
    }
   ],
   "source": [
    "print(python_repl_tool.invoke(code))"
   ]
  },
  {
   "cell_type": "code",
   "execution_count": 29,
   "id": "259f9b54",
   "metadata": {},
   "outputs": [],
   "source": [
    "members=[\"researcher\",\"coder\"]"
   ]
  },
  {
   "cell_type": "code",
   "execution_count": 30,
   "id": "823e3818",
   "metadata": {},
   "outputs": [],
   "source": [
    "options=members+[\"FINISH\"]"
   ]
  },
  {
   "cell_type": "code",
   "execution_count": 31,
   "id": "40b6976d",
   "metadata": {},
   "outputs": [
    {
     "data": {
      "text/plain": [
       "['researcher', 'coder', 'FINISH']"
      ]
     },
     "execution_count": 31,
     "metadata": {},
     "output_type": "execute_result"
    }
   ],
   "source": [
    "options"
   ]
  },
  {
   "cell_type": "code",
   "execution_count": 32,
   "id": "b4d5796c",
   "metadata": {},
   "outputs": [],
   "source": [
    "class Router(TypedDict):\n",
    "    \"\"\"Worker to route to next. If no workers needed, route to FINISH.\"\"\"\n",
    "    next: Literal['researcher', 'coder', 'FINISH']"
   ]
  },
  {
   "cell_type": "code",
   "execution_count": 33,
   "id": "2f37414a",
   "metadata": {},
   "outputs": [],
   "source": [
    "class State(MessagesState):\n",
    "    next:str"
   ]
  },
  {
   "cell_type": "code",
   "execution_count": 34,
   "id": "71ffdfef",
   "metadata": {},
   "outputs": [],
   "source": [
    "system_prompt=f\"\"\"\n",
    "You are a supervisor, tasked with managing a conversation between the following workers: {members}. \n",
    "Given the following user request, respond with the worker to act next. \n",
    "Each worker will perform a task and respond with their results and status. \n",
    "When finished, respond with FINISH.\n",
    "\"\"\""
   ]
  },
  {
   "cell_type": "code",
   "execution_count": 35,
   "id": "d56b10fc",
   "metadata": {},
   "outputs": [
    {
     "data": {
      "text/plain": [
       "[{'role': 'system',\n",
       "  'content': \"\\nYou are a supervisor, tasked with managing a conversation between the following workers: ['researcher', 'coder']. \\nGiven the following user request, respond with the worker to act next. \\nEach worker will perform a task and respond with their results and status. \\nWhen finished, respond with FINISH.\\n\"}]"
      ]
     },
     "execution_count": 35,
     "metadata": {},
     "output_type": "execute_result"
    }
   ],
   "source": [
    "[{\"role\": \"system\", \"content\": system_prompt},]"
   ]
  },
  {
   "cell_type": "code",
   "execution_count": 36,
   "id": "de5abec4",
   "metadata": {},
   "outputs": [],
   "source": [
    "state={\"next\":[\"hi\"]}"
   ]
  },
  {
   "cell_type": "code",
   "execution_count": 37,
   "id": "47f50dc5",
   "metadata": {},
   "outputs": [
    {
     "data": {
      "text/plain": [
       "['hi']"
      ]
     },
     "execution_count": 37,
     "metadata": {},
     "output_type": "execute_result"
    }
   ],
   "source": [
    "state[\"next\"]"
   ]
  },
  {
   "cell_type": "code",
   "execution_count": 38,
   "id": "85e24d03",
   "metadata": {},
   "outputs": [
    {
     "data": {
      "text/plain": [
       "[{'role': 'system',\n",
       "  'content': \"\\nYou are a supervisor, tasked with managing a conversation between the following workers: ['researcher', 'coder']. \\nGiven the following user request, respond with the worker to act next. \\nEach worker will perform a task and respond with their results and status. \\nWhen finished, respond with FINISH.\\n\"},\n",
       " 'hi']"
      ]
     },
     "execution_count": 38,
     "metadata": {},
     "output_type": "execute_result"
    }
   ],
   "source": [
    "[{\"role\": \"system\", \"content\": system_prompt},] + state[\"next\"]"
   ]
  },
  {
   "cell_type": "code",
   "execution_count": 39,
   "id": "fd55aeb6",
   "metadata": {},
   "outputs": [],
   "source": [
    "def supervisor_node(state: State) -> Command[Literal[\"researcher\", \"coder\", \"__end__\"]]:\n",
    "    \n",
    "    messages = [{\"role\": \"system\", \"content\": system_prompt},] + state[\"messages\"]\n",
    "    \n",
    "    response = openai_model.with_structured_output(Router).invoke(messages)\n",
    "    \n",
    "    goto = response[\"next\"]\n",
    "    \n",
    "    print(\"below my goto**********************************\")\n",
    "    \n",
    "    print(goto)\n",
    "    \n",
    "    if goto == \"FINISH\":\n",
    "        goto = END\n",
    "        \n",
    "    return Command(goto=goto, update={\"next\": goto})"
   ]
  },
  {
   "cell_type": "code",
   "execution_count": 40,
   "id": "d0e43ce4",
   "metadata": {},
   "outputs": [],
   "source": [
    "def research_node(state: State) -> Command[Literal[\"supervisor\"]]:\n",
    "    \n",
    "    research_agent = create_react_agent(openai_model, tools=[tavaily_tool], prompt=\"You are a researcher. DO NOT do any math.\")\n",
    "    \n",
    "    result = research_agent.invoke(state)\n",
    "    \n",
    "    return Command(\n",
    "        update={\n",
    "            \"messages\": [\n",
    "                HumanMessage(content=result[\"messages\"][-1].content, name=\"researcher\")\n",
    "            ]\n",
    "        },\n",
    "        goto=\"supervisor\",\n",
    "    )"
   ]
  },
  {
   "cell_type": "code",
   "execution_count": 41,
   "id": "a60b22c1",
   "metadata": {},
   "outputs": [],
   "source": [
    "def code_node(state: State) -> Command[Literal[\"supervisor\"]]:\n",
    "    \n",
    "    code_agent = create_react_agent(openai_model, tools=[python_repl_tool])\n",
    "    \n",
    "    result = code_agent.invoke(state)\n",
    "    \n",
    "    return Command(\n",
    "        update={\n",
    "            \"messages\": [\n",
    "                HumanMessage(content=result[\"messages\"][-1].content, name=\"coder\")\n",
    "            ]\n",
    "        },\n",
    "        goto=\"supervisor\",\n",
    "    )"
   ]
  },
  {
   "cell_type": "code",
   "execution_count": 42,
   "id": "5ff57c75",
   "metadata": {},
   "outputs": [],
   "source": [
    "graph=StateGraph(State)"
   ]
  },
  {
   "cell_type": "code",
   "execution_count": 43,
   "id": "1c16984f",
   "metadata": {},
   "outputs": [
    {
     "data": {
      "text/plain": [
       "<langgraph.graph.state.StateGraph at 0x1da87940dd0>"
      ]
     },
     "execution_count": 43,
     "metadata": {},
     "output_type": "execute_result"
    }
   ],
   "source": [
    "graph.add_node(\"supervisor\",supervisor_node)"
   ]
  },
  {
   "cell_type": "code",
   "execution_count": 44,
   "id": "a05f74b1",
   "metadata": {},
   "outputs": [
    {
     "data": {
      "text/plain": [
       "<langgraph.graph.state.StateGraph at 0x1da87940dd0>"
      ]
     },
     "execution_count": 44,
     "metadata": {},
     "output_type": "execute_result"
    }
   ],
   "source": [
    "graph.add_node(\"researcher\", research_node)"
   ]
  },
  {
   "cell_type": "code",
   "execution_count": 45,
   "id": "ad575458",
   "metadata": {},
   "outputs": [
    {
     "data": {
      "text/plain": [
       "<langgraph.graph.state.StateGraph at 0x1da87940dd0>"
      ]
     },
     "execution_count": 45,
     "metadata": {},
     "output_type": "execute_result"
    }
   ],
   "source": [
    "graph.add_node(\"coder\", code_node)"
   ]
  },
  {
   "cell_type": "code",
   "execution_count": 46,
   "id": "1669af6a",
   "metadata": {},
   "outputs": [
    {
     "data": {
      "text/plain": [
       "<langgraph.graph.state.StateGraph at 0x1da87940dd0>"
      ]
     },
     "execution_count": 46,
     "metadata": {},
     "output_type": "execute_result"
    }
   ],
   "source": [
    "graph.add_edge(START,\"supervisor\")"
   ]
  },
  {
   "cell_type": "code",
   "execution_count": 47,
   "id": "1c70c004",
   "metadata": {},
   "outputs": [],
   "source": [
    "app=graph.compile()"
   ]
  },
  {
   "cell_type": "code",
   "execution_count": 48,
   "id": "4c387480",
   "metadata": {},
   "outputs": [
    {
     "data": {
      "image/png": "[encoded data removed]",
      "text/plain": [
       "<IPython.core.display.Image object>"
      ]
     },
     "metadata": {},
     "output_type": "display_data"
    }
   ],
   "source": [
    "from IPython.display import display, Image\n",
    "\n",
    "display(Image(app.get_graph().draw_mermaid_png()))"
   ]
  },
  {
   "cell_type": "code",
   "execution_count": 49,
   "id": "8b7f716e",
   "metadata": {},
   "outputs": [
    {
     "name": "stdout",
     "output_type": "stream",
     "text": [
      "below my goto**********************************\n",
      "researcher\n",
      "((), {'supervisor': {'next': 'researcher'}})\n",
      "----\n",
      "(('researcher:7399ca29-7ee7-6e06-d8af-8c12b8cd25ad',), {'agent': {'messages': [AIMessage(content=\"I can't perform math calculations, but you can find the square root of 42 using a calculator or math software. Would you like me to provide information or resources on how to calculate square roots?\", additional_kwargs={'refusal': None}, response_metadata={'token_usage': {'completion_tokens': 41, 'prompt_tokens': 98, 'total_tokens': 139, 'completion_tokens_details': {'accepted_prediction_tokens': 0, 'audio_tokens': 0, 'reasoning_tokens': 0, 'rejected_prediction_tokens': 0}, 'prompt_tokens_details': {'audio_tokens': 0, 'cached_tokens': 0}}, 'model_name': 'gpt-4o-mini-2024-07-18', 'system_fingerprint': 'fp_7a53abb7a2', 'id': 'chatcmpl-BdvqQpF3opXyIrOnNawcUp0c9h7bP', 'prompt_filter_results': [{'prompt_index': 0, 'content_filter_results': {'hate': {'filtered': False, 'severity': 'safe'}, 'jailbreak': {'filtered': False, 'detected': False}, 'self_harm': {'filtered': False, 'severity': 'safe'}, 'sexual': {'filtered': False, 'severity': 'safe'}, 'violence': {'filtered': False, 'severity': 'safe'}}}], 'finish_reason': 'stop', 'logprobs': None, 'content_filter_results': {'hate': {'filtered': False, 'severity': 'safe'}, 'self_harm': {'filtered': False, 'severity': 'safe'}, 'sexual': {'filtered': False, 'severity': 'safe'}, 'violence': {'filtered': False, 'severity': 'safe'}}}, id='run--40065b4e-2b1e-4b02-8650-4cbd1498b1b4-0', usage_metadata={'input_tokens': 98, 'output_tokens': 41, 'total_tokens': 139, 'input_token_details': {'audio': 0, 'cache_read': 0}, 'output_token_details': {'audio': 0, 'reasoning': 0}})]}})\n",
      "----\n",
      "((), {'researcher': {'messages': [HumanMessage(content=\"I can't perform math calculations, but you can find the square root of 42 using a calculator or math software. Would you like me to provide information or resources on how to calculate square roots?\", additional_kwargs={}, response_metadata={}, name='researcher')]}})\n",
      "----\n",
      "below my goto**********************************\n",
      "coder\n",
      "((), {'supervisor': {'next': 'coder'}})\n",
      "----\n",
      "(('coder:7d9fd8ad-2160-a605-ee88-63f03b1c23c1',), {'agent': {'messages': [AIMessage(content='', additional_kwargs={'tool_calls': [{'id': 'call_OJnSuQJoEKyfNxf3lhDJEyxQ', 'function': {'arguments': '{\"code\":\"import math\\\\nmath.sqrt(42)\"}', 'name': 'python_repl_tool'}, 'type': 'function'}], 'refusal': None}, response_metadata={'token_usage': {'completion_tokens': 24, 'prompt_tokens': 142, 'total_tokens': 166, 'completion_tokens_details': {'accepted_prediction_tokens': 0, 'audio_tokens': 0, 'reasoning_tokens': 0, 'rejected_prediction_tokens': 0}, 'prompt_tokens_details': {'audio_tokens': 0, 'cached_tokens': 0}}, 'model_name': 'gpt-4o-mini-2024-07-18', 'system_fingerprint': 'fp_7a53abb7a2', 'id': 'chatcmpl-BdvqR31X5oPlYuEv5zFyLeAJDkOTa', 'prompt_filter_results': [{'prompt_index': 0, 'content_filter_results': {'hate': {'filtered': False, 'severity': 'safe'}, 'jailbreak': {'filtered': False, 'detected': False}, 'self_harm': {'filtered': False, 'severity': 'safe'}, 'sexual': {'filtered': False, 'severity': 'safe'}, 'violence': {'filtered': False, 'severity': 'safe'}}}], 'finish_reason': 'tool_calls', 'logprobs': None, 'content_filter_results': {}}, id='run--3596f4d8-1f44-4ec9-984c-6dd3cb117714-0', tool_calls=[{'name': 'python_repl_tool', 'args': {'code': 'import math\\nmath.sqrt(42)'}, 'id': 'call_OJnSuQJoEKyfNxf3lhDJEyxQ', 'type': 'tool_call'}], usage_metadata={'input_tokens': 142, 'output_tokens': 24, 'total_tokens': 166, 'input_token_details': {'audio': 0, 'cache_read': 0}, 'output_token_details': {'audio': 0, 'reasoning': 0}})]}})\n",
      "----\n",
      "(('coder:7d9fd8ad-2160-a605-ee88-63f03b1c23c1',), {'tools': {'messages': [ToolMessage(content='Successfully executed:\\n\\\\`\\\\`\\\\`python\\nimport math\\nmath.sqrt(42)\\n\\\\`\\\\`\\\\`\\nStdout: ', name='python_repl_tool', id='51901ee2-9f25-423c-90c9-8459cc0ea60f', tool_call_id='call_OJnSuQJoEKyfNxf3lhDJEyxQ')]}})\n",
      "----\n",
      "(('coder:7d9fd8ad-2160-a605-ee88-63f03b1c23c1',), {'agent': {'messages': [AIMessage(content='The square root of 42 is approximately 6.4807.', additional_kwargs={'refusal': None}, response_metadata={'token_usage': {'completion_tokens': 16, 'prompt_tokens': 200, 'total_tokens': 216, 'completion_tokens_details': {'accepted_prediction_tokens': 0, 'audio_tokens': 0, 'reasoning_tokens': 0, 'rejected_prediction_tokens': 0}, 'prompt_tokens_details': {'audio_tokens': 0, 'cached_tokens': 0}}, 'model_name': 'gpt-4o-mini-2024-07-18', 'system_fingerprint': 'fp_7a53abb7a2', 'id': 'chatcmpl-BdvqSk0y0GQifX1QlZTiYMWeWh4WU', 'prompt_filter_results': [{'prompt_index': 0, 'content_filter_results': {'hate': {'filtered': False, 'severity': 'safe'}, 'jailbreak': {'filtered': False, 'detected': False}, 'self_harm': {'filtered': False, 'severity': 'safe'}, 'sexual': {'filtered': False, 'severity': 'safe'}, 'violence': {'filtered': False, 'severity': 'safe'}}}], 'finish_reason': 'stop', 'logprobs': None, 'content_filter_results': {'hate': {'filtered': False, 'severity': 'safe'}, 'protected_material_code': {'filtered': False, 'detected': False}, 'protected_material_text': {'filtered': False, 'detected': False}, 'self_harm': {'filtered': False, 'severity': 'safe'}, 'sexual': {'filtered': False, 'severity': 'safe'}, 'violence': {'filtered': False, 'severity': 'safe'}}}, id='run--a05301dc-95bb-4eb4-8959-86d9858cd972-0', usage_metadata={'input_tokens': 200, 'output_tokens': 16, 'total_tokens': 216, 'input_token_details': {'audio': 0, 'cache_read': 0}, 'output_token_details': {'audio': 0, 'reasoning': 0}})]}})\n",
      "----\n",
      "((), {'coder': {'messages': [HumanMessage(content='The square root of 42 is approximately 6.4807.', additional_kwargs={}, response_metadata={}, name='coder')]}})\n",
      "----\n",
      "below my goto**********************************\n",
      "FINISH\n",
      "((), {'supervisor': {'next': '__end__'}})\n",
      "----\n"
     ]
    }
   ],
   "source": [
    "# With the graph created, we can now invoke it and see how it performs!\n",
    "try:\n",
    "      for s in app.stream({\"messages\": [(\"user\", \"What's the square root of 42?\")]}, subgraphs=True):\n",
    "        print(s)\n",
    "        print(\"----\")\n",
    "except Exception as e:\n",
    "    print(\"Error during streaming:\", e)\n",
    "   "
   ]
  },
  {
   "cell_type": "code",
   "execution_count": 50,
   "id": "0697d7bd",
   "metadata": {},
   "outputs": [
    {
     "name": "stdout",
     "output_type": "stream",
     "text": [
      "below my goto**********************************\n",
      "researcher\n",
      "below my goto**********************************\n",
      "coder\n",
      "below my goto**********************************\n",
      "FINISH\n"
     ]
    },
    {
     "data": {
      "text/plain": [
       "((),\n",
       " {'messages': [HumanMessage(content=\"What's the square root of 42?\", additional_kwargs={}, response_metadata={}, id='8642c992-4cac-4a22-8d2f-fa38838606ca'),\n",
       "   HumanMessage(content=\"I can't do math, but I can help you find resources or information about square roots. Would you like me to look that up?\", additional_kwargs={}, response_metadata={}, name='researcher', id='aae82434-75fd-457c-9743-3b403b5f9c6c'),\n",
       "   HumanMessage(content='The square root of 42 is approximately 6.4807.', additional_kwargs={}, response_metadata={}, name='coder', id='7d89bc9f-7777-495e-bfd5-cf0f35e8ee3c')],\n",
       "  'next': '__end__'})"
      ]
     },
     "execution_count": 50,
     "metadata": {},
     "output_type": "execute_result"
    }
   ],
   "source": [
    "app.invoke({\"messages\": [(\"user\", \"What's the square root of 42?\")]}, subgraphs=True)"
   ]
  },
  {
   "cell_type": "code",
   "execution_count": 51,
   "id": "97c88d98",
   "metadata": {},
   "outputs": [
    {
     "name": "stdout",
     "output_type": "stream",
     "text": [
      "below my goto**********************************\n",
      "coder\n",
      "below my goto**********************************\n",
      "FINISH\n"
     ]
    },
    {
     "data": {
      "text/plain": [
       "((),\n",
       " {'messages': [HumanMessage(content='What is an efficient Python code to get prime numbers?', additional_kwargs={}, response_metadata={}, id='e0a0a892-98f7-4748-a2c5-43ef384674bc'),\n",
       "   HumanMessage(content=\"An efficient way to generate prime numbers in Python is to use the Sieve of Eratosthenes algorithm. This algorithm is particularly effective for finding all prime numbers up to a specified integer \\\\( n \\\\). Here's a Python implementation:\\n\\n```python\\ndef sieve_of_eratosthenes(n):\\n    primes = []\\n    is_prime = [True] * (n + 1)\\n    is_prime[0] = is_prime[1] = False  # 0 and 1 are not primes\\n\\n    for p in range(2, int(n**0.5) + 1):\\n        if is_prime[p]:\\n            primes.append(p)\\n            for multiple in range(p*p, n + 1, p):\\n                is_prime[multiple] = False\\n\\n    # Collecting remaining primes\\n    for p in range(int(n**0.5) + 1, n + 1):\\n        if is_prime[p]:\\n            primes.append(p)\\n\\n    return primes\\n```\\n\\n### How to Use:\\nYou can call the function `sieve_of_eratosthenes(n)` where `n` is the upper limit up to which you want to generate prime numbers. For example:\\n\\n```python\\nprint(sieve_of_eratosthenes(100))  # Generates all prime numbers up to 100\\n```\\n\\n### Explanation:\\n1. **Initialization**: A boolean list `is_prime` is created to keep track of prime status for numbers from `0` to `n`. Initially, all numbers are considered prime (set to `True`).\\n2. **Marking Non-Primes**: Starting from the first prime number (2), it marks all multiples of each prime number as non-prime.\\n3. **Collecting Primes**: Finally, it collects all indices that are still marked as prime.\\n\\nThis approach is efficient and has a time complexity of \\\\( O(n \\\\log \\\\log n) \\\\).\", additional_kwargs={}, response_metadata={}, name='coder', id='67858abe-bf86-40ba-a63d-5565e008e00e')],\n",
       "  'next': '__end__'})"
      ]
     },
     "execution_count": 51,
     "metadata": {},
     "output_type": "execute_result"
    }
   ],
   "source": [
    "app.invoke({\"messages\": [(\"user\", \"What is an efficient Python code to get prime numbers?\")]}, subgraphs=True)"
   ]
  }
 ],
 "metadata": {
  "kernelspec": {
   "display_name": ".venv",
   "language": "python",
   "name": "python3"
  },
  "language_info": {
   "codemirror_mode": {
    "name": "ipython",
    "version": 3
   },
   "file_extension": ".py",
   "mimetype": "text/x-python",
   "name": "python",
   "nbconvert_exporter": "python",
   "pygments_lexer": "ipython3",
   "version": "3.12.3"
  }
 },
 "nbformat": 4,
 "nbformat_minor": 5
}
