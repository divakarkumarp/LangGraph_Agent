{
 "cells": [
  {
   "cell_type": "code",
   "execution_count": 54,
   "id": "5365016d",
   "metadata": {},
   "outputs": [],
   "source": [
    "from typing_extensions import Literal\n",
    "from langchain_core.tools import tool\n",
    "from langchain_groq import ChatGroq\n",
    "from langgraph.graph import MessagesState, StateGraph,START,END\n",
    "from langgraph.types import Command\n",
    "from dotenv import load_dotenv\n",
    "from IPython.display import Image, display\n",
    "from langchain_openai import ChatOpenAI\n",
    "from langchain_core.messages import BaseMessage, HumanMessage\n",
    "from langgraph.prebuilt import create_react_agent\n",
    "from typing import Annotated\n",
    "from langchain_experimental.utilities import PythonREPL\n",
    "\n",
    "import os"
   ]
  },
  {
   "cell_type": "code",
   "execution_count": 55,
   "id": "de2e8dfc",
   "metadata": {},
   "outputs": [
    {
     "data": {
      "text/plain": [
       "True"
      ]
     },
     "execution_count": 55,
     "metadata": {},
     "output_type": "execute_result"
    }
   ],
   "source": [
    "load_dotenv()"
   ]
  },
  {
   "cell_type": "code",
   "execution_count": 56,
   "id": "8990792c",
   "metadata": {},
   "outputs": [],
   "source": [
    "openai_model=ChatOpenAI(model=\"gpt-4o-mini\")"
   ]
  },
  {
   "cell_type": "code",
   "execution_count": 57,
   "id": "e24ef1bc",
   "metadata": {},
   "outputs": [],
   "source": [
    "groq_model=ChatGroq(model=\"deepseek-r1-distill-llama-70b\")"
   ]
  },
  {
   "cell_type": "code",
   "execution_count": 58,
   "id": "23053a8a",
   "metadata": {},
   "outputs": [
    {
     "data": {
      "text/plain": [
       "AIMessage(content='<think>\\n\\n</think>\\n\\nHello! How can I assist you today? 😊', additional_kwargs={}, response_metadata={'token_usage': {'completion_tokens': 16, 'prompt_tokens': 6, 'total_tokens': 22, 'completion_time': 0.058181818, 'prompt_time': 0.003481459, 'queue_time': 0.046268771, 'total_time': 0.061663277}, 'model_name': 'deepseek-r1-distill-llama-70b', 'system_fingerprint': 'fp_454c494f52', 'finish_reason': 'stop', 'logprobs': None}, id='run-efd73082-6954-4b9c-af9a-29251ba7cf6c-0', usage_metadata={'input_tokens': 6, 'output_tokens': 16, 'total_tokens': 22})"
      ]
     },
     "execution_count": 58,
     "metadata": {},
     "output_type": "execute_result"
    }
   ],
   "source": [
    "groq_model.invoke(\"hi\")"
   ]
  },
  {
   "cell_type": "code",
   "execution_count": 59,
   "id": "d1d5609b",
   "metadata": {},
   "outputs": [
    {
     "data": {
      "text/plain": [
       "AIMessage(content='Hello! How can I assist you today?', additional_kwargs={'refusal': None}, response_metadata={'token_usage': {'completion_tokens': 10, 'prompt_tokens': 8, 'total_tokens': 18, 'completion_tokens_details': {'accepted_prediction_tokens': 0, 'audio_tokens': 0, 'reasoning_tokens': 0, 'rejected_prediction_tokens': 0}, 'prompt_tokens_details': {'audio_tokens': 0, 'cached_tokens': 0}}, 'model_name': 'gpt-4o-mini-2024-07-18', 'system_fingerprint': 'fp_0392822090', 'id': 'chatcmpl-BRif8pLhOb4l2eYQzOeTKTl5k4ycA', 'finish_reason': 'stop', 'logprobs': None}, id='run-857cbb66-da37-457d-af5d-0b9f23c820b7-0', usage_metadata={'input_tokens': 8, 'output_tokens': 10, 'total_tokens': 18, 'input_token_details': {'audio': 0, 'cache_read': 0}, 'output_token_details': {'audio': 0, 'reasoning': 0}})"
      ]
     },
     "execution_count": 59,
     "metadata": {},
     "output_type": "execute_result"
    }
   ],
   "source": [
    "openai_model.invoke(\"hi\")"
   ]
  },
  {
   "cell_type": "code",
   "execution_count": 60,
   "id": "2a81092a",
   "metadata": {},
   "outputs": [],
   "source": [
    "def add_numbers(state):\n",
    "    result=state[\"num1\"]+state[\"num2\"]\n",
    "    print(f\"additional result: {result}\")\n",
    "    return Command(goto=\"multiply\",update={\"sum\":result})"
   ]
  },
  {
   "cell_type": "code",
   "execution_count": 61,
   "id": "b63a3617",
   "metadata": {},
   "outputs": [],
   "source": [
    "state={\"num1\":1, \"num2\":2}"
   ]
  },
  {
   "cell_type": "code",
   "execution_count": 62,
   "id": "a719a293",
   "metadata": {},
   "outputs": [
    {
     "name": "stdout",
     "output_type": "stream",
     "text": [
      "additional result: 3\n"
     ]
    },
    {
     "data": {
      "text/plain": [
       "Command(update={'sum': 3}, goto='multiply')"
      ]
     },
     "execution_count": 62,
     "metadata": {},
     "output_type": "execute_result"
    }
   ],
   "source": [
    "add_numbers(state)"
   ]
  },
  {
   "cell_type": "code",
   "execution_count": 63,
   "id": "8fff004d",
   "metadata": {},
   "outputs": [],
   "source": [
    "@tool\n",
    "def transfer_to_multiplication_expert():\n",
    "    \"\"\"Ask multiplication agent for help\"\"\"\n",
    "    return "
   ]
  },
  {
   "cell_type": "code",
   "execution_count": 64,
   "id": "e693e086",
   "metadata": {},
   "outputs": [],
   "source": [
    "@tool\n",
    "def transfer_to_addition_expert():\n",
    "    \"\"\"Ask addition agent for help\"\"\"\n",
    "    return "
   ]
  },
  {
   "cell_type": "code",
   "execution_count": 65,
   "id": "58a93f46",
   "metadata": {},
   "outputs": [],
   "source": [
    "model_with_tool=openai_model.bind_tools([transfer_to_multiplication_expert])"
   ]
  },
  {
   "cell_type": "code",
   "execution_count": 66,
   "id": "aa132c93",
   "metadata": {},
   "outputs": [],
   "source": [
    "ai_message=model_with_tool.invoke(\"hi how are you?\")"
   ]
  },
  {
   "cell_type": "code",
   "execution_count": 67,
   "id": "ddb7864b",
   "metadata": {},
   "outputs": [
    {
     "data": {
      "text/plain": [
       "[]"
      ]
     },
     "execution_count": 67,
     "metadata": {},
     "output_type": "execute_result"
    }
   ],
   "source": [
    "ai_message.tool_calls"
   ]
  },
  {
   "cell_type": "code",
   "execution_count": 68,
   "id": "ef66e2a9",
   "metadata": {},
   "outputs": [],
   "source": [
    "ai_message=model_with_tool.invoke(\"what's (3 + 5) * 12. Provide me the output\")"
   ]
  },
  {
   "cell_type": "code",
   "execution_count": 69,
   "id": "f5406566",
   "metadata": {},
   "outputs": [
    {
     "data": {
      "text/plain": [
       "[{'name': 'transfer_to_multiplication_expert',\n",
       "  'args': {},\n",
       "  'id': 'call_Aatzg0YioKcFe9Xze5HQc6l5',\n",
       "  'type': 'tool_call'}]"
      ]
     },
     "execution_count": 69,
     "metadata": {},
     "output_type": "execute_result"
    }
   ],
   "source": [
    "ai_message.tool_calls"
   ]
  },
  {
   "cell_type": "code",
   "execution_count": 70,
   "id": "bc371325",
   "metadata": {},
   "outputs": [],
   "source": [
    "# def additional_expert(state:MessagesState)-> Command[Literal[\"multiplication_expert\", \"__end__\"]]:\n",
    "    \n",
    "#     system_prompt = (\n",
    "#         \"You are an addition expert, you can ask the multiplication expert for help with multiplication.\"\n",
    "#         \"Always do your portion of calculation before the handoff.\"\n",
    "#     )\n",
    "    \n",
    "#     messages = [{\"role\": \"system\", \"content\": system_prompt}] + state[\"messages\"]\n",
    "    \n",
    "    \n",
    "#     ai_msg = openai_model.bind_tools([transfer_to_multiplication_expert]).invoke(messages)\n",
    "    \n",
    "    \n",
    "#     if len(ai_msg.tool_calls) > 0:\n",
    "#         tool_call_id = ai_msg.tool_calls[-1][\"id\"]\n",
    "#         tool_msg = {\n",
    "#             \"role\": \"tool\",\n",
    "#             \"content\": \"Successfully transferred\",\n",
    "#             \"tool_call_id\": tool_call_id,\n",
    "#         }\n",
    "        \n",
    "#         return Command(\n",
    "#             goto=\"multiplication_expert\", update={\"messages\": [ai_msg, tool_msg]}\n",
    "#         )\n",
    "#     return {\"messages\": [ai_msg]}"
   ]
  },
  {
   "cell_type": "code",
   "execution_count": 71,
   "id": "72a84d51",
   "metadata": {},
   "outputs": [],
   "source": [
    "def additional_expert(state: MessagesState) -> Command[Literal[\"multiplication_expert\", \"__end__\"]]:\n",
    "    \n",
    "    system_prompt = (\n",
    "        \"You are an addition expert, you can ask the multiplication expert for help with multiplication.\"\n",
    "        \"Always do your portion of calculation before the handoff.\"\n",
    "    )\n",
    "    \n",
    "    messages = [{\"role\": \"system\", \"content\": system_prompt}] + state[\"messages\"]\n",
    "    \n",
    "    ai_msg = openai_model.bind_tools([transfer_to_multiplication_expert]).invoke(messages)\n",
    "    \n",
    "    # Create a copy of the AI message in the format expected by the API\n",
    "    ai_msg_dict = {\n",
    "        \"role\": \"assistant\",\n",
    "        \"content\": ai_msg.content\n",
    "    }\n",
    "    \n",
    "    # If there are tool calls, add them to the message dict\n",
    "    if hasattr(ai_msg, 'tool_calls') and len(ai_msg.tool_calls) > 0:\n",
    "        ai_msg_dict[\"tool_calls\"] = ai_msg.tool_calls\n",
    "    \n",
    "    # Handle all tool calls, not just the last one\n",
    "    if hasattr(ai_msg, 'tool_calls') and len(ai_msg.tool_calls) > 0:\n",
    "        # Create tool messages for all tool calls\n",
    "        tool_msgs = []\n",
    "        for tool_call in ai_msg.tool_calls:\n",
    "            tool_call_id = tool_call[\"id\"]\n",
    "            tool_msg = {\n",
    "                \"role\": \"tool\",\n",
    "                \"content\": \"Successfully transferred\",\n",
    "                \"tool_call_id\": tool_call_id,\n",
    "            }\n",
    "            tool_msgs.append(tool_msg)\n",
    "        \n",
    "        return Command(\n",
    "            goto=\"multiplication_expert\", update={\"messages\": [ai_msg_dict] + tool_msgs}\n",
    "        )\n",
    "    \n",
    "    return {\"messages\": [ai_msg_dict]}"
   ]
  },
  {
   "cell_type": "code",
   "execution_count": 72,
   "id": "8c9bcae6",
   "metadata": {},
   "outputs": [],
   "source": [
    "# def multiplication_expert(state:MessagesState)-> Command[Literal[\"additional_expert\", \"__end__\"]]:\n",
    "    \n",
    "#     system_prompt = (\n",
    "#         \"You are a multiplication expert, you can ask an addition expert for help with addition. \"\n",
    "#         \"Always do your portion of calculation before the handoff.\"\n",
    "#     )\n",
    "    \n",
    "#     messages = [{\"role\": \"system\", \"content\": system_prompt}] + state[\"messages\"]\n",
    "    \n",
    "#     ai_msg = openai_model.bind_tools([transfer_to_addition_expert]).invoke(messages)\n",
    "    \n",
    "#     if len(ai_msg.tool_calls) > 0:\n",
    "#         tool_call_id = ai_msg.tool_calls[-1][\"id\"]\n",
    "#         tool_msg = {\n",
    "#             \"role\": \"tool\",\n",
    "#             \"content\": \"Successfully transferred\",\n",
    "#             \"tool_call_id\": tool_call_id,\n",
    "#         }\n",
    "#         return Command(goto=\"additional_expert\", update={\"messages\": [ai_msg, tool_msg]})\n",
    "#     return {\"messages\": [ai_msg]}"
   ]
  },
  {
   "cell_type": "code",
   "execution_count": 73,
   "id": "368bf613",
   "metadata": {},
   "outputs": [],
   "source": [
    "def multiplication_expert(state: MessagesState) -> Command[Literal[\"additional_expert\", \"__end__\"]]:\n",
    "    \n",
    "    system_prompt = (\n",
    "        \"You are a multiplication expert, you can ask an addition expert for help with addition. \"\n",
    "        \"Always do your portion of calculation before the handoff.\"\n",
    "    )\n",
    "    \n",
    "    messages = [{\"role\": \"system\", \"content\": system_prompt}] + state[\"messages\"]\n",
    "    \n",
    "    ai_msg = openai_model.bind_tools([transfer_to_addition_expert]).invoke(messages)\n",
    "    \n",
    "    # Create a copy of the AI message in the format expected by the API\n",
    "    ai_msg_dict = {\n",
    "        \"role\": \"assistant\",\n",
    "        \"content\": ai_msg.content\n",
    "    }\n",
    "    \n",
    "    # If there are tool calls, add them to the message dict\n",
    "    if hasattr(ai_msg, 'tool_calls') and len(ai_msg.tool_calls) > 0:\n",
    "        ai_msg_dict[\"tool_calls\"] = ai_msg.tool_calls\n",
    "    \n",
    "    # Handle all tool calls, not just the last one\n",
    "    if hasattr(ai_msg, 'tool_calls') and len(ai_msg.tool_calls) > 0:\n",
    "        # Create tool messages for all tool calls\n",
    "        tool_msgs = []\n",
    "        for tool_call in ai_msg.tool_calls:\n",
    "            tool_call_id = tool_call[\"id\"]\n",
    "            tool_msg = {\n",
    "                \"role\": \"tool\",\n",
    "                \"content\": \"Successfully transferred\",\n",
    "                \"tool_call_id\": tool_call_id,\n",
    "            }\n",
    "            tool_msgs.append(tool_msg)\n",
    "        \n",
    "        return Command(\n",
    "            goto=\"additional_expert\", update={\"messages\": [ai_msg_dict] + tool_msgs}\n",
    "        )\n",
    "    \n",
    "    return {\"messages\": [ai_msg_dict]}"
   ]
  },
  {
   "cell_type": "code",
   "execution_count": 74,
   "id": "ed89333f",
   "metadata": {},
   "outputs": [],
   "source": [
    "graph=StateGraph(MessagesState)"
   ]
  },
  {
   "cell_type": "code",
   "execution_count": 75,
   "id": "c31c5f06",
   "metadata": {},
   "outputs": [
    {
     "data": {
      "text/plain": [
       "<langgraph.graph.state.StateGraph at 0x128051fa3c0>"
      ]
     },
     "execution_count": 75,
     "metadata": {},
     "output_type": "execute_result"
    }
   ],
   "source": [
    "graph.add_node(\"additional_expert\",additional_expert)\n",
    "graph.add_node(\"multiplication_expert\",multiplication_expert)"
   ]
  },
  {
   "cell_type": "code",
   "execution_count": 76,
   "id": "45340c68",
   "metadata": {},
   "outputs": [
    {
     "data": {
      "text/plain": [
       "<langgraph.graph.state.StateGraph at 0x128051fa3c0>"
      ]
     },
     "execution_count": 76,
     "metadata": {},
     "output_type": "execute_result"
    }
   ],
   "source": [
    "graph.add_edge(START, \"additional_expert\")"
   ]
  },
  {
   "cell_type": "code",
   "execution_count": 77,
   "id": "a3e110bc",
   "metadata": {},
   "outputs": [],
   "source": [
    "app=graph.compile()"
   ]
  },
  {
   "cell_type": "code",
   "execution_count": 78,
   "id": "26c7c4bf",
   "metadata": {},
   "outputs": [
    {
     "data": {
      "image/png": "[encoded data removed]",
      "text/plain": [
       "<IPython.core.display.Image object>"
      ]
     },
     "metadata": {},
     "output_type": "display_data"
    }
   ],
   "source": [
    "display(Image(app.get_graph().draw_mermaid_png()))"
   ]
  },
  {
   "cell_type": "code",
   "execution_count": 79,
   "id": "b7c7f6aa",
   "metadata": {},
   "outputs": [
    {
     "data": {
      "text/plain": [
       "{'messages': [HumanMessage(content=\"what's (3 + 5) * 12. Provide me the output\", additional_kwargs={}, response_metadata={}, id='02212939-28fe-4407-aabb-17ca6b27d174'),\n",
       "  AIMessage(content='', additional_kwargs={}, response_metadata={}, id='7845dcdc-3bc6-4c48-b313-7fdf57a5faca', tool_calls=[{'name': 'transfer_to_multiplication_expert', 'args': {}, 'id': 'call_XeH8r4MfhEnoRPY0Uooy0MQ6', 'type': 'tool_call'}]),\n",
       "  ToolMessage(content='Successfully transferred', id='7e596e1f-86d5-4194-a2bd-428b5d30e6c1', tool_call_id='call_XeH8r4MfhEnoRPY0Uooy0MQ6'),\n",
       "  AIMessage(content='', additional_kwargs={}, response_metadata={}, id='5e2f8435-f7f5-4f80-a18e-0dc45438d3a7', tool_calls=[{'name': 'transfer_to_addition_expert', 'args': {}, 'id': 'call_tY63wqQzJdgqcFMiqPkDTz5G', 'type': 'tool_call'}, {'name': 'transfer_to_addition_expert', 'args': {}, 'id': 'call_xB8emq54TuhAVPj3MQHS1kuX', 'type': 'tool_call'}]),\n",
       "  ToolMessage(content='Successfully transferred', id='910fc44a-a605-4a2d-be96-320ed30a6ebb', tool_call_id='call_tY63wqQzJdgqcFMiqPkDTz5G'),\n",
       "  ToolMessage(content='Successfully transferred', id='114d65ed-aff4-4d2d-a765-e157cfe7a809', tool_call_id='call_xB8emq54TuhAVPj3MQHS1kuX'),\n",
       "  AIMessage(content='', additional_kwargs={}, response_metadata={}, id='62afbfb4-b0cf-4f23-ba19-d3bdb4b857c0', tool_calls=[{'name': 'transfer_to_multiplication_expert', 'args': {}, 'id': 'call_ujiE143YhZbFaVd5NwmXuyDe', 'type': 'tool_call'}]),\n",
       "  ToolMessage(content='Successfully transferred', id='fee764a7-14ce-42aa-8d94-124e54e347f9', tool_call_id='call_ujiE143YhZbFaVd5NwmXuyDe'),\n",
       "  AIMessage(content='To calculate \\\\((3 + 5) * 12\\\\):\\n\\n1. First, I calculate \\\\(3 + 5 = 8\\\\).\\n2. Then, I multiply \\\\(8 * 12 = 96\\\\).\\n\\nSo, the final output is \\\\(96\\\\).', additional_kwargs={}, response_metadata={}, id='aea6a182-91fb-48c7-9350-be76a9761a60')]}"
      ]
     },
     "execution_count": 79,
     "metadata": {},
     "output_type": "execute_result"
    }
   ],
   "source": [
    "app.invoke({\"messages\":[(\"user\",\"what's (3 + 5) * 12. Provide me the output\")]})"
   ]
  },
  {
   "cell_type": "code",
   "execution_count": 80,
   "id": "64a4294c",
   "metadata": {},
   "outputs": [],
   "source": [
    "from langchain_core.messages import convert_to_messages\n",
    "def pretty_print_messages(update):\n",
    "    if isinstance(update, tuple):\n",
    "        ns, update = update\n",
    "        # skip parent graph updates in the printouts\n",
    "        if len(ns) == 0:\n",
    "            return\n",
    "\n",
    "        graph_id = ns[-1].split(\":\")[0]\n",
    "        print(f\"Update from subgraph {graph_id}:\")\n",
    "        print(\"\\n\")\n",
    "\n",
    "    for node_name, node_update in update.items():\n",
    "        print(f\"Update from node {node_name}:\")\n",
    "        print(\"\\n\")\n",
    "\n",
    "        for m in convert_to_messages(node_update[\"messages\"]):\n",
    "            m.pretty_print()\n",
    "        print(\"\\n\")"
   ]
  },
  {
   "cell_type": "code",
   "execution_count": 52,
   "id": "adc759b6",
   "metadata": {},
   "outputs": [
    {
     "name": "stdout",
     "output_type": "stream",
     "text": [
      "****chunk...****\n",
      "Update from node additional_expert:\n",
      "\n",
      "\n",
      "==================================\u001b[1m Ai Message \u001b[0m==================================\n",
      "Tool Calls:\n",
      "  transfer_to_multiplication_expert (call_cdqZQBzfxa7xeFAPB127IlOB)\n",
      " Call ID: call_cdqZQBzfxa7xeFAPB127IlOB\n",
      "  Args:\n",
      "=================================\u001b[1m Tool Message \u001b[0m=================================\n",
      "\n",
      "Successfully transferred\n",
      "\n",
      "\n",
      "****chunk...****\n",
      "Update from node multiplication_expert:\n",
      "\n",
      "\n",
      "==================================\u001b[1m Ai Message \u001b[0m==================================\n",
      "Tool Calls:\n",
      "  transfer_to_addition_expert (call_maQmTBvhf1xv0MCo7FABoVSp)\n",
      " Call ID: call_maQmTBvhf1xv0MCo7FABoVSp\n",
      "  Args:\n",
      "  transfer_to_addition_expert (call_N7bGhFtqSSny4O4GFdyx9jQ7)\n",
      " Call ID: call_N7bGhFtqSSny4O4GFdyx9jQ7\n",
      "  Args:\n",
      "=================================\u001b[1m Tool Message \u001b[0m=================================\n",
      "\n",
      "Successfully transferred\n",
      "=================================\u001b[1m Tool Message \u001b[0m=================================\n",
      "\n",
      "Successfully transferred\n",
      "\n",
      "\n",
      "****chunk...****\n",
      "Update from node additional_expert:\n",
      "\n",
      "\n",
      "==================================\u001b[1m Ai Message \u001b[0m==================================\n",
      "\n",
      "First, I need to calculate \\(3 + 5\\), which equals \\(8\\). Now, I will multiply this result by \\(12\\):\n",
      "\n",
      "\\[\n",
      "8 \\times 12\n",
      "\\]\n",
      "\n",
      "I'll ask the multiplication expert for help with this calculation.\n",
      "Tool Calls:\n",
      "  transfer_to_multiplication_expert (call_ULUFZXSRHZjTW4EeMt5y19j6)\n",
      " Call ID: call_ULUFZXSRHZjTW4EeMt5y19j6\n",
      "  Args:\n",
      "=================================\u001b[1m Tool Message \u001b[0m=================================\n",
      "\n",
      "Successfully transferred\n",
      "\n",
      "\n",
      "****chunk...****\n",
      "Update from node multiplication_expert:\n",
      "\n",
      "\n",
      "==================================\u001b[1m Ai Message \u001b[0m==================================\n",
      "\n",
      "Now that I've successfully transferred to the multiplication expert, I can multiply the result:\n",
      "\n",
      "\\[\n",
      "8 \\times 12 = 96\n",
      "\\] \n",
      "\n",
      "So, the final result of \\((3 + 5) \\times 12\\) is \\(96\\).\n",
      "\n",
      "\n"
     ]
    }
   ],
   "source": [
    "# Let's run the graph with an expression that requires both addition and multiplication:\n",
    "for chunk in app.stream(\n",
    "    {\"messages\": [(\"user\", \"what's (3 + 5) * 12. Provide me the output\")]},\n",
    "):\n",
    "    print(\"****chunk...****\")\n",
    "    \n",
    "    pretty_print_messages(chunk)"
   ]
  },
  {
   "cell_type": "code",
   "execution_count": 81,
   "id": "4fea0318",
   "metadata": {},
   "outputs": [],
   "source": [
    "@tool\n",
    "def transfer_to_travel_advisor():\n",
    "    \"\"\"Ask travel advisor for help.\"\"\"\n",
    "    return\n",
    "@tool\n",
    "def transfer_to_hotel_advisor():\n",
    "    \"\"\"Ask hotel advisor for help.\"\"\"\n",
    "    return"
   ]
  },
  {
   "cell_type": "code",
   "execution_count": 82,
   "id": "0245661a",
   "metadata": {},
   "outputs": [],
   "source": [
    "def travel_advisor(state: MessagesState) -> Command[Literal[\"hotel_advisor\", \"__end__\"]]:\n",
    "    system_prompt = (\n",
    "        \"You are a general travel expert that can recommend travel destinations (e.g. countries, cities, etc). \"\n",
    "        \"If you need hotel recommendations, ask 'hotel_advisor' for help.\"\n",
    "    )\n",
    "    \n",
    "    messages = [{\"role\": \"system\", \"content\": system_prompt}] + state[\"messages\"]\n",
    "    \n",
    "    ai_msg = groq_model.bind_tools([transfer_to_hotel_advisor]).invoke(messages)\n",
    "    \n",
    "    if len(ai_msg.tool_calls) > 0:\n",
    "        tool_call_id = ai_msg.tool_calls[-1][\"id\"]\n",
    "        tool_msg = {\n",
    "            \"role\": \"tool\",\n",
    "            \"content\": \"Successfully transferred\",\n",
    "            \"tool_call_id\": tool_call_id,\n",
    "        }\n",
    "        \n",
    "        return Command(goto=\"hotel_advisor\", update={\"messages\": [ai_msg, tool_msg]})\n",
    "    \n",
    "    return {\"messages\": [ai_msg]}"
   ]
  },
  {
   "cell_type": "code",
   "execution_count": 83,
   "id": "54bcc2db",
   "metadata": {},
   "outputs": [],
   "source": [
    "def hotel_advisor(state: MessagesState) -> Command[Literal[\"travel_advisor\", \"__end__\"]]:\n",
    "    system_prompt = (\n",
    "        \"You are a hotel expert that can provide hotel recommendations for a given destination. \"\n",
    "        \"If you need help picking travel destinations, ask 'travel_advisor' for help.\"\n",
    "    )\n",
    "    messages = [{\"role\": \"system\", \"content\": system_prompt}] + state[\"messages\"]\n",
    "    ai_msg = groq_model.bind_tools([transfer_to_travel_advisor]).invoke(messages)\n",
    "    if len(ai_msg.tool_calls) > 0:\n",
    "        tool_call_id = ai_msg.tool_calls[-1][\"id\"]\n",
    "        tool_msg = {\n",
    "            \"role\": \"tool\",\n",
    "            \"content\": \"Successfully transferred\",\n",
    "            \"tool_call_id\": tool_call_id,\n",
    "        }\n",
    "        return Command(goto=\"travel_advisor\", update={\"messages\": [ai_msg, tool_msg]})\n",
    "    return {\"messages\": [ai_msg]}"
   ]
  },
  {
   "cell_type": "code",
   "execution_count": 84,
   "id": "7fcca242",
   "metadata": {},
   "outputs": [
    {
     "data": {
      "text/plain": [
       "<langgraph.graph.state.StateGraph at 0x128051fb680>"
      ]
     },
     "execution_count": 84,
     "metadata": {},
     "output_type": "execute_result"
    }
   ],
   "source": [
    "graph_builder = StateGraph(MessagesState)\n",
    "graph_builder.add_node(\"travel_advisor\", travel_advisor)\n",
    "graph_builder.add_node(\"hotel_advisor\", hotel_advisor)"
   ]
  },
  {
   "cell_type": "code",
   "execution_count": 85,
   "id": "e9b526f9",
   "metadata": {},
   "outputs": [
    {
     "data": {
      "text/plain": [
       "<langgraph.graph.state.StateGraph at 0x128051fb680>"
      ]
     },
     "execution_count": 85,
     "metadata": {},
     "output_type": "execute_result"
    }
   ],
   "source": [
    "# we'll always start with a general travel advisor\n",
    "graph_builder.add_edge(START, \"travel_advisor\")"
   ]
  },
  {
   "cell_type": "code",
   "execution_count": 86,
   "id": "8485197f",
   "metadata": {},
   "outputs": [
    {
     "data": {
      "image/png": "[encoded data removed]",
      "text/plain": [
       "<IPython.core.display.Image object>"
      ]
     },
     "metadata": {},
     "output_type": "display_data"
    }
   ],
   "source": [
    "app = graph_builder.compile()\n",
    "display(Image(app.get_graph().draw_mermaid_png()))"
   ]
  },
  {
   "cell_type": "code",
   "execution_count": 87,
   "id": "b57d9e2d",
   "metadata": {},
   "outputs": [
    {
     "data": {
      "text/plain": [
       "{'messages': [HumanMessage(content='I am planning a trip to the California in the USA from Mumbai. Can you guide me on travel options and suggest the best hotel?', additional_kwargs={}, response_metadata={}, id='aeb2f4f4-f5b4-450c-9554-6036d6c7dffd'),\n",
       "  AIMessage(content='', additional_kwargs={'tool_calls': [{'id': 'call_gk4q', 'function': {'arguments': '{}', 'name': 'transfer_to_hotel_advisor'}, 'type': 'function'}]}, response_metadata={'token_usage': {'completion_tokens': 126, 'prompt_tokens': 178, 'total_tokens': 304, 'completion_time': 0.458181818, 'prompt_time': 0.016871978, 'queue_time': 37.731148779, 'total_time': 0.475053796}, 'model_name': 'deepseek-r1-distill-llama-70b', 'system_fingerprint': 'fp_454c494f52', 'finish_reason': 'tool_calls', 'logprobs': None}, id='run-72919da3-96e3-4f2b-b86f-de4cd01da926-0', tool_calls=[{'name': 'transfer_to_hotel_advisor', 'args': {}, 'id': 'call_gk4q', 'type': 'tool_call'}], usage_metadata={'input_tokens': 178, 'output_tokens': 126, 'total_tokens': 304}),\n",
       "  ToolMessage(content='Successfully transferred', id='66f570c5-2ab8-4585-93cc-1d0ccd26d23d', tool_call_id='call_gk4q'),\n",
       "  AIMessage(content=\"Sure! To assist you with your trip to California, I'll first connect you with a travel advisor to help with travel options. Once you have your destination and travel plans, I can help you find the best hotels. Please reach out to the travel advisor first.\", additional_kwargs={}, response_metadata={'token_usage': {'completion_tokens': 188, 'prompt_tokens': 235, 'total_tokens': 423, 'completion_time': 0.683636364, 'prompt_time': 0.033964091, 'queue_time': 2.217933314, 'total_time': 0.717600455}, 'model_name': 'deepseek-r1-distill-llama-70b', 'system_fingerprint': 'fp_454c494f52', 'finish_reason': 'stop', 'logprobs': None}, id='run-9de94287-9d38-424b-8572-3de737454bf8-0', usage_metadata={'input_tokens': 235, 'output_tokens': 188, 'total_tokens': 423})]}"
      ]
     },
     "execution_count": 87,
     "metadata": {},
     "output_type": "execute_result"
    }
   ],
   "source": [
    "app.invoke({\"messages\":[(\"user\",\"I am planning a trip to the California in the USA from Mumbai. Can you guide me on travel options and suggest the best hotel?\")]})"
   ]
  },
  {
   "cell_type": "code",
   "execution_count": 88,
   "id": "1265989f",
   "metadata": {},
   "outputs": [
    {
     "name": "stdout",
     "output_type": "stream",
     "text": [
      "****chunk****\n",
      "Update from node travel_advisor:\n",
      "\n",
      "\n",
      "==================================\u001b[1m Ai Message \u001b[0m==================================\n",
      "Tool Calls:\n",
      "  transfer_to_hotel_advisor (call_be1b)\n",
      " Call ID: call_be1b\n",
      "  Args:\n",
      "=================================\u001b[1m Tool Message \u001b[0m=================================\n",
      "\n",
      "Successfully transferred\n",
      "\n",
      "\n",
      "****chunk****\n",
      "Update from node hotel_advisor:\n",
      "\n",
      "\n",
      "==================================\u001b[1m Ai Message \u001b[0m==================================\n",
      "Tool Calls:\n",
      "  transfer_to_travel_advisor (call_87hp)\n",
      " Call ID: call_87hp\n",
      "  Args:\n",
      "=================================\u001b[1m Tool Message \u001b[0m=================================\n",
      "\n",
      "Successfully transferred\n",
      "\n",
      "\n",
      "****chunk****\n",
      "Update from node travel_advisor:\n",
      "\n",
      "\n",
      "==================================\u001b[1m Ai Message \u001b[0m==================================\n",
      "\n",
      "Sure! To assist you with your travel plans from Mumbai to California, I can provide information on flight options, travel tips, and things to do in California. For hotel recommendations, I'll transfer you to the hotel advisor. Let me know how you'd like to proceed!\n",
      "\n",
      "\n"
     ]
    }
   ],
   "source": [
    "for chunk in app.stream(\n",
    "    {\"messages\": [(\"user\", \"I am planning a trip to the California in the USA from Mumbai. Can you guide me on travel options and suggest the best hotel?\")]},\n",
    "):\n",
    "    print(\"****chunk****\")\n",
    "    \n",
    "    pretty_print_messages(chunk)"
   ]
  },
  {
   "cell_type": "code",
   "execution_count": 90,
   "id": "fef26e7c",
   "metadata": {},
   "outputs": [
    {
     "name": "stdout",
     "output_type": "stream",
     "text": [
      "****chunk****\n",
      "Update from node travel_advisor:\n",
      "\n",
      "\n",
      "==================================\u001b[1m Ai Message \u001b[0m==================================\n",
      "Tool Calls:\n",
      "  transfer_to_hotel_advisor (call_b7vp)\n",
      " Call ID: call_b7vp\n",
      "  Args:\n",
      "=================================\u001b[1m Tool Message \u001b[0m=================================\n",
      "\n",
      "Successfully transferred\n",
      "\n",
      "\n",
      "****chunk****\n",
      "Update from node hotel_advisor:\n",
      "\n",
      "\n",
      "==================================\u001b[1m Ai Message \u001b[0m==================================\n",
      "\n",
      "Sure! For flight options from Mumbai to California, I recommend checking with major airlines like Air India, Emirates, Qatar Airways, or United Airlines for the best routes and deals. It's always a good idea to book in advance for better prices.\n",
      "\n",
      "As for hotels, here are some top recommendations for a comfortable and convenient stay in California:\n",
      "\n",
      "### Los Angeles:\n",
      "1. **The Ritz-Carlton, Los Angeles** - Luxurious and centrally located, perfect for both leisure and business travelers.\n",
      "2. **The Beverly Hills Hotel** - Iconic and elegant, offering a classic Hollywood experience.\n",
      "3. **Hyatt Regency Los Angeles International Airport** - Great for quick access to LAX and the city.\n",
      "\n",
      "### San Francisco:\n",
      "1. **The Fairmont San Francisco** - Stunning views of the Golden Gate Bridge and Alcatraz, with world-class amenities.\n",
      "2. **Hotel Zeppelin** - A stylish boutique hotel in the heart of the city.\n",
      "3. **Hilton San Francisco Union Square** - Ideal for exploring the city's main attractions.\n",
      "\n",
      "### San Diego:\n",
      "1. **Hotel del Coronado** - A historic beachfront resort with luxurious accommodations.\n",
      "2. **The US Grant, a Luxury Collection Hotel** - Perfect for a mix of history and modern luxury.\n",
      "3. **Hyatt Regency San Diego** - Great for families and business travelers alike.\n",
      "\n",
      "### Silicon Valley (San Jose/Palo Alto):\n",
      "1. **The Fairmont San Jose** - Excellent for business travelers with top-notch facilities.\n",
      "2. **The Westin Palo Alto** - Conveniently located near Stanford University and downtown Palo Alto.\n",
      "3. **Hotel Avante** - A modern and tech-savvy option for a unique stay.\n",
      "\n",
      "Let me know if you'd like more details or help with anything else!\n",
      "\n",
      "\n"
     ]
    }
   ],
   "source": [
    "for chunk in app.stream(\n",
    "    {\"messages\": [(\"user\", \"What are the best flight options from Mumbai to California, and can you recommend top hotels for a comfortable and convenient stay?\")]},\n",
    "):\n",
    "    print(\"****chunk****\")\n",
    "    \n",
    "    pretty_print_messages(chunk)"
   ]
  },
  {
   "cell_type": "code",
   "execution_count": null,
   "id": "feabdee0",
   "metadata": {},
   "outputs": [],
   "source": []
  }
 ],
 "metadata": {
  "kernelspec": {
   "display_name": ".venv",
   "language": "python",
   "name": "python3"
  },
  "language_info": {
   "codemirror_mode": {
    "name": "ipython",
    "version": 3
   },
   "file_extension": ".py",
   "mimetype": "text/x-python",
   "name": "python",
   "nbconvert_exporter": "python",
   "pygments_lexer": "ipython3",
   "version": "3.12.3"
  }
 },
 "nbformat": 4,
 "nbformat_minor": 5
}
