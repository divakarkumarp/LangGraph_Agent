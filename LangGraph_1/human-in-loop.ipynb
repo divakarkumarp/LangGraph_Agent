{
 "cells": [
  {
   "cell_type": "code",
   "execution_count": 1,
   "id": "9bce5717",
   "metadata": {},
   "outputs": [],
   "source": [
    "## For some actions, you may want to require human approval before running to ensure that everything is running as intended.\n",
    "from typing import Annotated\n",
    "import operator,json\n",
    "from typing import TypedDict, Annotated, Sequence\n",
    "from typing_extensions import TypedDict\n",
    "from langchain_core.messages import BaseMessage\n",
    "from langgraph.checkpoint.memory import MemorySaver\n",
    "from langgraph.graph import StateGraph,END,START\n",
    "from langgraph.graph.message import add_messages\n",
    "from langgraph.prebuilt import ToolNode, tools_condition\n",
    "from langchain_core.tools import tool\n",
    "from langchain_community.tools.tavily_search import TavilySearchResults"
   ]
  },
  {
   "cell_type": "code",
   "execution_count": 2,
   "id": "6e40d30e",
   "metadata": {},
   "outputs": [],
   "source": [
    "from langchain_groq import ChatGroq\n",
    "llm=ChatGroq(model_name=\"Gemma2-9b-It\")"
   ]
  },
  {
   "cell_type": "code",
   "execution_count": 3,
   "id": "1d250d44",
   "metadata": {},
   "outputs": [
    {
     "data": {
      "text/plain": [
       "AIMessage(content='Hello! 👋\\n\\nHow can I help you today? 😊\\n', additional_kwargs={}, response_metadata={'token_usage': {'completion_tokens': 15, 'prompt_tokens': 11, 'total_tokens': 26, 'completion_time': 0.027272727, 'prompt_time': 0.001905878, 'queue_time': 0.23027233, 'total_time': 0.029178605}, 'model_name': 'Gemma2-9b-It', 'system_fingerprint': 'fp_10c08bf97d', 'finish_reason': 'stop', 'logprobs': None}, id='run-ec243171-0241-4146-87e7-22097cb367c5-0', usage_metadata={'input_tokens': 11, 'output_tokens': 15, 'total_tokens': 26})"
      ]
     },
     "execution_count": 3,
     "metadata": {},
     "output_type": "execute_result"
    }
   ],
   "source": [
    "llm.invoke(\"hello\")"
   ]
  },
  {
   "cell_type": "code",
   "execution_count": 4,
   "id": "f2f5b0ac",
   "metadata": {},
   "outputs": [
    {
     "data": {
      "text/plain": [
       "'Hi! 👋  How can I help you today?\\n'"
      ]
     },
     "execution_count": 4,
     "metadata": {},
     "output_type": "execute_result"
    }
   ],
   "source": [
    "llm.invoke(\"hi\").content"
   ]
  },
  {
   "cell_type": "code",
   "execution_count": 5,
   "id": "c43fbcb0",
   "metadata": {},
   "outputs": [],
   "source": [
    "@tool\n",
    "def multiply(first_number:int, second_number:int)->int:\n",
    "    \"\"\"multiply two integer number\"\"\"\n",
    "    return first_number * second_number"
   ]
  },
  {
   "cell_type": "code",
   "execution_count": 6,
   "id": "0de47d02",
   "metadata": {},
   "outputs": [
    {
     "name": "stderr",
     "output_type": "stream",
     "text": [
      "C:\\Users\\divak\\AppData\\Local\\Programs\\Python\\Python311\\ipykernel_6660\\2089873997.py:1: LangChainDeprecationWarning: The method `BaseTool.__call__` was deprecated in langchain-core 0.1.47 and will be removed in 1.0. Use :meth:`~invoke` instead.\n",
      "  multiply({\"first_number\":24,\"second_number\":364})\n"
     ]
    },
    {
     "data": {
      "text/plain": [
       "8736"
      ]
     },
     "execution_count": 6,
     "metadata": {},
     "output_type": "execute_result"
    }
   ],
   "source": [
    "multiply({\"first_number\":24,\"second_number\":364})"
   ]
  },
  {
   "cell_type": "code",
   "execution_count": 7,
   "id": "4cb52d75",
   "metadata": {},
   "outputs": [
    {
     "data": {
      "text/plain": [
       "8736"
      ]
     },
     "execution_count": 7,
     "metadata": {},
     "output_type": "execute_result"
    }
   ],
   "source": [
    "multiply.invoke({\"first_number\":24,\"second_number\":364})"
   ]
  },
  {
   "cell_type": "code",
   "execution_count": 8,
   "id": "7f4a9386",
   "metadata": {},
   "outputs": [],
   "source": [
    "@tool\n",
    "def search(query:str):\n",
    "    \"\"\"perform the web search on the user query\"\"\"\n",
    "    tavily=TavilySearchResults()\n",
    "    result=tavily.invoke(query)\n",
    "    return result"
   ]
  },
  {
   "cell_type": "code",
   "execution_count": 9,
   "id": "4005f90b",
   "metadata": {},
   "outputs": [
    {
     "data": {
      "text/plain": [
       "[{'url': 'https://en.wikipedia.org/wiki/Tariffs_in_the_second_Trump_administration',\n",
       "  'content': 'On April 2—a day he called \"Liberation Day\"—Trump signed an executive order imposing a minimum 10% tariff on all U.S. imports effective April 5. Higher tariffs on imports from 57 countries, ranging from 11% to 50%, were scheduled to take effect on April 9 but were almost immediately suspended for 90 days for all countries except China. The 10% tariff remains in effect.[6] [...] |\\nTariffs implemented during the second presidency of Donald Trump have marked a sharp escalation in protectionist trade policies in the United States, with President Donald Trump announcing a series of steep tariffs on nearly all goods imported to the US. From January to April 2025, the US trade-weighted average tariff rose from 2% to an estimated 24%, the highest level in over a century.[2] [...] On April 2, 2025, Trump imposed 20% tariffs on all goods coming from the European Union as part of his \"reciprocal tariff\" policy.'},\n",
       " {'url': 'https://taxfoundation.org/research/all/federal/trump-tariffs-trade-war/',\n",
       "  'content': 'In March 2018, President Trump announced the administration would impose a 25 percent tariff on imported steel and a 10 percent tariff on imported aluminum. The value of imported steel totaled $29.4 billion, and the value of imported aluminum totaled $17.6 billion in 2018. Based on 2018 levels, the steel tariffs would have amounted to $9 billion and the aluminum tariffs to $1.8 billion. Several countries, however, have been excluded from the tariffs. [...] On April 2, the president announced a universal tariff of 10 percent, with higher tariffs on trading partners, as high as 50 percent, depending on their trade balance with the United States. [...] In August 2019, the Trump administration announced plans to impose a 10 percent tariff on approximately $300 billion worth of additional Chinese goods beginning on September 1, 2019, but soon followed with an announcement of schedule changes and certain exemptions.\\nIn August 2019, the Trump administration decided that 4a tariffs would be 15 percent rather than the previously announced 10 percent, a $5.6 billion tax increase.'},\n",
       " {'url': 'https://www.bbc.com/news/articles/cn93e12rypgo',\n",
       "  'content': \"Trump has also introduced a 10% tax on goods from the vast majority of other countries, while pausing much higher rates for dozens of nations for 90 days.\\nHe argues that tariffs will boost US manufacturing and protect jobs, but the world economy has been thrown into chaos and prices are expected to rise.\\nAdvertisement\\nWhat are tariffs and how do they work?\\nTariffs are taxes charged on goods bought from other countries.\\nTypically, they are a percentage of a product's value.\"},\n",
       " {'url': 'https://apnews.com/article/trump-tariffs-liberation-day-2a031b3c16120a5672a6ddd01da09933',\n",
       "  'content': 'Read More\\nRead More\\n3 of 15\\nPresident Donald Trump is set to sign a barrage of self-described “reciprocal” tariffs on friend and foe alike. The new tariffs — coming on what Trump has called “Liberation Day” — is a bid to boost U.S. manufacturing and punish other countries.\\nShare\\nShare\\n\\nFacebook\\n\\nCopy\\nLink copied\\n\\n\\nPrint\\n\\nEmail\\nX\\nLinkedIn\\nBluesky\\nFlipboard\\nPinterest\\nReddit [...] 3 of 15\\xa0|\\xa0President Donald Trump is set to sign a barrage of self-described “reciprocal” tariffs on friend and foe alike. The new tariffs — coming on what Trump has called “Liberation Day” — is a bid to boost U.S. manufacturing and punish other countries.\\nRead More'}]"
      ]
     },
     "execution_count": 9,
     "metadata": {},
     "output_type": "execute_result"
    }
   ],
   "source": [
    "search(\"What is Trump Tarrif?\")"
   ]
  },
  {
   "cell_type": "code",
   "execution_count": 10,
   "id": "4730c606",
   "metadata": {},
   "outputs": [
    {
     "data": {
      "text/plain": [
       "[{'url': 'https://en.wikipedia.org/wiki/Tariffs_in_the_second_Trump_administration',\n",
       "  'content': 'On April 2—a day he called \"Liberation Day\"—Trump signed an executive order imposing a minimum 10% tariff on all U.S. imports effective April 5. Higher tariffs on imports from 57 countries, ranging from 11% to 50%, were scheduled to take effect on April 9 but were almost immediately suspended for 90 days for all countries except China. The 10% tariff remains in effect.[6] [...] |\\nTariffs implemented during the second presidency of Donald Trump have marked a sharp escalation in protectionist trade policies in the United States, with President Donald Trump announcing a series of steep tariffs on nearly all goods imported to the US. From January to April 2025, the US trade-weighted average tariff rose from 2% to an estimated 24%, the highest level in over a century.[2] [...] On April 2, 2025, Trump imposed 20% tariffs on all goods coming from the European Union as part of his \"reciprocal tariff\" policy.'},\n",
       " {'url': 'https://taxfoundation.org/research/all/federal/trump-tariffs-trade-war/',\n",
       "  'content': 'In March 2018, President Trump announced the administration would impose a 25 percent tariff on imported steel and a 10 percent tariff on imported aluminum. The value of imported steel totaled $29.4 billion, and the value of imported aluminum totaled $17.6 billion in 2018. Based on 2018 levels, the steel tariffs would have amounted to $9 billion and the aluminum tariffs to $1.8 billion. Several countries, however, have been excluded from the tariffs. [...] On April 2, the president announced a universal tariff of 10 percent, with higher tariffs on trading partners, as high as 50 percent, depending on their trade balance with the United States. [...] In August 2019, the Trump administration announced plans to impose a 10 percent tariff on approximately $300 billion worth of additional Chinese goods beginning on September 1, 2019, but soon followed with an announcement of schedule changes and certain exemptions.\\nIn August 2019, the Trump administration decided that 4a tariffs would be 15 percent rather than the previously announced 10 percent, a $5.6 billion tax increase.'},\n",
       " {'url': 'https://www.bbc.com/news/articles/cn93e12rypgo',\n",
       "  'content': \"Trump has also introduced a 10% tax on goods from the vast majority of other countries, while pausing much higher rates for dozens of nations for 90 days.\\nHe argues that tariffs will boost US manufacturing and protect jobs, but the world economy has been thrown into chaos and prices are expected to rise.\\nAdvertisement\\nWhat are tariffs and how do they work?\\nTariffs are taxes charged on goods bought from other countries.\\nTypically, they are a percentage of a product's value.\"},\n",
       " {'url': 'https://apnews.com/article/trump-tariffs-liberation-day-2a031b3c16120a5672a6ddd01da09933',\n",
       "  'content': 'Read More\\nRead More\\n3 of 15\\nPresident Donald Trump is set to sign a barrage of self-described “reciprocal” tariffs on friend and foe alike. The new tariffs — coming on what Trump has called “Liberation Day” — is a bid to boost U.S. manufacturing and punish other countries.\\nShare\\nShare\\n\\nFacebook\\n\\nCopy\\nLink copied\\n\\n\\nPrint\\n\\nEmail\\nX\\nLinkedIn\\nBluesky\\nFlipboard\\nPinterest\\nReddit [...] 3 of 15\\xa0|\\xa0President Donald Trump is set to sign a barrage of self-described “reciprocal” tariffs on friend and foe alike. The new tariffs — coming on what Trump has called “Liberation Day” — is a bid to boost U.S. manufacturing and punish other countries.\\nRead More'}]"
      ]
     },
     "execution_count": 10,
     "metadata": {},
     "output_type": "execute_result"
    }
   ],
   "source": [
    "search.invoke(\"What is Trump Tarrif?\")"
   ]
  },
  {
   "cell_type": "code",
   "execution_count": 11,
   "id": "99b17011",
   "metadata": {},
   "outputs": [],
   "source": [
    "tools=[search,multiply]"
   ]
  },
  {
   "cell_type": "code",
   "execution_count": 12,
   "id": "02e46e7a",
   "metadata": {},
   "outputs": [],
   "source": [
    "model_with_tools = llm.bind_tools(tools)"
   ]
  },
  {
   "cell_type": "code",
   "execution_count": 13,
   "id": "6f6c356a",
   "metadata": {},
   "outputs": [],
   "source": [
    "tool_mapping={tool.name: tool for tool in tools}"
   ]
  },
  {
   "cell_type": "code",
   "execution_count": 14,
   "id": "168c161f",
   "metadata": {},
   "outputs": [
    {
     "data": {
      "text/plain": [
       "{'search': StructuredTool(name='search', description='perform the web search on the user query', args_schema=<class 'langchain_core.utils.pydantic.search'>, func=<function search at 0x000001C28A6C0D60>),\n",
       " 'multiply': StructuredTool(name='multiply', description='multiply two integer number', args_schema=<class 'langchain_core.utils.pydantic.multiply'>, func=<function multiply at 0x000001C28A6C0AE0>)}"
      ]
     },
     "execution_count": 14,
     "metadata": {},
     "output_type": "execute_result"
    }
   ],
   "source": [
    "tool_mapping"
   ]
  },
  {
   "cell_type": "code",
   "execution_count": 15,
   "id": "80c5a68a",
   "metadata": {},
   "outputs": [],
   "source": [
    "response = model_with_tools.invoke(\"What is Trump Tarrif?\")"
   ]
  },
  {
   "cell_type": "code",
   "execution_count": 16,
   "id": "033a68d1",
   "metadata": {},
   "outputs": [
    {
     "data": {
      "text/plain": [
       "AIMessage(content='', additional_kwargs={'tool_calls': [{'id': 'call_ph3v', 'function': {'arguments': '{\"query\":\"Trump Tarrif\"}', 'name': 'search'}, 'type': 'function'}]}, response_metadata={'token_usage': {'completion_tokens': 82, 'prompt_tokens': 1074, 'total_tokens': 1156, 'completion_time': 0.149090909, 'prompt_time': 0.044867461, 'queue_time': 0.24052209400000002, 'total_time': 0.19395837}, 'model_name': 'Gemma2-9b-It', 'system_fingerprint': 'fp_10c08bf97d', 'finish_reason': 'tool_calls', 'logprobs': None}, id='run-1092e2c8-a6a7-44df-b9ef-8d7204a5bea0-0', tool_calls=[{'name': 'search', 'args': {'query': 'Trump Tarrif'}, 'id': 'call_ph3v', 'type': 'tool_call'}], usage_metadata={'input_tokens': 1074, 'output_tokens': 82, 'total_tokens': 1156})"
      ]
     },
     "execution_count": 16,
     "metadata": {},
     "output_type": "execute_result"
    }
   ],
   "source": [
    "response"
   ]
  },
  {
   "cell_type": "code",
   "execution_count": 17,
   "id": "ddf123ff",
   "metadata": {},
   "outputs": [],
   "source": [
    "tool_details=response.additional_kwargs.get(\"tool_calls\")"
   ]
  },
  {
   "cell_type": "code",
   "execution_count": 18,
   "metadata": {},
   "outputs": [
    {
     "data": {
      "text/plain": [
       "[{'id': 'call_ph3v',\n",
       "  'function': {'arguments': '{\"query\":\"Trump Tarrif\"}', 'name': 'search'},\n",
       "  'type': 'function'}]"
      ]
     },
     "execution_count": 18,
     "metadata": {},
     "output_type": "execute_result"
    }
   ],
   "source": [
    "tool_details"
   ]
  },
  {
   "cell_type": "code",
   "execution_count": 19,
   "id": "e422082d",
   "metadata": {},
   "outputs": [
    {
     "data": {
      "text/plain": [
       "'search'"
      ]
     },
     "execution_count": 19,
     "metadata": {},
     "output_type": "execute_result"
    }
   ],
   "source": [
    "tool_details[0][\"function\"][\"name\"]"
   ]
  },
  {
   "cell_type": "code",
   "execution_count": 20,
   "id": "b5f84e70",
   "metadata": {},
   "outputs": [
    {
     "data": {
      "text/plain": [
       "'{\"query\":\"Trump Tarrif\"}'"
      ]
     },
     "execution_count": 20,
     "metadata": {},
     "output_type": "execute_result"
    }
   ],
   "source": [
    "tool_details[0][\"function\"][\"arguments\"]"
   ]
  },
  {
   "cell_type": "code",
   "execution_count": 21,
   "id": "c447e9cb",
   "metadata": {},
   "outputs": [
    {
     "data": {
      "text/plain": [
       "{'query': 'Trump Tarrif'}"
      ]
     },
     "execution_count": 21,
     "metadata": {},
     "output_type": "execute_result"
    }
   ],
   "source": [
    "json.loads(tool_details[0][\"function\"][\"arguments\"])"
   ]
  },
  {
   "cell_type": "code",
   "execution_count": 22,
   "id": "ec8cea93",
   "metadata": {},
   "outputs": [
    {
     "data": {
      "text/plain": [
       "[{'url': 'https://en.wikipedia.org/wiki/Tariffs_in_the_second_Trump_administration',\n",
       "  'content': '|\\nTariffs implemented during the second presidency of Donald Trump have marked a sharp escalation in protectionist trade policies in the United States, with President Donald Trump announcing a series of steep tariffs on nearly all goods imported to the US. From January to April 2025, the US trade-weighted average tariff rose from 2% to an estimated 24%, the highest level in over a century.[2] [...] On April 2—a day he called \"Liberation Day\"—Trump signed an executive order imposing a minimum 10% tariff on all U.S. imports effective April 5. Higher tariffs on imports from 57 countries, ranging from 11% to 50%, were scheduled to take effect on April 9 but were almost immediately suspended for 90 days for all countries except China. The 10% tariff remains in effect.[6] [...] On April 2, 2025, Trump imposed 20% tariffs on all goods coming from the European Union as part of his \"reciprocal tariff\" policy.'},\n",
       " {'url': 'https://www.tradecomplianceresourcehub.com/2025/04/16/trump-2-0-tariff-tracker/',\n",
       "  'content': 'Mar. 24, 2025: President Trump signed an executive order granting the Secretary of State discretion to impose a 25% tariff on imports of goods'}]"
      ]
     },
     "execution_count": 22,
     "metadata": {},
     "output_type": "execute_result"
    }
   ],
   "source": [
    "tool_mapping[tool_details[0][\"function\"][\"name\"]].invoke(json.loads(tool_details[0][\"function\"][\"arguments\"]))"
   ]
  },
  {
   "cell_type": "code",
   "execution_count": 23,
   "id": "87e2693d",
   "metadata": {},
   "outputs": [],
   "source": [
    "class AgentState(TypedDict):\n",
    "    messages: Annotated[Sequence[BaseMessage], operator.add]"
   ]
  },
  {
   "cell_type": "code",
   "execution_count": 24,
   "id": "b0878299",
   "metadata": {},
   "outputs": [],
   "source": [
    "def invoke_model(state:AgentState):\n",
    "    messages = state['messages']\n",
    "    question = messages[-1]   ## Fetching the user question\n",
    "    return {\"messages\":[model_with_tools.invoke(question)]}"
   ]
  },
  {
   "cell_type": "code",
   "execution_count": 25,
   "id": "e7cd4d97",
   "metadata": {},
   "outputs": [],
   "source": [
    "def invoke_tool(state:AgentState):\n",
    "    tool_details= state['messages'][-1].additional_kwargs.get(\"tool_calls\", [])[0]\n",
    "    \n",
    "    if tool_details is None:\n",
    "        raise Exception(\"no tool call found\")\n",
    "    \n",
    "    print(f'Selected tool: {tool_details.get(\"function\").get(\"name\")}')\n",
    "    \n",
    "    if tool_details.get(\"function\").get(\"name\")==\"search\":\n",
    "        response = input(prompt=f\"[y/n] continue with expensive web search?\")\n",
    "        if response == \"n\":\n",
    "            raise Exception(\"web search discard\")\n",
    "        \n",
    "    response = tool_mapping[tool_details['function']['name']].invoke(json.loads(tool_details.get(\"function\").get(\"arguments\")))\n",
    "    return {\"messages\" : [response]}"
   ]
  },
  {
   "cell_type": "code",
   "execution_count": 26,
   "id": "1a1c79a2",
   "metadata": {},
   "outputs": [],
   "source": [
    "def router(state):\n",
    "    tool_calls = state['messages'][-1].additional_kwargs.get(\"tool_calls\", [])\n",
    "    if len(tool_calls):\n",
    "        return \"tool\"\n",
    "    else:\n",
    "        return \"end\""
   ]
  },
  {
   "cell_type": "code",
   "execution_count": 27,
   "id": "cfd31724",
   "metadata": {},
   "outputs": [
    {
     "data": {
      "text/plain": [
       "<langgraph.graph.state.StateGraph at 0x1c28a6bc350>"
      ]
     },
     "execution_count": 27,
     "metadata": {},
     "output_type": "execute_result"
    }
   ],
   "source": [
    "graph = StateGraph(AgentState) ### StateGraph with AgentState\n",
    "\n",
    "graph.add_node(\"ai_assistant\", invoke_model)\n",
    "\n",
    "graph.add_node(\"tool\", invoke_tool)"
   ]
  },
  {
   "cell_type": "code",
   "execution_count": 28,
   "id": "a9ef7fa9",
   "metadata": {},
   "outputs": [
    {
     "data": {
      "text/plain": [
       "<langgraph.graph.state.StateGraph at 0x1c28a6bc350>"
      ]
     },
     "execution_count": 28,
     "metadata": {},
     "output_type": "execute_result"
    }
   ],
   "source": [
    "graph.add_conditional_edges(\"ai_assistant\", router, {\"tool\": \"tool\",\"end\": END,})\n",
    "\n",
    "graph.add_edge(\"tool\", END)\n",
    "\n",
    "#graph.add_edge(\"tool\", \"ai_assistant\")\n",
    "\n",
    "graph.set_entry_point(\"ai_assistant\")"
   ]
  },
  {
   "cell_type": "code",
   "execution_count": 29,
   "id": "436b9c7d",
   "metadata": {},
   "outputs": [],
   "source": [
    "app = graph.compile()"
   ]
  },
  {
   "cell_type": "code",
   "execution_count": 30,
   "id": "64a0db01",
   "metadata": {},
   "outputs": [
    {
     "data": {
      "image/png": "[encoded data removed]",
      "text/plain": [
       "<IPython.core.display.Image object>"
      ]
     },
     "metadata": {},
     "output_type": "display_data"
    }
   ],
   "source": [
    "from IPython.display import Image, display\n",
    "display(Image(app.get_graph().draw_mermaid_png()))"
   ]
  },
  {
   "cell_type": "code",
   "execution_count": 31,
   "id": "72e7e00a",
   "metadata": {},
   "outputs": [
    {
     "name": "stdout",
     "output_type": "stream",
     "text": [
      "{'messages': [AIMessage(content='', additional_kwargs={'tool_calls': [{'id': 'call_ve1d', 'function': {'arguments': '{\"query\":\"Trump Tariff imposition on countries\"}', 'name': 'search'}, 'type': 'function'}]}, response_metadata={'token_usage': {'completion_tokens': 84, 'prompt_tokens': 1074, 'total_tokens': 1158, 'completion_time': 0.152727273, 'prompt_time': 0.037802899, 'queue_time': 0.235088476, 'total_time': 0.190530172}, 'model_name': 'Gemma2-9b-It', 'system_fingerprint': 'fp_10c08bf97d', 'finish_reason': 'tool_calls', 'logprobs': None}, id='run-ec044012-1d97-4bde-93b4-ea4c60406e40-0', tool_calls=[{'name': 'search', 'args': {'query': 'Trump Tariff imposition on countries'}, 'id': 'call_ve1d', 'type': 'tool_call'}], usage_metadata={'input_tokens': 1074, 'output_tokens': 84, 'total_tokens': 1158})]}\n",
      "----\n",
      "Selected tool: search\n",
      "{'messages': [[{'url': 'https://taxfoundation.org/research/all/federal/trump-tariffs-trade-war/', 'content': 'President Trump has threatened to impose International Emergency Economic Powers Act (IEEPA) tariffs on Canada, Mexico, and China related to fentanyl; national security tariffs on autos, auto parts, steel, and aluminum from all countries; and IEEPA tariffs on all countries related to an economic national emergency. [...] IEEPA Border Security and Fentanyl Tariffs: President Trump signed three executive orders on February 1, 2025, to impose 25 percent tariffs on Canada and Mexico and 10 percent tariffs on China using International Emergency Economic Powers Act (IEEPA) authority, to go into effect on February 4. [...] Venezuelan Oil Tariffs: President Trump signed an executive order on March 24, 2025, to impose an additional 25 percent tariff on Venezuela and any countries that purchase oil and gas from Venezuela, which could become effective April 2.'}, {'url': 'https://www.theguardian.com/us-news/2025/apr/03/donald-trump-global-trade-tariff-rates-by-country-breakdown-asia', 'content': 'The 10% universal tariff will go into effect on 5 April while the “reciprocal tariffs” on specific countries will begin on 9 April.\\n\\nTrump has imposed a 20% tariff on goods from the European Union. Mexico and Canada escaped Wednesday’s whirlwind but will still be subject to 25% tariffs imposed earlier this year. [...] Trump’s new policies set a baseline tariff of 10% on all goods coming into the US, taking the a maximum rate to more than 50% on imports from some countries. It marks the biggest upheaval of global trade norms since the second world war. The US president said that these levies were aimed at targeting decades of unfair trade practices which had disadvantaged the US. [...] UK\\n\\nDonald Trump has hit the UK with tariffs of 10%. Downing Street, which had been expecting a 20% rate to be imposed, expressed relief to have escaped the higher rate. Keir Starmer’s more conciliatory approach to the Trump administration appeared to have paid off.\\n\\nHowever, the UK’s growth forecasts are likely to be downgraded as a result, and the tariffs could cost thousands of jobs and force the government to implement further spending cuts or tax rises in autumn.\\n\\nSouth Korea'}, {'url': 'https://en.wikipedia.org/wiki/Tariffs_in_the_second_Trump_administration', 'content': 'On April 2—a day he called \"Liberation Day\"—Trump signed an executive order imposing a minimum 10% tariff on all U.S. imports effective April 5. Higher tariffs on imports from 57 countries, ranging from 11% to 50%, were scheduled to take effect on April 9 but were almost immediately suspended for 90 days for all countries except China. The 10% tariff remains in effect.[6] [...] ^ Lynch, David (February 1, 2025). \"Trump signs order imposing tariffs on Canada, Mexico and China\". The Washington Post. Archived from the original on February 2, 2025. Retrieved February 1, 2025.\\n^ a b \"Trump\\'s Tariffs and What\\'s at Stake, in Nine Charts\". cfr.org. February 5, 2025. Retrieved February 13, 2025.\\n^ Benner, Victoria (April 13, 2022). \"Mapping the Canada-U.S. Energy Relationship\". Connect2Canada. Retrieved February 13, 2025. [...] \"Fact Sheet: President Donald J. Trump imposes tariffs on imports from Canada, Mexico and China\". The White House. February 1, 2025.\\n\"Executive Order: Imposing duties to address the flow of illicit drugs across our northern border\". The White House. February 1, 2025.\\n\"Reciprocal Tariff Calculations\". Office of the United States Trade Representative. April 2025. Retrieved April 3, 2025.\\n\\n| \\n*   v\\n*   t\\n*   e\\nAnti-Chinese sentiment (Sinophobia)\\n|\\n| --- |\\n| Background |'}, {'url': 'https://www.pbs.org/newshour/economy/a-timeline-of-trumps-tariff-actions-so-far', 'content': 'Trump signs an executive order to impose tariffs on imports from Mexico, Canada and China — 10 percent on all imports from China and 25 percent on imports from Mexico and Canada starting Feb. 4. Trump invoked this power by declaring a national emergency — ostensibly over undocumented immigration and drug trafficking.\\nThe action prompts swift outrage from all three countries, with promises of retaliatory measures.\\nFebruary 3 [...] Among those steeper levies, Trump says the U.S. will now charge a 34 percent tax on imports from China, a 20 percent tax on imports from the European Union, 25 percent on South Korea, 24 percent on Japan and 32 percent on Taiwan. The new tariffs come on top of previously-imposed levies, including the 20 percent tax Trump announced on all Chinese imports earlier this year. [...] Trump says he will place a 25 percent tariff on all imports from any country that buys oil or gas from Venezuela, in addition to imposing new tariffs on the South American country itself, starting April 2.\\nThe tariffs would most likely add to the taxes facing China, which in 2023 bought 68 percent of the oil exported by Venezuela, per the U.S. Energy Information Administration. But a number of countries also receive oil from Venezuela — including the United States itself.\\nMarch 26'}, {'url': 'https://www.whitehouse.gov/fact-sheets/2025/02/fact-sheet-president-donald-j-trump-imposes-tariffs-on-imports-from-canada-mexico-and-china/', 'content': 'Until the crisis is alleviated, President Donald J. Trump is implementing a 25% additional tariff on imports from Canada and Mexico and a 10% additional tariff on imports from China. \\xa0Energy resources from Canada will have a lower 10% tariff.\\nPresident Trump is taking bold action to hold Mexico, Canada, and China accountable to their promises of halting illegal immigration and stopping poisonous fentanyl and other drugs from flowing into our country. [...] Published Time: 2025-02-02T01:03:58+00:00\\nFact Sheet: President Donald J. Trump Imposes Tariffs on Imports from Canada, Mexico and China – The White House\\nSkip to content\\nMenu\\nPresident Donald J. Trump\\nThe White House\\nSearch\\n\\n\\nNews\\nBack\\nArticles\\nBriefings & Statements\\nFact Sheets\\nPresidential Actions\\nBack\\nExecutive Orders\\nNominations & Appointments\\nPresidential Memoranda\\nProclamations\\n\\n\\nRemarks\\n\\n\\nAdministration\\nBack\\nDonald J. Trump\\nJD Vance\\nMelania Trump\\nUsha Vance\\nThe Cabinet [...] Search for:  Press Enter to Search\\nFact Sheets\\nFact Sheet: President Donald J. Trump Imposes Tariffs on Imports from Canada, Mexico and China\\nThe White House\\nFebruary 1, 2025\\nADDRESSING AN EMERGENCY SITUATION: The extraordinary threat posed by illegal aliens and drugs, including deadly fentanyl, constitutes a national emergency under the International Emergency Economic Powers Act (IEEPA).'}]]}\n",
      "----\n"
     ]
    }
   ],
   "source": [
    "for s in app.stream({\"messages\": [\"Trump Tarif imposition on countries?\"]}):\n",
    "    print(list(s.values())[0])\n",
    "    print(\"----\")"
   ]
  },
  {
   "cell_type": "code",
   "execution_count": 32,
   "id": "deb65472",
   "metadata": {},
   "outputs": [
    {
     "name": "stdout",
     "output_type": "stream",
     "text": [
      "{'messages': [AIMessage(content='', additional_kwargs={'tool_calls': [{'id': 'call_g4tn', 'function': {'arguments': '{\"first_number\":23,\"second_number\":46}', 'name': 'multiply'}, 'type': 'function'}]}, response_metadata={'token_usage': {'completion_tokens': 92, 'prompt_tokens': 1080, 'total_tokens': 1172, 'completion_time': 0.167272727, 'prompt_time': 0.046707628, 'queue_time': 0.23775940099999998, 'total_time': 0.213980355}, 'model_name': 'Gemma2-9b-It', 'system_fingerprint': 'fp_10c08bf97d', 'finish_reason': 'tool_calls', 'logprobs': None}, id='run-320ca2ec-2c66-4f01-8533-46220f24471a-0', tool_calls=[{'name': 'multiply', 'args': {'first_number': 23, 'second_number': 46}, 'id': 'call_g4tn', 'type': 'tool_call'}], usage_metadata={'input_tokens': 1080, 'output_tokens': 92, 'total_tokens': 1172})]}\n",
      "----\n",
      "Selected tool: multiply\n",
      "{'messages': [1058]}\n",
      "----\n"
     ]
    }
   ],
   "source": [
    "for s in app.stream({\"messages\": [\"what is multiplication of 23 and 46?\"]}):\n",
    "    print(list(s.values())[0])\n",
    "    print(\"----\")"
   ]
  },
  {
   "cell_type": "code",
   "execution_count": 33,
   "id": "f6658a0e",
   "metadata": {},
   "outputs": [
    {
     "name": "stdout",
     "output_type": "stream",
     "text": [
      "{'messages': [AIMessage(content='', additional_kwargs={'tool_calls': [{'id': 'call_7a75', 'function': {'arguments': '{\"query\":\"How many life lodd in Myanmar Earth quakes 2025\"}', 'name': 'search'}, 'type': 'function'}]}, response_metadata={'token_usage': {'completion_tokens': 94, 'prompt_tokens': 1086, 'total_tokens': 1180, 'completion_time': 0.170909091, 'prompt_time': 0.037954998, 'queue_time': 0.235767731, 'total_time': 0.208864089}, 'model_name': 'Gemma2-9b-It', 'system_fingerprint': 'fp_10c08bf97d', 'finish_reason': 'tool_calls', 'logprobs': None}, id='run-d06f9837-22f2-4404-9b05-4fab5abdc154-0', tool_calls=[{'name': 'search', 'args': {'query': 'How many life lodd in Myanmar Earth quakes 2025'}, 'id': 'call_7a75', 'type': 'tool_call'}], usage_metadata={'input_tokens': 1086, 'output_tokens': 94, 'total_tokens': 1180})]}\n",
      "----\n",
      "Selected tool: search\n",
      "{'messages': [[{'url': 'https://www.britannica.com/event/Myanmar-earthquake-of-2025', 'content': 'Myanmar earthquake of 2025,  powerful magnitude-7.7 earthquake that struck Myanmar\\xa0(Burma) on March 28, 2025. The main temblor, which occurred at 12:50 pm local time, was centered near Mandalay, the country’s second largest city; it was followed by a strong magnitude-6.7 aftershock close by only 12 minutes later. The earthquake caused more than 3,600 deaths and thousands of injuries. Most of the devastation and loss of life occurred within a 15-km (9.3-mile) zone centered along a 460-km- [...] One week after the event, the United Nations estimated that some 17 million people were affected by the earthquake. Myanmar’s military government reported that more than 3,600 people had died in collapsed buildings or other effects directly related to the earthquake, with an additional 5,000 people listed as injured. In neighboring Thailand, the number of deaths from the tower collapse was tallied at 22.\\n\\nRelief and recovery [...] Myanmar’s military government reported that more than 3,600 people had died in collapsed buildings or other effects directly related to the earthquake, with an additional 5,000 people listed as injured. In neighboring Thailand, the number of deaths from a tower collapse was tallied at 22.\\n\\nWhat caused the Myanmar earthquake of 2025?'}, {'url': 'https://www.cnn.com/world/live-news/myanmar-thailand-earthquake-03-29-25-intl-hnk/index.html', 'content': 'The conflict, coupled with communication blackouts, has been a hindrance for the outside world to understand the true impact the earthquake has unleashed so far.\\n\\nAt least 1,000 have died in Myanmar, according to local authorities. The US Geological Survey estimates that the death toll could top 10,000 according to its early modeling projections.\\n\\nSigns of life from 15 people detected under rubble of collapsed Bangkok building [...] The earthquake is the most powerful to strike Myanmar in over a century, \\ufeffaccording to the United States Geological Survey (USGS).\\n\\nAid groups are on the ground to help those affected. You can assist them by clicking HERE.\\n\\nDeath toll rises to more than 1,600 from Myanmar quake, authorities say\\n\\nMore than 1,600 people are confirmed dead from the devastating quake in Myanmar, the ruling military authorities said on state television.\\n\\nThe toll has leapt from the previous figure of 1,002. [...] Authorities earlier said more than 100 people are believed to be trapped under the rubble of the collapsed building.\\n\\nDeath toll from Myanmar quake rises to at least 1,002, with 2,376 injured, state media says\\n\\nThe death toll from Friday’s 7.7-magnitude earthquake in Myanmar has risen to at least 1,002 people, state broadcaster MRTV reported Saturday.\\n\\nThe figures were for “all the earthquake-affected areas nationwide,” the broadcaster said.'}, {'url': 'https://reliefweb.int/report/myanmar/myanmar-earthquake-flash-update-2-31-march-2025Myanmar', 'content': 'Three days after the catastrophic earthquakes struck Myanmar, search and rescue operations remain in full swing as responders work tirelessly to save those trapped under collapsed buildings. While additional survivors have been rescued from the rubble, the death toll continues to rise. Latest field reports indicate that upwards of 1,700 people have died, over 3,400 are injured and more than 300 people remain unaccounted for nationwide. However, the actual numbers may be higher due to'}, {'url': 'https://en.wikipedia.org/wiki/2025_Myanmar_earthquake', 'content': \"Shwebo recorded four fatalities.[40] [...] The number of casualties in Myanmar varies across different sources. Mizzima News reported 5,352 fatalities, 7,108 injuries and 538 missing persons.[3] According to data compiled by the Democratic Voice of Burma, 4,410 people died and 11,366 more were injured.[40] The junta's State Administration Council said more than 3,640 died, 148 were missing and 5,017 others were injured.[41] Deaths occurred in the administrative areas of Mandalay, Naypyidaw, Sagaing, Shan, Bago, Magway and Kayin.[40][42] [...] More than 160 people were killed in Shan, including 135 in Nyaungshwe Township;[40] many were reported in the 19 villages built on the shores of Inle Lake and 2,790 houses were damaged.[110][111] In Kayla, a village with more than 1,000 households, at least 75% of it was destroyed and 42 residents died.[112][110] The villages of Zayatgyi and Sheywagyi\\xa0[my] also reported major destruction. A local charity group said many people died from home collapses or electrocution. Fifty-one bodies were\"}]]}\n",
      "----\n"
     ]
    }
   ],
   "source": [
    "\n",
    "for s in app.stream({\"messages\": [\"How many life lodd in Myammar Earth quakes 2025?\"]}):\n",
    "    print(list(s.values())[0])\n",
    "    print(\"----\")"
   ]
  },
  {
   "cell_type": "code",
   "execution_count": 34,
   "id": "d54af400",
   "metadata": {},
   "outputs": [],
   "source": [
    "## LangGraph supports human-in-the-loop workflows in a number of ways. In this section, we will use LangGraph's interrupt_before functionality to always break the tool node.\n",
    "\n",
    "from langchain_groq import ChatGroq\n",
    "llm=ChatGroq(model_name=\"Gemma2-9b-It\")"
   ]
  },
  {
   "cell_type": "code",
   "execution_count": 35,
   "id": "686cf725",
   "metadata": {},
   "outputs": [],
   "source": [
    "class AgentState(TypedDict):\n",
    "    messages: Annotated[list, add_messages]"
   ]
  },
  {
   "cell_type": "code",
   "execution_count": 36,
   "id": "3181712c",
   "metadata": {},
   "outputs": [],
   "source": [
    "tavily=TavilySearchResults()"
   ]
  },
  {
   "cell_type": "code",
   "execution_count": 37,
   "id": "d6b254d5",
   "metadata": {},
   "outputs": [],
   "source": [
    "tools = [tavily]"
   ]
  },
  {
   "cell_type": "code",
   "execution_count": 38,
   "id": "94c8756d",
   "metadata": {},
   "outputs": [],
   "source": [
    "llm_with_tools = llm.bind_tools(tools)"
   ]
  },
  {
   "cell_type": "code",
   "execution_count": 39,
   "id": "2a548eea",
   "metadata": {},
   "outputs": [],
   "source": [
    "def ai_assistant(state: AgentState):\n",
    "    return {\"messages\": [llm_with_tools.invoke(state[\"messages\"])]}"
   ]
  },
  {
   "cell_type": "code",
   "execution_count": 40,
   "id": "8447b79c",
   "metadata": {},
   "outputs": [],
   "source": [
    "memory = MemorySaver()"
   ]
  },
  {
   "cell_type": "code",
   "execution_count": 41,
   "id": "cc6aedd3",
   "metadata": {},
   "outputs": [
    {
     "data": {
      "text/plain": [
       "<langgraph.graph.state.StateGraph at 0x1c28a757200>"
      ]
     },
     "execution_count": 41,
     "metadata": {},
     "output_type": "execute_result"
    }
   ],
   "source": [
    "graph_builder = StateGraph(AgentState)\n",
    "graph_builder.add_node(\"ai_assistant\", ai_assistant)\n",
    "\n",
    "tool_node = ToolNode(tools=tools)\n",
    "graph_builder.add_node(\"tools\", tool_node)"
   ]
  },
  {
   "cell_type": "code",
   "execution_count": 42,
   "id": "b7d5f783",
   "metadata": {},
   "outputs": [
    {
     "data": {
      "text/plain": [
       "<langgraph.graph.state.StateGraph at 0x1c28a757200>"
      ]
     },
     "execution_count": 42,
     "metadata": {},
     "output_type": "execute_result"
    }
   ],
   "source": [
    "graph_builder.add_edge(START, \"ai_assistant\")\n",
    "\n",
    "graph_builder.add_conditional_edges(\n",
    "    \"ai_assistant\",\n",
    "    tools_condition,\n",
    ")\n",
    "graph_builder.add_edge(\"tools\", \"ai_assistant\")"
   ]
  },
  {
   "cell_type": "code",
   "execution_count": 43,
   "id": "b71f5f47",
   "metadata": {},
   "outputs": [],
   "source": [
    "app2 = graph_builder.compile(\n",
    "    checkpointer=memory,\n",
    "    # This is new!\n",
    "    interrupt_before=[\"tools\"],\n",
    "    # Note: can also interrupt __after__ tools, if desired.\n",
    "    # interrupt_after=[\"tools\"]\n",
    ")"
   ]
  },
  {
   "cell_type": "code",
   "execution_count": 44,
   "id": "7335295e",
   "metadata": {},
   "outputs": [
    {
     "data": {
      "image/png": "[encoded data removed]",
      "text/plain": [
       "<IPython.core.display.Image object>"
      ]
     },
     "metadata": {},
     "output_type": "display_data"
    }
   ],
   "source": [
    "# from IPython.display import Image, display\n",
    "# display(Image(app2.get_graph().draw_mermaid_png()))\n",
    "\n",
    "from IPython.display import display, Image\n",
    "\n",
    "try:\n",
    "    img_data = app2.get_graph().draw_mermaid_png()\n",
    "    display(Image(data=img_data))\n",
    "except Exception as e:\n",
    "    print(f\"Failed to render diagram: {e}\")"
   ]
  },
  {
   "cell_type": "code",
   "execution_count": 45,
   "id": "0820e30e",
   "metadata": {},
   "outputs": [],
   "source": [
    "user_input = \"what is current a capital of india?\"\n",
    "config = {\"configurable\": {\"thread_id\": \"1\"}}"
   ]
  },
  {
   "cell_type": "code",
   "execution_count": 46,
   "id": "04bd8359",
   "metadata": {},
   "outputs": [],
   "source": [
    "# The config is the **second positional argument** to stream() or invoke()!\n",
    "events = app2.stream(\n",
    "    {\"messages\": [(\"user\", user_input)]}, config, stream_mode=\"values\"\n",
    ")"
   ]
  },
  {
   "cell_type": "code",
   "execution_count": 47,
   "id": "48a428e1",
   "metadata": {},
   "outputs": [
    {
     "name": "stdout",
     "output_type": "stream",
     "text": [
      "================================\u001b[1m Human Message \u001b[0m=================================\n",
      "\n",
      "what is current a capital of india?\n",
      "==================================\u001b[1m Ai Message \u001b[0m==================================\n",
      "Tool Calls:\n",
      "  tavily_search_results_json (call_nxj6)\n",
      " Call ID: call_nxj6\n",
      "  Args:\n",
      "    query: What is the capital of India?\n"
     ]
    }
   ],
   "source": [
    "for event in events:\n",
    "    if \"messages\" in event:\n",
    "        event[\"messages\"][-1].pretty_print()"
   ]
  },
  {
   "cell_type": "code",
   "execution_count": 48,
   "id": "d46f7b07",
   "metadata": {},
   "outputs": [],
   "source": [
    "snapshot = app2.get_state(config)"
   ]
  },
  {
   "cell_type": "code",
   "execution_count": 49,
   "id": "e80b9b15",
   "metadata": {},
   "outputs": [
    {
     "data": {
      "text/plain": [
       "('tools',)"
      ]
     },
     "execution_count": 49,
     "metadata": {},
     "output_type": "execute_result"
    }
   ],
   "source": [
    "snapshot.next"
   ]
  },
  {
   "cell_type": "code",
   "execution_count": 50,
   "id": "ea5b875d",
   "metadata": {},
   "outputs": [],
   "source": [
    "last_message=snapshot.values[\"messages\"][-1]"
   ]
  },
  {
   "cell_type": "code",
   "execution_count": 51,
   "id": "fa4769f4",
   "metadata": {},
   "outputs": [
    {
     "data": {
      "text/plain": [
       "[{'name': 'tavily_search_results_json',\n",
       "  'args': {'query': 'What is the capital of India?'},\n",
       "  'id': 'call_nxj6',\n",
       "  'type': 'tool_call'}]"
      ]
     },
     "execution_count": 51,
     "metadata": {},
     "output_type": "execute_result"
    }
   ],
   "source": [
    "last_message.tool_calls"
   ]
  },
  {
   "cell_type": "code",
   "execution_count": 52,
   "id": "f853d165",
   "metadata": {},
   "outputs": [],
   "source": [
    "# `None` will append nothing new to the current state, letting it resume as if it had never been interrupted\n",
    "events = app2.stream(None, config, stream_mode=\"values\")"
   ]
  },
  {
   "cell_type": "code",
   "execution_count": 53,
   "id": "85e9b134",
   "metadata": {},
   "outputs": [
    {
     "name": "stdout",
     "output_type": "stream",
     "text": [
      "==================================\u001b[1m Ai Message \u001b[0m==================================\n",
      "Tool Calls:\n",
      "  tavily_search_results_json (call_nxj6)\n",
      " Call ID: call_nxj6\n",
      "  Args:\n",
      "    query: What is the capital of India?\n",
      "=================================\u001b[1m Tool Message \u001b[0m=================================\n",
      "Name: tavily_search_results_json\n",
      "\n",
      "[{\"url\": \"https://www.usatoday.com/story/news/world/2023/05/24/what-is-the-capital-of-india/70195720007/\", \"content\": \"Want to learn more about the soon-to-be most populous country? Here’s some interesting information about how India is organized.\\n\\nWhat is the capital of India?\\n\\nThe capital of India is New Delhi, located in the north-central part of the country to the west of the Yamuna River.\\n\\nCalcutta (now Kolkata, the capital of West Bengal) was the country’s capital until 1911 when King George V declared Delhi the new capital and construction of New Delhi began. [...] When the national government achieved independence in 1947, New Delhi became the capital.\\n\\nMumbai, the state capital of Maharashtra, is often considered the financial capital of India because of its role in the national and international economy.\\n\\nHow many states are in India?\\n\\nIndia is home to 28 states, each with its own capital and run by a Governor who represents the President:\\n\\nIndia also has eight union territories, governed by an Administrator appointed by the President: [...] What state is New Delhi in?\\n\\nNew Delhi is part of one of India’s union territories, the National Capital Territory of Dehli. Old Delhi, now a historic city, is north of New Delhi in the same union territory.\"}, {\"url\": \"https://en.wikipedia.org/wiki/List_of_capitals_of_India\", \"content\": \"Find sources: \\\"List of capitals of India\\\" – news · newspapers · books · scholar · JSTOR (September 2012) (Learn how and when to remove this message)\\nThis is a list of locations which have served as capital cities in India. The current capital city is New Delhi, which replaced Calcutta in 1911.\\nAncient period[edit]\\nRajgir: Initial capital of the Magadha Empire from 6th century BCE to 460 BCE, called Girivraj at the time. [1] [...] In 1858, Allahabad (now Prayagraj) became the capital of India for a day when it also served as the capital of North-Western Provinces.[3]\\nDuring the British Raj, until 1911, Calcutta was the capital of India.[4]\\nBy the latter half of the 19th century, Shimla had become the summer capital.[5] [...] King George V proclaimed the transfer of the capital from Calcutta to Delhi at the climax of the 1911 Delhi Durbar on 12 December 1911. The buildings housing the Viceroy, government, and parliament were inaugurated in early 1931.\\nReferences[edit]\\n^ \\\"Rajgir: On Hallowed Ground\\\". 3 September 2017. Retrieved 22 July 2020. between the 6th and 5th centuries BCE, all roads led to the great city of Rajgir\"}, {\"url\": \"https://www.jagranjosh.com/general-knowledge/which-city-became-the-capital-of-india-for-a-day-1731421925-1\", \"content\": \"If you are asked what the capital of India is, your answer will be New Delhi, which was settled by the British.\"}, {\"url\": \"https://en.wikipedia.org/wiki/New_Delhi\", \"content\": \"New Delhi (/ˈnjuː ˈdɛ.li/ ⓘ,[6] Hindi: [ˈnəiː ˈdɪlːiː], ISO: Naī Dillī) is the capital of India and a part of the National Capital Territory of Delhi (NCT). New Delhi is the seat of all three branches of the Government of India, hosting the Rashtrapati Bhavan, Sansad Bhavan, and the Supreme Court. New Delhi is a municipality within the NCT, administered by the NDMC, which covers mostly Lutyens' Delhi and a few adjacent areas. The municipal area is part of a larger administrative district, the [...] Jump to content\\nMain menu\\nSearch\\nDonate\\nCreate account\\nLog in\\nPersonal tools\\nToggle the table of contents\\nNew Delhi\\n189 languages\\nArticle\\nTalk\\nRead\\nView source\\nView history\\nTools\\nCoordinates: 28°36′50″N 77°12′32″E\\nFrom Wikipedia, the free encyclopedia\\nThis article is about the capital of India, within the union territory of Delhi. For other uses, see New Delhi (disambiguation). [...] ^ \\\"86 years ago New Delhi took over as power capital of India\\\". The Times of India. Archived from the original on 1 March 2021. Retrieved 31 May 2018.\\n^ a b Wright, Tom (11 November 2011). \\\"Why Delhi? The Move From Calcutta\\\". The Wall Street Journal. Archived from the original on 27 July 2020. Retrieved 16 November 2011.\"}, {\"url\": \"https://www.vocabulary.com/dictionary/capital%20of%20India\", \"content\": \"noun the capital of India is a division of the old city of Delhi synonyms: Indian capital, New Delhi\"}]\n",
      "==================================\u001b[1m Ai Message \u001b[0m==================================\n",
      "Tool Calls:\n",
      "  tavily_search_results_json (call_w5df)\n",
      " Call ID: call_w5df\n",
      "  Args:\n",
      "    query: What is the capital of India?\n"
     ]
    }
   ],
   "source": [
    "for event in events:\n",
    "    if \"messages\" in event:\n",
    "        event[\"messages\"][-1].pretty_print()"
   ]
  },
  {
   "cell_type": "code",
   "execution_count": 54,
   "id": "3396d515",
   "metadata": {},
   "outputs": [],
   "source": [
    "user_input = \"what is a weather there?\"\n",
    "\n",
    "config = {\"configurable\": {\"thread_id\": \"1\"}}"
   ]
  },
  {
   "cell_type": "code",
   "execution_count": 55,
   "id": "3644b1e7",
   "metadata": {},
   "outputs": [],
   "source": [
    "# The config is the **second positional argument** to stream() or invoke()!\n",
    "events = app2.stream(\n",
    "    {\"messages\": [(\"user\", user_input)]}, config, stream_mode=\"values\"\n",
    ")"
   ]
  },
  {
   "cell_type": "code",
   "execution_count": 56,
   "id": "868f138b",
   "metadata": {},
   "outputs": [
    {
     "name": "stdout",
     "output_type": "stream",
     "text": [
      "================================\u001b[1m Human Message \u001b[0m=================================\n",
      "\n",
      "what is a weather there?\n",
      "==================================\u001b[1m Ai Message \u001b[0m==================================\n",
      "Tool Calls:\n",
      "  tavily_search_results_json (call_ggrx)\n",
      " Call ID: call_ggrx\n",
      "  Args:\n",
      "    query: weather in New Delhi\n"
     ]
    }
   ],
   "source": [
    "for event in events:\n",
    "    if \"messages\" in event:\n",
    "        event[\"messages\"][-1].pretty_print()"
   ]
  },
  {
   "cell_type": "code",
   "execution_count": 57,
   "id": "8a1de32c",
   "metadata": {},
   "outputs": [],
   "source": [
    "snapshot = app2.get_state(config)"
   ]
  },
  {
   "cell_type": "code",
   "execution_count": 58,
   "id": "74e16770",
   "metadata": {},
   "outputs": [
    {
     "data": {
      "text/plain": [
       "('tools',)"
      ]
     },
     "execution_count": 58,
     "metadata": {},
     "output_type": "execute_result"
    }
   ],
   "source": [
    "snapshot.next"
   ]
  },
  {
   "cell_type": "code",
   "execution_count": 59,
   "id": "af152a89",
   "metadata": {},
   "outputs": [],
   "source": [
    "last_message=snapshot.values[\"messages\"][-1]"
   ]
  },
  {
   "cell_type": "code",
   "execution_count": 60,
   "id": "0387506a",
   "metadata": {},
   "outputs": [
    {
     "data": {
      "text/plain": [
       "[{'name': 'tavily_search_results_json',\n",
       "  'args': {'query': 'weather in New Delhi'},\n",
       "  'id': 'call_ggrx',\n",
       "  'type': 'tool_call'}]"
      ]
     },
     "execution_count": 60,
     "metadata": {},
     "output_type": "execute_result"
    }
   ],
   "source": [
    "last_message.tool_calls"
   ]
  },
  {
   "cell_type": "code",
   "execution_count": 61,
   "id": "33f432be",
   "metadata": {},
   "outputs": [],
   "source": [
    "# `None` will append nothing new to the current state, letting it resume as if it had never been interrupted\n",
    "events = app2.stream(None, config, stream_mode=\"values\")"
   ]
  },
  {
   "cell_type": "code",
   "execution_count": 62,
   "id": "e8e92d97",
   "metadata": {},
   "outputs": [
    {
     "name": "stdout",
     "output_type": "stream",
     "text": [
      "==================================\u001b[1m Ai Message \u001b[0m==================================\n",
      "Tool Calls:\n",
      "  tavily_search_results_json (call_ggrx)\n",
      " Call ID: call_ggrx\n",
      "  Args:\n",
      "    query: weather in New Delhi\n",
      "=================================\u001b[1m Tool Message \u001b[0m=================================\n",
      "Name: tavily_search_results_json\n",
      "\n",
      "[{\"url\": \"https://timesofindia.indiatimes.com/weather/new-delhi-weather-forecast-today/110011\", \"content\": \"Today's Weather in New Delhi: In New Delhi today, the weather is expected to be Haze with a maximum temperature of 39°C and a minimum of 28°C. Sunrise in\"}, {\"url\": \"https://en.climate-data.org/asia/india/delhi/new-delhi-30/t/april-4/\", \"content\": \"17. April | 29 °C | 84 °F | 36 °C | 97 °F | 21 °C | 70 °F | 1.6 mm | 0.1 inch.\\n18. April | 29 °C | 85 °F | 36 °C | 97 °F | 22 °C | 71 °F | 2.0 mm | 0.1 inch.\\n19. April | 30 °C | 85 °F | 37 °C | 99 °F | 22 °C | 71 °F | 2.4 mm | 0.1 inch.\\n20. April | 30 °C | 86 °F | 38 °C | 100 °F | 22 °C | 71 °F | 2.2 mm | 0.1 inch.\\n21. April | 30 °C | 86 °F | 37 °C | 99 °F | 22 °C | 71 °F | 2.0 mm | 0.1 inch.\\n22. April | 30 °C | 86 °F | 37 °C | 99 °F | 22 °C | 72 °F | 2.6 mm | 0.1 inch. [...] (74.4) °F\\n\\n29.8 °C\\n\\n(85.7) °F\\n\\n36.7 °C\\n\\n(98.1) °F\\n\\n39.6 °C\\n\\n(103.3) °F\\n\\n38.2 °C\\n\\n(100.8) °F\\n\\n33.7 °C\\n\\n(92.6) °F\\n\\n32.3 °C\\n\\n(90.1) °F\\n\\n32.2 °C\\n\\n(90) °F\\n\\n31.8 °C\\n\\n(89.3) °F\\n\\n27.4 °C\\n\\n(81.3) °F\\n\\n22.2 °C\\n\\n(72) °F\\n\\n23\\n\\n(0)\\n\\n33\\n\\n(1)\\n\\n20\\n\\n(0)\\n\\n14\\n\\n(0)\\n\\n20\\n\\n(0)\\n\\n74\\n\\n(2)\\n\\n208\\n\\n(8)\\n\\n183\\n\\n(7)\\n\\n99\\n\\n(3)\\n\\n13\\n\\n(0)\\n\\n5\\n\\n(0)\\n\\n8\\n\\n(0) [...] Min. Temperature °C (°F) | 7.7 °C(45.8) °F | 10.6 °C(51) °F | 15.2 °C(59.4) °F | 21 °C(69.8) °F | 25.3 °C(77.6) °F | 27.6 °C(81.6) °F | 26.6 °C(79.9) °F | 25.8 °C(78.5) °F | 23.9 °C(75.1) °F | 19.2 °C(66.5) °F | 14.2 °C(57.5) °F | 9.3 °C(48.7) °F\\nMax. Temperature °C (°F) | 20 °C(68) °F | 23.5 °C(74.4) °F | 29.8 °C(85.7) °F | 36.7 °C(98.1) °F | 39.6 °C(103.3) °F | 38.2 °C(100.8) °F | 33.7 °C(92.6) °F | 32.3 °C(90.1) °F | 32.2 °C(90) °F | 31.8 °C(89.3) °F | 27.4 °C(81.3) °F | 22.2 °C(72) °F\"}, {\"url\": \"https://www.timeanddate.com/weather/india/new-delhi/ext\", \"content\": \"ThuMay 1 |  | 108 / 88 °F | Scattered clouds. | 104 °F | 6 mph | ↑ | 16% | 5% | - | 7(High) | 5:40 am | 6:56 pm\\n* Updated Thursday, April 17, 2025 2:53:57 pm New Delhi time - Weather by CustomWeather, © 2025\\nHour-by-hour weather for New Delhi next 7 days [...] | Conditions | Comfort | Precipitation | Sun\\nDay |  | Temperature | Weather | Feels Like | Wind |  | Humidity | Chance | Amount | UV | Sunrise | Sunset\\nThuApr 17 |  | 106 / 80 °F | Sunny. | 103 °F | 3 mph | ↑ | 18% | 1% | - | 7(High) | 5:53 am | 6:48 pm\\nFriApr 18 |  | 108 / 80 °F | Showers late. Increasing cloudiness. | 104 °F | 1 mph | ↑ | 17% | 14% | 0.01\\\" | 7(High) | 5:52 am | 6:48 pm\"}, {\"url\": \"https://www.indiatvnews.com/news/india/imd-weather-update-heatwave-to-intensify-in-delhi-ncr-heavy-rainfall-thunderstorm-gusty-wind-predicted-in-bihar-assam-meghalaya-west-bengal-2025-04-17-985905\", \"content\": \"... April 17, 2025 8:06 IST. New Delhi: The scorching heat in parts of ... On April 17, heavy rain accompanied by strong winds (reaching speeds of\"}, {\"url\": \"https://www.weatherapi.com/\", \"content\": \"{'location': {'name': 'New Delhi', 'region': 'Delhi', 'country': 'India', 'lat': 28.6, 'lon': 77.2, 'tz_id': 'Asia/Kolkata', 'localtime_epoch': 1744905940, 'localtime': '2025-04-17 21:35'}, 'current': {'last_updated_epoch': 1744905600, 'last_updated': '2025-04-17 21:30', 'temp_c': 34.2, 'temp_f': 93.6, 'is_day': 0, 'condition': {'text': 'Mist', 'icon': '//cdn.weatherapi.com/weather/64x64/night/143.png', 'code': 1030}, 'wind_mph': 3.6, 'wind_kph': 5.8, 'wind_degree': 19, 'wind_dir': 'NNE', 'pressure_mb': 1003.0, 'pressure_in': 29.62, 'precip_mm': 0.0, 'precip_in': 0.0, 'humidity': 32, 'cloud': 0, 'feelslike_c': 32.2, 'feelslike_f': 90.0, 'windchill_c': 37.3, 'windchill_f': 99.1, 'heatindex_c': 36.1, 'heatindex_f': 96.9, 'dewpoint_c': 6.1, 'dewpoint_f': 43.0, 'vis_km': 4.0, 'vis_miles': 2.0, 'uv': 0.0, 'gust_mph': 6.8, 'gust_kph': 10.9}}\"}]\n",
      "==================================\u001b[1m Ai Message \u001b[0m==================================\n",
      "Tool Calls:\n",
      "  tavily_search_results_json (call_7xxy)\n",
      " Call ID: call_7xxy\n",
      "  Args:\n",
      "    query: weather in New Delhi today\n"
     ]
    }
   ],
   "source": [
    "for event in events:\n",
    "    if \"messages\" in event:\n",
    "        event[\"messages\"][-1].pretty_print()"
   ]
  },
  {
   "cell_type": "code",
   "execution_count": 63,
   "id": "8bb0a6d2",
   "metadata": {},
   "outputs": [
    {
     "data": {
      "text/plain": [
       "StateSnapshot(values={'messages': [HumanMessage(content='what is current a capital of india?', additional_kwargs={}, response_metadata={}, id='44889c8d-45ed-4571-8f51-5a1335f4bf46'), AIMessage(content='', additional_kwargs={'tool_calls': [{'id': 'call_nxj6', 'function': {'arguments': '{\"query\":\"What is the capital of India?\"}', 'name': 'tavily_search_results_json'}, 'type': 'function'}]}, response_metadata={'token_usage': {'completion_tokens': 92, 'prompt_tokens': 989, 'total_tokens': 1081, 'completion_time': 0.167272727, 'prompt_time': 0.042849312, 'queue_time': 0.250335956, 'total_time': 0.210122039}, 'model_name': 'Gemma2-9b-It', 'system_fingerprint': 'fp_10c08bf97d', 'finish_reason': 'tool_calls', 'logprobs': None}, id='run-4f62f1ab-e43e-4a08-9dc3-3c52a26c2331-0', tool_calls=[{'name': 'tavily_search_results_json', 'args': {'query': 'What is the capital of India?'}, 'id': 'call_nxj6', 'type': 'tool_call'}], usage_metadata={'input_tokens': 989, 'output_tokens': 92, 'total_tokens': 1081}), ToolMessage(content='[{\"url\": \"https://www.usatoday.com/story/news/world/2023/05/24/what-is-the-capital-of-india/70195720007/\", \"content\": \"Want to learn more about the soon-to-be most populous country? Here’s some interesting information about how India is organized.\\\\n\\\\nWhat is the capital of India?\\\\n\\\\nThe capital of India is New Delhi, located in the north-central part of the country to the west of the Yamuna River.\\\\n\\\\nCalcutta (now Kolkata, the capital of West Bengal) was the country’s capital until 1911 when King George V declared Delhi the new capital and construction of New Delhi began. [...] When the national government achieved independence in 1947, New Delhi became the capital.\\\\n\\\\nMumbai, the state capital of Maharashtra, is often considered the financial capital of India because of its role in the national and international economy.\\\\n\\\\nHow many states are in India?\\\\n\\\\nIndia is home to 28 states, each with its own capital and run by a Governor who represents the President:\\\\n\\\\nIndia also has eight union territories, governed by an Administrator appointed by the President: [...] What state is New Delhi in?\\\\n\\\\nNew Delhi is part of one of India’s union territories, the National Capital Territory of Dehli. Old Delhi, now a historic city, is north of New Delhi in the same union territory.\"}, {\"url\": \"https://en.wikipedia.org/wiki/List_of_capitals_of_India\", \"content\": \"Find sources:\\xa0\\\\\"List of capitals of India\\\\\"\\xa0–\\xa0news\\xa0· newspapers\\xa0· books\\xa0· scholar\\xa0· JSTOR (September 2012) (Learn how and when to remove this message)\\\\nThis is a list of locations which have served as capital cities in India. The current capital city is New Delhi, which replaced Calcutta in 1911.\\\\nAncient period[edit]\\\\nRajgir: Initial capital of the Magadha Empire from 6th century BCE to 460 BCE, called Girivraj at the time. [1] [...] In 1858, Allahabad (now Prayagraj) became the capital of India for a day when it also served as the capital of North-Western Provinces.[3]\\\\nDuring the British Raj, until 1911, Calcutta was the capital of India.[4]\\\\nBy the latter half of the 19th century, Shimla had become the summer capital.[5] [...] King George V proclaimed the transfer of the capital from Calcutta to Delhi at the climax of the 1911 Delhi Durbar on 12 December 1911. The buildings housing the Viceroy, government, and parliament were inaugurated in early 1931.\\\\nReferences[edit]\\\\n^ \\\\\"Rajgir: On Hallowed Ground\\\\\". 3 September 2017. Retrieved 22 July 2020. between the 6th and 5th centuries BCE, all roads led to the great city of Rajgir\"}, {\"url\": \"https://www.jagranjosh.com/general-knowledge/which-city-became-the-capital-of-india-for-a-day-1731421925-1\", \"content\": \"If you are asked what the capital of India is, your answer will be New Delhi, which was settled by the British.\"}, {\"url\": \"https://en.wikipedia.org/wiki/New_Delhi\", \"content\": \"New Delhi (/ˈnjuː ˈdɛ.li/ ⓘ,[6] Hindi: [ˈnəiː ˈdɪlːiː], ISO: Naī Dillī) is the capital of India and a part of the National Capital Territory of Delhi (NCT). New Delhi is the seat of all three branches of the Government of India, hosting the Rashtrapati Bhavan, Sansad Bhavan, and the Supreme Court. New Delhi is a municipality within the NCT, administered by the NDMC, which covers mostly Lutyens\\' Delhi and a few adjacent areas. The municipal area is part of a larger administrative district, the [...] Jump to content\\\\nMain menu\\\\nSearch\\\\nDonate\\\\nCreate account\\\\nLog in\\\\nPersonal tools\\\\nToggle the table of contents\\\\nNew Delhi\\\\n189 languages\\\\nArticle\\\\nTalk\\\\nRead\\\\nView source\\\\nView history\\\\nTools\\\\nCoordinates: 28°36′50″N 77°12′32″E\\\\nFrom Wikipedia, the free encyclopedia\\\\nThis article is about the capital of India, within the union territory of Delhi. For other uses, see New Delhi (disambiguation). [...] ^ \\\\\"86 years ago New Delhi took over as power capital of India\\\\\". The Times of India. Archived from the original on 1 March 2021. Retrieved 31 May 2018.\\\\n^ a b Wright, Tom (11 November 2011). \\\\\"Why Delhi? The Move From Calcutta\\\\\". The Wall Street Journal. Archived from the original on 27 July 2020. Retrieved 16 November 2011.\"}, {\"url\": \"https://www.vocabulary.com/dictionary/capital%20of%20India\", \"content\": \"noun the capital of India is a division of the old city of Delhi synonyms: Indian capital, New Delhi\"}]', name='tavily_search_results_json', id='1fb9a5fc-3ba3-40f9-b75d-7da43f39d805', tool_call_id='call_nxj6', artifact={'query': 'What is the capital of India?', 'follow_up_questions': None, 'answer': None, 'images': [], 'results': [{'url': 'https://www.usatoday.com/story/news/world/2023/05/24/what-is-the-capital-of-india/70195720007/', 'title': 'What is the capital of India? States and union territories explained.', 'content': 'Want to learn more about the soon-to-be most populous country? Here’s some interesting information about how India is organized.\\n\\nWhat is the capital of India?\\n\\nThe capital of India is New Delhi, located in the north-central part of the country to the west of the Yamuna River.\\n\\nCalcutta (now Kolkata, the capital of West Bengal) was the country’s capital until 1911 when King George V declared Delhi the new capital and construction of New Delhi began. [...] When the national government achieved independence in 1947, New Delhi became the capital.\\n\\nMumbai, the state capital of Maharashtra, is often considered the financial capital of India because of its role in the national and international economy.\\n\\nHow many states are in India?\\n\\nIndia is home to 28 states, each with its own capital and run by a Governor who represents the President:\\n\\nIndia also has eight union territories, governed by an Administrator appointed by the President: [...] What state is New Delhi in?\\n\\nNew Delhi is part of one of India’s union territories, the National Capital Territory of Dehli. Old Delhi, now a historic city, is north of New Delhi in the same union territory.', 'score': 0.942385, 'raw_content': None}, {'url': 'https://en.wikipedia.org/wiki/List_of_capitals_of_India', 'title': 'List of capitals of India - Wikipedia', 'content': 'Find sources:\\xa0\"List of capitals of India\"\\xa0–\\xa0news\\xa0· newspapers\\xa0· books\\xa0· scholar\\xa0· JSTOR (September 2012) (Learn how and when to remove this message)\\nThis is a list of locations which have served as capital cities in India. The current capital city is New Delhi, which replaced Calcutta in 1911.\\nAncient period[edit]\\nRajgir: Initial capital of the Magadha Empire from 6th century BCE to 460 BCE, called Girivraj at the time. [1] [...] In 1858, Allahabad (now Prayagraj) became the capital of India for a day when it also served as the capital of North-Western Provinces.[3]\\nDuring the British Raj, until 1911, Calcutta was the capital of India.[4]\\nBy the latter half of the 19th century, Shimla had become the summer capital.[5] [...] King George V proclaimed the transfer of the capital from Calcutta to Delhi at the climax of the 1911 Delhi Durbar on 12 December 1911. The buildings housing the Viceroy, government, and parliament were inaugurated in early 1931.\\nReferences[edit]\\n^ \"Rajgir: On Hallowed Ground\". 3 September 2017. Retrieved 22 July 2020. between the 6th and 5th centuries BCE, all roads led to the great city of Rajgir', 'score': 0.90869105, 'raw_content': None}, {'url': 'https://www.jagranjosh.com/general-knowledge/which-city-became-the-capital-of-india-for-a-day-1731421925-1', 'title': 'Which City became the capital of India for a day, Check here', 'content': 'If you are asked what the capital of India is, your answer will be New Delhi, which was settled by the British.', 'score': 0.9061314, 'raw_content': None}, {'url': 'https://en.wikipedia.org/wiki/New_Delhi', 'title': 'New Delhi - Wikipedia', 'content': 'New Delhi (/ˈnjuː ˈdɛ.li/ ⓘ,[6] Hindi: [ˈnəiː ˈdɪlːiː], ISO: Naī Dillī) is the capital of India and a part of the National Capital Territory of Delhi (NCT). New Delhi is the seat of all three branches of the Government of India, hosting the Rashtrapati Bhavan, Sansad Bhavan, and the Supreme Court. New Delhi is a municipality within the NCT, administered by the NDMC, which covers mostly Lutyens\\' Delhi and a few adjacent areas. The municipal area is part of a larger administrative district, the [...] Jump to content\\nMain menu\\nSearch\\nDonate\\nCreate account\\nLog in\\nPersonal tools\\nToggle the table of contents\\nNew Delhi\\n189 languages\\nArticle\\nTalk\\nRead\\nView source\\nView history\\nTools\\nCoordinates: 28°36′50″N 77°12′32″E\\nFrom Wikipedia, the free encyclopedia\\nThis article is about the capital of India, within the union territory of Delhi. For other uses, see New Delhi (disambiguation). [...] ^ \"86 years ago New Delhi took over as power capital of India\". The Times of India. Archived from the original on 1 March 2021. Retrieved 31 May 2018.\\n^ a b Wright, Tom (11 November 2011). \"Why Delhi? The Move From Calcutta\". The Wall Street Journal. Archived from the original on 27 July 2020. Retrieved 16 November 2011.', 'score': 0.8993429, 'raw_content': None}, {'url': 'https://www.vocabulary.com/dictionary/capital%20of%20India', 'title': 'Capital of India - Definition, Meaning & Synonyms - Vocabulary.com', 'content': 'noun the capital of India is a division of the old city of Delhi synonyms: Indian capital, New Delhi', 'score': 0.882276, 'raw_content': None}], 'response_time': 1.22}), AIMessage(content='', additional_kwargs={'tool_calls': [{'id': 'call_w5df', 'function': {'arguments': '{\"query\":\"What is the capital of India?\"}', 'name': 'tavily_search_results_json'}, 'type': 'function'}]}, response_metadata={'token_usage': {'completion_tokens': 52, 'prompt_tokens': 2270, 'total_tokens': 2322, 'completion_time': 0.094545455, 'prompt_time': 0.110059436, 'queue_time': 0.236372711, 'total_time': 0.204604891}, 'model_name': 'Gemma2-9b-It', 'system_fingerprint': 'fp_10c08bf97d', 'finish_reason': 'tool_calls', 'logprobs': None}, id='run-23e4dc59-7143-4e50-8fad-23550dadf6f7-0', tool_calls=[{'name': 'tavily_search_results_json', 'args': {'query': 'What is the capital of India?'}, 'id': 'call_w5df', 'type': 'tool_call'}], usage_metadata={'input_tokens': 2270, 'output_tokens': 52, 'total_tokens': 2322}), HumanMessage(content='what is a weather there?', additional_kwargs={}, response_metadata={}, id='8890e6b4-702a-4c74-b958-00c96f559985'), AIMessage(content='', additional_kwargs={'tool_calls': [{'id': 'call_ggrx', 'function': {'arguments': '{\"query\":\"weather in New Delhi\"}', 'name': 'tavily_search_results_json'}, 'type': 'function'}]}, response_metadata={'token_usage': {'completion_tokens': 55, 'prompt_tokens': 2339, 'total_tokens': 2394, 'completion_time': 0.1, 'prompt_time': 0.093984425, 'queue_time': 0.239693604, 'total_time': 0.193984425}, 'model_name': 'Gemma2-9b-It', 'system_fingerprint': 'fp_10c08bf97d', 'finish_reason': 'tool_calls', 'logprobs': None}, id='run-755cfdf4-f34a-4b38-b7ff-be3a63a58833-0', tool_calls=[{'name': 'tavily_search_results_json', 'args': {'query': 'weather in New Delhi'}, 'id': 'call_ggrx', 'type': 'tool_call'}], usage_metadata={'input_tokens': 2339, 'output_tokens': 55, 'total_tokens': 2394}), ToolMessage(content='[{\"url\": \"https://timesofindia.indiatimes.com/weather/new-delhi-weather-forecast-today/110011\", \"content\": \"Today\\'s Weather in New Delhi: In New Delhi today, the weather is expected to be Haze with a maximum temperature of 39°C and a minimum of 28°C. Sunrise in\"}, {\"url\": \"https://en.climate-data.org/asia/india/delhi/new-delhi-30/t/april-4/\", \"content\": \"17. April | 29 °C | 84 °F | 36 °C | 97 °F | 21 °C | 70 °F | 1.6 mm | 0.1 inch.\\\\n18. April | 29 °C | 85 °F | 36 °C | 97 °F | 22 °C | 71 °F | 2.0 mm | 0.1 inch.\\\\n19. April | 30 °C | 85 °F | 37 °C | 99 °F | 22 °C | 71 °F | 2.4 mm | 0.1 inch.\\\\n20. April | 30 °C | 86 °F | 38 °C | 100 °F | 22 °C | 71 °F | 2.2 mm | 0.1 inch.\\\\n21. April | 30 °C | 86 °F | 37 °C | 99 °F | 22 °C | 71 °F | 2.0 mm | 0.1 inch.\\\\n22. April | 30 °C | 86 °F | 37 °C | 99 °F | 22 °C | 72 °F | 2.6 mm | 0.1 inch. [...] (74.4) °F\\\\n\\\\n29.8 °C\\\\n\\\\n(85.7) °F\\\\n\\\\n36.7 °C\\\\n\\\\n(98.1) °F\\\\n\\\\n39.6 °C\\\\n\\\\n(103.3) °F\\\\n\\\\n38.2 °C\\\\n\\\\n(100.8) °F\\\\n\\\\n33.7 °C\\\\n\\\\n(92.6) °F\\\\n\\\\n32.3 °C\\\\n\\\\n(90.1) °F\\\\n\\\\n32.2 °C\\\\n\\\\n(90) °F\\\\n\\\\n31.8 °C\\\\n\\\\n(89.3) °F\\\\n\\\\n27.4 °C\\\\n\\\\n(81.3) °F\\\\n\\\\n22.2 °C\\\\n\\\\n(72) °F\\\\n\\\\n23\\\\n\\\\n(0)\\\\n\\\\n33\\\\n\\\\n(1)\\\\n\\\\n20\\\\n\\\\n(0)\\\\n\\\\n14\\\\n\\\\n(0)\\\\n\\\\n20\\\\n\\\\n(0)\\\\n\\\\n74\\\\n\\\\n(2)\\\\n\\\\n208\\\\n\\\\n(8)\\\\n\\\\n183\\\\n\\\\n(7)\\\\n\\\\n99\\\\n\\\\n(3)\\\\n\\\\n13\\\\n\\\\n(0)\\\\n\\\\n5\\\\n\\\\n(0)\\\\n\\\\n8\\\\n\\\\n(0) [...] Min. Temperature °C (°F) | 7.7 °C(45.8) °F | 10.6 °C(51) °F | 15.2 °C(59.4) °F | 21 °C(69.8) °F | 25.3 °C(77.6) °F | 27.6 °C(81.6) °F | 26.6 °C(79.9) °F | 25.8 °C(78.5) °F | 23.9 °C(75.1) °F | 19.2 °C(66.5) °F | 14.2 °C(57.5) °F | 9.3 °C(48.7) °F\\\\nMax. Temperature °C (°F) | 20 °C(68) °F | 23.5 °C(74.4) °F | 29.8 °C(85.7) °F | 36.7 °C(98.1) °F | 39.6 °C(103.3) °F | 38.2 °C(100.8) °F | 33.7 °C(92.6) °F | 32.3 °C(90.1) °F | 32.2 °C(90) °F | 31.8 °C(89.3) °F | 27.4 °C(81.3) °F | 22.2 °C(72) °F\"}, {\"url\": \"https://www.timeanddate.com/weather/india/new-delhi/ext\", \"content\": \"ThuMay 1 |  | 108 / 88\\xa0°F | Scattered clouds. | 104\\xa0°F | 6 mph | ↑ | 16% | 5% | - | 7(High) | 5:40 am | 6:56 pm\\\\n* Updated Thursday, April 17, 2025 2:53:57 pm New Delhi time - Weather by CustomWeather, © 2025\\\\nHour-by-hour weather for New Delhi next 7 days [...] | Conditions | Comfort | Precipitation | Sun\\\\nDay |  | Temperature | Weather | Feels Like | Wind |  | Humidity | Chance | Amount | UV | Sunrise | Sunset\\\\nThuApr 17 |  | 106 / 80\\xa0°F | Sunny. | 103\\xa0°F | 3 mph | ↑ | 18% | 1% | - | 7(High) | 5:53 am | 6:48 pm\\\\nFriApr 18 |  | 108 / 80\\xa0°F | Showers late. Increasing cloudiness. | 104\\xa0°F | 1 mph | ↑ | 17% | 14% | 0.01\\\\\" | 7(High) | 5:52 am | 6:48 pm\"}, {\"url\": \"https://www.indiatvnews.com/news/india/imd-weather-update-heatwave-to-intensify-in-delhi-ncr-heavy-rainfall-thunderstorm-gusty-wind-predicted-in-bihar-assam-meghalaya-west-bengal-2025-04-17-985905\", \"content\": \"... April 17, 2025 8:06 IST. New Delhi: The scorching heat in parts of ... On April 17, heavy rain accompanied by strong winds (reaching speeds of\"}, {\"url\": \"https://www.weatherapi.com/\", \"content\": \"{\\'location\\': {\\'name\\': \\'New Delhi\\', \\'region\\': \\'Delhi\\', \\'country\\': \\'India\\', \\'lat\\': 28.6, \\'lon\\': 77.2, \\'tz_id\\': \\'Asia/Kolkata\\', \\'localtime_epoch\\': 1744905940, \\'localtime\\': \\'2025-04-17 21:35\\'}, \\'current\\': {\\'last_updated_epoch\\': 1744905600, \\'last_updated\\': \\'2025-04-17 21:30\\', \\'temp_c\\': 34.2, \\'temp_f\\': 93.6, \\'is_day\\': 0, \\'condition\\': {\\'text\\': \\'Mist\\', \\'icon\\': \\'//cdn.weatherapi.com/weather/64x64/night/143.png\\', \\'code\\': 1030}, \\'wind_mph\\': 3.6, \\'wind_kph\\': 5.8, \\'wind_degree\\': 19, \\'wind_dir\\': \\'NNE\\', \\'pressure_mb\\': 1003.0, \\'pressure_in\\': 29.62, \\'precip_mm\\': 0.0, \\'precip_in\\': 0.0, \\'humidity\\': 32, \\'cloud\\': 0, \\'feelslike_c\\': 32.2, \\'feelslike_f\\': 90.0, \\'windchill_c\\': 37.3, \\'windchill_f\\': 99.1, \\'heatindex_c\\': 36.1, \\'heatindex_f\\': 96.9, \\'dewpoint_c\\': 6.1, \\'dewpoint_f\\': 43.0, \\'vis_km\\': 4.0, \\'vis_miles\\': 2.0, \\'uv\\': 0.0, \\'gust_mph\\': 6.8, \\'gust_kph\\': 10.9}}\"}]', name='tavily_search_results_json', id='0a859b5d-cc50-43f8-ba01-90cddeeda26c', tool_call_id='call_ggrx', artifact={'query': 'weather in New Delhi', 'follow_up_questions': None, 'answer': None, 'images': [], 'results': [{'url': 'https://timesofindia.indiatimes.com/weather/new-delhi-weather-forecast-today/110011', 'title': 'New Delhi Weather Forecast 17 Apr 2025 - Times of India', 'content': \"Today's Weather in New Delhi: In New Delhi today, the weather is expected to be Haze with a maximum temperature of 39°C and a minimum of 28°C. Sunrise in\", 'score': 0.9293445, 'raw_content': None}, {'url': 'https://en.climate-data.org/asia/india/delhi/new-delhi-30/t/april-4/', 'title': 'Weather New Delhi in April 2025: Temperature & Climate', 'content': '17. April | 29 °C | 84 °F | 36 °C | 97 °F | 21 °C | 70 °F | 1.6 mm | 0.1 inch.\\n18. April | 29 °C | 85 °F | 36 °C | 97 °F | 22 °C | 71 °F | 2.0 mm | 0.1 inch.\\n19. April | 30 °C | 85 °F | 37 °C | 99 °F | 22 °C | 71 °F | 2.4 mm | 0.1 inch.\\n20. April | 30 °C | 86 °F | 38 °C | 100 °F | 22 °C | 71 °F | 2.2 mm | 0.1 inch.\\n21. April | 30 °C | 86 °F | 37 °C | 99 °F | 22 °C | 71 °F | 2.0 mm | 0.1 inch.\\n22. April | 30 °C | 86 °F | 37 °C | 99 °F | 22 °C | 72 °F | 2.6 mm | 0.1 inch. [...] (74.4) °F\\n\\n29.8 °C\\n\\n(85.7) °F\\n\\n36.7 °C\\n\\n(98.1) °F\\n\\n39.6 °C\\n\\n(103.3) °F\\n\\n38.2 °C\\n\\n(100.8) °F\\n\\n33.7 °C\\n\\n(92.6) °F\\n\\n32.3 °C\\n\\n(90.1) °F\\n\\n32.2 °C\\n\\n(90) °F\\n\\n31.8 °C\\n\\n(89.3) °F\\n\\n27.4 °C\\n\\n(81.3) °F\\n\\n22.2 °C\\n\\n(72) °F\\n\\n23\\n\\n(0)\\n\\n33\\n\\n(1)\\n\\n20\\n\\n(0)\\n\\n14\\n\\n(0)\\n\\n20\\n\\n(0)\\n\\n74\\n\\n(2)\\n\\n208\\n\\n(8)\\n\\n183\\n\\n(7)\\n\\n99\\n\\n(3)\\n\\n13\\n\\n(0)\\n\\n5\\n\\n(0)\\n\\n8\\n\\n(0) [...] Min. Temperature °C (°F) | 7.7 °C(45.8) °F | 10.6 °C(51) °F | 15.2 °C(59.4) °F | 21 °C(69.8) °F | 25.3 °C(77.6) °F | 27.6 °C(81.6) °F | 26.6 °C(79.9) °F | 25.8 °C(78.5) °F | 23.9 °C(75.1) °F | 19.2 °C(66.5) °F | 14.2 °C(57.5) °F | 9.3 °C(48.7) °F\\nMax. Temperature °C (°F) | 20 °C(68) °F | 23.5 °C(74.4) °F | 29.8 °C(85.7) °F | 36.7 °C(98.1) °F | 39.6 °C(103.3) °F | 38.2 °C(100.8) °F | 33.7 °C(92.6) °F | 32.3 °C(90.1) °F | 32.2 °C(90) °F | 31.8 °C(89.3) °F | 27.4 °C(81.3) °F | 22.2 °C(72) °F', 'score': 0.8893851, 'raw_content': None}, {'url': 'https://www.timeanddate.com/weather/india/new-delhi/ext', 'title': 'New Delhi 14 Day Extended Forecast - Weather - Time and Date', 'content': 'ThuMay 1 |  | 108 / 88\\xa0°F | Scattered clouds. | 104\\xa0°F | 6 mph | ↑ | 16% | 5% | - | 7(High) | 5:40 am | 6:56 pm\\n* Updated Thursday, April 17, 2025 2:53:57 pm New Delhi time - Weather by CustomWeather, © 2025\\nHour-by-hour weather for New Delhi next 7 days [...] | Conditions | Comfort | Precipitation | Sun\\nDay |  | Temperature | Weather | Feels Like | Wind |  | Humidity | Chance | Amount | UV | Sunrise | Sunset\\nThuApr 17 |  | 106 / 80\\xa0°F | Sunny. | 103\\xa0°F | 3 mph | ↑ | 18% | 1% | - | 7(High) | 5:53 am | 6:48 pm\\nFriApr 18 |  | 108 / 80\\xa0°F | Showers late. Increasing cloudiness. | 104\\xa0°F | 1 mph | ↑ | 17% | 14% | 0.01\" | 7(High) | 5:52 am | 6:48 pm', 'score': 0.8830044, 'raw_content': None}, {'url': 'https://www.indiatvnews.com/news/india/imd-weather-update-heatwave-to-intensify-in-delhi-ncr-heavy-rainfall-thunderstorm-gusty-wind-predicted-in-bihar-assam-meghalaya-west-bengal-2025-04-17-985905', 'title': 'IMD weather update: Heatwave to intensify in Delhi-NCR, heavy ...', 'content': '... April 17, 2025 8:06 IST. New Delhi: The scorching heat in parts of ... On April 17, heavy rain accompanied by strong winds (reaching speeds of', 'score': 0.85008353, 'raw_content': None}, {'title': 'Weather in New Delhi, India', 'url': 'https://www.weatherapi.com/', 'content': \"{'location': {'name': 'New Delhi', 'region': 'Delhi', 'country': 'India', 'lat': 28.6, 'lon': 77.2, 'tz_id': 'Asia/Kolkata', 'localtime_epoch': 1744905940, 'localtime': '2025-04-17 21:35'}, 'current': {'last_updated_epoch': 1744905600, 'last_updated': '2025-04-17 21:30', 'temp_c': 34.2, 'temp_f': 93.6, 'is_day': 0, 'condition': {'text': 'Mist', 'icon': '//cdn.weatherapi.com/weather/64x64/night/143.png', 'code': 1030}, 'wind_mph': 3.6, 'wind_kph': 5.8, 'wind_degree': 19, 'wind_dir': 'NNE', 'pressure_mb': 1003.0, 'pressure_in': 29.62, 'precip_mm': 0.0, 'precip_in': 0.0, 'humidity': 32, 'cloud': 0, 'feelslike_c': 32.2, 'feelslike_f': 90.0, 'windchill_c': 37.3, 'windchill_f': 99.1, 'heatindex_c': 36.1, 'heatindex_f': 96.9, 'dewpoint_c': 6.1, 'dewpoint_f': 43.0, 'vis_km': 4.0, 'vis_miles': 2.0, 'uv': 0.0, 'gust_mph': 6.8, 'gust_kph': 10.9}}\", 'score': 0.835027, 'raw_content': None}], 'response_time': 3.96}), AIMessage(content='', additional_kwargs={'tool_calls': [{'id': 'call_7xxy', 'function': {'arguments': '{\"query\":\"weather in New Delhi today\"}', 'name': 'tavily_search_results_json'}, 'type': 'function'}]}, response_metadata={'token_usage': {'completion_tokens': 54, 'prompt_tokens': 4570, 'total_tokens': 4624, 'completion_time': 0.098181818, 'prompt_time': 0.160958598, 'queue_time': 0.23842305999999996, 'total_time': 0.259140416}, 'model_name': 'Gemma2-9b-It', 'system_fingerprint': 'fp_10c08bf97d', 'finish_reason': 'tool_calls', 'logprobs': None}, id='run-665d6157-24d6-4817-a563-1dfd11085b0d-0', tool_calls=[{'name': 'tavily_search_results_json', 'args': {'query': 'weather in New Delhi today'}, 'id': 'call_7xxy', 'type': 'tool_call'}], usage_metadata={'input_tokens': 4570, 'output_tokens': 54, 'total_tokens': 4624})]}, next=('tools',), config={'configurable': {'thread_id': '1', 'checkpoint_ns': '', 'checkpoint_id': '1f01ba5d-3d8a-6cc7-8008-5a5996588f90'}}, metadata={'source': 'loop', 'writes': {'ai_assistant': {'messages': [AIMessage(content='', additional_kwargs={'tool_calls': [{'id': 'call_7xxy', 'function': {'arguments': '{\"query\":\"weather in New Delhi today\"}', 'name': 'tavily_search_results_json'}, 'type': 'function'}]}, response_metadata={'token_usage': {'completion_tokens': 54, 'prompt_tokens': 4570, 'total_tokens': 4624, 'completion_time': 0.098181818, 'prompt_time': 0.160958598, 'queue_time': 0.23842305999999996, 'total_time': 0.259140416}, 'model_name': 'Gemma2-9b-It', 'system_fingerprint': 'fp_10c08bf97d', 'finish_reason': 'tool_calls', 'logprobs': None}, id='run-665d6157-24d6-4817-a563-1dfd11085b0d-0', tool_calls=[{'name': 'tavily_search_results_json', 'args': {'query': 'weather in New Delhi today'}, 'id': 'call_7xxy', 'type': 'tool_call'}], usage_metadata={'input_tokens': 4570, 'output_tokens': 54, 'total_tokens': 4624})]}}, 'thread_id': '1', 'step': 8, 'parents': {}}, created_at='2025-04-17T16:05:48.623175+00:00', parent_config={'configurable': {'thread_id': '1', 'checkpoint_ns': '', 'checkpoint_id': '1f01ba5d-3442-689f-8007-2140fbc9fa2e'}}, tasks=(PregelTask(id='3fd41a69-1980-2562-7dad-e74aa3b4f691', name='tools', path=('__pregel_pull', 'tools'), error=None, interrupts=(), state=None, result=None),))"
      ]
     },
     "execution_count": 63,
     "metadata": {},
     "output_type": "execute_result"
    }
   ],
   "source": [
    "app2.get_state(config)"
   ]
  },
  {
   "cell_type": "code",
   "execution_count": 64,
   "id": "3d6cb950",
   "metadata": {},
   "outputs": [],
   "source": [
    "snapshot=app2.get_state(config)"
   ]
  },
  {
   "cell_type": "code",
   "execution_count": 65,
   "id": "3cb4042f",
   "metadata": {},
   "outputs": [
    {
     "data": {
      "text/plain": [
       "('tools',)"
      ]
     },
     "execution_count": 65,
     "metadata": {},
     "output_type": "execute_result"
    }
   ],
   "source": [
    "snapshot.next"
   ]
  },
  {
   "cell_type": "code",
   "execution_count": 66,
   "id": "809b3390",
   "metadata": {},
   "outputs": [],
   "source": [
    "user_input = \"give me the recent news of it?\"\n",
    "\n",
    "config = {\"configurable\": {\"thread_id\": \"1\"}}"
   ]
  },
  {
   "cell_type": "code",
   "execution_count": 67,
   "id": "a7cef372",
   "metadata": {},
   "outputs": [],
   "source": [
    "# The config is the **second positional argument** to stream() or invoke()!\n",
    "events = app2.stream(\n",
    "    {\"messages\": [(\"user\", user_input)]}, config, stream_mode=\"values\"\n",
    ")"
   ]
  },
  {
   "cell_type": "code",
   "execution_count": 68,
   "id": "03f874c1",
   "metadata": {},
   "outputs": [
    {
     "name": "stdout",
     "output_type": "stream",
     "text": [
      "================================\u001b[1m Human Message \u001b[0m=================================\n",
      "\n",
      "give me the recent news of it?\n",
      "==================================\u001b[1m Ai Message \u001b[0m==================================\n",
      "Tool Calls:\n",
      "  tavily_search_results_json (call_webg)\n",
      " Call ID: call_webg\n",
      "  Args:\n",
      "    query: Recent news of New Delhi\n"
     ]
    }
   ],
   "source": [
    "for event in events:\n",
    "    if \"messages\" in event:\n",
    "        event[\"messages\"][-1].pretty_print()"
   ]
  },
  {
   "cell_type": "code",
   "execution_count": 69,
   "id": "867dabab",
   "metadata": {},
   "outputs": [],
   "source": [
    "snapshot=app2.get_state(config)"
   ]
  },
  {
   "cell_type": "code",
   "execution_count": 70,
   "id": "b609ccb1",
   "metadata": {},
   "outputs": [],
   "source": [
    "current_message = snapshot.values[\"messages\"][-1]"
   ]
  },
  {
   "cell_type": "code",
   "execution_count": 71,
   "id": "21d56c0d",
   "metadata": {},
   "outputs": [
    {
     "name": "stdout",
     "output_type": "stream",
     "text": [
      "==================================\u001b[1m Ai Message \u001b[0m==================================\n",
      "Tool Calls:\n",
      "  tavily_search_results_json (call_webg)\n",
      " Call ID: call_webg\n",
      "  Args:\n",
      "    query: Recent news of New Delhi\n"
     ]
    }
   ],
   "source": [
    "current_message.pretty_print()"
   ]
  },
  {
   "cell_type": "code",
   "execution_count": 72,
   "id": "890337a7",
   "metadata": {},
   "outputs": [],
   "source": [
    "tool_call_id = current_message.tool_calls[0][\"id\"] "
   ]
  },
  {
   "cell_type": "code",
   "execution_count": 73,
   "id": "11aa4806",
   "metadata": {},
   "outputs": [
    {
     "data": {
      "text/plain": [
       "'call_webg'"
      ]
     },
     "execution_count": 73,
     "metadata": {},
     "output_type": "execute_result"
    }
   ],
   "source": [
    "tool_call_id"
   ]
  },
  {
   "cell_type": "code",
   "execution_count": 74,
   "id": "514ade4f",
   "metadata": {},
   "outputs": [],
   "source": [
    "from langchain_core.messages import AIMessage, ToolMessage"
   ]
  },
  {
   "cell_type": "code",
   "execution_count": 75,
   "id": "39163ea1",
   "metadata": {},
   "outputs": [],
   "source": [
    "answer = \"it is just related to raining which is happing on daily basis\""
   ]
  },
  {
   "cell_type": "code",
   "execution_count": 76,
   "id": "46e120a1",
   "metadata": {},
   "outputs": [],
   "source": [
    "new_messages = [\n",
    "    ToolMessage(content=answer, tool_call_id=tool_call_id),\n",
    "    AIMessage(content=answer),\n",
    "]"
   ]
  },
  {
   "cell_type": "code",
   "execution_count": 77,
   "id": "75a48fe4",
   "metadata": {},
   "outputs": [
    {
     "data": {
      "text/plain": [
       "{'configurable': {'thread_id': '1',\n",
       "  'checkpoint_ns': '',\n",
       "  'checkpoint_id': '1f01ba5f-536d-6697-800c-ecead6fd97d9'}}"
      ]
     },
     "execution_count": 77,
     "metadata": {},
     "output_type": "execute_result"
    }
   ],
   "source": [
    "app2.update_state(\n",
    "    config,\n",
    "    {\"messages\": new_messages},\n",
    ")"
   ]
  },
  {
   "cell_type": "code",
   "execution_count": 78,
   "id": "b9000a57",
   "metadata": {},
   "outputs": [
    {
     "name": "stdout",
     "output_type": "stream",
     "text": [
      "[AIMessage(content='it is just related to raining which is happing on daily basis', additional_kwargs={}, response_metadata={}, id='485f9679-985b-45bd-9589-6d7d6590c816')]\n"
     ]
    }
   ],
   "source": [
    "print(app2.get_state(config).values[\"messages\"][-1:])"
   ]
  },
  {
   "cell_type": "code",
   "execution_count": null,
   "id": "e6eee849",
   "metadata": {},
   "outputs": [],
   "source": []
  }
 ],
 "metadata": {
  "kernelspec": {
   "display_name": ".venv",
   "language": "python",
   "name": "python3"
  },
  "language_info": {
   "codemirror_mode": {
    "name": "ipython",
    "version": 3
   },
   "file_extension": ".py",
   "mimetype": "text/x-python",
   "name": "python",
   "nbconvert_exporter": "python",
   "pygments_lexer": "ipython3",
   "version": "3.12.3"
  }
 },
 "nbformat": 4,
 "nbformat_minor": 5
}
