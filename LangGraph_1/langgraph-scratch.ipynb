{
 "cells": [
  {
   "cell_type": "markdown",
   "id": "f4682725",
   "metadata": {},
   "source": [
    "### ♾️ simple workflow with graph"
   ]
  },
  {
   "cell_type": "code",
   "execution_count": 4,
   "id": "a4fa8f7b",
   "metadata": {},
   "outputs": [],
   "source": [
    "# show this later on\n",
    "def function3(input3):\n",
    "    return input3"
   ]
  },
  {
   "cell_type": "code",
   "execution_count": 5,
   "id": "9f0ac4f6",
   "metadata": {},
   "outputs": [],
   "source": [
    "def function1(input1):\n",
    "    return input1 + \"from first function\"\n",
    "\n",
    "def function2(input2):\n",
    "    output=function3(\"this is function 3 in between\")\n",
    "    return input2 + \" \" + output + \" and Divakar from second function\""
   ]
  },
  {
   "cell_type": "code",
   "execution_count": 6,
   "id": "1951c244",
   "metadata": {},
   "outputs": [],
   "source": [
    "from langgraph.graph import Graph"
   ]
  },
  {
   "cell_type": "code",
   "execution_count": 7,
   "id": "efbb0fbe",
   "metadata": {},
   "outputs": [],
   "source": [
    "workflow1=Graph()"
   ]
  },
  {
   "cell_type": "code",
   "execution_count": 8,
   "id": "77d91ff5",
   "metadata": {},
   "outputs": [
    {
     "data": {
      "text/plain": [
       "<langgraph.graph.graph.Graph at 0x2944cead700>"
      ]
     },
     "execution_count": 8,
     "metadata": {},
     "output_type": "execute_result"
    }
   ],
   "source": [
    "workflow1.add_node(\"function1\", function1)"
   ]
  },
  {
   "cell_type": "code",
   "execution_count": 9,
   "id": "b08ecac0",
   "metadata": {},
   "outputs": [
    {
     "data": {
      "text/plain": [
       "<langgraph.graph.graph.Graph at 0x2944cead700>"
      ]
     },
     "execution_count": 9,
     "metadata": {},
     "output_type": "execute_result"
    }
   ],
   "source": [
    "workflow1.add_node(\"function2\",function2)"
   ]
  },
  {
   "cell_type": "code",
   "execution_count": 10,
   "id": "782199f5",
   "metadata": {},
   "outputs": [
    {
     "data": {
      "text/plain": [
       "<langgraph.graph.graph.Graph at 0x2944cead700>"
      ]
     },
     "execution_count": 10,
     "metadata": {},
     "output_type": "execute_result"
    }
   ],
   "source": [
    "workflow1.add_edge(\"function1\",\"function2\")"
   ]
  },
  {
   "cell_type": "code",
   "execution_count": 11,
   "id": "257f1d13",
   "metadata": {},
   "outputs": [
    {
     "data": {
      "text/plain": [
       "<langgraph.graph.graph.Graph at 0x2944cead700>"
      ]
     },
     "execution_count": 11,
     "metadata": {},
     "output_type": "execute_result"
    }
   ],
   "source": [
    "workflow1.set_entry_point(\"function1\")"
   ]
  },
  {
   "cell_type": "code",
   "execution_count": 12,
   "id": "79fccaf0",
   "metadata": {},
   "outputs": [
    {
     "data": {
      "text/plain": [
       "<langgraph.graph.graph.Graph at 0x2944cead700>"
      ]
     },
     "execution_count": 12,
     "metadata": {},
     "output_type": "execute_result"
    }
   ],
   "source": [
    "workflow1.set_finish_point(\"function2\")"
   ]
  },
  {
   "cell_type": "code",
   "execution_count": 13,
   "id": "34e96a1a",
   "metadata": {},
   "outputs": [],
   "source": [
    "app1=workflow1.compile()"
   ]
  },
  {
   "cell_type": "code",
   "execution_count": 14,
   "id": "b5681f12",
   "metadata": {},
   "outputs": [
    {
     "data": {
      "image/png": "[encoded data removed]",
      "text/plain": [
       "<IPython.core.display.Image object>"
      ]
     },
     "metadata": {},
     "output_type": "display_data"
    }
   ],
   "source": [
    "from IPython.display import Image, display\n",
    "\n",
    "try:\n",
    "    display(Image(app1.get_graph().draw_mermaid_png()))\n",
    "except Exception as e:\n",
    "    # This requires some extra dependencies and is optional\n",
    "    print(e)"
   ]
  },
  {
   "cell_type": "code",
   "execution_count": 15,
   "id": "46f28dbb",
   "metadata": {},
   "outputs": [
    {
     "data": {
      "text/plain": [
       "'hi this is Divakar from first function this is function 3 in between and Divakar from second function'"
      ]
     },
     "execution_count": 15,
     "metadata": {},
     "output_type": "execute_result"
    }
   ],
   "source": [
    "app1.invoke(\"hi this is Divakar \")"
   ]
  },
  {
   "cell_type": "code",
   "execution_count": 16,
   "id": "4024c0b3",
   "metadata": {},
   "outputs": [],
   "source": [
    "input=\"hi this is Divakar \""
   ]
  },
  {
   "cell_type": "code",
   "execution_count": 17,
   "id": "5e6fb09c",
   "metadata": {},
   "outputs": [
    {
     "name": "stdout",
     "output_type": "stream",
     "text": [
      "here is output from function1\n",
      "_______\n",
      "hi this is Divakar from first function\n",
      "\n",
      "\n",
      "here is output from function2\n",
      "_______\n",
      "hi this is Divakar from first function this is function 3 in between and Divakar from second function\n",
      "\n",
      "\n"
     ]
    }
   ],
   "source": [
    "input=\"hi this is Divakar \"\n",
    "for output in app1.stream(input):\n",
    "    for key,value in output.items():\n",
    "        print(f\"here is output from {key}\")\n",
    "        print(\"_______\")\n",
    "        print(value)\n",
    "        print(\"\\n\")"
   ]
  },
  {
   "cell_type": "markdown",
   "id": "752af00c",
   "metadata": {},
   "source": [
    "#### Now lets create workflow with llm"
   ]
  },
  {
   "cell_type": "code",
   "execution_count": 18,
   "id": "f581bd5e",
   "metadata": {},
   "outputs": [
    {
     "name": "stderr",
     "output_type": "stream",
     "text": [
      "f:\\dev25\\Building-Agentic-AI\\Langgraph_Agent\\venv\\Lib\\site-packages\\tqdm\\auto.py:21: TqdmWarning: IProgress not found. Please update jupyter and ipywidgets. See https://ipywidgets.readthedocs.io/en/stable/user_install.html\n",
      "  from .autonotebook import tqdm as notebook_tqdm\n"
     ]
    },
    {
     "data": {
      "text/plain": [
       "'Hi there! How can I help you today?'"
      ]
     },
     "execution_count": 18,
     "metadata": {},
     "output_type": "execute_result"
    }
   ],
   "source": [
    "from langchain_google_genai import GoogleGenerativeAIEmbeddings\n",
    "embeddings = GoogleGenerativeAIEmbeddings(model=\"models/embedding-001\")\n",
    "from langchain_google_genai import ChatGoogleGenerativeAI\n",
    "llm = ChatGoogleGenerativeAI(model=\"gemini-2.0-flash\")\n",
    "llm.invoke(\"hi\").content"
   ]
  },
  {
   "cell_type": "code",
   "execution_count": 19,
   "id": "d283b7f6",
   "metadata": {},
   "outputs": [],
   "source": [
    "def function1(input):\n",
    "    llm = ChatGoogleGenerativeAI(model=\"gemini-2.0-flash\")\n",
    "    response=llm.invoke(input).content\n",
    "    return response"
   ]
  },
  {
   "cell_type": "code",
   "execution_count": 20,
   "id": "d89cf68b",
   "metadata": {},
   "outputs": [],
   "source": [
    "def function2(input):\n",
    "    upper_case=input.upper()\n",
    "    return upper_case"
   ]
  },
  {
   "cell_type": "code",
   "execution_count": 21,
   "id": "2a365f32",
   "metadata": {},
   "outputs": [],
   "source": [
    "from langgraph.graph import Graph\n",
    "workflow2=Graph()"
   ]
  },
  {
   "cell_type": "code",
   "execution_count": 22,
   "metadata": {},
   "outputs": [
    {
     "data": {
      "text/plain": [
       "<langgraph.graph.graph.Graph at 0x2944dc7c620>"
      ]
     },
     "execution_count": 22,
     "metadata": {},
     "output_type": "execute_result"
    }
   ],
   "source": [
    "workflow2.add_node(\"llm\",function1)"
   ]
  },
  {
   "cell_type": "code",
   "execution_count": 23,
   "metadata": {},
   "outputs": [
    {
     "data": {
      "text/plain": [
       "<langgraph.graph.graph.Graph at 0x2944dc7c620>"
      ]
     },
     "execution_count": 23,
     "metadata": {},
     "output_type": "execute_result"
    }
   ],
   "source": [
    "workflow2.add_node(\"upper_string\",function2)"
   ]
  },
  {
   "cell_type": "code",
   "execution_count": 24,
   "id": "ab6a1f54",
   "metadata": {},
   "outputs": [
    {
     "data": {
      "text/plain": [
       "<langgraph.graph.graph.Graph at 0x2944dc7c620>"
      ]
     },
     "execution_count": 24,
     "metadata": {},
     "output_type": "execute_result"
    }
   ],
   "source": [
    "workflow2.add_edge(\"llm\",\"upper_string\")"
   ]
  },
  {
   "cell_type": "code",
   "execution_count": 25,
   "id": "11e74d9f",
   "metadata": {},
   "outputs": [
    {
     "data": {
      "text/plain": [
       "<langgraph.graph.graph.Graph at 0x2944dc7c620>"
      ]
     },
     "execution_count": 25,
     "metadata": {},
     "output_type": "execute_result"
    }
   ],
   "source": [
    "workflow2.set_entry_point(\"llm\")\n",
    "workflow2.set_finish_point(\"upper_string\")"
   ]
  },
  {
   "cell_type": "code",
   "execution_count": 26,
   "id": "a941f3d9",
   "metadata": {},
   "outputs": [],
   "source": [
    "app2=workflow2.compile()"
   ]
  },
  {
   "cell_type": "code",
   "execution_count": 27,
   "id": "8273e0ce",
   "metadata": {},
   "outputs": [
    {
     "data": {
      "image/png": "[encoded data removed]",
      "text/plain": [
       "<IPython.core.display.Image object>"
      ]
     },
     "metadata": {},
     "output_type": "display_data"
    }
   ],
   "source": [
    "from IPython.display import Image, display\n",
    "\n",
    "try:\n",
    "    display(Image(app2.get_graph().draw_mermaid_png()))\n",
    "except Exception as e:\n",
    "    # This requires some extra dependencies and is optional\n",
    "    print(e)"
   ]
  },
  {
   "cell_type": "code",
   "execution_count": 28,
   "id": "21ab1009",
   "metadata": {},
   "outputs": [
    {
     "data": {
      "text/plain": [
       "'RAG STANDS FOR **RETRIEVAL-AUGMENTED GENERATION**. IT\\'S A TECHNIQUE USED IN NATURAL LANGUAGE PROCESSING (NLP) THAT COMBINES THE STRENGTHS OF TWO DIFFERENT APPROACHES:\\n\\n*   **RETRIEVAL:** FINDING RELEVANT INFORMATION FROM A LARGE EXTERNAL KNOWLEDGE SOURCE (LIKE A DATABASE, A COLLECTION OF DOCUMENTS, OR THE INTERNET).\\n*   **GENERATION:** CREATING NEW TEXT BASED ON THE RETRIEVED INFORMATION AND A GIVEN PROMPT.\\n\\n**HERE\\'S A BREAKDOWN OF HOW IT WORKS:**\\n\\n1.  **USER QUERY:** THE PROCESS STARTS WITH A USER ASKING A QUESTION OR PROVIDING A PROMPT.\\n\\n2.  **RETRIEVAL:**\\n    *   THE QUERY IS USED TO SEARCH A KNOWLEDGE BASE FOR RELEVANT INFORMATION. THIS COULD INVOLVE TECHNIQUES LIKE:\\n        *   **SEMANTIC SEARCH:** USING EMBEDDINGS TO FIND DOCUMENTS THAT ARE SEMANTICALLY SIMILAR TO THE QUERY, EVEN IF THEY DON\\'T CONTAIN THE EXACT SAME KEYWORDS.\\n        *   **KEYWORD SEARCH:** A MORE TRADITIONAL APPROACH THAT LOOKS FOR DOCUMENTS CONTAINING SPECIFIC KEYWORDS FROM THE QUERY.\\n    *   THE RETRIEVAL SYSTEM IDENTIFIES AND RETRIEVES THE MOST RELEVANT DOCUMENTS OR PASSAGES.\\n\\n3.  **AUGMENTATION:**\\n    *   THE RETRIEVED INFORMATION IS COMBINED WITH THE ORIGINAL USER QUERY. THIS AUGMENTED PROMPT NOW CONTAINS BOTH THE QUESTION AND THE RELEVANT CONTEXT.\\n\\n4.  **GENERATION:**\\n    *   A LARGE LANGUAGE MODEL (LLM) TAKES THE AUGMENTED PROMPT AS INPUT.\\n    *   THE LLM GENERATES A RESPONSE BASED ON BOTH THE USER\\'S QUESTION AND THE RETRIEVED INFORMATION.  BECAUSE IT HAS ACCESS TO EXTERNAL KNOWLEDGE, THE LLM CAN PROVIDE MORE ACCURATE, DETAILED, AND UP-TO-DATE ANSWERS.\\n\\n**WHY IS RAG IMPORTANT?**\\n\\n*   **IMPROVED ACCURACY:** RAG HELPS LLMS PROVIDE MORE ACCURATE AND RELIABLE ANSWERS BY GROUNDING THEIR RESPONSES IN EXTERNAL KNOWLEDGE.  WITHOUT IT, LLMS ARE LIMITED TO THE INFORMATION THEY WERE TRAINED ON, WHICH CAN BE OUTDATED OR INCOMPLETE.\\n*   **REDUCED HALLUCINATIONS:** BY RELYING ON RETRIEVED INFORMATION, RAG MINIMIZES THE LIKELIHOOD OF LLMS GENERATING INCORRECT OR NONSENSICAL INFORMATION (KNOWN AS \"HALLUCINATIONS\").\\n*   **ACCESS TO UP-TO-DATE INFORMATION:** RAG ALLOWS LLMS TO ACCESS AND INCORPORATE THE LATEST INFORMATION, EVEN IF IT WASN\\'T PART OF THEIR ORIGINAL TRAINING DATA.  THIS IS CRUCIAL FOR TASKS THAT REQUIRE REAL-TIME KNOWLEDGE.\\n*   **EXPLAINABILITY AND TRANSPARENCY:** RAG CAN PROVIDE LINKS TO THE SOURCE DOCUMENTS USED TO GENERATE THE RESPONSE, INCREASING TRANSPARENCY AND ALLOWING USERS TO VERIFY THE INFORMATION.\\n*   **CUSTOMIZATION:** RAG CAN BE TAILORED TO SPECIFIC DOMAINS OR KNOWLEDGE BASES, MAKING IT SUITABLE FOR A WIDE RANGE OF APPLICATIONS.\\n\\n**EXAMPLE:**\\n\\nIMAGINE YOU ASK AN LLM: \"WHAT WERE THE KEY FINDINGS OF THE LATEST IPCC REPORT ON CLIMATE CHANGE?\"\\n\\n*   **WITHOUT RAG:** THE LLM MIGHT TRY TO ANSWER BASED ON ITS PRE-EXISTING KNOWLEDGE, WHICH MIGHT BE OUTDATED OR INCOMPLETE.  IT MIGHT ALSO HALLUCINATE INFORMATION.\\n*   **WITH RAG:**\\n    1.  THE QUERY IS USED TO SEARCH A DATABASE OF SCIENTIFIC REPORTS (INCLUDING THE IPCC REPORT).\\n    2.  RELEVANT SECTIONS OF THE IPCC REPORT ARE RETRIEVED.\\n    3.  THE QUERY AND THE RETRIEVED INFORMATION ARE COMBINED INTO AN AUGMENTED PROMPT.\\n    4.  THE LLM GENERATES A RESPONSE BASED ON THE AUGMENTED PROMPT, PROVIDING ACCURATE AND UP-TO-DATE INFORMATION FROM THE IPCC REPORT.  IT MIGHT EVEN INCLUDE LINKS TO THE RELEVANT SECTIONS OF THE REPORT.\\n\\n**COMMON USE CASES:**\\n\\n*   **QUESTION ANSWERING:** ANSWERING COMPLEX QUESTIONS BASED ON A SPECIFIC DOCUMENT OR KNOWLEDGE BASE.\\n*   **CHATBOTS:** CREATING MORE INFORMATIVE AND HELPFUL CHATBOTS.\\n*   **CONTENT GENERATION:** GENERATING ARTICLES, SUMMARIES, OR OTHER TYPES OF CONTENT BASED ON RETRIEVED INFORMATION.\\n*   **RESEARCH:** ASSISTING RESEARCHERS IN FINDING AND SYNTHESIZING INFORMATION FROM LARGE DATASETS.\\n*   **CUSTOMER SUPPORT:** PROVIDING ACCURATE AND TIMELY ANSWERS TO CUSTOMER INQUIRIES.\\n\\nIN SUMMARY, RAG IS A POWERFUL TECHNIQUE THAT ENHANCES THE CAPABILITIES OF LARGE LANGUAGE MODELS BY ENABLING THEM TO ACCESS AND INCORPORATE EXTERNAL KNOWLEDGE, LEADING TO MORE ACCURATE, RELIABLE, AND INFORMATIVE RESPONSES.'"
      ]
     },
     "execution_count": 28,
     "metadata": {},
     "output_type": "execute_result"
    }
   ],
   "source": [
    "app2.invoke(\"What is RAG?\")"
   ]
  },
  {
   "cell_type": "code",
   "execution_count": 29,
   "id": "0fe6e33a",
   "metadata": {},
   "outputs": [
    {
     "name": "stdout",
     "output_type": "stream",
     "text": [
      "OKAY, LET'S BREAK DOWN WHAT GENAI (GENERATIVE AI) IS IN DETAIL.\n",
      "\n",
      "**WHAT IS GENERATIVE AI (GENAI)?**\n",
      "\n",
      "GENERATIVE AI REFERS TO A CATEGORY OF ARTIFICIAL INTELLIGENCE (AI) ALGORITHMS AND MODELS DESIGNED TO **CREATE NEW CONTENT** THAT IS SIMILAR TO, BUT DISTINCT FROM, THE DATA IT WAS TRAINED ON.  INSTEAD OF SIMPLY CLASSIFYING, PREDICTING, OR ANALYZING EXISTING DATA, GENAI *GENERATES* COMPLETELY NEW OUTPUTS. THESE OUTPUTS CAN TAKE VARIOUS FORMS, INCLUDING:\n",
      "\n",
      "*   **TEXT:** WRITING ARTICLES, POEMS, SCRIPTS, EMAILS, CODE, SUMMARIES, TRANSLATIONS, ETC.\n",
      "*   **IMAGES:** CREATING REALISTIC OR ARTISTIC IMAGES, EDITING EXISTING IMAGES, GENERATING VARIATIONS OF IMAGES.\n",
      "*   **AUDIO:** COMPOSING MUSIC, GENERATING SPEECH, CREATING SOUND EFFECTS.\n",
      "*   **VIDEO:** PRODUCING SHORT VIDEOS, ANIMATIONS, EDITING EXISTING VIDEO FOOTAGE.\n",
      "*   **3D MODELS:** GENERATING 3D OBJECTS FOR DESIGN, GAMES, OR SIMULATIONS.\n",
      "*   **CODE:** WRITING CODE IN VARIOUS PROGRAMMING LANGUAGES BASED ON DESCRIPTIONS OR EXAMPLES.\n",
      "*   **DATA (SYNTHETIC DATA):** CREATING DATASETS THAT MIMIC REAL-WORLD DATA, OFTEN USED FOR TRAINING OTHER AI MODELS.\n",
      "*   **CHEMICAL STRUCTURES/MOLECULES:** DESIGNING NEW MOLECULES WITH SPECIFIC PROPERTIES FOR DRUG DISCOVERY OR MATERIALS SCIENCE.\n",
      "\n",
      "**KEY CHARACTERISTICS OF GENAI:**\n",
      "\n",
      "*   **LEARNING FROM DATA:** GENAI MODELS ARE TRAINED ON VAST AMOUNTS OF DATA. THE MORE DATA THEY ARE EXPOSED TO, THE BETTER THEY BECOME AT UNDERSTANDING PATTERNS AND GENERATING REALISTIC OR CREATIVE OUTPUTS.\n",
      "*   **GENERATIVE PROCESS:** THE CORE OF GENAI LIES IN ITS ABILITY TO GENERATE NEW CONTENT. IT'S NOT JUST REGURGITATING WHAT IT HAS SEEN; IT'S SYNTHESIZING INFORMATION AND CREATING SOMETHING ORIGINAL.\n",
      "*   **STOCHASTIC (RANDOM) NATURE:** GENAI MODELS OFTEN INCORPORATE A DEGREE OF RANDOMNESS IN THEIR OUTPUT. THIS MEANS THAT EVEN WITH THE SAME INPUT, YOU MIGHT GET SLIGHTLY DIFFERENT RESULTS EACH TIME.  THIS RANDOMNESS IS CRUCIAL FOR CREATIVITY AND PREVENTING THE MODEL FROM SIMPLY MEMORIZING AND REPEATING TRAINING DATA.\n",
      "*   **CONTROL AND GUIDANCE:**  USERS CAN OFTEN CONTROL OR GUIDE THE GENERATION PROCESS BY PROVIDING PROMPTS, PARAMETERS, OR CONSTRAINTS. THIS ALLOWS FOR TAILORING THE OUTPUT TO SPECIFIC NEEDS AND PREFERENCES.\n",
      "\n",
      "**HOW GENAI WORKS (SIMPLIFIED EXPLANATION):**\n",
      "\n",
      "WHILE THE UNDERLYING MATHEMATICS CAN BE COMPLEX, HERE'S A SIMPLIFIED OVERVIEW OF HOW GENAI MODELS TYPICALLY WORK:\n",
      "\n",
      "1.  **TRAINING DATA:** THE MODEL IS FED A MASSIVE DATASET OF THE TYPE OF CONTENT IT'S SUPPOSED TO GENERATE (E.G., TEXT FROM BOOKS, IMAGES FROM THE INTERNET, AUDIO RECORDINGS OF MUSIC).\n",
      "\n",
      "2.  **LEARNING PATTERNS:**  DURING TRAINING, THE MODEL LEARNS THE UNDERLYING PATTERNS, STRUCTURES, AND RELATIONSHIPS WITHIN THE DATA. IT IDENTIFIES STATISTICAL CORRELATIONS AND DEPENDENCIES. FOR EXAMPLE, IN TEXT GENERATION, IT LEARNS WHICH WORDS OFTEN FOLLOW OTHER WORDS, OR HOW SENTENCES ARE STRUCTURED. IN IMAGE GENERATION, IT LEARNS ABOUT EDGES, SHAPES, COLORS, AND TEXTURES.\n",
      "\n",
      "3.  **LATENT SPACE:**  THE MODEL LEARNS TO REPRESENT THE TRAINING DATA IN A COMPRESSED, ABSTRACT, AND HIGH-DIMENSIONAL SPACE CALLED A \"LATENT SPACE.\" THINK OF IT AS A COMPRESSED REPRESENTATION OF ALL THE INFORMATION THE MODEL HAS LEARNED. SIMILAR DATA POINTS ARE CLUSTERED TOGETHER IN THIS SPACE.\n",
      "\n",
      "4.  **GENERATION:** TO GENERATE NEW CONTENT, THE MODEL SAMPLES A POINT FROM THE LATENT SPACE AND THEN \"DECODES\" IT TO CREATE THE CORRESPONDING OUTPUT.  THE SAMPLING PROCESS CAN BE RANDOM, OR IT CAN BE INFLUENCED BY USER INPUT (PROMPTS, CONDITIONS).\n",
      "\n",
      "5.  **REFINEMENT:** THE GENERATED OUTPUT MIGHT BE REFINED THROUGH FURTHER PROCESSING OR FEEDBACK LOOPS TO IMPROVE ITS QUALITY OR ADHERENCE TO THE DESIRED CHARACTERISTICS.\n",
      "\n",
      "**COMMON TYPES OF GENAI MODELS:**\n",
      "\n",
      "*   **GENERATIVE ADVERSARIAL NETWORKS (GANS):** GANS USE TWO NEURAL NETWORKS: A \"GENERATOR\" THAT CREATES CONTENT AND A \"DISCRIMINATOR\" THAT TRIES TO DISTINGUISH BETWEEN REAL AND GENERATED CONTENT.  THE GENERATOR AND DISCRIMINATOR COMPETE AGAINST EACH OTHER, DRIVING THE GENERATOR TO PRODUCE INCREASINGLY REALISTIC OUTPUTS.  GANS ARE COMMONLY USED FOR IMAGE AND VIDEO GENERATION.\n",
      "*   **VARIATIONAL AUTOENCODERS (VAES):** VAES LEARN A PROBABILISTIC REPRESENTATION OF THE DATA IN THE LATENT SPACE.  THIS ALLOWS THEM TO GENERATE NEW CONTENT BY SAMPLING FROM THIS DISTRIBUTION.  VAES ARE OFTEN USED FOR GENERATING IMAGES, AUDIO, AND OTHER TYPES OF DATA.\n",
      "*   **TRANSFORMERS:** TRANSFORMERS ARE A TYPE OF NEURAL NETWORK ARCHITECTURE THAT HAS REVOLUTIONIZED NATURAL LANGUAGE PROCESSING (NLP). THEY ARE PARTICULARLY GOOD AT CAPTURING LONG-RANGE DEPENDENCIES IN TEXT. MODELS LIKE GPT (GENERATIVE PRE-TRAINED TRANSFORMER) ARE BASED ON THE TRANSFORMER ARCHITECTURE AND ARE USED FOR TEXT GENERATION, TRANSLATION, AND OTHER NLP TASKS.\n",
      "*   **DIFFUSION MODELS:** THESE MODELS WORK BY GRADUALLY ADDING NOISE TO THE TRAINING DATA UNTIL IT BECOMES PURE NOISE. THEN, THEY LEARN TO REVERSE THIS PROCESS, STARTING FROM NOISE AND GRADUALLY REMOVING IT TO GENERATE NEW CONTENT. DIFFUSION MODELS HAVE ACHIEVED STATE-OF-THE-ART RESULTS IN IMAGE GENERATION.\n",
      "\n",
      "**EXAMPLES OF GENAI IN ACTION:**\n",
      "\n",
      "*   **CHATGPT, BARD, CLAUDE:**  LARGE LANGUAGE MODELS (LLMS) THAT CAN GENERATE HUMAN-LIKE TEXT FOR VARIOUS PURPOSES, INCLUDING WRITING ARTICLES, ANSWERING QUESTIONS, AND CREATING CODE.\n",
      "*   **DALL-E 2, MIDJOURNEY, STABLE DIFFUSION:**  AI MODELS THAT CAN GENERATE IMAGES FROM TEXT DESCRIPTIONS.\n",
      "*   **MUSICLM, JUKEBOX:** AI MODELS THAT CAN COMPOSE MUSIC IN VARIOUS STYLES.\n",
      "*   **GITHUB COPILOT:** AN AI-POWERED CODE ASSISTANT THAT CAN SUGGEST CODE SNIPPETS AND HELP DEVELOPERS WRITE CODE FASTER.\n",
      "*   **SYNTHETIC DATA GENERATION:**  CREATING REALISTIC BUT ARTIFICIAL DATASETS FOR TRAINING AI MODELS IN SITUATIONS WHERE REAL DATA IS SCARCE OR SENSITIVE.\n",
      "\n",
      "**APPLICATIONS OF GENAI:**\n",
      "\n",
      "GENAI HAS A WIDE RANGE OF APPLICATIONS ACROSS VARIOUS INDUSTRIES, INCLUDING:\n",
      "\n",
      "*   **CREATIVE ARTS:** GENERATING ART, MUSIC, WRITING, AND OTHER CREATIVE CONTENT.\n",
      "*   **MARKETING AND ADVERTISING:** CREATING PERSONALIZED ADS, MARKETING COPY, AND PRODUCT DESCRIPTIONS.\n",
      "*   **PRODUCT DESIGN:** GENERATING NEW PRODUCT DESIGNS AND PROTOTYPES.\n",
      "*   **DRUG DISCOVERY:** DESIGNING NEW MOLECULES WITH SPECIFIC PROPERTIES FOR DRUG DEVELOPMENT.\n",
      "*   **SOFTWARE DEVELOPMENT:** AUTOMATING CODE GENERATION AND TESTING.\n",
      "*   **EDUCATION:** CREATING PERSONALIZED LEARNING MATERIALS AND TUTORING SYSTEMS.\n",
      "*   **GAMING:** GENERATING GAME ASSETS, CHARACTERS, AND STORYLINES.\n",
      "*   **SCIENTIFIC RESEARCH:** SIMULATING COMPLEX SYSTEMS AND GENERATING NEW HYPOTHESES.\n",
      "*   **MANUFACTURING:** OPTIMIZING PRODUCTION PROCESSES AND DESIGNING NEW MATERIALS.\n",
      "\n",
      "**BENEFITS OF GENAI:**\n",
      "\n",
      "*   **AUTOMATION:** AUTOMATES THE CREATION OF CONTENT, FREEING UP HUMAN TIME AND RESOURCES.\n",
      "*   **CREATIVITY:** CAN GENERATE NOVEL AND UNEXPECTED IDEAS.\n",
      "*   **PERSONALIZATION:** ENABLES THE CREATION OF PERSONALIZED CONTENT FOR INDIVIDUAL USERS.\n",
      "*   **EFFICIENCY:** SPEEDS UP THE CONTENT CREATION PROCESS.\n",
      "*   **ACCESSIBILITY:** MAKES CONTENT CREATION MORE ACCESSIBLE TO PEOPLE WITHOUT SPECIALIZED SKILLS.\n",
      "\n",
      "**CHALLENGES AND CONCERNS:**\n",
      "\n",
      "*   **BIAS:** GENAI MODELS CAN INHERIT BIASES FROM THE DATA THEY ARE TRAINED ON, LEADING TO UNFAIR OR DISCRIMINATORY OUTPUTS.\n",
      "*   **COPYRIGHT AND INTELLECTUAL PROPERTY:**  THE USE OF COPYRIGHTED MATERIAL IN TRAINING DATA RAISES QUESTIONS ABOUT THE OWNERSHIP OF GENERATED CONTENT.\n",
      "*   **MISINFORMATION AND DEEPFAKES:** GENAI CAN BE USED TO CREATE CONVINCING FAKE IMAGES, VIDEOS, AND AUDIO, WHICH CAN BE USED TO SPREAD MISINFORMATION OR MANIPULATE PUBLIC OPINION.\n",
      "*   **JOB DISPLACEMENT:**  THE AUTOMATION OF CONTENT CREATION COULD LEAD TO JOB DISPLACEMENT IN SOME INDUSTRIES.\n",
      "*   **ETHICAL CONSIDERATIONS:**  THE POTENTIAL FOR MISUSE OF GENAI RAISES ETHICAL CONCERNS THAT NEED TO BE ADDRESSED.\n",
      "*   **HALLUCINATIONS:** LLMS CAN SOMETIMES GENERATE INCORRECT OR NONSENSICAL INFORMATION THAT SOUNDS PLAUSIBLE (CALLED \"HALLUCINATIONS\").\n",
      "\n",
      "**THE FUTURE OF GENAI:**\n",
      "\n",
      "GENAI IS A RAPIDLY EVOLVING FIELD WITH ENORMOUS POTENTIAL. AS MODELS BECOME MORE SOPHISTICATED AND DATA BECOMES MORE ABUNDANT, WE CAN EXPECT TO SEE EVEN MORE IMPRESSIVE AND TRANSFORMATIVE APPLICATIONS OF GENAI IN THE YEARS TO COME.  THE FOCUS WILL LIKELY BE ON:\n",
      "\n",
      "*   **IMPROVED ACCURACY AND RELIABILITY:** REDUCING BIAS AND HALLUCINATIONS.\n",
      "*   **GREATER CONTROL AND CUSTOMIZATION:** GIVING USERS MORE CONTROL OVER THE GENERATION PROCESS.\n",
      "*   **INTEGRATION WITH OTHER TECHNOLOGIES:** COMBINING GENAI WITH OTHER TECHNOLOGIES, SUCH AS ROBOTICS AND THE INTERNET OF THINGS.\n",
      "*   **ETHICAL DEVELOPMENT AND DEPLOYMENT:** DEVELOPING GUIDELINES AND REGULATIONS TO ENSURE THAT GENAI IS USED RESPONSIBLY AND ETHICALLY.\n",
      "\n",
      "IN SUMMARY, GENERATIVE AI IS A POWERFUL TECHNOLOGY WITH THE ABILITY TO CREATE NEW CONTENT ACROSS A WIDE RANGE OF DOMAINS.  WHILE IT OFFERS TREMENDOUS OPPORTUNITIES, IT'S CRUCIAL TO BE AWARE OF ITS LIMITATIONS AND POTENTIAL RISKS AND TO DEVELOP AND DEPLOY IT RESPONSIBLY.\n"
     ]
    }
   ],
   "source": [
    "print(app2.invoke(\"what is genai explain in detail?\"))"
   ]
  },
  {
   "cell_type": "code",
   "execution_count": 30,
   "id": "0fe43583",
   "metadata": {},
   "outputs": [],
   "source": [
    "input=\"what is a name of first US President?\""
   ]
  },
  {
   "cell_type": "code",
   "execution_count": 31,
   "id": "80f3ca08",
   "metadata": {},
   "outputs": [
    {
     "name": "stdout",
     "output_type": "stream",
     "text": [
      "here is output from llm\n",
      "_______\n",
      "The name of the first US President was **George Washington**.\n",
      "\n",
      "\n",
      "here is output from upper_string\n",
      "_______\n",
      "THE NAME OF THE FIRST US PRESIDENT WAS **GEORGE WASHINGTON**.\n",
      "\n",
      "\n"
     ]
    }
   ],
   "source": [
    "for output in app2.stream(input):\n",
    "    for key,value in output.items():\n",
    "        print(f\"here is output from {key}\")\n",
    "        print(\"_______\")\n",
    "        print(value)\n",
    "        print(\"\\n\")"
   ]
  },
  {
   "cell_type": "markdown",
   "id": "fe645c51",
   "metadata": {},
   "source": [
    "Here lets create our own output token counter"
   ]
  },
  {
   "cell_type": "code",
   "execution_count": 32,
   "id": "4afb36f3",
   "metadata": {},
   "outputs": [],
   "source": [
    "def function3(input):\n",
    "    token=input.split()\n",
    "    token_number=len(token)\n",
    "    token_number=f\"total token number is {token_number}\"\n",
    "    return token_number"
   ]
  },
  {
   "cell_type": "code",
   "execution_count": 33,
   "id": "3b335216",
   "metadata": {},
   "outputs": [],
   "source": [
    "workflow3=Graph()\n",
    "workflow3.add_node(\"llm\",function1)\n",
    "workflow3.add_node(\"token_counter\",function3)\n",
    "workflow3.add_edge(\"llm\",\"token_counter\")\n",
    "workflow3.set_entry_point(\"llm\")\n",
    "workflow3.set_finish_point(\"token_counter\")\n",
    "app3=workflow3.compile()"
   ]
  },
  {
   "cell_type": "code",
   "execution_count": 34,
   "id": "286986a6",
   "metadata": {},
   "outputs": [
    {
     "data": {
      "image/png": "[encoded data removed]",
      "text/plain": [
       "<IPython.core.display.Image object>"
      ]
     },
     "metadata": {},
     "output_type": "display_data"
    }
   ],
   "source": [
    "from IPython.display import Image, display\n",
    "\n",
    "try:\n",
    "    display(Image(app3.get_graph().draw_mermaid_png()))\n",
    "except Exception as e:\n",
    "    # This requires some extra dependencies and is optional\n",
    "    print(e)"
   ]
  },
  {
   "cell_type": "code",
   "execution_count": 35,
   "id": "ed1f17a1",
   "metadata": {},
   "outputs": [
    {
     "data": {
      "text/plain": [
       "'total token number is 10'"
      ]
     },
     "execution_count": 35,
     "metadata": {},
     "output_type": "execute_result"
    }
   ],
   "source": [
    "app3.invoke(\"what is a name of first US President?\")\n"
   ]
  },
  {
   "cell_type": "code",
   "execution_count": 36,
   "id": "83109ce9",
   "metadata": {},
   "outputs": [
    {
     "data": {
      "text/plain": [
       "'total token number is 1477'"
      ]
     },
     "execution_count": 36,
     "metadata": {},
     "output_type": "execute_result"
    }
   ],
   "source": [
    "app3.invoke(\"what is genai explain in detail?\")"
   ]
  },
  {
   "cell_type": "code",
   "execution_count": 37,
   "id": "1ebfd978",
   "metadata": {},
   "outputs": [
    {
     "data": {
      "text/plain": [
       "[{'url': 'https://langchain-ai.github.io/langgraph/concepts/low_level/',\n",
       "  'content': 'In LangGraph, nodes are typically python functions (sync or async) where the first positional argument is the state, and (optionally), the second positional argument is a \"config\", containing optional configurable parameters (such as a thread_id).\\nSimilar to NetworkX, you add these nodes to a graph using the add_node method:\\n[](https://langchain-ai.github.io/langgraph/concepts/low_level/#__codelineno-7-1)fromlangchain_core.runnablesimport RunnableConfig [...] LangGraph Glossary¶\\nGraphs¶\\nAt its core, LangGraph models agent workflows as graphs. You define the behavior of your agents using three key components:\\n\\n\\nState: A shared data structure that represents the current snapshot of your application. It can be any Python type, but is typically a TypedDict or Pydantic BaseModel.\\n\\n\\nNodes: Python functions that encode the logic of your agents. They receive the current State as input, perform some computation or side-effect, and return an updated State. [...] By composing Nodes and Edges, you can create complex, looping workflows that evolve the State over time. The real power, though, comes from how LangGraph manages that State. To emphasize: Nodes and Edges are nothing more than Python functions - they can contain an LLM or just good ol\\' Python code.\\nIn short: nodes do the work. edges tell what to do next.'},\n",
       " {'url': 'https://www.ionio.ai/blog/a-comprehensive-guide-about-langgraph-code-included',\n",
       "  'content': 'Now let’s take a look at each component of langgraph in detail 🚀\\nNodes\\nA node can be any function or tool your agent uses in langgraph and these nodes are connected with other nodes using edges. Every workflow ends with a “END” node in langgraph which shows the end of workflow. You also need to define a starting node which will be the starting point of your workflow. Optionally, you can also define an ending node if you know the ending point of your workflow.'}]"
      ]
     },
     "execution_count": 37,
     "metadata": {},
     "output_type": "execute_result"
    }
   ],
   "source": [
    "from langchain_community.tools.tavily_search import TavilySearchResults\n",
    "\n",
    "tool = TavilySearchResults(max_results=2)\n",
    "tools = [tool]\n",
    "tool.invoke(\"What's a 'node' in LangGraph?\")"
   ]
  },
  {
   "cell_type": "markdown",
   "id": "a6acb7bd",
   "metadata": {},
   "source": [
    "Integrating a RAG Pipeline🪈"
   ]
  },
  {
   "cell_type": "code",
   "execution_count": 38,
   "id": "dc57055e",
   "metadata": {},
   "outputs": [],
   "source": [
    "from langchain_google_genai import GoogleGenerativeAIEmbeddings\n",
    "embeddings = GoogleGenerativeAIEmbeddings(model=\"models/embedding-001\")"
   ]
  },
  {
   "cell_type": "code",
   "execution_count": 39,
   "id": "f9e5f21d",
   "metadata": {},
   "outputs": [],
   "source": [
    "from langchain_google_genai import ChatGoogleGenerativeAI\n",
    "llm = ChatGoogleGenerativeAI(model=\"gemini-2.0-flash\")"
   ]
  },
  {
   "cell_type": "code",
   "execution_count": 40,
   "id": "562d12a9",
   "metadata": {},
   "outputs": [
    {
     "data": {
      "text/plain": [
       "'Hi there! How can I help you today?'"
      ]
     },
     "execution_count": 40,
     "metadata": {},
     "output_type": "execute_result"
    }
   ],
   "source": [
    "llm.invoke(\"hi\").content"
   ]
  },
  {
   "cell_type": "code",
   "execution_count": 41,
   "id": "d5dc11cb",
   "metadata": {},
   "outputs": [],
   "source": [
    "from langchain_core.output_parsers import StrOutputParser\n",
    "from langchain_core.prompts import ChatPromptTemplate\n",
    "from langchain_core.runnables import RunnablePassthrough\n",
    "from langchain_community.document_loaders import TextLoader, DirectoryLoader\n",
    "from langchain_community.vectorstores import Chroma\n",
    "from langchain.text_splitter import RecursiveCharacterTextSplitter"
   ]
  },
  {
   "cell_type": "code",
   "execution_count": 42,
   "id": "5898d759",
   "metadata": {},
   "outputs": [],
   "source": [
    "loader=DirectoryLoader(\"../data\",glob=\"./*.txt\",loader_cls=lambda p: TextLoader(p, encoding=\"utf-8\"))\n",
    "docs=loader.load()\n",
    "text_splitter=RecursiveCharacterTextSplitter(\n",
    "    chunk_size=100,\n",
    "    chunk_overlap=50\n",
    ")\n",
    "new_docs = text_splitter.split_documents(documents=docs)\n",
    "doc_strings = [doc.page_content for doc in new_docs]"
   ]
  },
  {
   "cell_type": "code",
   "execution_count": 43,
   "id": "cec6ac24",
   "metadata": {},
   "outputs": [],
   "source": [
    "db = Chroma.from_documents(new_docs, embeddings)\n",
    "\n",
    "retriever = db.as_retriever(search_kwargs={\"k\": 3})"
   ]
  },
  {
   "cell_type": "code",
   "execution_count": 44,
   "id": "bac97e83",
   "metadata": {},
   "outputs": [
    {
     "name": "stderr",
     "output_type": "stream",
     "text": [
      "C:\\Users\\divak\\AppData\\Local\\Programs\\Python\\Python311\\ipykernel_22092\\681680962.py:2: LangChainDeprecationWarning: The method `BaseRetriever.get_relevant_documents` was deprecated in langchain-core 0.1.46 and will be removed in 1.0. Use :meth:`~invoke` instead.\n",
      "  docs = retriever.get_relevant_documents(query)\n"
     ]
    },
    {
     "name": "stdout",
     "output_type": "stream",
     "text": [
      "{'source': '..\\\\data\\\\output.txt'}\n",
      "LangGraph's flexibility and integration with the LangChain ecosystem make it a powerful tool for\n",
      "page_content='LangGraph's flexibility and integration with the LangChain ecosystem make it a powerful tool for' metadata={'source': '..\\\\data\\\\output.txt'}\n",
      "page_content='model (LLM) operations in a specific sequence, LangGraph is tailored for creating stateful,' metadata={'source': '..\\\\data\\\\output.txt'}\n",
      "page_content='​LangGraph is an open-source orchestration framework designed to build stateful, multi-agent systems' metadata={'source': '..\\\\data\\\\output.txt'}\n"
     ]
    }
   ],
   "source": [
    "query = \"what is LangGraph\"\n",
    "docs = retriever.get_relevant_documents(query)\n",
    "print(docs[0].metadata)\n",
    "print(docs[0].page_content)\n",
    "\n",
    "for doc in docs:\n",
    "    print(doc)"
   ]
  },
  {
   "cell_type": "code",
   "execution_count": 45,
   "id": "80facc0b",
   "metadata": {},
   "outputs": [],
   "source": [
    "def function_1(AgentState):\n",
    "    \n",
    "    message=AgentState[\"messages\"]\n",
    "    \n",
    "    question=message[-1]\n",
    "    \n",
    "    complete_prompt=\"Your task is to provide only the brief answer based on the user query. \\\n",
    "        Don't include too much reasoning. Following is the user query: \" + question\n",
    "    \n",
    "    response = llm.invoke(complete_prompt)\n",
    "    \n",
    "    AgentState['messages'].append(response.content) # appending LLM call response to the AgentState\n",
    "    \n",
    "    #print(AgentState)\n",
    "    \n",
    "    return AgentState"
   ]
  },
  {
   "cell_type": "code",
   "execution_count": 46,
   "id": "29ae9337",
   "metadata": {},
   "outputs": [],
   "source": [
    "AgentState={}"
   ]
  },
  {
   "cell_type": "code",
   "execution_count": 47,
   "id": "21706e8d",
   "metadata": {},
   "outputs": [],
   "source": [
    "AgentState[\"messages\"]=[]"
   ]
  },
  {
   "cell_type": "code",
   "execution_count": 48,
   "id": "e97f8a8f",
   "metadata": {},
   "outputs": [
    {
     "data": {
      "text/plain": [
       "{'messages': []}"
      ]
     },
     "execution_count": 48,
     "metadata": {},
     "output_type": "execute_result"
    }
   ],
   "source": [
    "AgentState"
   ]
  },
  {
   "cell_type": "code",
   "execution_count": 49,
   "id": "bacd2894",
   "metadata": {},
   "outputs": [],
   "source": [
    "AgentState[\"messages\"].append(\"hi, how are you?\")"
   ]
  },
  {
   "cell_type": "code",
   "execution_count": 50,
   "id": "7bc8fc69",
   "metadata": {},
   "outputs": [
    {
     "data": {
      "text/plain": [
       "{'messages': ['hi, how are you?']}"
      ]
     },
     "execution_count": 50,
     "metadata": {},
     "output_type": "execute_result"
    }
   ],
   "source": [
    "AgentState"
   ]
  },
  {
   "cell_type": "code",
   "execution_count": 51,
   "id": "6e29bda3",
   "metadata": {},
   "outputs": [],
   "source": [
    "AgentState[\"messages\"].append(\"hi, what you doing?\")"
   ]
  },
  {
   "cell_type": "code",
   "execution_count": 52,
   "id": "477e35d0",
   "metadata": {},
   "outputs": [
    {
     "data": {
      "text/plain": [
       "{'messages': ['hi, how are you?', 'hi, what you doing?']}"
      ]
     },
     "execution_count": 52,
     "metadata": {},
     "output_type": "execute_result"
    }
   ],
   "source": [
    "AgentState"
   ]
  },
  {
   "cell_type": "code",
   "execution_count": 53,
   "id": "57c7a1ab",
   "metadata": {},
   "outputs": [],
   "source": [
    "def function_2(AgentState):\n",
    "    messages = AgentState['messages']\n",
    "    question = messages[0] ## Fetching the user question\n",
    "\n",
    "    template = \"\"\"Answer the question based only on the following context:\n",
    "    {context}\n",
    "\n",
    "    Question: {question}\n",
    "    \"\"\"\n",
    "    prompt = ChatPromptTemplate.from_template(template)\n",
    "\n",
    "    retrieval_chain = (\n",
    "        {\"context\": retriever, \"question\": RunnablePassthrough()}\n",
    "        | prompt\n",
    "        | llm\n",
    "        | StrOutputParser()\n",
    "        )\n",
    "    result = retrieval_chain.invoke(question)\n",
    "    return result"
   ]
  },
  {
   "cell_type": "code",
   "execution_count": 54,
   "id": "bdf18610",
   "metadata": {},
   "outputs": [],
   "source": [
    "# Define a Langchain graph\n",
    "from langgraph.graph import Graph\n",
    "workflow4 = Graph()\n",
    "workflow4.add_node(\"LLM\", function_1)\n",
    "workflow4.add_node(\"RAGtool\", function_2)\n",
    "workflow4.add_edge('LLM', 'RAGtool')\n",
    "workflow4.set_entry_point(\"LLM\")\n",
    "workflow4.set_finish_point(\"RAGtool\")\n",
    "app4 = workflow4.compile()"
   ]
  },
  {
   "cell_type": "code",
   "execution_count": 55,
   "id": "17a88fed",
   "metadata": {},
   "outputs": [
    {
     "data": {
      "image/png": "[encoded data removed]",
      "text/plain": [
       "<IPython.core.display.Image object>"
      ]
     },
     "metadata": {},
     "output_type": "display_data"
    }
   ],
   "source": [
    "from IPython.display import Image, display\n",
    "\n",
    "try:\n",
    "    display(Image(app4.get_graph().draw_mermaid_png()))\n",
    "except Exception as e:\n",
    "    # This requires some extra dependencies and is optional\n",
    "    print(e)"
   ]
  },
  {
   "cell_type": "code",
   "execution_count": 56,
   "id": "ecb0c471",
   "metadata": {},
   "outputs": [],
   "source": [
    "inputs = {\"messages\": [\"Tell me about LangGraph\"]}"
   ]
  },
  {
   "cell_type": "code",
   "execution_count": 57,
   "id": "5b26e4c5",
   "metadata": {},
   "outputs": [
    {
     "name": "stdout",
     "output_type": "stream",
     "text": [
      "Output from node 'LLM':\n",
      "---\n",
      "{'messages': ['Tell me about LangGraph', 'LangGraph is a Python library for building robust and stateful conversational AI applications.']}\n",
      "\n",
      "---\n",
      "\n",
      "Output from node 'RAGtool':\n",
      "---\n",
      "LangGraph is flexible, integrates with LangChain, and is tailored for creating stateful, multi-agent systems with dynamic and interactive model operations in a specific sequence. It is a powerful tool.\n",
      "\n",
      "---\n",
      "\n"
     ]
    }
   ],
   "source": [
    "for output in app4.stream(inputs):\n",
    "    # stream() yields dictionaries with output keyed by node name\n",
    "    for key, value in output.items():\n",
    "        print(f\"Output from node '{key}':\")\n",
    "        print(\"---\")\n",
    "        print(value)\n",
    "    print(\"\\n---\\n\")"
   ]
  },
  {
   "cell_type": "code",
   "execution_count": 58,
   "id": "641b91dd",
   "metadata": {},
   "outputs": [],
   "source": [
    "loader2=DirectoryLoader(\"../data2\",glob=\"./*.txt\",loader_cls=lambda p: TextLoader(p, encoding=\"utf-8\"))\n",
    "docs2=loader2.load()\n",
    "\n",
    "text_splitter=RecursiveCharacterTextSplitter(\n",
    "    chunk_size=100,\n",
    "    chunk_overlap=50\n",
    ")\n",
    "new_docs2 = text_splitter.split_documents(documents=docs2)\n",
    "doc_strings2 = [doc.page_content for doc in new_docs2]"
   ]
  },
  {
   "cell_type": "code",
   "execution_count": 59,
   "id": "a9125f09",
   "metadata": {},
   "outputs": [],
   "source": [
    "db2 = Chroma.from_documents(new_docs2, embeddings)\n",
    "retriever2 = db2.as_retriever(search_kwargs={\"k\": 3})"
   ]
  },
  {
   "cell_type": "code",
   "execution_count": 60,
   "id": "8f526f6f",
   "metadata": {},
   "outputs": [
    {
     "name": "stdout",
     "output_type": "stream",
     "text": [
      "{'source': '..\\\\data2\\\\indian_economy.txt'}\n",
      "India’s industrial growth has outpaced expectations, raising hopes that the economy will avoid a\n",
      "page_content='India’s industrial growth has outpaced expectations, raising hopes that the economy will avoid a' metadata={'source': '..\\\\data2\\\\indian_economy.txt'}\n",
      "page_content='India’s strong export sectors—including textiles, IT services, and automotive manufacturing—had' metadata={'source': '..\\\\data2\\\\indian_economy.txt'}\n",
      "page_content='India’s last eight years of GDP (hypothetical data):' metadata={'source': '..\\\\data2\\\\indian_economy.txt'}\n"
     ]
    }
   ],
   "source": [
    "query = \"Tell me about India's Industrial Growth?\"\n",
    "docs = retriever2.get_relevant_documents(query)\n",
    "print(docs[0].metadata)\n",
    "print(docs[0].page_content)\n",
    "\n",
    "for doc in docs:\n",
    "    print(doc)"
   ]
  },
  {
   "cell_type": "markdown",
   "id": "a976bd4d",
   "metadata": {},
   "source": [
    "1. TypedDict:\n",
    "TypedDict is a special type that allows you to define a dictionary in Python where each key has a specific type. It’s useful when you want to enforce type checks on the keys and values of a dictionary.\n",
    "\n",
    "2. Annotated:\n",
    "Annotated is used to add metadata or constraints to a type. It’s typically used for adding additional information, like constraints or descriptions, to the type.\n",
    "\n",
    "3. Sequence[BaseMessage]:\n",
    "Sequence is a generic type from Python's typing module that represents a list-like structure (such as a list or tuple) where the order matters, and you can access elements by their position.\n",
    "\n",
    "4. BaseMessage:\n",
    "Basemessage: This assumes you're working with the LangChain framework, and BaseMessage is part of its core messaging system. It is typically used when handling or processing messages in LangChain's workflows\n",
    "\n",
    "5. operator.add:\n",
    "operator.add is a function from Python’s operator module that performs addition (+) on its arguments. In this context, operator.add is being used as metadata for the Annotated type, likely suggesting that the sequence of BaseMessage objects is meant to be \"added\" or concatenated with another sequence at some point. It’s an indicator of how the messages field will be treated in the logic of your program.\n",
    "\n",
    "* TopicSelectionParser: A Pydantic model that defines two fields (Topic and Reasoning), both of which are required to be strings.\n",
    "\n",
    "* Field: Adds metadata, like descriptions, and can also be used for validation and constraints.\n",
    "\n",
    "* Pydantic’s Role: Ensures that the data matches the expected structure and types, raising validation errors if the data is invalid."
   ]
  },
  {
   "cell_type": "code",
   "execution_count": 61,
   "id": "31fc52e0",
   "metadata": {},
   "outputs": [],
   "source": [
    "from typing import TypedDict, Annotated, Sequence\n",
    "import operator\n",
    "from langchain_core.messages import BaseMessage\n",
    "from langchain.prompts import PromptTemplate"
   ]
  },
  {
   "cell_type": "code",
   "execution_count": 62,
   "id": "563d66f2",
   "metadata": {},
   "outputs": [],
   "source": [
    "class AgentState(TypedDict):\n",
    "    # The 'messages' field should be a sequence of strings, and we annotate it with 'operator.add'\n",
    "    # This implies we might want to \"add\" new messages to the sequence later\n",
    "    messages: Annotated[Sequence[BaseMessage], operator.add]"
   ]
  },
  {
   "cell_type": "markdown",
   "id": "700b6d57",
   "metadata": {},
   "source": [
    "#### Putting It All Together:\n",
    "* The line messages: Annotated[Sequence[BaseMessage], operator.add] defines a field messages that:\n",
    "\n",
    "* Must be a sequence (like a list or tuple) of BaseMessage objects. Has the additional annotation operator.add, which suggests that this sequence is intended to support addition (i.e., concatenation of multiple sequences of messages).\n",
    "\n",
    "messages: Annotated[Sequence[BaseMessage], operator.add]\n",
    "\n",
    "\"messages\": [BaseMessage(\"Hello!\", \"Alice\"), BaseMessage(\"Hi!\", \"Bob\")]"
   ]
  },
  {
   "cell_type": "code",
   "execution_count": 63,
   "id": "d6a944c2",
   "metadata": {},
   "outputs": [],
   "source": [
    "from pydantic import BaseModel , Field\n",
    "class TopicSelectionParser(BaseModel):\n",
    "    Topic: str = Field(description='Selected Topic')\n",
    "    Reasoning: str = Field(description='Reasoning behind topic selection')"
   ]
  },
  {
   "cell_type": "code",
   "execution_count": 64,
   "id": "aad803a9",
   "metadata": {},
   "outputs": [],
   "source": [
    "from langchain.output_parsers import PydanticOutputParser\n",
    "parser = PydanticOutputParser(pydantic_object=TopicSelectionParser)"
   ]
  },
  {
   "cell_type": "code",
   "execution_count": 65,
   "id": "075dc778",
   "metadata": {},
   "outputs": [
    {
     "name": "stdout",
     "output_type": "stream",
     "text": [
      "The output should be formatted as a JSON instance that conforms to the JSON schema below.\n",
      "\n",
      "As an example, for the schema {\"properties\": {\"foo\": {\"title\": \"Foo\", \"description\": \"a list of strings\", \"type\": \"array\", \"items\": {\"type\": \"string\"}}}, \"required\": [\"foo\"]}\n",
      "the object {\"foo\": [\"bar\", \"baz\"]} is a well-formatted instance of the schema. The object {\"properties\": {\"foo\": [\"bar\", \"baz\"]}} is not well-formatted.\n",
      "\n",
      "Here is the output schema:\n",
      "```\n",
      "{\"properties\": {\"Topic\": {\"description\": \"Selected Topic\", \"title\": \"Topic\", \"type\": \"string\"}, \"Reasoning\": {\"description\": \"Reasoning behind topic selection\", \"title\": \"Reasoning\", \"type\": \"string\"}}, \"required\": [\"Topic\", \"Reasoning\"]}\n",
      "```\n"
     ]
    }
   ],
   "source": [
    "print(parser.get_format_instructions())"
   ]
  },
  {
   "cell_type": "markdown",
   "id": "c41d3eac",
   "metadata": {},
   "source": [
    "The output should be formatted as a JSON instance that conforms to the JSON schema below.\n",
    "\n",
    "As an example, for the schema {\"properties\": {\"foo\": {\"title\": \"Foo\", \"description\": \"a list of strings\", \"type\": \"array\", \"items\": {\"type\": \"string\"}}}, \"required\": [\"foo\"]} the object {\"foo\": [\"bar\", \"baz\"]} is a well-formatted instance of the schema. The object {\"properties\": {\"foo\": [\"bar\", \"baz\"]}} is not well-formatted.\n",
    "\n",
    "Here is the output schema:\n",
    "\n",
    "{\"properties\": {\"Topic\": {\"description\": \"Selected Topic\", \"title\": \"Topic\", \"type\": \"string\"}, \"Reasoning\": {\"description\": \"Reasoning behind topic selection\", \"title\": \"Reasoning\", \"type\": \"string\"}}, \"required\": [\"Topic\", \"Reasoning\"]}"
   ]
  },
  {
   "cell_type": "code",
   "execution_count": 66,
   "id": "044c3e0e",
   "metadata": {},
   "outputs": [],
   "source": [
    "def function_1(state):\n",
    "    message=state[\"messages\"]\n",
    "    question=message[-1]\n",
    "    print(question)\n",
    "    \n",
    "    template=\"\"\"\n",
    "    Your task is to classify the given user query into one of the following categories: [India, Not Related]. \n",
    "    Only respond with the category name and nothing else.\n",
    "\n",
    "    User query: {question}\n",
    "    {format_instructions}\n",
    "    \"\"\"\n",
    "    \n",
    "    prompt = PromptTemplate(template=template,\n",
    "                                    input_variables=[question],\n",
    "                                    partial_variables={\n",
    "                                        \"format_instructions\" : parser.get_format_instructions()                                    }\n",
    "                                    )\n",
    "    chain =  prompt | llm | parser\n",
    "    \n",
    "    response = chain.invoke({\"question\":question,\"format_instructions\" : parser.get_format_instructions() })\n",
    "\n",
    "    print(response)\n",
    "\n",
    "    return {\"messages\": [response.Topic]}"
   ]
  },
  {
   "cell_type": "code",
   "execution_count": 67,
   "id": "07258a00",
   "metadata": {},
   "outputs": [],
   "source": [
    "template=\"\"\"\n",
    "    Your task is to classify the given user query into one of the following categories: [India, Not Related]. \n",
    "    Only respond with the category name and nothing else.\n",
    "\n",
    "    User query: \"Tell me about India's Industrial Growth\"\n",
    "    The output should be formatted as a JSON instance that conforms to the JSON schema below.\n",
    "\n",
    "    As an example, for the schema {\"properties\": {\"foo\": {\"title\": \"Foo\", \"description\": \"a list of strings\", \"type\": \"array\", \"items\": {\"type\": \"string\"}}}, \"required\": [\"foo\"]}\n",
    "    the object {\"foo\": [\"bar\", \"baz\"]} is a well-formatted instance of the schema. The object {\"properties\": {\"foo\": [\"bar\", \"baz\"]}} is not well-formatted.\n",
    "\n",
    "    Here is the output schema:\n",
    "    ```\n",
    "    {\"properties\": {\"Topic\": {\"description\": \"Selected Topic\", \"title\": \"Topic\", \"type\": \"string\"}, \"Reasoning\": {\"description\": \"Reasoning behind topic selection\", \"title\": \"Reasoning\", \"type\": \"string\"}}, \"required\": [\"Topic\", \"Reasoning\"]}\n",
    "        \"\"\""
   ]
  },
  {
   "cell_type": "markdown",
   "id": "a7fa79d4",
   "metadata": {},
   "source": [
    "template=\"\"\" Your task is to classify the given user query into one of the following categories: [India, Not Related]. Only respond with the category name and nothing else.\n",
    "\n",
    "User query: \"Tell me about India's Industrial Growth\"\n",
    "The output should be formatted as a JSON instance that conforms to the JSON schema below.\n",
    "\n",
    "As an example, for the schema {\"properties\": {\"foo\": {\"title\": \"Foo\", \"description\": \"a list of strings\", \"type\": \"array\", \"items\": {\"type\": \"string\"}}}, \"required\": [\"foo\"]}\n",
    "the object {\"foo\": [\"bar\", \"baz\"]} is a well-formatted instance of the schema. The object {\"properties\": {\"foo\": [\"bar\", \"baz\"]}} is not well-formatted.\n",
    "\n",
    "Here is the output schema:\n",
    "```\n",
    "{\"properties\": {\"Topic\": {\"description\": \"Selected Topic\", \"title\": \"Topic\", \"type\": \"string\"}, \"Reasoning\": {\"description\": \"Reasoning behind topic selection\", \"title\": \"Reasoning\", \"type\": \"string\"}}, \"required\": [\"Topic\", \"Reasoning\"]}\n",
    "    \"\"\""
   ]
  },
  {
   "cell_type": "code",
   "execution_count": 68,
   "id": "92631a33",
   "metadata": {},
   "outputs": [],
   "source": [
    "state={\"messages\": [\"Tell me about India's Industrial Growth\"]}"
   ]
  },
  {
   "cell_type": "code",
   "execution_count": 69,
   "id": "6961e458",
   "metadata": {},
   "outputs": [
    {
     "name": "stdout",
     "output_type": "stream",
     "text": [
      "Tell me about India's Industrial Growth\n",
      "Topic='India' Reasoning=\"The query explicitly mentions 'India's Industrial Growth', indicating a clear focus on India.\"\n"
     ]
    },
    {
     "data": {
      "text/plain": [
       "{'messages': ['India']}"
      ]
     },
     "execution_count": 69,
     "metadata": {},
     "output_type": "execute_result"
    }
   ],
   "source": [
    "function_1(state)"
   ]
  },
  {
   "cell_type": "code",
   "execution_count": 70,
   "id": "4dbe14a3",
   "metadata": {},
   "outputs": [],
   "source": [
    "def router(state):\n",
    "    print('-> Router ->')\n",
    "    \n",
    "    messages = state[\"messages\"]\n",
    "    last_message = messages[-1]\n",
    "    print(last_message)\n",
    "    if 'India' in last_message:\n",
    "        return 'RAG Call'\n",
    "    else:\n",
    "        return 'LLM Call'"
   ]
  },
  {
   "cell_type": "code",
   "execution_count": 71,
   "id": "0d1dcf3e",
   "metadata": {},
   "outputs": [],
   "source": [
    "def function_2(state):\n",
    "    print('-> Calling RAG ->')\n",
    "    messages = state['messages']\n",
    "    question = messages[0] ## Fetching the user question\n",
    "    print(question)\n",
    "\n",
    "    template = \"\"\"Answer the question based only on the following context:\n",
    "    {context}\n",
    "\n",
    "    Question: {question}\n",
    "    \"\"\"\n",
    "    prompt = ChatPromptTemplate.from_template(template)\n",
    "    \n",
    "    print(prompt)\n",
    "\n",
    "    retrieval_chain = (\n",
    "        {\"context\": retriever, \"question\": RunnablePassthrough()}\n",
    "        | prompt\n",
    "        | llm\n",
    "        | StrOutputParser()\n",
    "        )\n",
    "    result = retrieval_chain.invoke(question)\n",
    "    return  {\"messages\": [result]}"
   ]
  },
  {
   "cell_type": "code",
   "execution_count": 72,
   "id": "71a77f4e",
   "metadata": {},
   "outputs": [],
   "source": [
    "def function_3(state):\n",
    "    print('-> Calling LLM ->')\n",
    "\n",
    "    messages = state['messages']\n",
    "    question = messages[0] ## Fetching the user question\n",
    "\n",
    "    # Normal LLM call\n",
    "    complete_query = \"Anwer the follow question with your knowledge of the real world. Following is the user question: \" + question\n",
    "    response = llm.invoke(complete_query)\n",
    "    return {\"messages\": [response.content]}"
   ]
  },
  {
   "cell_type": "code",
   "execution_count": 73,
   "id": "ac41c2d8",
   "metadata": {},
   "outputs": [
    {
     "data": {
      "text/plain": [
       "__main__.AgentState"
      ]
     },
     "execution_count": 73,
     "metadata": {},
     "output_type": "execute_result"
    }
   ],
   "source": [
    "AgentState"
   ]
  },
  {
   "cell_type": "code",
   "execution_count": 74,
   "id": "2475ba64",
   "metadata": {},
   "outputs": [],
   "source": [
    "from langgraph.graph import StateGraph,END\n",
    "\n",
    "workflow5 = StateGraph(AgentState) ### StateGraph with AgentState\n",
    "\n",
    "\n",
    "workflow5.add_node(\"agent\", function_1)\n",
    "\n",
    "workflow5.add_node(\"RAG\", function_2)\n",
    "\n",
    "workflow5.add_node(\"LLM\", function_3)\n",
    "\n",
    "\n",
    "workflow5.set_entry_point(\"agent\")\n",
    "\n",
    "workflow5.add_conditional_edges(\n",
    "    \"agent\",\n",
    "    \n",
    "    \n",
    "    router,\n",
    "    {\n",
    "        \"RAG Call\": \"RAG\",\n",
    "        \"LLM Call\": \"LLM\",\n",
    "    }\n",
    ")\n",
    "\n",
    "workflow5.add_edge(\"RAG\",END)\n",
    "\n",
    "\n",
    "workflow5.add_edge(\"LLM\",END)\n",
    "\n",
    "\n",
    "app5=workflow5.compile()"
   ]
  },
  {
   "cell_type": "code",
   "execution_count": 75,
   "id": "57100c01",
   "metadata": {},
   "outputs": [
    {
     "data": {
      "image/png": "[encoded data removed]",
      "text/plain": [
       "<IPython.core.display.Image object>"
      ]
     },
     "metadata": {},
     "output_type": "display_data"
    }
   ],
   "source": [
    "from IPython.display import Image, display\n",
    "\n",
    "try:\n",
    "    display(Image(app5.get_graph().draw_mermaid_png()))\n",
    "except Exception as e:\n",
    "    # This requires some extra dependencies and is optional\n",
    "    print(e)"
   ]
  },
  {
   "cell_type": "code",
   "execution_count": 76,
   "id": "ef7670e9",
   "metadata": {},
   "outputs": [],
   "source": [
    "inputs = {\"messages\": [\"Tell me about USA Industrial Growth\"]}"
   ]
  },
  {
   "cell_type": "code",
   "execution_count": 77,
   "id": "1134b364",
   "metadata": {},
   "outputs": [
    {
     "name": "stdout",
     "output_type": "stream",
     "text": [
      "Tell me about USA Industrial Growth\n",
      "Topic='Not Related' Reasoning='The query is about USA, not India.'\n",
      "-> Router ->\n",
      "Not Related\n",
      "-> Calling LLM ->\n"
     ]
    }
   ],
   "source": [
    "output = app5.invoke(inputs)"
   ]
  },
  {
   "cell_type": "code",
   "execution_count": 78,
   "id": "5b3322d7",
   "metadata": {},
   "outputs": [
    {
     "data": {
      "text/plain": [
       "{'messages': ['Tell me about USA Industrial Growth',\n",
       "  'Not Related',\n",
       "  \"The industrial growth of the United States has been a long and transformative journey, shaping not only the American economy but also the global landscape. Here's a look at its key stages and drivers:\\n\\n**1. The First Industrial Revolution (Late 18th Century - Mid 19th Century):**\\n\\n*   **Focus:** Primarily textile production, powered by water and later steam.\\n*   **Key Innovations:**\\n    *   **Textile Mills:**  The invention of the power loom and spinning jenny revolutionized cloth production, leading to the growth of factories.\\n    *   **Steam Engine:** Enabled factories to move away from water sources and powered transportation.\\n    *   **Interchangeable Parts:** Eli Whitney's concept, initially for firearms, laid the groundwork for mass production.\\n*   **Key Industries:** Textiles, iron production, shipbuilding.\\n*   **Impact:**\\n    *   Shift from agrarian society to manufacturing.\\n    *   Growth of cities and urbanization.\\n    *   Increased demand for labor.\\n    *   Development of transportation infrastructure (canals, early railroads).\\n*   **Geographic Centers:** New England (textiles), Pennsylvania (iron).\\n\\n**2. The Second Industrial Revolution (Mid 19th Century - Early 20th Century):**\\n\\n*   **Focus:** Heavy industry, fueled by steel, electricity, and the internal combustion engine.\\n*   **Key Innovations:**\\n    *   **Bessemer Process:** Mass production of steel, leading to stronger and cheaper materials for construction and manufacturing.\\n    *   **Electricity:**  Enabled widespread electrification, powering factories and homes.\\n    *   **Internal Combustion Engine:** Revolutionized transportation with the development of automobiles and airplanes.\\n    *   **Assembly Line:**  Henry Ford's application of this principle dramatically increased production efficiency.\\n    *   **Telephone and Telegraph:**  Revolutionized communication.\\n*   **Key Industries:** Steel, oil, automobiles, chemicals, electrical equipment.\\n*   **Impact:**\\n    *   Mass production and consumerism.\\n    *   Rise of large corporations and monopolies.\\n    *   Increased demand for raw materials (iron ore, coal, oil).\\n    *   Further urbanization and immigration.\\n    *   Development of a national transportation network (railroads, highways).\\n*   **Geographic Centers:** Pittsburgh (steel), Detroit (automobiles), New York City (finance).\\n\\n**3. Post-World War II Boom (Mid 20th Century):**\\n\\n*   **Focus:**  Consumer goods, aerospace, and defense industries.\\n*   **Key Factors:**\\n    *   **Pent-up Demand:**  After years of wartime rationing, consumers were eager to spend.\\n    *   **Government Spending:**  The Cold War fueled investment in defense and aerospace.\\n    *   **Technological Advancements:**  Developments in electronics, plastics, and aviation.\\n    *   **Suburbanization:**  Led to increased demand for housing, automobiles, and appliances.\\n*   **Key Industries:** Automobiles, aerospace, electronics, chemicals, consumer goods.\\n*   **Impact:**\\n    *   Economic prosperity and a rising standard of living.\\n    *   Growth of the middle class.\\n    *   Expansion of suburban areas.\\n    *   Increased globalization and trade.\\n*   **Geographic Centers:** California (aerospace, technology), the Midwest (automobiles), the Sun Belt (various industries).\\n\\n**4. The Information Age (Late 20th Century - Present):**\\n\\n*   **Focus:**  Technology, information, and services.\\n*   **Key Innovations:**\\n    *   **The Internet:** Revolutionized communication, commerce, and access to information.\\n    *   **Computers:**  Enabled automation, data processing, and software development.\\n    *   **Mobile Technology:**  Smartphones and tablets transformed communication and access to information.\\n    *   **Biotechnology:** Advances in medicine, agriculture, and other fields.\\n*   **Key Industries:** Software, internet services, biotechnology, finance, healthcare.\\n*   **Impact:**\\n    *   Globalization and increased international trade.\\n    *   Automation and a shift towards a service-based economy.\\n    *   Increased productivity and efficiency.\\n    *   Rise of the gig economy.\\n*   **Geographic Centers:** Silicon Valley (technology), New York City (finance, media), Boston (biotechnology).\\n\\n**Current Trends and Challenges:**\\n\\n*   **Automation and Artificial Intelligence (AI):**  Continuing to transform manufacturing and other industries, potentially leading to job displacement but also increased productivity.\\n*   **Globalization and Trade:**  Increased competition from foreign manufacturers and the need to adapt to changing global trade policies.\\n*   **Supply Chain Disruptions:**  The COVID-19 pandemic exposed vulnerabilities in global supply chains, leading to efforts to reshore or nearshore manufacturing.\\n*   **Sustainability and Green Technology:**  Growing pressure to reduce carbon emissions and develop sustainable manufacturing practices.\\n*   **Skills Gap:**  A shortage of skilled workers in areas such as advanced manufacturing, engineering, and computer science.\\n*   **Reshoring/Onshoring:** Efforts to bring manufacturing back to the US due to factors like rising labor costs in other countries, concerns about supply chain security, and government incentives.\\n\\n**Government Role:**\\n\\nThroughout its history, the US government has played a significant role in fostering industrial growth through:\\n\\n*   **Infrastructure Development:** Investing in transportation networks (railroads, highways, airports).\\n*   **Education and Research:** Supporting education and funding scientific research.\\n*   **Regulation:**  Establishing standards for safety, environmental protection, and labor practices.\\n*   **Trade Policy:**  Negotiating trade agreements and imposing tariffs.\\n*   **Tax Incentives:**  Providing tax breaks to encourage investment in specific industries or regions.\\n\\n**In Conclusion:**\\n\\nThe industrial growth of the United States has been a dynamic and evolving process, driven by innovation, technological advancements, and government policies.  While the US has faced challenges like deindustrialization in some sectors, it continues to be a major industrial power, particularly in high-tech industries and advanced manufacturing.  The future of US industrial growth will likely be shaped by factors such as automation, globalization, sustainability, and the ability to adapt to rapid technological change.\"]}"
      ]
     },
     "execution_count": 78,
     "metadata": {},
     "output_type": "execute_result"
    }
   ],
   "source": [
    "output"
   ]
  },
  {
   "cell_type": "code",
   "execution_count": 79,
   "id": "6dbc0594",
   "metadata": {},
   "outputs": [],
   "source": [
    "inputs = {\"messages\": [\"Tell me about India's Industrial Growth\"]}"
   ]
  },
  {
   "cell_type": "code",
   "execution_count": 80,
   "id": "43592f36",
   "metadata": {},
   "outputs": [
    {
     "name": "stdout",
     "output_type": "stream",
     "text": [
      "Tell me about India's Industrial Growth\n",
      "Topic='India' Reasoning=\"The query explicitly mentions 'India's Industrial Growth'.\"\n",
      "-> Router ->\n",
      "India\n",
      "-> Calling RAG ->\n",
      "Tell me about India's Industrial Growth\n",
      "input_variables=['context', 'question'] input_types={} partial_variables={} messages=[HumanMessagePromptTemplate(prompt=PromptTemplate(input_variables=['context', 'question'], input_types={}, partial_variables={}, template='Answer the question based only on the following context:\\n    {context}\\n\\n    Question: {question}\\n    '), additional_kwargs={})]\n"
     ]
    }
   ],
   "source": [
    "output = app5.invoke(inputs)"
   ]
  },
  {
   "cell_type": "code",
   "execution_count": 81,
   "id": "b6f0572c",
   "metadata": {},
   "outputs": [
    {
     "data": {
      "text/plain": [
       "{'messages': [\"Tell me about India's Industrial Growth\",\n",
       "  'India',\n",
       "  \"India's industrial growth has outpaced expectations.\"]}"
      ]
     },
     "execution_count": 81,
     "metadata": {},
     "output_type": "execute_result"
    }
   ],
   "source": [
    "output"
   ]
  },
  {
   "cell_type": "code",
   "execution_count": 82,
   "id": "52021ddb",
   "metadata": {},
   "outputs": [],
   "source": [
    "inputs = {\"messages\": [\"who build the Taj Mahal?\"]}"
   ]
  },
  {
   "cell_type": "code",
   "execution_count": 83,
   "id": "6ad2d202",
   "metadata": {},
   "outputs": [
    {
     "name": "stdout",
     "output_type": "stream",
     "text": [
      "who build the Taj Mahal?\n",
      "Topic='India' Reasoning='The Taj Mahal is located in India and is a significant part of Indian history and culture.'\n",
      "-> Router ->\n",
      "India\n",
      "-> Calling RAG ->\n",
      "who build the Taj Mahal?\n",
      "input_variables=['context', 'question'] input_types={} partial_variables={} messages=[HumanMessagePromptTemplate(prompt=PromptTemplate(input_variables=['context', 'question'], input_types={}, partial_variables={}, template='Answer the question based only on the following context:\\n    {context}\\n\\n    Question: {question}\\n    '), additional_kwargs={})]\n"
     ]
    }
   ],
   "source": [
    "output = app5.invoke(inputs)"
   ]
  },
  {
   "cell_type": "code",
   "execution_count": 84,
   "id": "c3d2d499",
   "metadata": {},
   "outputs": [
    {
     "data": {
      "text/plain": [
       "{'messages': ['who build the Taj Mahal?',\n",
       "  'India',\n",
       "  'This question cannot be answered from the given context. The provided documents discuss the Indian economy, specifically export sectors like textiles, IT services, and automotive manufacturing, as well as the demand for Indian IT services and pharmaceuticals. There is no mention of the Taj Mahal or its construction.']}"
      ]
     },
     "execution_count": 84,
     "metadata": {},
     "output_type": "execute_result"
    }
   ],
   "source": [
    "output "
   ]
  },
  {
   "cell_type": "code",
   "execution_count": 85,
   "id": "2e0acff5",
   "metadata": {},
   "outputs": [],
   "source": [
    "inputs = {\"messages\": [\"who is a president of USA?\"]}"
   ]
  },
  {
   "cell_type": "code",
   "execution_count": 86,
   "id": "179f157a",
   "metadata": {},
   "outputs": [
    {
     "name": "stdout",
     "output_type": "stream",
     "text": [
      "who is a president of USA?\n",
      "Topic='Not Related' Reasoning='The query is about the president of the USA, not India.'\n",
      "-> Router ->\n",
      "Not Related\n",
      "-> Calling LLM ->\n"
     ]
    }
   ],
   "source": [
    "output = app5.invoke(inputs)"
   ]
  },
  {
   "cell_type": "code",
   "execution_count": 87,
   "id": "9f68d3e9",
   "metadata": {},
   "outputs": [
    {
     "data": {
      "text/plain": [
       "{'messages': ['who is a president of USA?',\n",
       "  'Not Related',\n",
       "  'The current President of the United States is **Joe Biden**.']}"
      ]
     },
     "execution_count": 87,
     "metadata": {},
     "output_type": "execute_result"
    }
   ],
   "source": [
    "output"
   ]
  },
  {
   "cell_type": "code",
   "execution_count": 88,
   "id": "f4dd1bfe",
   "metadata": {},
   "outputs": [],
   "source": [
    "import os\n",
    "from dotenv import load_dotenv\n",
    "load_dotenv()\n",
    "GOOGLE_API_KEY=os.getenv(\"GOOGLE_API_KEY\")\n",
    "TAVILY_API_KEY=os.getenv(\"TAVILY_API_KEY\")\n",
    "GROQ_API_KEY=os.getenv(\"GROQ_API_KEY\")\n",
    "\n",
    "os.environ[\"GOOGLE_API_KEY\"] = GOOGLE_API_KEY\n",
    "os.environ[\"TAVILY_API_KEY\"] = TAVILY_API_KEY\n",
    "os.environ[\"GROQ_API_KEY\"]= GROQ_API_KEY\n",
    "\n",
    "LANGSMITH_API_KEY=os.getenv(\"LANGSMITH_API_KEY\")\n",
    "LANGSMITH_PROJECT=os.getenv(\"LANGSMITH_PROJECT\")\n",
    "os.environ[\"LANGSMITH_TRACING\"]=\"true\"\n",
    "os.environ[\"LANGSMITH_ENDPOINT\"]=\"https://api.smith.langchain.com\""
   ]
  },
  {
   "cell_type": "code",
   "execution_count": 89,
   "id": "c4ea813b",
   "metadata": {},
   "outputs": [],
   "source": [
    "from langchain_huggingface import HuggingFaceEmbeddings\n",
    "embeddings=HuggingFaceEmbeddings(model_name=\"all-MiniLM-L6-v2\")"
   ]
  },
  {
   "cell_type": "code",
   "execution_count": 90,
   "id": "c6ca9452",
   "metadata": {},
   "outputs": [],
   "source": [
    "from langchain_groq import ChatGroq\n",
    "llm=ChatGroq(model_name=\"meta-llama/llama-4-scout-17b-16e-instruct\")"
   ]
  },
  {
   "cell_type": "code",
   "execution_count": 91,
   "id": "5a2c5274",
   "metadata": {},
   "outputs": [
    {
     "data": {
      "text/plain": [
       "'\\nfrom langchain_google_genai import GoogleGenerativeAIEmbeddings\\nembeddings = GoogleGenerativeAIEmbeddings(model=\"models/embedding-001\")\\nfrom langchain_google_genai import ChatGoogleGenerativeAI\\nllm = ChatGoogleGenerativeAI(model=\"gemini-1.0-pro\")\\nllm.invoke(\"hi\").content'"
      ]
     },
     "execution_count": 91,
     "metadata": {},
     "output_type": "execute_result"
    }
   ],
   "source": [
    "'''\n",
    "from langchain_google_genai import GoogleGenerativeAIEmbeddings\n",
    "embeddings = GoogleGenerativeAIEmbeddings(model=\"models/embedding-001\")\n",
    "from langchain_google_genai import ChatGoogleGenerativeAI\n",
    "llm = ChatGoogleGenerativeAI(model=\"gemini-1.0-pro\")\n",
    "llm.invoke(\"hi\").content'''"
   ]
  },
  {
   "cell_type": "code",
   "execution_count": 92,
   "id": "69785792",
   "metadata": {},
   "outputs": [],
   "source": [
    "import json\n",
    "#from langchain_core.messages import ToolMessage\n",
    "from langchain_core.tools import tool\n",
    "from langchain_core.utils.function_calling import convert_to_openai_tool"
   ]
  },
  {
   "cell_type": "code",
   "execution_count": 93,
   "id": "d7baa3e6",
   "metadata": {},
   "outputs": [],
   "source": [
    "@tool\n",
    "def multiply(first_number: int, second_number: int):\n",
    "    \"\"\"Multiplies two numbers together.\"\"\"\n",
    "    return first_number * second_number"
   ]
  },
  {
   "cell_type": "code",
   "execution_count": 94,
   "id": "472cfe76",
   "metadata": {},
   "outputs": [],
   "source": [
    "tools=[convert_to_openai_tool(multiply)]"
   ]
  },
  {
   "cell_type": "code",
   "execution_count": 95,
   "id": "dbd63ed1",
   "metadata": {},
   "outputs": [],
   "source": [
    "model_with_tools = llm.bind(tools=tools)"
   ]
  },
  {
   "cell_type": "code",
   "execution_count": 96,
   "id": "b236a71f",
   "metadata": {},
   "outputs": [],
   "source": [
    "response = model_with_tools.invoke('What is 35 * 46?')"
   ]
  },
  {
   "cell_type": "code",
   "execution_count": 97,
   "id": "e1d31324",
   "metadata": {},
   "outputs": [
    {
     "data": {
      "text/plain": [
       "AIMessage(content='', additional_kwargs={'tool_calls': [{'id': 'call_mdax', 'function': {'arguments': '{\"first_number\": 35, \"second_number\": 46}', 'name': 'multiply'}, 'type': 'function'}]}, response_metadata={'token_usage': {'completion_tokens': 22, 'prompt_tokens': 206, 'total_tokens': 228, 'completion_time': 0.043364948, 'prompt_time': 0.008871684, 'queue_time': 0.049580856, 'total_time': 0.052236632}, 'model_name': 'meta-llama/llama-4-scout-17b-16e-instruct', 'system_fingerprint': 'fp_5b1ac042bf', 'finish_reason': 'tool_calls', 'logprobs': None}, id='run-bf99bf00-0444-4190-97fb-081f666d91d6-0', tool_calls=[{'name': 'multiply', 'args': {'first_number': 35, 'second_number': 46}, 'id': 'call_mdax', 'type': 'tool_call'}], usage_metadata={'input_tokens': 206, 'output_tokens': 22, 'total_tokens': 228})"
      ]
     },
     "execution_count": 97,
     "metadata": {},
     "output_type": "execute_result"
    }
   ],
   "source": [
    "response"
   ]
  },
  {
   "cell_type": "code",
   "execution_count": 98,
   "id": "5350813d",
   "metadata": {},
   "outputs": [],
   "source": [
    "tool_calls = response.additional_kwargs.get('tool_calls')"
   ]
  },
  {
   "cell_type": "code",
   "execution_count": 99,
   "id": "54902e13",
   "metadata": {},
   "outputs": [
    {
     "data": {
      "text/plain": [
       "[{'id': 'call_mdax',\n",
       "  'function': {'arguments': '{\"first_number\": 35, \"second_number\": 46}',\n",
       "   'name': 'multiply'},\n",
       "  'type': 'function'}]"
      ]
     },
     "execution_count": 99,
     "metadata": {},
     "output_type": "execute_result"
    }
   ],
   "source": [
    "tool_calls"
   ]
  },
  {
   "cell_type": "code",
   "execution_count": 100,
   "id": "4a9fa1cc",
   "metadata": {},
   "outputs": [
    {
     "name": "stdout",
     "output_type": "stream",
     "text": [
      "Function Name: multiply\n",
      "Function Arguments: {\"first_number\": 35, \"second_number\": 46}\n",
      "{'id': 'call_mdax', 'function': {'arguments': '{\"first_number\": 35, \"second_number\": 46}', 'name': 'multiply'}, 'type': 'function'}\n"
     ]
    }
   ],
   "source": [
    "for tool_call in tool_calls:\n",
    "    print('Function Name:',tool_call.get('function').get('name'))\n",
    "    print('Function Arguments:',tool_call.get('function').get('arguments'))\n",
    "    print(tool_call)"
   ]
  },
  {
   "cell_type": "code",
   "execution_count": 101,
   "id": "6b806917",
   "metadata": {},
   "outputs": [],
   "source": [
    "from typing import TypedDict, Annotated, Sequence\n",
    "import operator\n",
    "from langchain_core.messages import BaseMessage"
   ]
  },
  {
   "cell_type": "code",
   "execution_count": 102,
   "id": "6fcf9cf8",
   "metadata": {},
   "outputs": [],
   "source": [
    "class AgentState(TypedDict):\n",
    "    messages: Annotated[Sequence[BaseMessage], operator.add]"
   ]
  },
  {
   "cell_type": "code",
   "execution_count": 103,
   "id": "483e4a2e",
   "metadata": {},
   "outputs": [],
   "source": [
    "def invoke_model(state):\n",
    "    messages = state['messages']\n",
    "    question = messages[-1]   ## Fetching the user question\n",
    "    return {\"messages\":[model_with_tools.invoke(question)]}"
   ]
  },
  {
   "cell_type": "code",
   "execution_count": 104,
   "id": "2b6b274d",
   "metadata": {},
   "outputs": [],
   "source": [
    "input={\"messages\":[\"how much is 30*35?\"]}"
   ]
  },
  {
   "cell_type": "code",
   "execution_count": 105,
   "id": "be582302",
   "metadata": {},
   "outputs": [
    {
     "data": {
      "text/plain": [
       "{'messages': [AIMessage(content='', additional_kwargs={'tool_calls': [{'id': 'call_fsh5', 'function': {'arguments': '{\"first_number\": 30, \"second_number\": 35}', 'name': 'multiply'}, 'type': 'function'}]}, response_metadata={'token_usage': {'completion_tokens': 22, 'prompt_tokens': 207, 'total_tokens': 229, 'completion_time': 0.043230291, 'prompt_time': 0.007363977, 'queue_time': 0.046630878, 'total_time': 0.050594268}, 'model_name': 'meta-llama/llama-4-scout-17b-16e-instruct', 'system_fingerprint': 'fp_699032b16f', 'finish_reason': 'tool_calls', 'logprobs': None}, id='run-bd4a567c-e8bd-47b9-9e80-c9724f830176-0', tool_calls=[{'name': 'multiply', 'args': {'first_number': 30, 'second_number': 35}, 'id': 'call_fsh5', 'type': 'tool_call'}], usage_metadata={'input_tokens': 207, 'output_tokens': 22, 'total_tokens': 229})]}"
      ]
     },
     "execution_count": 105,
     "metadata": {},
     "output_type": "execute_result"
    }
   ],
   "source": [
    "invoke_model(input)"
   ]
  },
  {
   "cell_type": "code",
   "execution_count": 127,
   "id": "aa5b0e3b",
   "metadata": {},
   "outputs": [],
   "source": [
    "def invoke_tool(state):\n",
    "    tool_calls = state['messages'][-1].additional_kwargs.get(\"tool_calls\", [])\n",
    "    print(f\"here is a tool_calls {tool_calls}\")\n",
    "    multiply_call = None\n",
    "\n",
    "    for tool_call in tool_calls:\n",
    "        if tool_call.get(\"function\").get(\"name\") == \"multiply\":\n",
    "            multiply_call = tool_call\n",
    "\n",
    "    if multiply_call is None:\n",
    "        # Don't raise an error — just return same messages\n",
    "        print(\"No tool call for 'multiply' found.\")\n",
    "        return {\"messages\": state[\"messages\"]}\n",
    "\n",
    "    res = multiply.invoke(\n",
    "        json.loads(multiply_call.get(\"function\").get(\"arguments\"))\n",
    "    )\n",
    "\n",
    "    return {\"messages\": state[\"messages\"] + [res]}\n"
   ]
  },
  {
   "cell_type": "code",
   "execution_count": 128,
   "id": "e0d15fe3",
   "metadata": {},
   "outputs": [
    {
     "data": {
      "text/plain": [
       "<langgraph.graph.state.StateGraph at 0x294019cfdd0>"
      ]
     },
     "execution_count": 128,
     "metadata": {},
     "output_type": "execute_result"
    }
   ],
   "source": [
    "from langgraph.graph import StateGraph,END\n",
    "workflow6 = StateGraph(AgentState) ### StateGraph with AgentState\n",
    "workflow6.add_node(\"agent\", invoke_model)\n",
    "workflow6.add_node(\"tool\", invoke_tool)"
   ]
  },
  {
   "cell_type": "code",
   "execution_count": 129,
   "id": "a1e7cfde",
   "metadata": {},
   "outputs": [
    {
     "data": {
      "text/plain": [
       "<langgraph.graph.state.StateGraph at 0x294019cfdd0>"
      ]
     },
     "execution_count": 129,
     "metadata": {},
     "output_type": "execute_result"
    }
   ],
   "source": [
    "workflow6.add_edge(\"tool\", END)\n",
    "workflow6.set_entry_point(\"agent\")"
   ]
  },
  {
   "cell_type": "code",
   "execution_count": 130,
   "id": "c4100b2a",
   "metadata": {},
   "outputs": [],
   "source": [
    "def router(state):\n",
    "    tool_calls = state['messages'][-1].additional_kwargs.get(\"tool_calls\", [])\n",
    "    if len(tool_calls):\n",
    "        return \"multiply\"\n",
    "    else:\n",
    "        return \"end\""
   ]
  },
  {
   "cell_type": "code",
   "execution_count": 131,
   "id": "5a7ef57b",
   "metadata": {},
   "outputs": [
    {
     "data": {
      "text/plain": [
       "<langgraph.graph.state.StateGraph at 0x294019cfdd0>"
      ]
     },
     "execution_count": 131,
     "metadata": {},
     "output_type": "execute_result"
    }
   ],
   "source": [
    "workflow6.add_conditional_edges(\"agent\",router,{\"multiply\": \"tool\",\"end\": END})"
   ]
  },
  {
   "cell_type": "code",
   "execution_count": 132,
   "id": "dc9378b1",
   "metadata": {},
   "outputs": [],
   "source": [
    "app6 = workflow6.compile()"
   ]
  },
  {
   "cell_type": "code",
   "execution_count": 133,
   "id": "fa6e9255",
   "metadata": {},
   "outputs": [
    {
     "name": "stdout",
     "output_type": "stream",
     "text": [
      "HTTPSConnectionPool(host='mermaid.ink', port=443): Read timed out. (read timeout=10)\n"
     ]
    }
   ],
   "source": [
    "from IPython.display import Image, display\n",
    "\n",
    "try:\n",
    "    display(Image(app6.get_graph().draw_mermaid_png()))\n",
    "except Exception as e:\n",
    "    # This requires some extra dependencies and is optional\n",
    "    print(e)"
   ]
  },
  {
   "cell_type": "code",
   "execution_count": 134,
   "id": "dd32f905",
   "metadata": {},
   "outputs": [
    {
     "name": "stdout",
     "output_type": "stream",
     "text": [
      "%%{init: {'flowchart': {'curve': 'linear'}}}%%\n",
      "graph TD;\n",
      "\t__start__([<p>__start__</p>]):::first\n",
      "\tagent(agent)\n",
      "\ttool(tool)\n",
      "\t__end__([<p>__end__</p>]):::last\n",
      "\t__start__ --> agent;\n",
      "\ttool --> __end__;\n",
      "\tagent -. &nbsp;multiply&nbsp; .-> tool;\n",
      "\tagent -. &nbsp;end&nbsp; .-> __end__;\n",
      "\tclassDef default fill:#f2f0ff,line-height:1.2\n",
      "\tclassDef first fill-opacity:0\n",
      "\tclassDef last fill:#bfb6fc\n",
      "\n"
     ]
    }
   ],
   "source": [
    "mermaid_code = app6.get_graph().draw_mermaid()\n",
    "print(mermaid_code)"
   ]
  },
  {
   "attachments": {
    "image.png": {
     "image/png": "[encoded data removed]"
    }
   },
   "cell_type": "markdown",
   "id": "e2aa7950",
   "metadata": {},
   "source": [
    "![image.png](attachment:image.png)"
   ]
  },
  {
   "cell_type": "code",
   "execution_count": null,
   "id": "afcc0aa7",
   "metadata": {},
   "outputs": [
    {
     "data": {
      "text/plain": [
       "{'messages': ['What is LLM?',\n",
       "  AIMessage(content='<function=brave_search>{\"query\": \"LLM definition\"}<function=brave_search>', additional_kwargs={}, response_metadata={'token_usage': {'completion_tokens': 22, 'prompt_tokens': 407, 'total_tokens': 429, 'completion_time': 0.046033671, 'prompt_time': 0.01816174, 'queue_time': -0.068258545, 'total_time': 0.064195411}, 'model_name': 'meta-llama/llama-4-scout-17b-16e-instruct', 'system_fingerprint': 'fp_5b1ac042bf', 'finish_reason': 'stop', 'logprobs': None}, id='run-4079e344-75cc-4677-9831-b04bd2d5a12e-0', usage_metadata={'input_tokens': 407, 'output_tokens': 22, 'total_tokens': 429})]}"
      ]
     },
     "execution_count": 135,
     "metadata": {},
     "output_type": "execute_result"
    }
   ],
   "source": [
    "app6.invoke({\"messages\": [\"What is LLM?\"]}) +"
   ]
  },
  {
   "cell_type": "code",
   "execution_count": 136,
   "id": "1cac0c5f",
   "metadata": {},
   "outputs": [
    {
     "name": "stdout",
     "output_type": "stream",
     "text": [
      "here is a tool_calls [{'id': 'call_wbvx', 'function': {'arguments': '{\"first_number\": 123, \"second_number\": 456}', 'name': 'multiply'}, 'type': 'function'}]\n"
     ]
    },
    {
     "data": {
      "text/plain": [
       "{'messages': ['What is 123 * 456?',\n",
       "  AIMessage(content='', additional_kwargs={'tool_calls': [{'id': 'call_wbvx', 'function': {'arguments': '{\"first_number\": 123, \"second_number\": 456}', 'name': 'multiply'}, 'type': 'function'}]}, response_metadata={'token_usage': {'completion_tokens': 22, 'prompt_tokens': 206, 'total_tokens': 228, 'completion_time': 0.045361805, 'prompt_time': 0.008840427, 'queue_time': 0.046207248, 'total_time': 0.054202232}, 'model_name': 'meta-llama/llama-4-scout-17b-16e-instruct', 'system_fingerprint': 'fp_699032b16f', 'finish_reason': 'tool_calls', 'logprobs': None}, id='run-62deea80-4cdc-49fa-9f10-abf8cb76c5d2-0', tool_calls=[{'name': 'multiply', 'args': {'first_number': 123, 'second_number': 456}, 'id': 'call_wbvx', 'type': 'tool_call'}], usage_metadata={'input_tokens': 206, 'output_tokens': 22, 'total_tokens': 228}),\n",
       "  'What is 123 * 456?',\n",
       "  AIMessage(content='', additional_kwargs={'tool_calls': [{'id': 'call_wbvx', 'function': {'arguments': '{\"first_number\": 123, \"second_number\": 456}', 'name': 'multiply'}, 'type': 'function'}]}, response_metadata={'token_usage': {'completion_tokens': 22, 'prompt_tokens': 206, 'total_tokens': 228, 'completion_time': 0.045361805, 'prompt_time': 0.008840427, 'queue_time': 0.046207248, 'total_time': 0.054202232}, 'model_name': 'meta-llama/llama-4-scout-17b-16e-instruct', 'system_fingerprint': 'fp_699032b16f', 'finish_reason': 'tool_calls', 'logprobs': None}, id='run-62deea80-4cdc-49fa-9f10-abf8cb76c5d2-0', tool_calls=[{'name': 'multiply', 'args': {'first_number': 123, 'second_number': 456}, 'id': 'call_wbvx', 'type': 'tool_call'}], usage_metadata={'input_tokens': 206, 'output_tokens': 22, 'total_tokens': 228}),\n",
       "  56088]}"
      ]
     },
     "execution_count": 136,
     "metadata": {},
     "output_type": "execute_result"
    }
   ],
   "source": [
    "app6.invoke({\"messages\": [\"What is 123 * 456?\"]})"
   ]
  },
  {
   "cell_type": "code",
   "execution_count": 137,
   "id": "58025ad8",
   "metadata": {},
   "outputs": [
    {
     "name": "stdout",
     "output_type": "stream",
     "text": [
      "here is output from agent\n",
      "_______\n",
      "{'messages': [AIMessage(content='', additional_kwargs={'tool_calls': [{'id': 'call_brbc', 'function': {'arguments': '{\"first_number\": 123, \"second_number\": 456}', 'name': 'multiply'}, 'type': 'function'}]}, response_metadata={'token_usage': {'completion_tokens': 22, 'prompt_tokens': 206, 'total_tokens': 228, 'completion_time': 0.04679757, 'prompt_time': 0.009161795, 'queue_time': 0.04690551, 'total_time': 0.055959365}, 'model_name': 'meta-llama/llama-4-scout-17b-16e-instruct', 'system_fingerprint': 'fp_5b1ac042bf', 'finish_reason': 'tool_calls', 'logprobs': None}, id='run-9f0d10c0-69e5-428a-b825-2814a0c156af-0', tool_calls=[{'name': 'multiply', 'args': {'first_number': 123, 'second_number': 456}, 'id': 'call_brbc', 'type': 'tool_call'}], usage_metadata={'input_tokens': 206, 'output_tokens': 22, 'total_tokens': 228})]}\n",
      "\n",
      "\n",
      "here is a tool_calls [{'id': 'call_brbc', 'function': {'arguments': '{\"first_number\": 123, \"second_number\": 456}', 'name': 'multiply'}, 'type': 'function'}]\n",
      "here is output from tool\n",
      "_______\n",
      "{'messages': ['What is 123 * 456?', AIMessage(content='', additional_kwargs={'tool_calls': [{'id': 'call_brbc', 'function': {'arguments': '{\"first_number\": 123, \"second_number\": 456}', 'name': 'multiply'}, 'type': 'function'}]}, response_metadata={'token_usage': {'completion_tokens': 22, 'prompt_tokens': 206, 'total_tokens': 228, 'completion_time': 0.04679757, 'prompt_time': 0.009161795, 'queue_time': 0.04690551, 'total_time': 0.055959365}, 'model_name': 'meta-llama/llama-4-scout-17b-16e-instruct', 'system_fingerprint': 'fp_5b1ac042bf', 'finish_reason': 'tool_calls', 'logprobs': None}, id='run-9f0d10c0-69e5-428a-b825-2814a0c156af-0', tool_calls=[{'name': 'multiply', 'args': {'first_number': 123, 'second_number': 456}, 'id': 'call_brbc', 'type': 'tool_call'}], usage_metadata={'input_tokens': 206, 'output_tokens': 22, 'total_tokens': 228}), 56088]}\n",
      "\n",
      "\n"
     ]
    }
   ],
   "source": [
    "for output in app6.stream({\"messages\": [\"What is 123 * 456?\"]}):\n",
    "    for key,value in output.items():\n",
    "        print(f\"here is output from {key}\")\n",
    "        print(\"_______\")\n",
    "        print(value)\n",
    "        print(\"\\n\")"
   ]
  },
  {
   "cell_type": "code",
   "execution_count": 138,
   "id": "b1b91744",
   "metadata": {},
   "outputs": [
    {
     "name": "stdout",
     "output_type": "stream",
     "text": [
      "here is output from agent\n",
      "_______\n",
      "{'messages': [AIMessage(content='', additional_kwargs={'tool_calls': [{'id': 'call_egns', 'function': {'arguments': '{\"query\": \"LLM definition\"}', 'name': 'brave_search'}, 'type': 'function'}]}, response_metadata={'token_usage': {'completion_tokens': 20, 'prompt_tokens': 204, 'total_tokens': 224, 'completion_time': 0.039336787, 'prompt_time': 0.00778154, 'queue_time': 0.046615289000000004, 'total_time': 0.047118327}, 'model_name': 'meta-llama/llama-4-scout-17b-16e-instruct', 'system_fingerprint': 'fp_5b1ac042bf', 'finish_reason': 'tool_calls', 'logprobs': None}, id='run-a5792526-959c-4d55-a730-c820d30818c2-0', tool_calls=[{'name': 'brave_search', 'args': {'query': 'LLM definition'}, 'id': 'call_egns', 'type': 'tool_call'}], usage_metadata={'input_tokens': 204, 'output_tokens': 20, 'total_tokens': 224})]}\n",
      "\n",
      "\n",
      "here is a tool_calls [{'id': 'call_egns', 'function': {'arguments': '{\"query\": \"LLM definition\"}', 'name': 'brave_search'}, 'type': 'function'}]\n",
      "No tool call for 'multiply' found.\n",
      "here is output from tool\n",
      "_______\n",
      "{'messages': ['what s LLM?', AIMessage(content='', additional_kwargs={'tool_calls': [{'id': 'call_egns', 'function': {'arguments': '{\"query\": \"LLM definition\"}', 'name': 'brave_search'}, 'type': 'function'}]}, response_metadata={'token_usage': {'completion_tokens': 20, 'prompt_tokens': 204, 'total_tokens': 224, 'completion_time': 0.039336787, 'prompt_time': 0.00778154, 'queue_time': 0.046615289000000004, 'total_time': 0.047118327}, 'model_name': 'meta-llama/llama-4-scout-17b-16e-instruct', 'system_fingerprint': 'fp_5b1ac042bf', 'finish_reason': 'tool_calls', 'logprobs': None}, id='run-a5792526-959c-4d55-a730-c820d30818c2-0', tool_calls=[{'name': 'brave_search', 'args': {'query': 'LLM definition'}, 'id': 'call_egns', 'type': 'tool_call'}], usage_metadata={'input_tokens': 204, 'output_tokens': 20, 'total_tokens': 224})]}\n",
      "\n",
      "\n"
     ]
    }
   ],
   "source": [
    "for output in app6.stream({\"messages\": [\"what s LLM?\"]}):\n",
    "    for key,value in output.items():\n",
    "        print(f\"here is output from {key}\")\n",
    "        print(\"_______\")\n",
    "        print(value)\n",
    "        print(\"\\n\")"
   ]
  },
  {
   "cell_type": "code",
   "execution_count": null,
   "id": "3f205ba2",
   "metadata": {},
   "outputs": [],
   "source": []
  }
 ],
 "metadata": {
  "kernelspec": {
   "display_name": "Python 3",
   "language": "python",
   "name": "python3"
  },
  "language_info": {
   "codemirror_mode": {
    "name": "ipython",
    "version": 3
   },
   "file_extension": ".py",
   "mimetype": "text/x-python",
   "name": "python",
   "nbconvert_exporter": "python",
   "pygments_lexer": "ipython3",
   "version": "3.12.0"
  }
 },
 "nbformat": 4,
 "nbformat_minor": 5
}
