{
 "cells": [
  {
   "cell_type": "code",
   "execution_count": 1,
   "metadata": {},
   "outputs": [],
   "source": [
    "import os\n",
    "from dotenv import load_dotenv\n",
    "load_dotenv()\n",
    "\n",
    "GOOGLE_API_KEY=os.getenv(\"GOOGLE_API_KEY\")\n",
    "TAVILY_API_KEY=os.getenv(\"TAVILY_API_KEY\")\n",
    "GROQ_API_KEY=os.getenv(\"GROQ_API_KEY\")\n",
    "LANGCHAIN_API_KEY=os.getenv(\"LANGCHAIN_API_KEY\")\n",
    "LANGCHAIN_PROJECT=os.getenv(\"LANGCHAIN_PROJECT\")"
   ]
  },
  {
   "cell_type": "code",
   "execution_count": 2,
   "metadata": {},
   "outputs": [],
   "source": [
    "GOOGLE_API_KEY=os.getenv(\"GOOGLE_API_KEY\")\n",
    "TAVILY_API_KEY=os.getenv(\"TAVILY_API_KEY\")\n",
    "GROQ_API_KEY=os.getenv(\"GROQ_API_KEY\")\n",
    "LANGSMITH_API_KEY=os.getenv(\"LANGSMITH_API_KEY\")\n",
    "LANGSMITH_PROJECT=os.getenv(\"LANGSMITH_PROJECT\")\n",
    "os.environ[\"LANGSMITH_TRACING\"]=\"true\"\n",
    "os.environ[\"LANGSMITH_ENDPOINT\"]=\"https://api.smith.langchain.com\""
   ]
  },
  {
   "cell_type": "code",
   "execution_count": 3,
   "metadata": {},
   "outputs": [],
   "source": [
    "from langchain_groq import ChatGroq\n",
    "llm=ChatGroq(model_name=\"Gemma2-9b-It\")"
   ]
  },
  {
   "cell_type": "code",
   "execution_count": 4,
   "metadata": {},
   "outputs": [
    {
     "name": "stderr",
     "output_type": "stream",
     "text": [
      "f:\\dev25\\Building-Agentic-AI\\Langgraph_Agent\\venv\\Lib\\site-packages\\tqdm\\auto.py:21: TqdmWarning: IProgress not found. Please update jupyter and ipywidgets. See https://ipywidgets.readthedocs.io/en/stable/user_install.html\n",
      "  from .autonotebook import tqdm as notebook_tqdm\n"
     ]
    }
   ],
   "source": [
    "from langchain_huggingface import HuggingFaceEmbeddings\n",
    "embeddings=HuggingFaceEmbeddings(model_name=\"all-MiniLM-L6-v2\")"
   ]
  },
  {
   "cell_type": "code",
   "execution_count": 5,
   "metadata": {},
   "outputs": [
    {
     "name": "stdout",
     "output_type": "stream",
     "text": [
      "Page: LangChain\n",
      "Summary: LangChain is a software framework that helps facilitate the integration of large language models (LLMs) into applications. As a language model integration framework, LangChain's use-cases largely overlap with those of language models in general, including document analysis and summarization, chatbots, and code analysis.\n",
      "\n",
      "Page: Retrieval-augmented generation\n",
      "Summary: Retrieval-augmented generation (RAG) is a technique that enables generative artificial intelligence (Gen AI) models to retrieve and incorporate new information. It modifies interactions with a large language model (LLM) so that the model responds to user queries with reference to a specified set of documents, using this information to supplement information from its pre-existing training data. This allows LLMs to use domain-specific and/or updated information.  Use cases include providing chatbot access to internal company data or generating responses based on authoritative sources.\n",
      "RAG improves large language models (LLMs) by incorporating information retrieval before generating responses. Unlike traditional LLMs that rely on static training data, RAG pulls relevant text from databases, uploaded documents, or web sources. According to Ars Technica, \"RAG is a way of improving LLM performance, in essence by blending the LLM process with a web search or other document look-up process to help LLMs stick to the facts.\" This method helps reduce AI hallucinations, which have led to real-world issues like chatbots inventing policies or lawyers citing nonexistent legal cases.\n",
      "By dynamically retrieving information, RAG enables AI to provide more accurate responses without frequent retraining. According to IBM, \"RAG also reduces the need for users to continuously train the model on new data and update its parameters as circumstances evolve. In this way, RAG can lower the computational and financial costs of running LLM-powered chatbots in an enterprise setting.\"\n",
      "Beyond efficiency gains, RAG also allows LLMs to include source references in their responses, enabling users to verify information by reviewing cited documents or original sources. This can provide greater transparency, as users can cross-check retrieved content to ensure accuracy and relevance.\n",
      "\n",
      "Page: Milvus (vector database)\n",
      "Summary: Milvus is a distributed vector database developed by Zilliz. It is available as both open-source software and a cloud service.\n",
      "Milvus is an open-source project under LF AI & Data Foundation distributed under the Apache License 2.0.\n"
     ]
    }
   ],
   "source": [
    "## Predefine tools\n",
    "from langchain_community.tools import WikipediaQueryRun\n",
    "from langchain_community.utilities import WikipediaAPIWrapper\n",
    "\n",
    "api_wrapper = WikipediaAPIWrapper()\n",
    "\n",
    "tool = WikipediaQueryRun(api_wrapper=api_wrapper)\n",
    "\n",
    "print(tool.run({\"query\": \"langchain\"}))"
   ]
  },
  {
   "cell_type": "code",
   "execution_count": 6,
   "metadata": {},
   "outputs": [
    {
     "data": {
      "text/plain": [
       "[{'url': 'https://www.vedantu.com/biography/vinayak-damodar-veer-savarkar-biography',\n",
       "  'content': 'Vinayak Damodar Savarkar, also known as Swatantryaveer Savarkar, Vinayak Savarkar or simply Veer Savarkar in Marathi, was a freedom fighter and an Indian independence leader and politician who coined the Hindu nationalist ideology of Hindutva. The date of birth of Savarkar is May 28, 1883, and died on February 26, 1966. He was a prominent figure in the Hindu Mahasabha. In this article, we are going to study the biography of Veer Savarkar in detail. [...] Veer Savarkar is known as the person who reinforced military nationalism in modern Indian history. From his childhood, he was a firm believer of ideologies like Hindutva and Swadeshi. He even held many attacks on the Britishers. He was part of many revolutionary organizations like Abhinav Bharat society, Free India Society, etc., he was arrested by the Britishers on the charges that he was connected to a revolutionary outfit, “India House”. Savarkar asked his friend to keep track of which ship [...] 5. Give a note on the political organizations that Veer Savarkar was part of?\\n\\nVeer Savarkar is considered to be the person who resurfaced military nationalism in modern Indian history. From a young age, Savarkar believed in the ideology of “Hindutva”. He has written many works and was part of many organizations:'},\n",
       " {'url': 'https://en.wikipedia.org/wiki/Swatantrya_Veer_Savarkar_(film)',\n",
       "  'content': \"Distributed by | Zee Studios\\nRelease date | 22\\xa0March\\xa02024(2024-3-22)\\nRunning time | 178 minutes[1]\\nCountry | India\\nLanguage | Hindi\\nBudget | ₹20crore[2]\\nBox office | ₹31.23crore[3]\\nSwatantrya Veer Savarkar is a 2024 Indian Hindi-language film on the life of Vinayak Damodar Savarkar. It is directed, co-written, and co-produced by Randeep Hooda, who also plays the titular role of Savarkar.[4][5] It was released in theatres on 22 March 2024.[6][7] [...] The film narrates the life of Vinayak Damodar Savarkar, beginning with the backdrop of the Bubonic plague of 1897, which claims his father's life. Angered by injustices, Vinayak becomes a revolutionary, inspired by figures like Shivaji Maharaj and Mazzini. He founds the secret society Abhinav Bharat Society and later joins Indian revolutionaries in London at the India House. Vinayak completes his thesis on the 1857 War of Independence, and secretly dispatches weapons to India. He meets Mahatma\"},\n",
       " {'url': 'https://www.youtube.com/watch?v=LxBYMCW-MO0',\n",
       "  'content': \"Savarkar was a controversial figure in Indian history. He played a significant role in India's struggle for independence against British colonial rule. He was an influential figure in the Indian nationalist movement and a proponent of Hindutva ideology.\\n\\nSavarkar's supporters consider him a courageous freedom fighter who fought relentlessly against British rule and advocated for Hindu nationalism. They highlight his activism, writings, and sacrifices made during his imprisonment. [...] Real Truth of Savarkar | Veer or Coward? \\n Open Letter \\n 39172 likes \\n 717405 views \\n 19 Mar 2024 \\n The assessment of Vinayak Damodar Savarkar, commonly known as Veer Savarkar, varies significantly depending on one's perspective and historical interpretation.\"},\n",
       " {'url': 'https://swarajyamag.com/culture/swatantrya-veer-savarkar-the-pole-star',\n",
       "  'content': 'When you realise that Savarkar was the only Indian\\xa0freedom fighter who was sentenced to 50 years of\\xa0imprisonment, you understand the bitterness behind the on-screen dialogue, ‘Gandhi itna badaa kab ban gaya?’ (When did Gandhi become this big?). Veer Savarkar\\xa0lost his freedom, his family, his property and his degree for\\xa0the sake of this nation, while the ‘great soul’ that Bharat\\xa0chose to father the nation lost only his well-tailored suits\\xa0 made in South Africa! [...] If you go looking for Randeep Hooda in the movie, you\\xa0will be disappointed because you won’t find him. What you\\xa0will find is a man called Vinayak Damodar Savarkar\\xa0dominating each frame like a colossus. Watch\\xa0 Swatantrya Veer Savarkar movie because it tells you a story\\xa0of Bharat that everyone conveniently forgot!\\n\\nThe writer is a freelance writer and newspaper columnist based in Pune.\\n\\nJoin our WhatsApp channel - no spam, only sharp analysis\\n\\nComments ↓\\n\\nGet Swarajya in your inbox.\\n\\nMagazine [...] He was the only freedom fighter who was imprisoned\\xa0twice, on false, trumped up charges after Independence,\\xa0whose property that was confiscated by the British crown\\xa0was never returned back to him even after Independence\\xa0and who has to live with the slur of maafi-veer thrown at him\\xa0by people who wouldn’t survive one hour\\xa0locked inside the elevator before micturating in their pants!'},\n",
       " {'url': 'https://cmsadmin.amritmahotsav.nic.in/unsung-heroes-detail.htm?520',\n",
       "  'content': 'He was the President of Hindu Mahasabha for about seven years. Veer Savarkar worked relentlessly for the removal of untouchability through the'}]"
      ]
     },
     "execution_count": 6,
     "metadata": {},
     "output_type": "execute_result"
    }
   ],
   "source": [
    "from langchain_community.tools.tavily_search import TavilySearchResults\n",
    "tool = TavilySearchResults()\n",
    "tool.invoke({\"query\": \"who is Veer Savarkar?\"})"
   ]
  },
  {
   "cell_type": "code",
   "execution_count": 7,
   "metadata": {},
   "outputs": [],
   "source": [
    "## Create a Custom tool\n",
    "from langchain.agents import tool\n",
    "@tool\n",
    "def get_word_length(word: str) -> int:\n",
    "    \"\"\"Returns the length of a word.\"\"\"\n",
    "    return len(word)\n"
   ]
  },
  {
   "cell_type": "code",
   "execution_count": 8,
   "metadata": {},
   "outputs": [
    {
     "data": {
      "text/plain": [
       "3"
      ]
     },
     "execution_count": 8,
     "metadata": {},
     "output_type": "execute_result"
    }
   ],
   "source": [
    "get_word_length.invoke(\"abc\")"
   ]
  },
  {
   "cell_type": "code",
   "execution_count": 9,
   "metadata": {},
   "outputs": [],
   "source": [
    "@tool\n",
    "def multiply(a: int, b: int) -> int:\n",
    "    \"\"\"Multiply two numbers.\"\"\"\n",
    "    return a * b"
   ]
  },
  {
   "cell_type": "code",
   "execution_count": 10,
   "metadata": {},
   "outputs": [
    {
     "name": "stdout",
     "output_type": "stream",
     "text": [
      "multiply\n",
      "Multiply two numbers.\n",
      "{'a': {'title': 'A', 'type': 'integer'}, 'b': {'title': 'B', 'type': 'integer'}}\n"
     ]
    }
   ],
   "source": [
    "print(multiply.name)\n",
    "print(multiply.description)\n",
    "print(multiply.args)"
   ]
  },
  {
   "cell_type": "code",
   "execution_count": 11,
   "metadata": {},
   "outputs": [
    {
     "data": {
      "text/plain": [
       "200"
      ]
     },
     "execution_count": 11,
     "metadata": {},
     "output_type": "execute_result"
    }
   ],
   "source": [
    "multiply.invoke({\"a\":10,\"b\":20})"
   ]
  },
  {
   "cell_type": "code",
   "execution_count": null,
   "metadata": {},
   "outputs": [],
   "source": []
  }
 ],
 "metadata": {
  "kernelspec": {
   "display_name": ".venv",
   "language": "python",
   "name": "python3"
  },
  "language_info": {
   "codemirror_mode": {
    "name": "ipython",
    "version": 3
   },
   "file_extension": ".py",
   "mimetype": "text/x-python",
   "name": "python",
   "nbconvert_exporter": "python",
   "pygments_lexer": "ipython3",
   "version": "3.12.3"
  }
 },
 "nbformat": 4,
 "nbformat_minor": 2
}
