{
 "cells": [
  {
   "cell_type": "code",
   "execution_count": 25,
   "id": "9a2a11bd",
   "metadata": {},
   "outputs": [],
   "source": [
    "import os\n",
    "from dotenv import load_dotenv\n",
    "from typing import TypedDict, Optional\n",
    "from sqlalchemy import create_engine, text\n",
    "from langchain.prompts import PromptTemplate\n",
    "from langchain_openai import ChatOpenAI\n",
    "from langgraph.graph import StateGraph, END\n",
    "\n",
    "load_dotenv()\n",
    "LANGSMITH_API_KEY=os.getenv(\"LANGSMITH_API_KEY\")\n",
    "LANGSMITH_PROJECT=os.getenv(\"LANGSMITH_PROJECT\")\n",
    "os.environ[\"LANGSMITH_TRACING\"] = \"true\"\n",
    "os.environ[\"LANGSMITH_ENDPOINT\"] = \"https://api.smith.langchain.com\"\n",
    "\n",
    "llm = ChatOpenAI(model=\"gpt-4o-mini\")"
   ]
  },
  {
   "cell_type": "code",
   "execution_count": 26,
   "id": "3ff8ba4a",
   "metadata": {},
   "outputs": [],
   "source": [
    "# Set up DB\n",
    "DB_PATH = r\"sqlite:///sqllite/dummy_adidas_financials.db\""
   ]
  },
  {
   "cell_type": "code",
   "execution_count": 27,
   "id": "4c16dae1",
   "metadata": {},
   "outputs": [],
   "source": [
    "# LangChain Prompt Template\n",
    "report_template = PromptTemplate(\n",
    "    input_variables=[\n",
    "        'year', 'cash_and_cash_equivalents', 'short_term_financial_assets',\n",
    "        'accounts_receivable', 'inventories', 'property_plant_equipment',\n",
    "        'goodwill', 'total_assets', 'short_term_borrowings', 'accounts_payable',\n",
    "        'current_lease_liabilities', 'long_term_borrowings',\n",
    "        'non_current_lease_liabilities', 'total_liabilities',\n",
    "        'shareholders_equity', 'net_sales', 'cost_of_sales',\n",
    "        'gross_profit', 'operating_profit', 'net_income'\n",
    "    ],\n",
    "    template=\"\"\"\n",
    "You are a financial analyst creating a summary for Adidas financials.\n",
    "\n",
    "Given the data below:\n",
    "Year: {year}\n",
    "Cash & Equivalents: {cash_and_cash_equivalents}\n",
    "Short-Term Financial Assets: {short_term_financial_assets}\n",
    "Accounts Receivable: {accounts_receivable}\n",
    "Inventories: {inventories}\n",
    "Property, Plant & Equipment: {property_plant_equipment}\n",
    "Goodwill: {goodwill}\n",
    "Total Assets: {total_assets}\n",
    "Short-Term Borrowings: {short_term_borrowings}\n",
    "Accounts Payable: {accounts_payable}\n",
    "Current Lease Liabilities: {current_lease_liabilities}\n",
    "Long-Term Borrowings: {long_term_borrowings}\n",
    "Non-Current Lease Liabilities: {non_current_lease_liabilities}\n",
    "Total Liabilities: {total_liabilities}\n",
    "Shareholders' Equity: {shareholders_equity}\n",
    "Net Sales: {net_sales}\n",
    "Cost of Sales: {cost_of_sales}\n",
    "Gross Profit: {gross_profit}\n",
    "Operating Profit: {operating_profit}\n",
    "Net Income: {net_income}\n",
    "\n",
    "Write a business-level summary analyzing profitability, liquidity, and financial health.\n",
    "\"\"\"\n",
    ")\n"
   ]
  },
  {
   "cell_type": "code",
   "execution_count": 28,
   "id": "ae29df4b",
   "metadata": {},
   "outputs": [],
   "source": [
    "# --- State Schema ---\n",
    "class FinancialReportState(TypedDict):\n",
    "    year: int\n",
    "    financial_data: Optional[dict]\n",
    "    report: Optional[str]\n",
    "\n",
    "# --- Nodes ---\n",
    "\n",
    "def fetch_data_node(state: FinancialReportState) -> FinancialReportState:\n",
    "    year = state['year']\n",
    "    engine = create_engine(DB_PATH)\n",
    "    query = \"SELECT * FROM financials WHERE year = :year LIMIT 1\"\n",
    "    with engine.connect() as conn:\n",
    "        result = conn.execute(text(query), {\"year\": year}).mappings().first()\n",
    "    if not result:\n",
    "        raise ValueError(f\"No financial data found for year {year}\")\n",
    "    state['financial_data'] = dict(result)\n",
    "    return state\n",
    "\n",
    "def generate_report_node(state: FinancialReportState) -> FinancialReportState:\n",
    "    data = state['financial_data']\n",
    "    if not data:\n",
    "        raise ValueError(\"No financial data available to generate report.\")\n",
    "    prompt = report_template.format(**data)\n",
    "    response = llm.invoke(prompt)\n",
    "    state['report'] = response.content\n",
    "    return state"
   ]
  },
  {
   "cell_type": "code",
   "execution_count": 32,
   "id": "b1c06867",
   "metadata": {},
   "outputs": [
    {
     "data": {
      "image/png": "[encoded data removed]",
      "text/plain": [
       "<IPython.core.display.Image object>"
      ]
     },
     "metadata": {},
     "output_type": "display_data"
    }
   ],
   "source": [
    "# --- Build Graph ---\n",
    "from langgraph.graph import StateGraph\n",
    "from IPython.display import Image, display\n",
    "\n",
    "builder = StateGraph(FinancialReportState)\n",
    "\n",
    "builder.add_node(\"fetch_data\", fetch_data_node)\n",
    "builder.add_node(\"generate_report\", generate_report_node)\n",
    "\n",
    "builder.set_entry_point(\"fetch_data\")\n",
    "builder.add_edge(\"fetch_data\", \"generate_report\")\n",
    "builder.add_edge(\"generate_report\", END)\n",
    "\n",
    "# --- Compile Graph ---\n",
    "graph = builder.compile()\n",
    "\n",
    "# --- Visualize Graph ---\n",
    "try:\n",
    "    display(Image(graph.get_graph().draw_mermaid_png()))\n",
    "except Exception as e:\n",
    "    # This requires some extra dependencies and is optional\n",
    "    print(e)"
   ]
  },
  {
   "cell_type": "code",
   "execution_count": 30,
   "id": "3a9952ac",
   "metadata": {},
   "outputs": [
    {
     "name": "stdout",
     "output_type": "stream",
     "text": [
      "\n",
      "✅ Financial Report:\n",
      "\n",
      "### Adidas Financial Summary for 2022\n",
      "\n",
      "#### Overview\n",
      "In 2022, Adidas faced a challenging financial landscape, characterized by a decrease in profitability but maintaining a solid asset base and manageable liabilities. This summary will analyze the company's profitability, liquidity, and overall financial health based on the provided financial data.\n",
      "\n",
      "#### Profitability\n",
      "- **Gross Profit**: Adidas reported a gross profit of **€10.32 billion**, indicating a healthy gross profit margin of approximately **43%** (calculated as Gross Profit/Net Sales). This margin signals effective management of production costs relative to sales.\n",
      "- **Operating Profit**: The operating profit stood at **€1.26 billion**, leading to an operating margin of around **5.3%**. This reduction suggests increased operating expenses relative to revenue, which may stem from rising costs or lower sales efficiency.\n",
      "- **Net Income**: The company reported a **net income of -€105.34 million**, a concerning net loss that points to challenges in achieving profitability at the bottom line. The loss could be attributed to various factors, including increased costs, lower sales volumes, or investment in growth strategies that have yet to pay off.\n",
      "\n",
      "#### Liquidity\n",
      "- **Current Assets**: Adidas maintains a robust liquidity position with total current assets amounting to **€8.18 billion**, primarily driven by substantial inventories (€4.28 billion) and accounts receivable (€2.96 billion).\n",
      "- **Current Liabilities**: Total current liabilities are **€3.30 billion** (comprising short-term borrowings, accounts payable, and lease liabilities). \n",
      "- **Current Ratio**: The current ratio, calculated as current assets divided by current liabilities (8.18/3.30), equals approximately **2.48**. This indicates a strong capacity to cover short-term obligations, suggesting that Adidas is in good shape to manage its financial commitments in the near term.\n",
      "\n",
      "#### Financial Health\n",
      "- **Total Assets and Liabilities**: Adidas has total assets of approximately **€14.80 billion** against total liabilities of approximately **€9.75 billion**, leading to a debt-to-equity ratio of **1.92** (total liabilities/shareholders' equity). This ratio shows that the company is leveraging debt to finance operations and growth, which can be risky in a downturn but may also facilitate expansion when managed well.\n",
      "- **Shareholders' Equity**: The shareholders' equity stands at about **€5.06 billion**, illustrating a solid base of equity financing, although the recent net loss puts some strain on retained earnings.\n",
      "  \n",
      "#### Conclusion\n",
      "In summary, Adidas shows resilience in its liquidity position and maintains significant assets that may benefit long-term growth. However, the 2022 net loss and reduced profitability metrics raise concerns about operational efficiency and cost management. Moving forward, focusing on cost control, enhancing sales strategies, and possibly optimizing inventory management could be critical to returning to profitability and strengthening the overall financial health of the company. Additionally, monitoring the impact of global economic conditions on consumer behavior will be essential as Adidas maneuvers through challenges in the competitive sporting apparel market.\n"
     ]
    }
   ],
   "source": [
    "# Example run\n",
    "if __name__ == \"__main__\":\n",
    "    try:\n",
    "        year = int(input(\"Enter year (e.g., 2022): \"))\n",
    "        state = graph.invoke({\"year\": year})\n",
    "        print(\"\\n✅ Financial Report:\\n\")\n",
    "        print(state['report'])\n",
    "    except ValueError as e:\n",
    "        print(f\"❌ Error: {e}\")\n"
   ]
  }
 ],
 "metadata": {
  "kernelspec": {
   "display_name": ".venv",
   "language": "python",
   "name": "python3"
  },
  "language_info": {
   "codemirror_mode": {
    "name": "ipython",
    "version": 3
   },
   "file_extension": ".py",
   "mimetype": "text/x-python",
   "name": "python",
   "nbconvert_exporter": "python",
   "pygments_lexer": "ipython3",
   "version": "3.12.3"
  }
 },
 "nbformat": 4,
 "nbformat_minor": 5
}
