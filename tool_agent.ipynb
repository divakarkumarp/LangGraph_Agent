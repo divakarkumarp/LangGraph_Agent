{
 "cells": [
  {
   "cell_type": "code",
   "execution_count": 247,
   "metadata": {},
   "outputs": [
    {
     "data": {
      "text/plain": [
       "True"
      ]
     },
     "execution_count": 247,
     "metadata": {},
     "output_type": "execute_result"
    }
   ],
   "source": [
    "import os\n",
    "from dotenv import load_dotenv\n",
    "load_dotenv()"
   ]
  },
  {
   "cell_type": "code",
   "execution_count": 248,
   "metadata": {},
   "outputs": [],
   "source": [
    "GOOGLE_API_KEY=os.getenv(\"GOOGLE_API_KEY\")\n",
    "TAVILY_API_KEY=os.getenv(\"TAVILY_API_KEY\")\n",
    "GROQ_API_KEY=os.getenv(\"GROQ_API_KEY\")\n",
    "LANGSMITH_API_KEY=os.getenv(\"LANGSMITH_API_KEY\")\n",
    "LANGSMITH_PROJECT=os.getenv(\"LANGSMITH_PROJECT\")\n",
    "os.environ[\"LANGSMITH_TRACING\"]=\"true\"\n",
    "os.environ[\"LANGSMITH_ENDPOINT\"]=\"https://api.smith.langchain.com\""
   ]
  },
  {
   "cell_type": "code",
   "execution_count": 249,
   "metadata": {},
   "outputs": [
    {
     "data": {
      "text/plain": [
       "'Langchain-agent'"
      ]
     },
     "execution_count": 249,
     "metadata": {},
     "output_type": "execute_result"
    }
   ],
   "source": [
    "LANGSMITH_PROJECT"
   ]
  },
  {
   "cell_type": "code",
   "execution_count": 250,
   "metadata": {},
   "outputs": [],
   "source": [
    "from langchain_huggingface import HuggingFaceEmbeddings\n",
    "embeddings=HuggingFaceEmbeddings(model_name=\"all-MiniLM-L6-v2\")"
   ]
  },
  {
   "cell_type": "code",
   "execution_count": 251,
   "metadata": {},
   "outputs": [],
   "source": [
    "from langchain_groq import ChatGroq\n",
    "llm=ChatGroq(model_name=\"Gemma2-9b-It\")"
   ]
  },
  {
   "cell_type": "code",
   "execution_count": 252,
   "metadata": {},
   "outputs": [
    {
     "data": {
      "text/plain": [
       "AIMessage(content=\"As an AI, I don't have feelings, but I'm here and ready to assist you! How can I help you today? 😊\\n\", additional_kwargs={}, response_metadata={'token_usage': {'completion_tokens': 33, 'prompt_tokens': 15, 'total_tokens': 48, 'completion_time': 0.06, 'prompt_time': 0.001915076, 'queue_time': 0.235110162, 'total_time': 0.061915076}, 'model_name': 'Gemma2-9b-It', 'system_fingerprint': 'fp_10c08bf97d', 'finish_reason': 'stop', 'logprobs': None}, id='run-b9710c2d-41a7-4bb9-a58e-a84785255446-0', usage_metadata={'input_tokens': 15, 'output_tokens': 33, 'total_tokens': 48})"
      ]
     },
     "execution_count": 252,
     "metadata": {},
     "output_type": "execute_result"
    }
   ],
   "source": [
    "llm.invoke(\"Hi,how are you?\")"
   ]
  },
  {
   "cell_type": "markdown",
   "metadata": {},
   "source": [
    "Predefine tools"
   ]
  },
  {
   "cell_type": "code",
   "execution_count": 253,
   "metadata": {},
   "outputs": [],
   "source": [
    "from langchain_community.tools import WikipediaQueryRun\n",
    "from langchain_community.utilities import WikipediaAPIWrapper"
   ]
  },
  {
   "cell_type": "code",
   "execution_count": 254,
   "metadata": {},
   "outputs": [],
   "source": [
    "api_wrapper=WikipediaAPIWrapper()"
   ]
  },
  {
   "cell_type": "code",
   "execution_count": 255,
   "metadata": {},
   "outputs": [],
   "source": [
    "tool=WikipediaQueryRun(api_wrapper=api_wrapper)"
   ]
  },
  {
   "cell_type": "code",
   "execution_count": 256,
   "metadata": {},
   "outputs": [
    {
     "data": {
      "text/plain": [
       "'wikipedia'"
      ]
     },
     "execution_count": 256,
     "metadata": {},
     "output_type": "execute_result"
    }
   ],
   "source": [
    "tool.name"
   ]
  },
  {
   "cell_type": "code",
   "execution_count": 257,
   "metadata": {},
   "outputs": [
    {
     "data": {
      "text/plain": [
       "'A wrapper around Wikipedia. Useful for when you need to answer general questions about people, places, companies, facts, historical events, or other subjects. Input should be a search query.'"
      ]
     },
     "execution_count": 257,
     "metadata": {},
     "output_type": "execute_result"
    }
   ],
   "source": [
    "tool.description"
   ]
  },
  {
   "cell_type": "code",
   "execution_count": 258,
   "metadata": {},
   "outputs": [
    {
     "data": {
      "text/plain": [
       "{'query': {'description': 'query to look up on wikipedia',\n",
       "  'title': 'Query',\n",
       "  'type': 'string'}}"
      ]
     },
     "execution_count": 258,
     "metadata": {},
     "output_type": "execute_result"
    }
   ],
   "source": [
    "tool.args"
   ]
  },
  {
   "cell_type": "code",
   "execution_count": 259,
   "metadata": {},
   "outputs": [
    {
     "name": "stdout",
     "output_type": "stream",
     "text": [
      "Page: LangChain\n",
      "Summary: LangChain is a software framework that helps facilitate the integration of large language models (LLMs) into applications. As a language model integration framework, LangChain's use-cases largely overlap with those of language models in general, including document analysis and summarization, chatbots, and code analysis.\n",
      "\n",
      "Page: Retrieval-augmented generation\n",
      "Summary: Retrieval-augmented generation (RAG) is a technique that enables generative artificial intelligence (Gen AI) models to retrieve and incorporate new information. It modifies interactions with a large language model (LLM) so that the model responds to user queries with reference to a specified set of documents, using this information to supplement information from its pre-existing training data. This allows LLMs to use domain-specific and/or updated information.  Use cases include providing chatbot access to internal company data or generating responses based on authoritative sources.\n",
      "RAG improves large language models (LLMs) by incorporating information retrieval before generating responses. Unlike traditional LLMs that rely on static training data, RAG pulls relevant text from databases, uploaded documents, or web sources. According to Ars Technica, \"RAG is a way of improving LLM performance, in essence by blending the LLM process with a web search or other document look-up process to help LLMs stick to the facts.\" This method helps reduce AI hallucinations, which have led to real-world issues like chatbots inventing policies or lawyers citing nonexistent legal cases.\n",
      "By dynamically retrieving information, RAG enables AI to provide more accurate responses without frequent retraining. According to IBM, \"RAG also reduces the need for users to continuously train the model on new data and update its parameters as circumstances evolve. In this way, RAG can lower the computational and financial costs of running LLM-powered chatbots in an enterprise setting.\"\n",
      "Beyond efficiency gains, RAG also allows LLMs to include source references in their responses, enabling users to verify information by reviewing cited documents or original sources. This can provide greater transparency, as users can cross-check retrieved content to ensure accuracy and relevance.\n",
      "\n",
      "Page: Milvus (vector database)\n",
      "Summary: Milvus is a distributed vector database developed by Zilliz. It is available as both open-source software and a cloud service.\n",
      "Milvus is an open-source project under LF AI & Data Foundation distributed under the Apache License 2.0.\n"
     ]
    }
   ],
   "source": [
    "print(tool.run({\"query\": \"langchain\"}))"
   ]
  },
  {
   "cell_type": "code",
   "execution_count": 260,
   "metadata": {},
   "outputs": [
    {
     "data": {
      "text/plain": [
       "[{'url': 'https://www.britannica.com/biography/Rohit-Sharma',\n",
       "  'content': 'Rohit Sharma (born April 30, 1987, Bansod, India) is an Indian international cricketer and the current captain of the Indian cricket team in the Test and One-Day International (ODI) formats. Sharma was also the captain of India’s Twenty20 International team until he announced his retirement on June 29, 2024, after leading the Indian side to its T20I World Cup victory. He captained the Mumbai Indians, a franchise team in the Indian Premier League (IPL), for 10 years and led them to five titles. [...] Sharma was named the ICC Men’s ODI Cricketer of the Year in 2019 and was included in the ICC Men’s ODI Team of the Year in 2014 and in each year from 2016 to 2019. He was also included in the ICC Men’s Test Team of the Year in 2021, mainly for his achievements on India’s Test tour of England that year. For the same achievements, the Wisden Cricketer’s Almanack named him one of the five Wisden Cricketers of the Year in its 2022 edition.\\nSanat Pai Raikar [...] Radium Girls: The Women Who Fought for Their Lives in a Killer Workplace\\n\\nTimeline of the Space Race, 1957–69\\n\\nAll 119 References in “We Didn’t Start the Fire,” Explained\\n\\nWhat’s the Difference Between Angiosperms and Gymnosperms?\\nContents\\nSports & Recreation Cricket\\n\\nRohit Sharma (more)\\nRohit Sharma\\nIndian cricketer\\nAsk the Chatbot a Question\\nMore Actions\\nPrint\\nprint Print\\nPlease select which sections you would like to print:\\n\\nTable Of Contents'},\n",
       " {'url': 'https://www.bcci.tv/international/men/players/rohit-sharma/6',\n",
       "  'content': \"An elegant and flamboyant batter, Rohit Sharma is one of India's premier batters who has endeared the cricket world with his elegance, timing and big hitting prowess. Popularly known as the 'Hitman' who can destroy the best of the bowling attacks, Rohit Sharma is a record-breaker and one of the finest captains in world cricket. He got off to a good start in his international career with crucial contributions in the T20 World Cup in 2007 and the CB Series in Australia. He almost made his Test [...] An elegant and flamboyant batter, Rohit Sharma is one of India's premier batters who has endeared the cricket world with his elegance, timing and big hitting prowess. Popularly known as the 'Hitman' who can destroy the best of the bowling attacks, Rohit Sharma is a record-breaker and one of the finest captains in world cricket. He got off to a good start in his international career with crucial contributions in the T20 World Cup in 2007 and the CB Series in Australia. He almost made his Test\"},\n",
       " {'url': 'https://sports.ndtv.com/cricket/players/857-rohit-sharma-playerprofile',\n",
       "  'content': \"Rohit Gurunath Sharma Photos\\n\\nRohit Gurunath Sharma Videos\\n\\nRohit Gurunath Sharma Profile\\n\\nRohit Sharma, famously known as 'Hit-Man', has earned his nickname for his effortless ability to clear the boundary with ease. Renowned not only in India but globally, he is regarded as one of the finest cricketers of his generation. A stylish and elegant batter, Sharma is particularly known for his awe-inspiring pull shots, so much so that it is often said no one plays the shot better than he does. [...] His contribution earned him the Man of the Match award, reaffirming his status as one of the greatest white-ball players of his generation. [...] Rohit Sharma\\n\\nPersonal Information\\n\\nFull Name | Rohit Gurunath Sharma\\nBorn | April 30, 1987Bansod, Nagpur, Maharashtra\\nAge | 37 Years, 11 Months, 1 Days\\nNational Side | India\\nBatting Style | Right Handed\\nBowling | Off break\\nSport | Cricket\\nRanking\\n\\n | Test | ODI | T20\\nBatting | 42 | 3 | 69\\nBowling | 151 | 274 | 851\\nMan of the Match\\n\\nTest | ODI | T20 | World Cup | CL\\n4 | 26 | 14 | 7 | 1\\n\\nCareer Information\"},\n",
       " {'url': 'https://www.iplt20.com/teams/mumbai-indians/squad-details/107',\n",
       "  'content': 'Rohit Sharma is a player that needs no introduction; he is the most successful player in the history of the league, having won six IPL titles, one with Deccan Chargers in 2009 and five as captain of Mumbai Indians (2013, 2015, 2017, 2019, 2020), making him the joint most successful captain in the league. Not just with his leadership, Rohit Sharma has also been instrumental with the bat and is currently the third-highest run-scorer in the history of the tournament. He also has the distinction of'},\n",
       " {'url': 'https://www.cricbuzz.com/profiles/576/rohit-sharma',\n",
       "  'content': \"Indian cricket-frenzy fans have a thing for like-for-like replacements. More specifically, they have a thing for spotting similarities with the days gone by. With an incessant obsession for stats, there lies a cricketing romantic who is struck by nostalgia when manifested with the idea of an elegant-looking batsman with free-flowing batting style from Mumbai. That's right – Rohit Sharma was touted to be the Great Sachin Tendulkar's long-destined successor at number 4 in the Test batting [...] And finally, the IPL helped unveil a leadership side to Rohit Sharma that has impressed a lot of people. Rohit led MI to five IPL titles which is an amazing accomplishment. Rohit is also among the all-time top run-scorers in the IPL, only behind Virat Kohli and Shikhar Dhawan.  \\nBy Rishi Roy\\nRelated Articles\\n Gill adds consistency to India's form-chasing top-order 1d ago\\n Rohit Sharma finds his groove again Feb 10 2025\\n Varun in Champions Trophy contention as India keep options open Feb 05 2025\"}]"
      ]
     },
     "execution_count": 260,
     "metadata": {},
     "output_type": "execute_result"
    }
   ],
   "source": [
    "from langchain_community.tools.tavily_search import TavilySearchResults\n",
    "tool = TavilySearchResults()\n",
    "tool.invoke({\"query\": \"who is Rohit Sharma?\"})"
   ]
  },
  {
   "cell_type": "markdown",
   "metadata": {},
   "source": [
    "Create a Custom tool"
   ]
  },
  {
   "cell_type": "code",
   "execution_count": 261,
   "metadata": {},
   "outputs": [],
   "source": [
    "from langchain.agents import tool\n",
    "@tool\n",
    "def get_word_length(word: str) -> int:\n",
    "    \"\"\"Returns the length of a word.\"\"\"\n",
    "    return len(word)"
   ]
  },
  {
   "cell_type": "code",
   "execution_count": 262,
   "metadata": {},
   "outputs": [
    {
     "data": {
      "text/plain": [
       "7"
      ]
     },
     "execution_count": 262,
     "metadata": {},
     "output_type": "execute_result"
    }
   ],
   "source": [
    "get_word_length.invoke(\"Cricket\")"
   ]
  },
  {
   "cell_type": "code",
   "execution_count": 264,
   "metadata": {},
   "outputs": [],
   "source": [
    "@tool\n",
    "def multiply(a: int, b: int) -> int:\n",
    "    \"\"\"Multiply two numbers.\"\"\"\n",
    "    return a * b"
   ]
  },
  {
   "cell_type": "code",
   "execution_count": 266,
   "metadata": {},
   "outputs": [],
   "source": [
    "@tool\n",
    "def summisation(a: int, b: int) -> int:\n",
    "    \"\"\"Adding two numbers.\"\"\"\n",
    "    return a + b"
   ]
  },
  {
   "cell_type": "code",
   "execution_count": 267,
   "metadata": {},
   "outputs": [
    {
     "name": "stdout",
     "output_type": "stream",
     "text": [
      "multiply\n",
      "Multiply two numbers.\n",
      "{'a': {'title': 'A', 'type': 'integer'}, 'b': {'title': 'B', 'type': 'integer'}}\n"
     ]
    }
   ],
   "source": [
    "print(multiply.name)\n",
    "print(multiply.description)\n",
    "print(multiply.args)"
   ]
  },
  {
   "cell_type": "code",
   "execution_count": 268,
   "metadata": {},
   "outputs": [
    {
     "name": "stdout",
     "output_type": "stream",
     "text": [
      "summisation\n",
      "Adding two numbers.\n",
      "{'a': {'title': 'A', 'type': 'integer'}, 'b': {'title': 'B', 'type': 'integer'}}\n"
     ]
    }
   ],
   "source": [
    "\n",
    "print(summisation.name)\n",
    "print(summisation.description)\n",
    "print(summisation.args)"
   ]
  },
  {
   "cell_type": "code",
   "execution_count": 269,
   "metadata": {},
   "outputs": [
    {
     "data": {
      "text/plain": [
       "200"
      ]
     },
     "execution_count": 269,
     "metadata": {},
     "output_type": "execute_result"
    }
   ],
   "source": [
    "multiply.invoke({\"a\":10,\"b\":20})"
   ]
  },
  {
   "cell_type": "code",
   "execution_count": 270,
   "metadata": {},
   "outputs": [
    {
     "data": {
      "text/plain": [
       "30"
      ]
     },
     "execution_count": 270,
     "metadata": {},
     "output_type": "execute_result"
    }
   ],
   "source": [
    "summisation.invoke({\"a\":10,\"b\":20})"
   ]
  },
  {
   "cell_type": "markdown",
   "metadata": {},
   "source": [
    "Concept of Agents"
   ]
  },
  {
   "cell_type": "code",
   "execution_count": 271,
   "metadata": {},
   "outputs": [],
   "source": [
    "from langchain.agents import AgentType\n",
    "from langchain.agents import load_tools \n",
    "from langchain.agents import initialize_agent"
   ]
  },
  {
   "cell_type": "code",
   "execution_count": 272,
   "metadata": {},
   "outputs": [],
   "source": [
    "tool=load_tools([\"wikipedia\"],llm=llm)"
   ]
  },
  {
   "cell_type": "code",
   "execution_count": 273,
   "metadata": {},
   "outputs": [],
   "source": [
    "agent=initialize_agent(tool,llm,agent=AgentType.ZERO_SHOT_REACT_DESCRIPTION,verbose=True)"
   ]
  },
  {
   "cell_type": "code",
   "execution_count": 274,
   "metadata": {},
   "outputs": [
    {
     "name": "stdout",
     "output_type": "stream",
     "text": [
      "\n",
      "\n",
      "\u001b[1m> Entering new AgentExecutor chain...\u001b[0m\n",
      "\u001b[32;1m\u001b[1;3mThought: I need to search Wikipedia for \"LLaMA\" to find information about it and its creators. \n",
      "Action: wikipedia\n",
      "Action Input: LLaMA (large language model)\u001b[0m\n",
      "Observation: \u001b[36;1m\u001b[1;3mPage: Llama (language model)\n",
      "Summary: Llama (Large Language Model Meta AI, formerly stylized as LLaMA) is a family of large language models (LLMs) released by Meta AI starting in February 2023. The latest version is Llama 3.3, released in December 2024.\n",
      "Llama models are trained at different parameter sizes, ranging between 1B and 405B. Initially  only a foundation model, starting with Llama 2, Meta AI released instruction fine-tuned versions alongside foundation models.\n",
      "Model weights for the first version of Llama were only available to researchers on a case-by-case basis, under a non-commercial license. Unauthorized copies of the first model were shared via BitTorrent. Subsequent versions of Llama were made accessible outside academia and released under licenses that permitted some commercial use.\n",
      "Alongside the release of Llama 3, Meta added virtual assistant features to Facebook and WhatsApp in select regions, and a standalone website. Both services use a Llama 3 model.\n",
      "\n",
      "Page: List of large language models\n",
      "Summary: A large language model (LLM) is a type of machine learning model designed for natural language processing tasks such as language generation. LLMs are language models with many parameters, and are trained with self-supervised learning on a vast amount of text.\n",
      "This page lists notable large language models.\n",
      "For the training cost column, 1 petaFLOP-day = 1 petaFLOP/sec × 1 day = 8.64E19 FLOP. Also, only the largest model's cost is written.\n",
      "\n",
      "Page: Large language model\n",
      "Summary: A large language model (LLM) is a type of machine learning model designed for natural language processing tasks such as language generation. LLMs are language models with many parameters, and are trained with self-supervised learning on a vast amount of text.\n",
      "The largest and most capable LLMs are generative pretrained transformers (GPTs). Modern models can be fine-tuned for specific tasks or guided by prompt engineering. These models acquire predictive power regarding syntax, semantics, and ontologies inherent in human language corpora, but they also inherit inaccuracies and biases present in the data they are trained in.\u001b[0m\n",
      "Thought:\u001b[32;1m\u001b[1;3mThought: I now know that LLaMA is a family of large language models created by Meta AI.\n",
      "Final Answer: LLaMA is a family of large language models created by Meta AI. \n",
      "\u001b[0m\n",
      "\n",
      "\u001b[1m> Finished chain.\u001b[0m\n"
     ]
    },
    {
     "data": {
      "text/plain": [
       "'LLaMA is a family of large language models created by Meta AI.'"
      ]
     },
     "execution_count": 274,
     "metadata": {},
     "output_type": "execute_result"
    }
   ],
   "source": [
    "agent.run(\"what is llama and who create this llm model?\")"
   ]
  },
  {
   "cell_type": "markdown",
   "metadata": {},
   "source": [
    "A Tool Calling Agent refers to an AI system or framework that dynamically invokes external tools or APIs to accomplish tasks as part of its decision-making process. Instead of relying solely on internal reasoning or knowledge, the agent calls specific tools to perform actions like calculations, searches, or other operations. This type of agent is often used in real-world applications where tasks require interaction with external systems."
   ]
  },
  {
   "cell_type": "code",
   "execution_count": 275,
   "metadata": {},
   "outputs": [],
   "source": [
    "from langchain_community.tools.tavily_search import TavilySearchResults"
   ]
  },
  {
   "cell_type": "code",
   "execution_count": 276,
   "metadata": {},
   "outputs": [],
   "source": [
    "search = TavilySearchResults()"
   ]
  },
  {
   "cell_type": "code",
   "execution_count": 277,
   "metadata": {},
   "outputs": [
    {
     "data": {
      "text/plain": [
       "[{'url': 'https://www.weatherapi.com/',\n",
       "  'content': \"{'location': {'name': 'Ohio', 'region': 'Illinois', 'country': 'USA United States of America', 'lat': 41.6026, 'lon': -89.4525, 'tz_id': 'America/Chicago', 'localtime_epoch': 1743440830, 'localtime': '2025-03-31 12:07'}, 'current': {'last_updated_epoch': 1743440400, 'last_updated': '2025-03-31 12:00', 'temp_c': 6.2, 'temp_f': 43.2, 'is_day': 1, 'condition': {'text': 'Partly cloudy', 'icon': '//cdn.weatherapi.com/weather/64x64/day/116.png', 'code': 1003}, 'wind_mph': 11.6, 'wind_kph': 18.7, 'wind_degree': 344, 'wind_dir': 'NNW', 'pressure_mb': 1017.0, 'pressure_in': 30.02, 'precip_mm': 0.0, 'precip_in': 0.0, 'humidity': 61, 'cloud': 25, 'feelslike_c': 2.7, 'feelslike_f': 36.9, 'windchill_c': 5.7, 'windchill_f': 42.3, 'heatindex_c': 8.8, 'heatindex_f': 47.8, 'dewpoint_c': 0.4, 'dewpoint_f': 32.7, 'vis_km': 16.0, 'vis_miles': 9.0, 'uv': 4.6, 'gust_mph': 13.4, 'gust_kph': 21.5}}\"},\n",
       " {'url': 'https://ocj.com/2025/03/ohio-ag-weather-and-forecast-march-31-2025/',\n",
       "  'content': 'Yet another system arrives for the weekend. Rain and thunderstorms will be here Saturday and Sunday, with another half to 2″ potential. However, we are seeing a sharp end to that moisture, rather than lingering for several additional days into the start of next week. That is important, due to the fact it is a switch from what we were seeing last week. All told, though, it is a very wet pattern through this week, enough to put early field work thoughts on the back burner for a bit. The map below [...] A frontal boundary continues to exit OH this morning, moving off to the east. We may continue to see a bit of moisture in far eastern parts of the state through mid morning, but generally are winding down with any significant threat of precipitation. Clouds will be giving way to sun through the day today as a drier atmosphere works in. However, temps are pulling back significantly from the weekend highs. We turn out partly cloudy tonight, and will see mostly sunny skies tomorrow, but will be [...] By midweek, we are ready for our next weather system. Showers and thunderstorms develop Wednesday and continue through Thursday. Rain totals will come in at half to 2″ with coverage at 100% of the state. There is a significant chance of strong to severe weather, mostly on Thursday. We will zero in on that as we get closer to the event. We dry down Thursday night and Friday, but do not see temps fall off like we are experiencing now.'},\n",
       " {'url': 'https://www.youtube.com/watch?v=9XizowZjfVw',\n",
       "  'content': \"A few lingering showers are possible otherwise expect skies to slowly clear. Temperatures will fall to around the mid-50s by sunrise, but that's as warm as we will get for the day. Temperatures will slowly trend downward most of the day, getting into the 40s by the late afternoon. [...] \\u200bThe chilly air lingers and will make it a colder morning on Tuesday, with wake-up temperatures in the 30s. There will be more sunshine in the forecast on Tuesday as skies will be mostly sunny. Afternoon highs will be slightly below normal, topping out only in the 50s. Clouds will increase yet again as we approach the middle of the week and we will see our next chance for showers and storms on Wednesday. [...] This alert day will continue into Thursday when more severe storms could be possible, along with a heightened risk for flooding. These conditions will likely be worse on the southern side of our viewing area, but all areas could see continued impacts on Thursday. It will remain warm, with another day of afternoon highs in the 70s.\"},\n",
       " {'url': 'https://www.10tv.com/video/weather/forecast/columbus-ohio-weather-forecast-for-march-31-2025-cooler-monday-as-showers-move-out/530-72d79740-ab1d-473d-896f-4ce6bdfbac3c',\n",
       "  'content': 'Columbus, Ohio weather forecast for March 31, 2025 | Cooler Monday as showers move out. Monday: Some showers early, then slow clearing. High'},\n",
       " {'url': 'https://www.youtube.com/watch?v=gJPa6Tkxp1I',\n",
       "  'content': \"Tumbling temps today, storms mid-week: Cleveland weather forecast for March 31, 2025 \\n WKYC Channel 3 \\n 60 likes \\n 2107 views \\n 31 Mar 2025 \\n Grab a jacket before you leave the house because your Cleveland weather forecast shows much colder temperatures are back in Northeast Ohio. These cooler temps last today and tomorrow before warmer air returns by Wednesday. We're also keeping watch on mid-week storm chances. [...] 3News' Matt Wintz has the hour-by-hour details in his morning weather forecast for Monday, March 31, 2025. See the extended forecast: https://www.wkyc.com/article/weather/forecast/northeast-ohio-weather-forecast/95-99643b63-4b79-4d67-8d5f-7f54d07d30f0\\n\\n---\\n\\nAt 3News, we’re here to share your voice and tell your story. Share your ideas, thoughts, concerns and engage in conversations about the communities in which we all call home.\\n\\nFollow 3News on Social: [...] Facebook: https://www.facebook.com/wkyc.channel3/  \\nTwitter: https://twitter.com/wkyc  \\nInstagram: https://www.instagram.com/wkyc3/  \\n\\nVisit our site: https://www.wkyc.com/\\nAnd be sure to download our app here: https://wkyc.com/app \\n 1 comments\"}]"
      ]
     },
     "execution_count": 277,
     "metadata": {},
     "output_type": "execute_result"
    }
   ],
   "source": [
    "search.invoke(\"what is the weather in ohio\")"
   ]
  },
  {
   "cell_type": "code",
   "execution_count": 278,
   "metadata": {},
   "outputs": [],
   "source": [
    "tools = [search]"
   ]
  },
  {
   "cell_type": "code",
   "execution_count": 279,
   "metadata": {},
   "outputs": [],
   "source": [
    "from langchain import hub"
   ]
  },
  {
   "cell_type": "code",
   "execution_count": 280,
   "metadata": {},
   "outputs": [],
   "source": [
    "prompt=hub.pull(\"hwchase17/openai-functions-agent\")"
   ]
  },
  {
   "cell_type": "code",
   "execution_count": 281,
   "metadata": {},
   "outputs": [
    {
     "data": {
      "text/plain": [
       "ChatPromptTemplate(input_variables=['agent_scratchpad', 'input'], optional_variables=['chat_history'], input_types={'chat_history': list[typing.Annotated[typing.Union[typing.Annotated[langchain_core.messages.ai.AIMessage, Tag(tag='ai')], typing.Annotated[langchain_core.messages.human.HumanMessage, Tag(tag='human')], typing.Annotated[langchain_core.messages.chat.ChatMessage, Tag(tag='chat')], typing.Annotated[langchain_core.messages.system.SystemMessage, Tag(tag='system')], typing.Annotated[langchain_core.messages.function.FunctionMessage, Tag(tag='function')], typing.Annotated[langchain_core.messages.tool.ToolMessage, Tag(tag='tool')], typing.Annotated[langchain_core.messages.ai.AIMessageChunk, Tag(tag='AIMessageChunk')], typing.Annotated[langchain_core.messages.human.HumanMessageChunk, Tag(tag='HumanMessageChunk')], typing.Annotated[langchain_core.messages.chat.ChatMessageChunk, Tag(tag='ChatMessageChunk')], typing.Annotated[langchain_core.messages.system.SystemMessageChunk, Tag(tag='SystemMessageChunk')], typing.Annotated[langchain_core.messages.function.FunctionMessageChunk, Tag(tag='FunctionMessageChunk')], typing.Annotated[langchain_core.messages.tool.ToolMessageChunk, Tag(tag='ToolMessageChunk')]], FieldInfo(annotation=NoneType, required=True, discriminator=Discriminator(discriminator=<function _get_type at 0x000001D9A20CEE80>, custom_error_type=None, custom_error_message=None, custom_error_context=None))]], 'agent_scratchpad': list[typing.Annotated[typing.Union[typing.Annotated[langchain_core.messages.ai.AIMessage, Tag(tag='ai')], typing.Annotated[langchain_core.messages.human.HumanMessage, Tag(tag='human')], typing.Annotated[langchain_core.messages.chat.ChatMessage, Tag(tag='chat')], typing.Annotated[langchain_core.messages.system.SystemMessage, Tag(tag='system')], typing.Annotated[langchain_core.messages.function.FunctionMessage, Tag(tag='function')], typing.Annotated[langchain_core.messages.tool.ToolMessage, Tag(tag='tool')], typing.Annotated[langchain_core.messages.ai.AIMessageChunk, Tag(tag='AIMessageChunk')], typing.Annotated[langchain_core.messages.human.HumanMessageChunk, Tag(tag='HumanMessageChunk')], typing.Annotated[langchain_core.messages.chat.ChatMessageChunk, Tag(tag='ChatMessageChunk')], typing.Annotated[langchain_core.messages.system.SystemMessageChunk, Tag(tag='SystemMessageChunk')], typing.Annotated[langchain_core.messages.function.FunctionMessageChunk, Tag(tag='FunctionMessageChunk')], typing.Annotated[langchain_core.messages.tool.ToolMessageChunk, Tag(tag='ToolMessageChunk')]], FieldInfo(annotation=NoneType, required=True, discriminator=Discriminator(discriminator=<function _get_type at 0x000001D9A20CEE80>, custom_error_type=None, custom_error_message=None, custom_error_context=None))]]}, partial_variables={'chat_history': []}, metadata={'lc_hub_owner': 'hwchase17', 'lc_hub_repo': 'openai-functions-agent', 'lc_hub_commit_hash': 'a1655024b06afbd95d17449f21316291e0726f13dcfaf990cc0d18087ad689a5'}, messages=[SystemMessagePromptTemplate(prompt=PromptTemplate(input_variables=[], input_types={}, partial_variables={}, template='You are a helpful assistant'), additional_kwargs={}), MessagesPlaceholder(variable_name='chat_history', optional=True), HumanMessagePromptTemplate(prompt=PromptTemplate(input_variables=['input'], input_types={}, partial_variables={}, template='{input}'), additional_kwargs={}), MessagesPlaceholder(variable_name='agent_scratchpad')])"
      ]
     },
     "execution_count": 281,
     "metadata": {},
     "output_type": "execute_result"
    }
   ],
   "source": [
    "prompt"
   ]
  },
  {
   "cell_type": "code",
   "execution_count": 282,
   "metadata": {},
   "outputs": [
    {
     "data": {
      "text/plain": [
       "[SystemMessagePromptTemplate(prompt=PromptTemplate(input_variables=[], input_types={}, partial_variables={}, template='You are a helpful assistant'), additional_kwargs={}),\n",
       " MessagesPlaceholder(variable_name='chat_history', optional=True),\n",
       " HumanMessagePromptTemplate(prompt=PromptTemplate(input_variables=['input'], input_types={}, partial_variables={}, template='{input}'), additional_kwargs={}),\n",
       " MessagesPlaceholder(variable_name='agent_scratchpad')]"
      ]
     },
     "execution_count": 282,
     "metadata": {},
     "output_type": "execute_result"
    }
   ],
   "source": [
    "prompt.messages"
   ]
  },
  {
   "cell_type": "markdown",
   "metadata": {},
   "source": [
    "**agent_scratchpad:** The agent does not call a tool just once to get the desired answer, but has a structure that calls tools repeatedly until the desired answer is obtained. Each time you call a tool, what the previous call was like, information about the previous call, and the result are stored in this field."
   ]
  },
  {
   "cell_type": "code",
   "execution_count": 283,
   "metadata": {},
   "outputs": [],
   "source": [
    "from langchain.agents import create_tool_calling_agent\n",
    "agent = create_tool_calling_agent(llm, tools, prompt)"
   ]
  },
  {
   "cell_type": "code",
   "execution_count": 284,
   "metadata": {},
   "outputs": [],
   "source": [
    "from langchain.agents import AgentExecutor\n",
    "agent_executor = AgentExecutor(agent=agent, tools=tools, verbose=True)"
   ]
  },
  {
   "cell_type": "code",
   "execution_count": 285,
   "metadata": {},
   "outputs": [
    {
     "name": "stdout",
     "output_type": "stream",
     "text": [
      "\n",
      "\n",
      "\u001b[1m> Entering new AgentExecutor chain...\u001b[0m\n",
      "\u001b[32;1m\u001b[1;3m\n",
      "Invoking: `tavily_search_results_json` with `{'query': 'hello how are you'}`\n",
      "\n",
      "\n",
      "\u001b[0m\u001b[36;1m\u001b[1;3m[{'url': 'https://en.wikipedia.org/wiki/Hello,_How_Are_You', 'content': '\"The Music Goes \\'Round My Head\"(1967) | \"Hello, How Are You\"(1968) | \"Good Times\"(1968)\\n\"The Music Goes \\'Round My Head\"(1967) | \"Hello, How Are You\"(1968) | \"Land of Make Believe\"(1968)\\n\"Falling Off the Edge of the World\"(1967) | \"Hello, How Are You\"(1968) | \"Gonna Have a Good Time (Good Times)\"(1968)\\n\"Hello, How Are You\" is a 1968 song and single by Australian  rock group the Easybeats, which was written by band members George Young and Harry Vanda.\\n\\nBackground [...] \"Hello, How Are You\"\\nCover of the 1968 Netherlands single\\nSinglebyThe Easybeats\\nfrom the albumVigil\\nB-side | \"Falling Off the Edge of the World\" [UK & Australia]\"Come In You\\'ll Get Pneumonia\" [US]\\nReleased | March 1968\\nRecorded | Pye Studios,London, 1968\\nGenre | Pop\\nLength | 3:17\\nLabel | Parlophone(Australia),United Artists Records\\nSongwriter(s) | Harry VandaandGeorge Young\\nProducer(s) | The Easybeats and Mike Vaughan\\nAustralian singles chronology [...] The choice to release \"Hello, How Are You\" was that of the band\\'s manager Mike Vaughan.[1]'}, {'url': 'https://www.youtube.com/watch?v=tVlcKp3bWH8', 'content': \"Hello, hello, hello How are you? Hello, hello, hello How are you? I'm good I'm great I'm wonderful I'm good I'm great I'm wonderful Hello, hello, hello How are you? Hello, hello, hello How are you? I'm tired I'm hungry I'm not so good I'm tired I'm hungry I'm not so good Hello, hello, hello How are you? Hello, hello, hello How are you? Hello, hello, hello How are you? Hello, hello, hello How are you? [...] FREE SUPER SIMPLE TEACHING RESOURCES: http://bit.ly/SSFree-Resources\\n\\nSOCIAL MEDIA: \\nSuper Simple Newsletter Sign Up: http://bit.ly/SuperSimpleSignUp\\nFacebook: http://bit.ly/SuperSimpleFacebook\\nInstagram: http://bit.ly/SuperSimpleInsta\\nTwitter: http://bit.ly/SuperSimpleTwitter\\nPinterest: http://bit.ly/SuperSimplePinterest \\n*********\\nLyrics: \\nHello!\\nHello! \\nHello, how are you? \\n(Repeat)\\n\\nI'm good!\\nI'm great!\\nI'm wonderful!\\n(Repeat)\\n\\nHello!\\nHello!\\nHello, how are you?\\n(Repeat) [...] Hello!\\nHello!\\nHello, how are you?\\n(Repeat 3x) \\n********* \\n© Skyship Entertainment Company. All rights reserved. Super Simple, Super Simple Songs, Noodle & Pals, Finny the Shark, Caitie’s Classroom, Rhymington Square, the Bumble Nums, Carl’s Car Wash and associated logos are trademarks of Skyship Entertainment Company.\\n#supersimple #nurseryrhymes #kidssongs #childrensmusic #funlearningactivities \\n 0 comments\"}, {'url': 'https://www.amazon.com/Hello-How-Song-Kids-Kiboomers/dp/B086D1M78X', 'content': '\\'Hello Hello How Are You song\\' is a fun and simple way to help children greet each other in English! It teaches children how to answer the question, \"How are'}, {'url': 'https://supersimple.com/song/hello/', 'content': 'Hello! | featuring The Super Simple Puppets\\nSong Lyrics\\nHello, hello, hello, how are you?\\nHello, hello, hello, how are you?\\nI’m good.\\nI’m great!\\nI’m wonderful!\\nI’m good.\\nI’m great!\\nI’m wonderful!\\nHello, hello, hello, how are you?\\nHello, hello, hello, how are you?\\nI’m tired.\\nI’m hungry.\\nI’m not so good.\\nI’m tired.\\nI’m hungry.\\nI’m not so good.\\nHello, hello, hello, how are you?\\nHello, hello, hello, how are you?\\nHello, hello, hello, how are you?\\nHello, hello, hello, how are you?\\nShow More ↓ [...] * Videos may display advertisements. See where you can watch Super Simple ad-free.\\nListen\\n\\nStart off your lesson with “Hello!”, a fun and energetic song to talk about how you feel as you greet each other.\\nGestures & Activities\\n\\nHow To Teach Hello!\\nFlashcards (1)\\n\\nHello! Flashcards\\nMore Fun... (2)\\n\\nHello Baby Sparrows [...] Hello Hello! | featuring The Super Simple Puppets\\n\\n\\nGood Morning, Mr. Rooster\\n\\n\\nBye Bye Goodbye\\n\\n\\nAfter A While, Crocodile\\n\\n\\nSee You Later, Alligator\\n\\n\\nSee You Later, Alligator | featuring The Super Simple Puppets\\n\\n\\nHello, My Friends\\n\\n\\nKnock Knock, Trick Or Treat? (Part 2)\\n\\n\\nHello, Reindeer\\n\\n\\nGoodbye, Snowman\\n\\n\\nHello! | featuring The Super Simple Puppets\\n\\n\\nHello Hello!\\n\\n\\nHello Hello! | featuring The Super Simple Puppets\\n\\n\\nGood Morning, Mr. Rooster\\n\\n\\nBye Bye Goodbye\\n\\n\\nExplore'}, {'url': 'https://www.quora.com/Why-do-people-say-hello-or-how-are-you', 'content': \"“How are you” usually shows that someone cares about another's well being, even though the most common response would be “Okay.”\"}]\u001b[0m\u001b[32;1m\u001b[1;3m\n",
      "Invoking: `tavily_search_results_json` with `{'query': 'What is the meaning of hello how are you?'}`\n",
      "\n",
      "\n",
      "\u001b[0m\u001b[36;1m\u001b[1;3m[{'url': 'https://english.stackexchange.com/questions/166153/what-do-you-mean-when-you-ask-how-are-you', 'content': 'Context is key. That being said, in most cases, in American English at least, \"How are you?\" just means \"Hello.\" Not even a formal \"fine\" response is required. It would not be uncommon to hear two Americans have this conversation:\\n\\nJoe, how are you?\\n\\nNate, how are you doing?\\n\\nor\\n\\nJoe how are you?\\n\\nNate, good to see you.\\n\\nIf you want to respond to \"how are you\" by telling about your condition, you can, but it needs to be a very short response.\\n\\nJoe, how are you?\\n\\nNot bad, how about you? [...] I know, for example, that in Hebrew \"How are you?\" in most cases means \"Hello\". In Russian if you ask \"How are you?\" you definitely want to know it.\\n\\nWhat do you mean when you ask this question? What answer do you want to hear?\\n\\n11 Answers\\n                                    11 [...] The other answers are great, but I\\'d like to add that in Transactional Analysis the \"how are you?\" exchange is classified as a Ritual. \"How are you?\" is a way of giving and getting a basic attention and recognition, a way which is highly ritualised e.g. happens almost automatically and in a predefined fashion.'}, {'url': 'https://ell.stackexchange.com/questions/33865/what-do-they-mean-with-hi-how-are-you-doing', 'content': 'TvsjhuserTvsjhuser\\n1\\n1\\n\\n\\n1\\nWelcome to ELL SE! Unfortunately, your answer doesn\\'t say anything that hasn\\'t already been said in the accepted answer.\\n–\\xa0Glorfindel ♦\\nCommented Oct 1, 2016 at 7:43\\n\\n\\nAdd a comment \\xa0|\\xa0\\n-1\\n\\n\"How you doing?\" means hello, nothing more and nothing less…a simple hello back will be fine.\\nShare\\nImprove this answer\\nFollow  \\nedited Jun 8, 2015 at 9:03\\n\\nNathan Tuggy\\n9,5352020 gold badges4141 silver badges5656 bronze badges\\nanswered Jun 8, 2015 at 5:44 [...] 8\\nI once replied \"Good, and you?\" to someone who had greeted me with \"Hi, how are you?\" and they were totally taken aback by the fact that I\\'d actually replied. Weird stuff!\\n–\\xa0soph-e\\nCommented Sep 17, 2014 at 22:07\\n\\n\\nAdd a comment \\xa0|\\xa0\\n0\\n\\nWhen a person asks you, \"How are you doing?\" It is really a greeting and not actually a question as to one\\'s health. I always respond with a simple, \"Hello.\" Most people are fine with that.\\nShare\\nImprove this answer\\nFollow  \\nanswered Oct 1, 2016 at 2:18 [...] It\\'s just a hello, they don\\'t actually care how you are doing. Some appropriate response would be to say\\n\\nHello\\nHow are you (without actually answering)\\nFine, and yourself? (doesn\\'t matter if you are doing fine or not)\\n\\nShare\\nImprove this answer\\nFollow  \\nanswered Sep 17, 2014 at 17:50\\nstonegrizzlystonegrizzly\\n2'}, {'url': 'https://forum.wordreference.com/threads/hello-how-are-you.966659/', 'content': '\"How are you\" is often treated as a greeting rather than as a question. You could say \"Hi\" in response, and no one would notice.'}, {'url': 'https://www.reddit.com/r/EnglishLearning/comments/vt7efx/why_do_english_speakers_always_say_how_are_you/', 'content': 'It\\'s just a follow-up greeting to Hi or Hello. You can either say \"Fine\" or ask your own version of \"How\\'re you.\" It\\'s very rare that the asker'}, {'url': 'https://www.quora.com/What-do-you-mean-when-you-ask-How-are-you?top_ans=342864263', 'content': \"Asking “How are you?” is enquiring about your neighbour's health. It is a polite question pretending — rightly or formally — that you are taking\"}]\u001b[0m\u001b[32;1m\u001b[1;3m\n",
      "Invoking: `tavily_search_results_json` with `{'query': \"What is the meaning of 'How are you?' in different cultures?\"}`\n",
      "\n",
      "\n",
      "\u001b[0m\u001b[36;1m\u001b[1;3m[{'url': 'https://english.stackexchange.com/questions/166153/what-do-you-mean-when-you-ask-how-are-you', 'content': 'I know, for example, that in Hebrew \"How are you?\" in most cases means \"Hello\". In Russian if you ask \"How are you?\" you definitely want to know it.\\n\\nWhat do you mean when you ask this question? What answer do you want to hear?\\n\\n11 Answers\\n                                    11 [...] Context is key. That being said, in most cases, in American English at least, \"How are you?\" just means \"Hello.\" Not even a formal \"fine\" response is required. It would not be uncommon to hear two Americans have this conversation:\\n\\nJoe, how are you?\\n\\nNate, how are you doing?\\n\\nor\\n\\nJoe how are you?\\n\\nNate, good to see you.\\n\\nIf you want to respond to \"how are you\" by telling about your condition, you can, but it needs to be a very short response.\\n\\nJoe, how are you?\\n\\nNot bad, how about you? [...] The other answers are great, but I\\'d like to add that in Transactional Analysis the \"how are you?\" exchange is classified as a Ritual. \"How are you?\" is a way of giving and getting a basic attention and recognition, a way which is highly ritualised e.g. happens almost automatically and in a predefined fashion.'}, {'url': 'https://tandem.net/blog/how-are-you-around-the-world', 'content': 'When spoken, however, this phrase can convey different meanings depending on which word is accented. “How are you?” (emphasis on the “you”) generally comes across as a polite greeting, but “How are you?” (emphasis on the “are”) has a more sincere tone or even a tone of concern.\\n\\n\\n\\nScandinavia [...] In China, people often greet one another with, 你吃了吗？(nǐ chīle ma?) meaning “Have you eaten?” Answering this question is always a polite yes, regardless of your current state of hunger. Greeting in this way is very casual and much more common than asking how one is doing.\\n\\n你好吗？(Nǐ hǎo ma?) meaning “How are you?” or 你怎么样？(nǐ zěn me yàng?) meaning “What’s up?” is more commonly asked when two people, typically close relations, have not seen each other for some time.\\n\\n\\n\\nSpain and Latin America [...] “How are you?” is generally a fixed expression in the English language which has essentially lost its literal meaning. It is used as a polite greeting to practically any person we meet. Admittedly, it’s quite a disingenuous and superficial question as it doesn’t necessarily require a reply or else the typical response is “I’m good thanks, you?.”'}, {'url': 'https://soholanguagegroup.com/cultural-differences-what-americans-really-mean-when-they-ask-how-are-you/', 'content': '“I could say nothing!” she said. “I ran out the door.”\\nBeing asked “How are you?” is a topic of some concern among certain expatriates and visitors to New York. In their eyes, why should a salesperson, concierge, casual colleague, or restaurant wait person care how you are? \\xa0The answer is, they don’t!\\nThat is, they are not asking a personal question. The phrase “How are you?” in those contexts (as opposed to with friends and family) is simply a greeting, or another way of saying, “Hello.” [...] In the United States, asking how you are is simply a friendly way to acknowledge the other person. All you have to answer is two words, like: “Fine, thanks!”\\nWhen spoken between strangers, no one expects a long or truthful story to the question. And by keeping your reply short, simple, and positive, no further questions will be asked. [...] A French businessman said that in France, people give negative responses all the time and are met with sympathetic replies, like: “Yes, life is like that,” and other variations. That, however, is a cultural difference between our countries — and something to be conscious of.\\nThe next time you sit down in a restaurant and the wait person greets you, you can practice your English — as well as your new cultural knowledge — in an exchange that might go like this:\\n“Hi folks!\\xa0How are you today?”'}, {'url': 'https://www.reddit.com/r/AskEurope/comments/hedwj4/in_your_culture_is_asking_how_are_you_mostly_a/', 'content': '\"How are you doing?\" shows they are genuinely interested in your mood and well-being. Something like \"Wie gehts?\" just means \"hi\" but you are supposed to'}, {'url': 'https://english.stackexchange.com/questions/285687/origin-of-how-are-you', 'content': 'I agree with Barmar\\'s comment.\\n\\n\"How are you?\" sounds like it comes from a culture where you would engage in small talk about health and family. [...] it becomes clear by process of elimination that English\\'s \"How are you?\" most likely emanated from those cultures where Latin languages are now predominant and where they still most frequently greet one another by not just using the verb \"to be\" in the question but verbatim asking, \"How are you?\"  As such, it becomes most likely that the phrase arrived into English from translations and interpretations of greetings long ago said in present-day Italy, Spain, and Portugal, or possibly from [...] I would also add business to the common topics of passing businessmen on the street.  Literally, this is an invitation to reveal details and updates about your health, your family, the state of your business, and/or whatever is on your mind and occupying your time.  Further, I would point out the departing well wishes given in the same culture, \"Farewell\".  Then you have verbal bookends to the small talk: \"How are you?\" or \"How do you fare?\" paired with \"Farewell.\"'}]\u001b[0m\u001b[32;1m\u001b[1;3m\u001b[0m\n",
      "\n",
      "\u001b[1m> Finished chain.\u001b[0m\n"
     ]
    },
    {
     "data": {
      "text/plain": [
       "{'input': 'hello how are you?', 'output': ''}"
      ]
     },
     "execution_count": 285,
     "metadata": {},
     "output_type": "execute_result"
    }
   ],
   "source": [
    "agent_executor.invoke({\"input\": \"hello how are you?\"})"
   ]
  },
  {
   "cell_type": "code",
   "execution_count": 286,
   "metadata": {},
   "outputs": [
    {
     "name": "stdout",
     "output_type": "stream",
     "text": [
      "\n",
      "\n",
      "\u001b[1m> Entering new AgentExecutor chain...\u001b[0m\n",
      "\u001b[32;1m\u001b[1;3m\n",
      "Invoking: `tavily_search_results_json` with `{'query': 'weather in new york'}`\n",
      "\n",
      "\n",
      "\u001b[0m\u001b[36;1m\u001b[1;3m[{'url': 'https://www.weatherapi.com/', 'content': \"{'location': {'name': 'New York', 'region': 'New York', 'country': 'United States of America', 'lat': 40.7142, 'lon': -74.0064, 'tz_id': 'America/New_York', 'localtime_epoch': 1743440893, 'localtime': '2025-03-31 13:08'}, 'current': {'last_updated_epoch': 1743440400, 'last_updated': '2025-03-31 13:00', 'temp_c': 17.2, 'temp_f': 63.0, 'is_day': 1, 'condition': {'text': 'Overcast', 'icon': '//cdn.weatherapi.com/weather/64x64/day/122.png', 'code': 1009}, 'wind_mph': 13.0, 'wind_kph': 20.9, 'wind_degree': 217, 'wind_dir': 'SW', 'pressure_mb': 1007.0, 'pressure_in': 29.73, 'precip_mm': 0.0, 'precip_in': 0.0, 'humidity': 75, 'cloud': 100, 'feelslike_c': 17.2, 'feelslike_f': 63.0, 'windchill_c': 18.7, 'windchill_f': 65.7, 'heatindex_c': 20.3, 'heatindex_f': 68.6, 'dewpoint_c': 14.8, 'dewpoint_f': 58.6, 'vis_km': 14.0, 'vis_miles': 8.0, 'uv': 1.9, 'gust_mph': 20.8, 'gust_kph': 33.5}}\"}, {'url': 'https://www.easeweather.com/north-america/united-states/new-york/new-york-city/march', 'content': '| 30  2° | 31  8° |  |  |  |  |  | [...] Patchy rain possible\\n| 7° /3° | 0.1\\xa0mm | 0\\xa0cm |  |\\n| Mar. 28 | \\nPatchy rain possible\\n| 8° /5° | 0.5\\xa0mm | 0\\xa0cm |  |\\n| Mar. 29 | \\nPartly cloudy\\n| 8° /1° | 0\\xa0mm | 0\\xa0cm |  |\\n| Mar. 30 | \\nPatchy rain possible\\n| 2° /1° | 0.6\\xa0mm | 0.4\\xa0cm |  |\\n| Mar. 31 | \\nSunny\\n| 8° /2° | 0\\xa0mm | 0\\xa0cm |  |\\n| Next |\\nImportant Notice [...] As the month progresses, temperatures gradually begin to rise, and by the end of March, the city starts to feel the onset of spring. Towards the end of the month, average temperatures in New York City can reach around 12°, with milder and more pleasant weather becoming more common.'}, {'url': 'https://www.weather2travel.com/new-york/new-york-city/march/', 'content': \"New York City weather in March 2025, USA: How hot?\\n\\n\\nWeather\\nDeals\\nInspiration\\nInsights\\nNews\\nTravel advice\\nHolidays\\nExtras\\n\\n\\n\\n\\nHome\\nNorth America\\nUSA\\nNew York\\nNew York City\\nWhere is hot in March?\\n\\nNew York City weather in March 2025\\nExpect daytime maximum temperatures of 9°C in New York City, New York in March based on long-term weather averages. There are 7 hours of sunshine per day on average with 11 days with some rainfall and typically 101 mm of rainfall in the month. [...] | Monday, 31st March 2025 | 05:41 | 18:20 |\\nBe inspired\\nGet your weekly fix of holiday inspiration from some of the world's best travel writers plus save on your next trip with the latest exclusive offers\\nWe promise not to share your details\\nRelated posts [...] Go to TUI deal >>\\nView all TUI offers\\nTUI deal finder\\nDestination\\nThe March weather guide for New York (New York City) shows long term weather averages processed from data supplied by CRU (University of East Anglia), the Met Office & the Netherlands Meteorological Institute. Find out more about our data sources.\\nMetric (°C / mm) \\xa0|\\xa0 Imperial (°F / inches)\\n\\nFacebook\\nTwitter\\nPinterest (1 share)\\n\\nBack to top\\nMore about New York City\"}, {'url': 'https://www.easeweather.com/north-america/united-states/new-york/new-york-county/march', 'content': '| 30  53° | 31  57° |  |  |  |  |  | [...] New! Chat with our AI weatherman - it’s amazing and free.\\n\\n\\n16\\nDry days\\n\\n10\\nRainy days\\n\\n5\\nSnow days\\n\\n50°/37.4°\\nTemperatures\\n\\n14.3\\xa0mph\\nAvg max wind\\n\\n62 %\\nAvg humidity [...] | 62° /50° | 0\\xa0in | 0\\xa0in |  |\\n| Mar. 26 | \\nPatchy rain possible\\n| 53° /42° | 0.06\\xa0in | 0\\xa0in |  |\\n| Mar. 27 | \\nOvercast\\n| 51° /37° | 0.11\\xa0in | 0\\xa0in |  |\\n| Mar. 28 | \\nLight rain\\n| 51° /41° | 0.75\\xa0in | 0\\xa0in |  |\\n| Mar. 29 | \\nPartly cloudy\\n| 53° /35° | 0\\xa0in | 0\\xa0in |  |\\n| Mar. 30 | \\nSunny\\n| 53° /33° | 0.03\\xa0in | 0\\xa0in |  |\\n| Mar. 31 | \\nOvercast\\n| 57° /39° | 0.01\\xa0in | 0\\xa0in |  |\\n| Next |\\nImportant Notice'}, {'url': 'https://www.weather25.com/north-america/usa/new-york?page=month&month=March', 'content': 'Overall on the next 14 days there will be 3 days with snow in New York and a total of 2.5 cm of snow.\\nIt will be snowy on the following days:\\nSaturday, 29 March - 1.1 cm\\nSunday, 30 March - 0.4 cm\\nMonday, 31 March - 1 cm\\nThe average weather in New York in March\\nThe weather in New York in March is very cold with temperatures between 1°C and 7°C, warm clothes are a must. [...] You can expect rain for roughly half of the month of March in New York. We’re expecting roughly 8 to 15 days of rain, so your rubber boots and umbrella are going to see plenty of use this month if you’re keen on staying dry.\\nYou can expect a few days of snow in New York during March. It’s important to get out your snow boots and warm mittens to stay warm while you explore New York.\\nOur weather forecast can give you a great sense of what weather to expect in New York in March 2025.'}]\u001b[0m\u001b[32;1m\u001b[1;3m\n",
      "Invoking: `tavily_search_results_json` with `{'query': 'weather in new york city'}`\n",
      "\n",
      "\n",
      "\u001b[0m\u001b[36;1m\u001b[1;3m[{'url': 'https://www.easeweather.com/north-america/united-states/new-york/new-york-city/march', 'content': '| 30  2° | 31  8° |  |  |  |  |  | [...] Patchy rain possible\\n| 7° /3° | 0.1\\xa0mm | 0\\xa0cm |  |\\n| Mar. 28 | \\nPatchy rain possible\\n| 8° /5° | 0.5\\xa0mm | 0\\xa0cm |  |\\n| Mar. 29 | \\nPartly cloudy\\n| 8° /1° | 0\\xa0mm | 0\\xa0cm |  |\\n| Mar. 30 | \\nPatchy rain possible\\n| 2° /1° | 0.6\\xa0mm | 0.4\\xa0cm |  |\\n| Mar. 31 | \\nSunny\\n| 8° /2° | 0\\xa0mm | 0\\xa0cm |  |\\n| Next |\\nImportant Notice [...] As the month progresses, temperatures gradually begin to rise, and by the end of March, the city starts to feel the onset of spring. Towards the end of the month, average temperatures in New York City can reach around 12°, with milder and more pleasant weather becoming more common.'}, {'url': 'https://www.weather2travel.com/new-york/march/', 'content': \"| Saturday, 1st March 2025 | 06:29 | 17:48 |\\n| Sunday, 16th March 2025 | 06:05 | 18:04 |\\n| Monday, 31st March 2025 | 05:41 | 18:20 |\\nBe inspired\\nGet your weekly fix of holiday inspiration from some of the world's best travel writers plus save on your next trip with the latest exclusive offers\\nWe promise not to share your details\\nRelated posts [...] New York weather in March 2025, USA: How hot?\\n\\n\\nWeather\\nDeals\\nInspiration\\nInsights\\nNews\\nTravel advice\\nHolidays\\nExtras\\n\\n\\n\\n\\nHome\\nNorth America\\nUSA\\nNew York\\nWhere is hot in March?\\n\\nNew York weather in March 2025\\nExpect daytime maximum temperatures of 9°C in New York, USA in March based on long-term weather averages. There are 7 hours of sunshine per day on average with 11 days with some rainfall and typically 101 mm of rainfall in the month.\"}, {'url': 'https://www.weather2travel.com/new-york/new-york-city/march/', 'content': \"New York City weather in March 2025, USA: How hot?\\n\\n\\nWeather\\nDeals\\nInspiration\\nInsights\\nNews\\nTravel advice\\nHolidays\\nExtras\\n\\n\\n\\n\\nHome\\nNorth America\\nUSA\\nNew York\\nNew York City\\nWhere is hot in March?\\n\\nNew York City weather in March 2025\\nExpect daytime maximum temperatures of 9°C in New York City, New York in March based on long-term weather averages. There are 7 hours of sunshine per day on average with 11 days with some rainfall and typically 101 mm of rainfall in the month. [...] | Monday, 31st March 2025 | 05:41 | 18:20 |\\nBe inspired\\nGet your weekly fix of holiday inspiration from some of the world's best travel writers plus save on your next trip with the latest exclusive offers\\nWe promise not to share your details\\nRelated posts [...] Go to TUI deal >>\\nView all TUI offers\\nTUI deal finder\\nDestination\\nThe March weather guide for New York (New York City) shows long term weather averages processed from data supplied by CRU (University of East Anglia), the Met Office & the Netherlands Meteorological Institute. Find out more about our data sources.\\nMetric (°C / mm) \\xa0|\\xa0 Imperial (°F / inches)\\n\\nFacebook\\nTwitter\\nPinterest (1 share)\\n\\nBack to top\\nMore about New York City\"}, {'url': 'https://www.easeweather.com/north-america/united-states/new-york/new-york-county/march', 'content': '| 30  53° | 31  57° |  |  |  |  |  | [...] New! Chat with our AI weatherman - it’s amazing and free.\\n\\n\\n16\\nDry days\\n\\n10\\nRainy days\\n\\n5\\nSnow days\\n\\n50°/37.4°\\nTemperatures\\n\\n14.3\\xa0mph\\nAvg max wind\\n\\n62 %\\nAvg humidity [...] | 62° /50° | 0\\xa0in | 0\\xa0in |  |\\n| Mar. 26 | \\nPatchy rain possible\\n| 53° /42° | 0.06\\xa0in | 0\\xa0in |  |\\n| Mar. 27 | \\nOvercast\\n| 51° /37° | 0.11\\xa0in | 0\\xa0in |  |\\n| Mar. 28 | \\nLight rain\\n| 51° /41° | 0.75\\xa0in | 0\\xa0in |  |\\n| Mar. 29 | \\nPartly cloudy\\n| 53° /35° | 0\\xa0in | 0\\xa0in |  |\\n| Mar. 30 | \\nSunny\\n| 53° /33° | 0.03\\xa0in | 0\\xa0in |  |\\n| Mar. 31 | \\nOvercast\\n| 57° /39° | 0.01\\xa0in | 0\\xa0in |  |\\n| Next |\\nImportant Notice'}, {'url': 'https://www.weatherapi.com/', 'content': \"{'location': {'name': 'New York', 'region': 'New York', 'country': 'United States of America', 'lat': 40.714, 'lon': -74.006, 'tz_id': 'America/New_York', 'localtime_epoch': 1743437572, 'localtime': '2025-03-31 12:12'}, 'current': {'last_updated_epoch': 1743436800, 'last_updated': '2025-03-31 12:00', 'temp_c': 16.7, 'temp_f': 62.1, 'is_day': 1, 'condition': {'text': 'Overcast', 'icon': '//cdn.weatherapi.com/weather/64x64/day/122.png', 'code': 1009}, 'wind_mph': 12.1, 'wind_kph': 19.4, 'wind_degree': 223, 'wind_dir': 'SW', 'pressure_mb': 1008.0, 'pressure_in': 29.75, 'precip_mm': 0.0, 'precip_in': 0.0, 'humidity': 78, 'cloud': 100, 'feelslike_c': 16.7, 'feelslike_f': 62.1, 'windchill_c': 14.6, 'windchill_f': 58.2, 'heatindex_c': 15.0, 'heatindex_f': 59.0, 'dewpoint_c': 13.4, 'dewpoint_f': 56.0, 'vis_km': 13.0, 'vis_miles': 8.0, 'uv': 2.8, 'gust_mph': 20.9, 'gust_kph': 33.6}}\"}]\u001b[0m\u001b[32;1m\u001b[1;3m```json\n",
      "{\"tool_call_id\": \"call_4344\", \"type\": \"function\", \"function\": {\"name\": \"tavily_search_results_json\", \"parameters\": {\"query\": \"weather in new york city\"}\n",
      "```\n",
      "\n",
      "\n",
      "\n",
      "\u001b[0m\n",
      "\n",
      "\u001b[1m> Finished chain.\u001b[0m\n"
     ]
    },
    {
     "data": {
      "text/plain": [
       "{'input': 'whats the weather in new york?',\n",
       " 'output': '```json\\n{\"tool_call_id\": \"call_4344\", \"type\": \"function\", \"function\": {\"name\": \"tavily_search_results_json\", \"parameters\": {\"query\": \"weather in new york city\"}\\n```\\n\\n\\n\\n'}"
      ]
     },
     "execution_count": 286,
     "metadata": {},
     "output_type": "execute_result"
    }
   ],
   "source": [
    "agent_executor.invoke({\"input\": \"whats the weather in new york?\"})"
   ]
  },
  {
   "cell_type": "markdown",
   "metadata": {},
   "source": [
    "1. RAG tool\n",
    "2. ReAct\n",
    "3. custom tool with ReAct agent\n",
    "4. agent code from latest versions(v0.2 and v0.3)"
   ]
  },
  {
   "cell_type": "code",
   "execution_count": 287,
   "metadata": {},
   "outputs": [],
   "source": [
    "from langchain_community.document_loaders import WebBaseLoader\n",
    "from langchain_community.vectorstores import FAISS\n",
    "from langchain_text_splitters import RecursiveCharacterTextSplitter"
   ]
  },
  {
   "cell_type": "code",
   "execution_count": 288,
   "metadata": {},
   "outputs": [],
   "source": [
    "loader = WebBaseLoader(\"https://blog.langchain.dev/langgraph-studio-the-first-agent-ide/\")\n",
    "docs = loader.load()"
   ]
  },
  {
   "cell_type": "code",
   "execution_count": 289,
   "metadata": {},
   "outputs": [
    {
     "data": {
      "text/plain": [
       "[Document(metadata={'source': 'https://blog.langchain.dev/langgraph-studio-the-first-agent-ide/', 'title': 'LangGraph Studio: The first agent IDE', 'description': 'LangGraph Studio provides a specialized agent IDE for visualizing, interacting with, and debugging complex agentic applications. See how to use it on your desktop today.', 'language': 'en'}, page_content=\"\\n\\n\\nLangGraph Studio: The first agent IDE\\n\\n\\n\\n\\n\\n\\n\\n\\n\\n\\n\\n\\n\\n\\n\\n\\n\\n\\n\\n\\n\\n\\n\\n\\n\\n\\n\\n\\n\\n\\n\\n\\n\\n\\n\\n\\n\\n\\n\\n\\n\\n\\n\\n\\n\\n\\n\\n\\n\\n\\nSkip to content\\n\\n\\n\\n\\n\\n\\n\\n\\n\\n\\n\\n\\n\\n\\n\\n\\nCase Studies\\n\\n\\n\\n\\nIn the Loop\\n\\n\\n\\n\\nLangChain\\n\\n\\n\\n\\nDocs\\n\\n\\n\\n\\nChangelog\\n\\n\\n\\n\\n\\nSign in\\nSubscribe\\n\\n\\n\\n\\n\\n\\n\\n\\n\\n\\n\\n\\n\\n\\n\\n\\n\\n\\n\\nLangGraph Studio: The first agent IDE\\nLangGraph Studio provides a specialized agent IDE for visualizing, interacting with, and debugging complex agentic applications. See how to use it on your desktop today.\\n\\n4 min read\\nAug 1, 2024\\n\\n\\n\\n\\n\\nLLMs have paved the way for the development of new types of agentic applications — and as LLM applications evolve, so must the tooling needed to efficiently develop them. Today, we're announcing LangGraph Studio - the first IDE designed specifically for agent development - in open beta.LangGraph Studio offers a new way to develop LLM applications, providing a specialized agent IDE for visualizing, interacting with, and debugging complex agentic applications. In this blog, we'll give a brief overview of LangGraph and then explore how LangGraph Studio streamlines the development of agentic applications.LangGraph: Balancing agent control with agency  In January 2023, we launched LangGraph, a highly controllable, low-level orchestration framework for building agentic applications. Since then, we've seen  teams build more complex agentic applications for production; in turn, we've heavily invested in LangGraph, leading to a stable 0.1 release this past June.LangGraph features a persistence layer that enables human-in-the-loop interactions, and it excels at building complex (i.e. more than a single LLM call) applications that require highly domain-specific cognitive architecture. Most of the agents we see in production fit this description.LangGraph is fully open source, available in both Python and Javascript. It works with or without LangChain, and integrates seamlessly with LangSmith.LangGraph Studio: Visualize and interact with agent graphs for quick iterationWhile LangGraph offers a new framework for developing agentic applications, we also strongly believe that new tooling is needed to make the development process easier. Building LLM applications differs from traditional software development, requiring different tooling outside of the traditional code editor.Coding is still important to developing LLM applications — after all, production-ready LangGraph applications have complicated custom logic in the nodes and edges of the graphs that are created. We don't aim to replace code editors but, instead, to augment the development experience with tools tailored for LangGraph applications. LangGraph Studio facilitates this by making it easy to visualize and interact with agent graphs, even if development still primarily happens in code. Visualizing graphs helps developers understand their structure. Furthermore, you can modify an agent result (or the logic underlying a specific node) halfway through the agent's trajectory. This creates an iterative process, by letting you interact with and manipulate the state at that point in time.While there is much more to explore, we're excited to introduce LangGraph Studio to start with bringing some of the core features of an agent IDE to the world.How to use LangGraph StudioLangGraph Studio is a desktop app, currently available for Apple Silicon. You can download a version here. Support for more platforms is coming soon.After you download and open LangGraph Studio, you will be prompted to log in with your LangSmith account. All users of LangSmith (including those with free accounts) currently have access to LangGraph Studio while it is in beta. You can sign up for a LangSmith account here.After downloading LangSmith, you can open a directory. At a bare minimum, this directory needs to contain a Python file with a graph defined in it. Next, you will need to create a langgraph.json file containing details such as where the agent is defined, which dependencies to install, and which environment variables to load. This file can be created in the UI, or can exist as a file in the directory already. For an example repository which meets these requirements, see this GitHub repo.After you open a directory, we will build an environment for you agent to run. After it builds, you should see a visualization of the graph along with a box for interacting with the agent.When you interact with the agent, you'll get a stream of real-time information about what steps are happening. You can see the agent decide which tools to call, call those tools, and then continue looping. You can interrupt the agent at any time if veers off course, or you can interrupt the agent to run it in a “debug mode” where it pauses after each step of the graph (so you can walk-through step by step).\\n\\n\\n\\n\\n\\n\\n\\n\\n\\n\\n\\n\\n\\n\\n\\n\\n\\n\\n\\n\\n\\n\\n0:00\\n\\n                            /0:19\\n\\n\\n1×\\n\\n\\n\\n\\n\\n\\n\\n\\n\\n\\n\\n\\n\\n\\n💡At any point, you can interact with the state of the agent.If you don’t like what the agent responded with at a specific step, you can directly modify the response and then continue with that new response. This can be useful for simulating what would have happened if the agent or a tool returned something different.\\n\\n\\n\\n\\n\\n\\n\\n\\n\\n\\n\\n\\n\\n\\n\\n\\n\\n\\n\\n\\n\\n\\n0:00\\n\\n                            /0:14\\n\\n\\n1×\\n\\n\\n\\n\\n\\n\\n\\n\\n\\n\\n\\n\\n\\n\\nYou can also modify the underlying code and then replay the node. LangGraph Studio detects changes to the underlying code files, allowing you to update prompts in your code editor and rerun nodes if an agent responds poorly. This can make it much easier to iterate on long-running agents.\\n\\n\\n\\n\\n\\n\\n\\n\\n\\n\\n\\n\\n\\n\\n\\n\\n\\n\\n\\n\\n\\n\\n0:00\\n\\n                            /0:20\\n\\n\\n1×\\n\\n\\n\\n\\n\\n\\n\\n\\n\\n\\n\\n\\n\\n\\nConclusionBuilding agentic applications differs from traditional software development. While code editors remain important, new IDEs designed for agents are also needed. LangGraph Studio is a step in this direction, and we're excited to see how it enhances your workflow.For more on LangGraph Studio, check out our documentation. You can also watch a video walkthrough on YouTube if that's more your style. You can\\xa0sign up for LangSmith\\xa0today to try out LangGraph Studio for free.We'd also love your feedback - drop us a line at hello@langchain.dev or on Twitter to share your thoughts.\\n\\n\\nJoin our newsletter\\nUpdates from the LangChain team and community\\n\\n\\nEnter your email\\n\\nSubscribe\\n\\nProcessing your application...\\nSuccess! Please check your inbox and click the link to confirm your subscription.\\nSorry, something went wrong. Please try again.\\n\\n\\n\\n\\n\\n\\n\\n\\n\\n\\n\\n\\n\\nSign up\\n\\n\\n\\n\\n\\n            © LangChain Blog 2025\\n        \\n\\n\\n\\n\\n\\n\\n\")]"
      ]
     },
     "execution_count": 289,
     "metadata": {},
     "output_type": "execute_result"
    }
   ],
   "source": [
    "docs"
   ]
  },
  {
   "cell_type": "code",
   "execution_count": 290,
   "metadata": {},
   "outputs": [],
   "source": [
    "documents = RecursiveCharacterTextSplitter(\n",
    "    chunk_size=1000, chunk_overlap=200\n",
    ").split_documents(docs)"
   ]
  },
  {
   "cell_type": "code",
   "execution_count": 291,
   "metadata": {},
   "outputs": [],
   "source": [
    "vector = FAISS.from_documents(documents,embeddings)\n",
    "retriever = vector.as_retriever()"
   ]
  },
  {
   "cell_type": "code",
   "execution_count": 292,
   "metadata": {},
   "outputs": [
    {
     "data": {
      "text/plain": [
       "Document(id='7e6a436c-6499-45f2-b797-c2e1344019d3', metadata={'source': 'https://blog.langchain.dev/langgraph-studio-the-first-agent-ide/', 'title': 'LangGraph Studio: The first agent IDE', 'description': 'LangGraph Studio provides a specialized agent IDE for visualizing, interacting with, and debugging complex agentic applications. See how to use it on your desktop today.', 'language': 'en'}, page_content=\"0:00\\n\\n                            /0:20\\n\\n\\n1×\\n\\n\\n\\n\\n\\n\\n\\n\\n\\n\\n\\n\\n\\n\\nConclusionBuilding agentic applications differs from traditional software development. While code editors remain important, new IDEs designed for agents are also needed. LangGraph Studio is a step in this direction, and we're excited to see how it enhances your workflow.For more on LangGraph Studio, check out our documentation. You can also watch a video walkthrough on YouTube if that's more your style. You can\\xa0sign up for LangSmith\\xa0today to try out LangGraph Studio for free.We'd also love your feedback - drop us a line at hello@langchain.dev or on Twitter to share your thoughts.\\n\\n\\nJoin our newsletter\\nUpdates from the LangChain team and community\\n\\n\\nEnter your email\\n\\nSubscribe\\n\\nProcessing your application...\\nSuccess! Please check your inbox and click the link to confirm your subscription.\\nSorry, something went wrong. Please try again.\\n\\n\\n\\n\\n\\n\\n\\n\\n\\n\\n\\n\\n\\nSign up\\n\\n\\n\\n\\n\\n            © LangChain Blog 2025\")"
      ]
     },
     "execution_count": 292,
     "metadata": {},
     "output_type": "execute_result"
    }
   ],
   "source": [
    "retriever.invoke(\"what is langgraph studio?\")[0]"
   ]
  },
  {
   "cell_type": "code",
   "execution_count": 293,
   "metadata": {},
   "outputs": [],
   "source": [
    "from langchain.tools.retriever import create_retriever_tool\n",
    "retriever_tool = create_retriever_tool(\n",
    "    retriever,\n",
    "    \"langgraph_studio\",\n",
    "    \"Search for information about LangGraph. For any questions about LangGraph, you must use this tool!\",\n",
    ")"
   ]
  },
  {
   "cell_type": "code",
   "execution_count": 294,
   "metadata": {},
   "outputs": [],
   "source": [
    "tools = [search, retriever_tool]"
   ]
  },
  {
   "cell_type": "code",
   "execution_count": 295,
   "metadata": {},
   "outputs": [],
   "source": [
    "from langchain.agents import create_tool_calling_agent\n",
    "\n",
    "agent = create_tool_calling_agent(llm, tools, prompt)"
   ]
  },
  {
   "cell_type": "code",
   "execution_count": 296,
   "metadata": {},
   "outputs": [],
   "source": [
    "from langchain.agents import AgentExecutor\n",
    "\n",
    "agent_executor = AgentExecutor(agent=agent, tools=tools, verbose=True)"
   ]
  },
  {
   "cell_type": "code",
   "execution_count": 297,
   "metadata": {},
   "outputs": [
    {
     "name": "stdout",
     "output_type": "stream",
     "text": [
      "\n",
      "\n",
      "\u001b[1m> Entering new AgentExecutor chain...\u001b[0m\n",
      "\u001b[32;1m\u001b[1;3m\n",
      "Invoking: `langgraph_studio` with `{'query': 'what is langgraph studio and how to use it'}`\n",
      "\n",
      "\n",
      "\u001b[0m\u001b[33;1m\u001b[1;3m0:00\n",
      "\n",
      "                            /0:20\n",
      "\n",
      "\n",
      "1×\n",
      "\n",
      "\n",
      "\n",
      "\n",
      "\n",
      "\n",
      "\n",
      "\n",
      "\n",
      "\n",
      "\n",
      "\n",
      "\n",
      "\n",
      "ConclusionBuilding agentic applications differs from traditional software development. While code editors remain important, new IDEs designed for agents are also needed. LangGraph Studio is a step in this direction, and we're excited to see how it enhances your workflow.For more on LangGraph Studio, check out our documentation. You can also watch a video walkthrough on YouTube if that's more your style. You can sign up for LangSmith today to try out LangGraph Studio for free.We'd also love your feedback - drop us a line at hello@langchain.dev or on Twitter to share your thoughts.\n",
      "\n",
      "\n",
      "Join our newsletter\n",
      "Updates from the LangChain team and community\n",
      "\n",
      "\n",
      "Enter your email\n",
      "\n",
      "Subscribe\n",
      "\n",
      "Processing your application...\n",
      "Success! Please check your inbox and click the link to confirm your subscription.\n",
      "Sorry, something went wrong. Please try again.\n",
      "\n",
      "\n",
      "\n",
      "\n",
      "\n",
      "\n",
      "\n",
      "\n",
      "\n",
      "\n",
      "\n",
      "\n",
      "\n",
      "Sign up\n",
      "\n",
      "\n",
      "\n",
      "\n",
      "\n",
      "            © LangChain Blog 2025\n",
      "\n",
      "a specific node) halfway through the agent's trajectory. This creates an iterative process, by letting you interact with and manipulate the state at that point in time.While there is much more to explore, we're excited to introduce LangGraph Studio to start with bringing some of the core features of an agent IDE to the world.How to use LangGraph StudioLangGraph Studio is a desktop app, currently available for Apple Silicon. You can download a version here. Support for more platforms is coming soon.After you download and open LangGraph Studio, you will be prompted to log in with your LangSmith account. All users of LangSmith (including those with free accounts) currently have access to LangGraph Studio while it is in beta. You can sign up for a LangSmith account here.After downloading LangSmith, you can open a directory. At a bare minimum, this directory needs to contain a Python file with a graph defined in it. Next, you will need to create a langgraph.json file containing details\n",
      "\n",
      "is needed to make the development process easier. Building LLM applications differs from traditional software development, requiring different tooling outside of the traditional code editor.Coding is still important to developing LLM applications — after all, production-ready LangGraph applications have complicated custom logic in the nodes and edges of the graphs that are created. We don't aim to replace code editors but, instead, to augment the development experience with tools tailored for LangGraph applications. LangGraph Studio facilitates this by making it easy to visualize and interact with agent graphs, even if development still primarily happens in code. Visualizing graphs helps developers understand their structure. Furthermore, you can modify an agent result (or the logic underlying a specific node) halfway through the agent's trajectory. This creates an iterative process, by letting you interact with and manipulate the state at that point in time.While there is much more\n",
      "\n",
      "LangGraph Studio: The first agent IDE\n",
      "\n",
      "\n",
      "\n",
      "\n",
      "\n",
      "\n",
      "\n",
      "\n",
      "\n",
      "\n",
      "\n",
      "\n",
      "\n",
      "\n",
      "\n",
      "\n",
      "\n",
      "\n",
      "\n",
      "\n",
      "\n",
      "\n",
      "\n",
      "\n",
      "\n",
      "\n",
      "\n",
      "\n",
      "\n",
      "\n",
      "\n",
      "\n",
      "\n",
      "\n",
      "\n",
      "\n",
      "\n",
      "\n",
      "\n",
      "\n",
      "\n",
      "\n",
      "\n",
      "\n",
      "\n",
      "\n",
      "\n",
      "\n",
      "\n",
      "\n",
      "Skip to content\n",
      "\n",
      "\n",
      "\n",
      "\n",
      "\n",
      "\n",
      "\n",
      "\n",
      "\n",
      "\n",
      "\n",
      "\n",
      "\n",
      "\n",
      "\n",
      "\n",
      "Case Studies\n",
      "\n",
      "\n",
      "\n",
      "\n",
      "In the Loop\n",
      "\n",
      "\n",
      "\n",
      "\n",
      "LangChain\n",
      "\n",
      "\n",
      "\n",
      "\n",
      "Docs\n",
      "\n",
      "\n",
      "\n",
      "\n",
      "Changelog\n",
      "\n",
      "\n",
      "\n",
      "\n",
      "\n",
      "Sign in\n",
      "Subscribe\n",
      "\n",
      "\n",
      "\n",
      "\n",
      "\n",
      "\n",
      "\n",
      "\n",
      "\n",
      "\n",
      "\n",
      "\n",
      "\n",
      "\n",
      "\n",
      "\n",
      "\n",
      "\n",
      "\n",
      "LangGraph Studio: The first agent IDE\n",
      "LangGraph Studio provides a specialized agent IDE for visualizing, interacting with, and debugging complex agentic applications. See how to use it on your desktop today.\n",
      "\n",
      "4 min read\n",
      "Aug 1, 2024\u001b[0m\u001b[32;1m\u001b[1;3mLangGraph Studio is a new type of IDE designed specifically for building agentic applications.  It's currently a desktop app for Apple Silicon, but support for other platforms is coming soon. You can download and try it for free with a LangSmith account. \n",
      "\n",
      "\n",
      "\n",
      "LangGraph Studio helps you visualize, interact with, and debug complex agent graphs, making it easier to understand and work with them. \n",
      "\u001b[0m\n",
      "\n",
      "\u001b[1m> Finished chain.\u001b[0m\n"
     ]
    },
    {
     "data": {
      "text/plain": [
       "{'input': 'hi! what is a langgraph studio and how to use it?',\n",
       " 'output': \"LangGraph Studio is a new type of IDE designed specifically for building agentic applications.  It's currently a desktop app for Apple Silicon, but support for other platforms is coming soon. You can download and try it for free with a LangSmith account. \\n\\n\\n\\nLangGraph Studio helps you visualize, interact with, and debug complex agent graphs, making it easier to understand and work with them. \\n\"}"
      ]
     },
     "execution_count": 297,
     "metadata": {},
     "output_type": "execute_result"
    }
   ],
   "source": [
    "agent_executor.invoke({\"input\": \"hi! what is a langgraph studio and how to use it?\"})"
   ]
  },
  {
   "cell_type": "code",
   "execution_count": 299,
   "metadata": {},
   "outputs": [
    {
     "name": "stdout",
     "output_type": "stream",
     "text": [
      "\n",
      "\n",
      "\u001b[1m> Entering new AgentExecutor chain...\u001b[0m\n",
      "\u001b[32;1m\u001b[1;3m\n",
      "Invoking: `tavily_search_results_json` with `{'query': 'weather in ohio'}`\n",
      "\n",
      "\n",
      "\u001b[0m\u001b[36;1m\u001b[1;3m[{'url': 'https://www.weatherapi.com/', 'content': \"{'location': {'name': 'Ohio', 'region': 'Illinois', 'country': 'USA United States of America', 'lat': 41.6026, 'lon': -89.4525, 'tz_id': 'America/Chicago', 'localtime_epoch': 1743441019, 'localtime': '2025-03-31 12:10'}, 'current': {'last_updated_epoch': 1743440400, 'last_updated': '2025-03-31 12:00', 'temp_c': 6.2, 'temp_f': 43.2, 'is_day': 1, 'condition': {'text': 'Partly cloudy', 'icon': '//cdn.weatherapi.com/weather/64x64/day/116.png', 'code': 1003}, 'wind_mph': 11.6, 'wind_kph': 18.7, 'wind_degree': 344, 'wind_dir': 'NNW', 'pressure_mb': 1017.0, 'pressure_in': 30.02, 'precip_mm': 0.0, 'precip_in': 0.0, 'humidity': 61, 'cloud': 25, 'feelslike_c': 2.7, 'feelslike_f': 36.9, 'windchill_c': 5.7, 'windchill_f': 42.3, 'heatindex_c': 8.8, 'heatindex_f': 47.8, 'dewpoint_c': 0.4, 'dewpoint_f': 32.7, 'vis_km': 16.0, 'vis_miles': 9.0, 'uv': 4.6, 'gust_mph': 13.4, 'gust_kph': 21.5}}\"}, {'url': 'https://ocj.com/2025/03/ohio-ag-weather-and-forecast-march-31-2025/', 'content': 'Yet another system arrives for the weekend. Rain and thunderstorms will be here Saturday and Sunday, with another half to 2″ potential. However, we are seeing a sharp end to that moisture, rather than lingering for several additional days into the start of next week. That is important, due to the fact it is a switch from what we were seeing last week. All told, though, it is a very wet pattern through this week, enough to put early field work thoughts on the back burner for a bit. The map below [...] A frontal boundary continues to exit OH this morning, moving off to the east. We may continue to see a bit of moisture in far eastern parts of the state through mid morning, but generally are winding down with any significant threat of precipitation. Clouds will be giving way to sun through the day today as a drier atmosphere works in. However, temps are pulling back significantly from the weekend highs. We turn out partly cloudy tonight, and will see mostly sunny skies tomorrow, but will be [...] By midweek, we are ready for our next weather system. Showers and thunderstorms develop Wednesday and continue through Thursday. Rain totals will come in at half to 2″ with coverage at 100% of the state. There is a significant chance of strong to severe weather, mostly on Thursday. We will zero in on that as we get closer to the event. We dry down Thursday night and Friday, but do not see temps fall off like we are experiencing now.'}, {'url': 'https://www.youtube.com/watch?v=9XizowZjfVw', 'content': \"A few lingering showers are possible otherwise expect skies to slowly clear. Temperatures will fall to around the mid-50s by sunrise, but that's as warm as we will get for the day. Temperatures will slowly trend downward most of the day, getting into the 40s by the late afternoon. [...] \\u200bThe chilly air lingers and will make it a colder morning on Tuesday, with wake-up temperatures in the 30s. There will be more sunshine in the forecast on Tuesday as skies will be mostly sunny. Afternoon highs will be slightly below normal, topping out only in the 50s. Clouds will increase yet again as we approach the middle of the week and we will see our next chance for showers and storms on Wednesday. [...] This alert day will continue into Thursday when more severe storms could be possible, along with a heightened risk for flooding. These conditions will likely be worse on the southern side of our viewing area, but all areas could see continued impacts on Thursday. It will remain warm, with another day of afternoon highs in the 70s.\"}, {'url': 'https://www.10tv.com/video/weather/forecast/columbus-ohio-weather-forecast-for-march-31-2025-cooler-monday-as-showers-move-out/530-72d79740-ab1d-473d-896f-4ce6bdfbac3c', 'content': 'Columbus, Ohio weather forecast for March 31, 2025 | Cooler Monday as showers move out. Monday: Some showers early, then slow clearing. High'}, {'url': 'https://www.youtube.com/watch?v=gJPa6Tkxp1I', 'content': \"Tumbling temps today, storms mid-week: Cleveland weather forecast for March 31, 2025 \\n WKYC Channel 3 \\n 60 likes \\n 2120 views \\n 31 Mar 2025 \\n Grab a jacket before you leave the house because your Cleveland weather forecast shows much colder temperatures are back in Northeast Ohio. These cooler temps last today and tomorrow before warmer air returns by Wednesday. We're also keeping watch on mid-week storm chances. [...] 3News' Matt Wintz has the hour-by-hour details in his morning weather forecast for Monday, March 31, 2025. See the extended forecast: https://www.wkyc.com/article/weather/forecast/northeast-ohio-weather-forecast/95-99643b63-4b79-4d67-8d5f-7f54d07d30f0\\n\\n---\\n\\nAt 3News, we’re here to share your voice and tell your story. Share your ideas, thoughts, concerns and engage in conversations about the communities in which we all call home.\\n\\nFollow 3News on Social: [...] Facebook: https://www.facebook.com/wkyc.channel3/  \\nTwitter: https://twitter.com/wkyc  \\nInstagram: https://www.instagram.com/wkyc3/  \\n\\nVisit our site: https://www.wkyc.com/\\nAnd be sure to download our app here: https://wkyc.com/app \\n 1 comments\"}]\u001b[0m\u001b[32;1m\u001b[1;3m\n",
      "Invoking: `tavily_search_results_json` with `{'query': 'weather in ohio'}`\n",
      "\n",
      "\n",
      "\u001b[0m\u001b[36;1m\u001b[1;3m[{'url': 'https://www.weatherapi.com/', 'content': \"{'location': {'name': 'Ohio', 'region': 'Illinois', 'country': 'USA United States of America', 'lat': 41.6026, 'lon': -89.4525, 'tz_id': 'America/Chicago', 'localtime_epoch': 1743441019, 'localtime': '2025-03-31 12:10'}, 'current': {'last_updated_epoch': 1743440400, 'last_updated': '2025-03-31 12:00', 'temp_c': 6.2, 'temp_f': 43.2, 'is_day': 1, 'condition': {'text': 'Partly cloudy', 'icon': '//cdn.weatherapi.com/weather/64x64/day/116.png', 'code': 1003}, 'wind_mph': 11.6, 'wind_kph': 18.7, 'wind_degree': 344, 'wind_dir': 'NNW', 'pressure_mb': 1017.0, 'pressure_in': 30.02, 'precip_mm': 0.0, 'precip_in': 0.0, 'humidity': 61, 'cloud': 25, 'feelslike_c': 2.7, 'feelslike_f': 36.9, 'windchill_c': 5.7, 'windchill_f': 42.3, 'heatindex_c': 8.8, 'heatindex_f': 47.8, 'dewpoint_c': 0.4, 'dewpoint_f': 32.7, 'vis_km': 16.0, 'vis_miles': 9.0, 'uv': 4.6, 'gust_mph': 13.4, 'gust_kph': 21.5}}\"}, {'url': 'https://ocj.com/2025/03/ohio-ag-weather-and-forecast-march-31-2025/', 'content': 'Yet another system arrives for the weekend. Rain and thunderstorms will be here Saturday and Sunday, with another half to 2″ potential. However, we are seeing a sharp end to that moisture, rather than lingering for several additional days into the start of next week. That is important, due to the fact it is a switch from what we were seeing last week. All told, though, it is a very wet pattern through this week, enough to put early field work thoughts on the back burner for a bit. The map below [...] A frontal boundary continues to exit OH this morning, moving off to the east. We may continue to see a bit of moisture in far eastern parts of the state through mid morning, but generally are winding down with any significant threat of precipitation. Clouds will be giving way to sun through the day today as a drier atmosphere works in. However, temps are pulling back significantly from the weekend highs. We turn out partly cloudy tonight, and will see mostly sunny skies tomorrow, but will be [...] By midweek, we are ready for our next weather system. Showers and thunderstorms develop Wednesday and continue through Thursday. Rain totals will come in at half to 2″ with coverage at 100% of the state. There is a significant chance of strong to severe weather, mostly on Thursday. We will zero in on that as we get closer to the event. We dry down Thursday night and Friday, but do not see temps fall off like we are experiencing now.'}, {'url': 'https://www.youtube.com/watch?v=9XizowZjfVw', 'content': \"A few lingering showers are possible otherwise expect skies to slowly clear. Temperatures will fall to around the mid-50s by sunrise, but that's as warm as we will get for the day. Temperatures will slowly trend downward most of the day, getting into the 40s by the late afternoon. [...] \\u200bThe chilly air lingers and will make it a colder morning on Tuesday, with wake-up temperatures in the 30s. There will be more sunshine in the forecast on Tuesday as skies will be mostly sunny. Afternoon highs will be slightly below normal, topping out only in the 50s. Clouds will increase yet again as we approach the middle of the week and we will see our next chance for showers and storms on Wednesday. [...] This alert day will continue into Thursday when more severe storms could be possible, along with a heightened risk for flooding. These conditions will likely be worse on the southern side of our viewing area, but all areas could see continued impacts on Thursday. It will remain warm, with another day of afternoon highs in the 70s.\"}, {'url': 'https://www.10tv.com/video/weather/forecast/columbus-ohio-weather-forecast-for-march-31-2025-cooler-monday-as-showers-move-out/530-72d79740-ab1d-473d-896f-4ce6bdfbac3c', 'content': 'Columbus, Ohio weather forecast for March 31, 2025 | Cooler Monday as showers move out. Monday: Some showers early, then slow clearing. High'}, {'url': 'https://www.youtube.com/watch?v=gJPa6Tkxp1I', 'content': \"Tumbling temps today, storms mid-week: Cleveland weather forecast for March 31, 2025 \\n WKYC Channel 3 \\n 60 likes \\n 2120 views \\n 31 Mar 2025 \\n Grab a jacket before you leave the house because your Cleveland weather forecast shows much colder temperatures are back in Northeast Ohio. These cooler temps last today and tomorrow before warmer air returns by Wednesday. We're also keeping watch on mid-week storm chances. [...] 3News' Matt Wintz has the hour-by-hour details in his morning weather forecast for Monday, March 31, 2025. See the extended forecast: https://www.wkyc.com/article/weather/forecast/northeast-ohio-weather-forecast/95-99643b63-4b79-4d67-8d5f-7f54d07d30f0\\n\\n---\\n\\nAt 3News, we’re here to share your voice and tell your story. Share your ideas, thoughts, concerns and engage in conversations about the communities in which we all call home.\\n\\nFollow 3News on Social: [...] Facebook: https://www.facebook.com/wkyc.channel3/  \\nTwitter: https://twitter.com/wkyc  \\nInstagram: https://www.instagram.com/wkyc3/  \\n\\nVisit our site: https://www.wkyc.com/\\nAnd be sure to download our app here: https://wkyc.com/app \\n 1 comments\"}]\u001b[0m\u001b[32;1m\u001b[1;3mThe current temperature in Ohio is 6.2 degrees Celsius or 43.2 degrees Fahrenheit. The weather is partly cloudy. \n",
      "\u001b[0m\n",
      "\n",
      "\u001b[1m> Finished chain.\u001b[0m\n"
     ]
    },
    {
     "data": {
      "text/plain": [
       "{'input': 'whats the weather in ohio?',\n",
       " 'output': 'The current temperature in Ohio is 6.2 degrees Celsius or 43.2 degrees Fahrenheit. The weather is partly cloudy. \\n'}"
      ]
     },
     "execution_count": 299,
     "metadata": {},
     "output_type": "execute_result"
    }
   ],
   "source": [
    "agent_executor.invoke({\"input\": \"whats the weather in ohio?\"})"
   ]
  },
  {
   "cell_type": "markdown",
   "metadata": {},
   "source": [
    "*ReAct Agent (Reasoning + Acting):*\n",
    "Definition:\n",
    "\n",
    "* The ReAct framework combines reasoning and acting in a single loop to handle tasks. The agent uses natural language reasoning (thinking through steps) and task actions (performing tasks like calculations or data retrieval).\n",
    "\n",
    "* The agent uses a combination of reasoning steps to guide actions in real-time, using feedback from those actions to further inform the next step in reasoning.\n",
    "\n",
    "How it works:\n",
    "\n",
    "* Step 1: The agent receives a question or task.\n",
    "* Step 2: It reasons aloud (in natural language) about how to solve it.\n",
    "* Step 3: Based on its reasoning, it takes actions (e.g., searching a database, calculating something).\n",
    "* Step 4: The results of these actions are integrated into its reasoning and may trigger further actions.\n",
    "* Step 5: It repeats the process until it arrives at a solution.\n",
    "  \n",
    "\n",
    "Key points:\n",
    "\n",
    "* Combines thinking and doing (reasoning and actions).\n",
    "* Performs iterative steps, updating its process based on action results.\n",
    "* Typically handles complex decision-making scenarios.\n",
    "* \n",
    "Example:\n",
    "\n",
    "* Original task: “Calculate the total number of apples in a basket if there are 4 baskets and 7 apples in each.”\n",
    "* Reasoning: \"I need to multiply 4 by 7 to get the total number of apples.\"\n",
    "* Action: Perform the multiplication.\n",
    "* Result: \"There are 28 apples.\"\n",
    "* Reasoning: \"I am done.\""
   ]
  },
  {
   "cell_type": "code",
   "execution_count": 301,
   "metadata": {},
   "outputs": [],
   "source": [
    "from langchain.utilities import GoogleSerperAPIWrapper\n",
    "from langchain.agents import Tool\n",
    "from langchain_core.prompts import PromptTemplate\n",
    "from langchain.agents import AgentExecutor, create_react_agent"
   ]
  },
  {
   "cell_type": "code",
   "execution_count": 302,
   "metadata": {},
   "outputs": [],
   "source": [
    "google_search = GoogleSerperAPIWrapper()"
   ]
  },
  {
   "cell_type": "code",
   "execution_count": 303,
   "metadata": {},
   "outputs": [],
   "source": [
    "tools = [\n",
    "    Tool(\n",
    "        name=\"Web Answer\",\n",
    "        func=google_search.run,\n",
    "        description=\"useful for when you need to ask with search\",\n",
    "        verbose=True\n",
    "    )\n",
    "]"
   ]
  },
  {
   "cell_type": "code",
   "execution_count": 305,
   "metadata": {},
   "outputs": [],
   "source": [
    "template = '''Answer the following questions as best you can. You have access to the following tools:\n",
    "{tools}\n",
    "Use the following format:\n",
    "Question: the input question you must answer\n",
    "Thought: you should always think about what to do\n",
    "Action: the action to take, should be one of [{tool_names}]\n",
    "Action Input: the input to the action\n",
    "Observation: the result of the action\n",
    "... (this Thought/Action/Action Input/Observation can repeat N times)\n",
    "Thought: I now know the final answer\n",
    "Final Answer: the final answer to the original input question\n",
    "Begin!\n",
    "Question: {input}\n",
    "Thought:{agent_scratchpad}'''"
   ]
  },
  {
   "cell_type": "code",
   "execution_count": 306,
   "metadata": {},
   "outputs": [],
   "source": [
    "prompt = PromptTemplate.from_template(template)"
   ]
  },
  {
   "cell_type": "code",
   "execution_count": 307,
   "metadata": {},
   "outputs": [],
   "source": [
    "search_agent = create_react_agent(llm,tools,prompt)"
   ]
  },
  {
   "cell_type": "code",
   "execution_count": 308,
   "metadata": {},
   "outputs": [],
   "source": [
    "agent_executor = AgentExecutor(\n",
    "    agent=search_agent,\n",
    "    tools=tools,\n",
    "    verbose=True,\n",
    "    return_intermediate_steps=True,\n",
    ")"
   ]
  },
  {
   "cell_type": "code",
   "execution_count": 310,
   "metadata": {},
   "outputs": [
    {
     "name": "stdout",
     "output_type": "stream",
     "text": [
      "\n",
      "\n",
      "\u001b[1m> Entering new AgentExecutor chain...\u001b[0m\n",
      "\u001b[32;1m\u001b[1;3mThought: I need to find out who won the 2007 T20 Cricket World Cup. Then I need to find the hometown of that team's captain and their score in the final. \n",
      "Action: Web Answer\n",
      "Action Input: Who won the 2007 T20 Cricket World Cup?\u001b[0m\u001b[36;1m\u001b[1;3mIND vs PAK ; Series result, India won the 2007/08 ICC World Twenty20 ; Match number, T20I no. 46 ; Hours of play (local time), First Session 14:00-15:20, Interval ... India won the tournament, beating Pakistan in the final at Johannesburg. 2007 ICC World Twenty20. Tournament logo. Dates, 11 – ... Final, Johannesburg, September 24, 2007, ICC World Twenty20, IND Flag IND 157/5, PAK Flag PAK (19.3/20 ov, T:158) 152, India won by 5 runs. Three teams, West Indies (2012, 2016), England (2010, 2022) and India (2007, 2024), have won the competition twice each. Pakistan (2009), Sri Lanka (2014), and ... The Indian men's cricket team won the first T20 World Cup held in South Africa in 2007 while England are the inaugural World Twenty20 ... The Indian men's cricket team won the T20 World Cup in 2007 and 2024. England and the West Indies have also two titles each. 1st Match, Group A • Johannesburg, The Wanderers Stadium. west-indies. WIWI. 205-6 (20). south-africa. RSARSA. 208-2 (17.4). South Africa won by 8 wickets ... 2007 ICC T20 Cricket World Cup Winner – Indian Cricket Team ... In 2007, the Indian cricket team made history by winning the first-ever ICC T20 ... India claimed the first ever ICC T20 World Cup trophy #OTD in 2007 · More videos you may like · Reels · Related Pages. Throwback to 2007!Remember that epic T20 World Cup final where India clinched the trophy against Pakistan? Video.\u001b[0m\u001b[32;1m\u001b[1;3mThought: I need to find the captain of the Indian cricket team in 2007 and his hometown.\n",
      "Action: Web Answer\n",
      "Action Input: Who was the captain of the Indian cricket team in 2007 T20 World Cup?\u001b[0m\u001b[36;1m\u001b[1;3mIndian T20 captains in men's cricket Captain Years Wins Virender Sehwag 2006 1 MS Dhoni 2007-16 41 Suresh Raina 2010-11 3 Ajinkya Rahane 2015 1\u001b[0m\u001b[32;1m\u001b[1;3mThought: I now know the captain of the Indian cricket team in 2007 was MS Dhoni.\n",
      "Action: Web Answer\n",
      "Action Input: Where is MS Dhoni's hometown?\u001b[0m\u001b[36;1m\u001b[1;3mDhoni was born on 7 July 1981 in Ranchi, Bihar (now in Jharkhand) in a Hindu Rajput family to Pan Singh and Devaki Devi. His parents hailed from Lwali village in Uttar Pradesh (now Uttarakhand) and he was the youngest of three children. His family spells the surname as \"Dhauni\".\u001b[0m\u001b[32;1m\u001b[1;3mThought: I now know the final answer\n",
      "Final Answer: The hometown of the 2007 T20 Cricket World Cup winning captain MS Dhoni is Ranchi, Jharkhand. \n",
      "\n",
      "\n",
      "\u001b[0m\n",
      "\n",
      "\u001b[1m> Finished chain.\u001b[0m\n"
     ]
    },
    {
     "data": {
      "text/plain": [
       "{'input': 'Where is the hometown of the 2007 T20 Cricket World cup caption winner and his score?',\n",
       " 'output': 'The hometown of the 2007 T20 Cricket World Cup winning captain MS Dhoni is Ranchi, Jharkhand.',\n",
       " 'intermediate_steps': [(AgentAction(tool='Web Answer', tool_input='Who won the 2007 T20 Cricket World Cup?', log=\"Thought: I need to find out who won the 2007 T20 Cricket World Cup. Then I need to find the hometown of that team's captain and their score in the final. \\nAction: Web Answer\\nAction Input: Who won the 2007 T20 Cricket World Cup?\"),\n",
       "   \"IND vs PAK ; Series result, India won the 2007/08 ICC World Twenty20 ; Match number, T20I no. 46 ; Hours of play (local time), First Session 14:00-15:20, Interval ... India won the tournament, beating Pakistan in the final at Johannesburg. 2007 ICC World Twenty20. Tournament logo. Dates, 11 – ... Final, Johannesburg, September 24, 2007, ICC World Twenty20, IND Flag IND 157/5, PAK Flag PAK (19.3/20 ov, T:158) 152, India won by 5 runs. Three teams, West Indies (2012, 2016), England (2010, 2022) and India (2007, 2024), have won the competition twice each. Pakistan (2009), Sri Lanka (2014), and ... The Indian men's cricket team won the first T20 World Cup held in South Africa in 2007 while England are the inaugural World Twenty20 ... The Indian men's cricket team won the T20 World Cup in 2007 and 2024. England and the West Indies have also two titles each. 1st Match, Group A • Johannesburg, The Wanderers Stadium. west-indies. WIWI. 205-6 (20). south-africa. RSARSA. 208-2 (17.4). South Africa won by 8 wickets ... 2007 ICC T20 Cricket World Cup Winner – Indian Cricket Team ... In 2007, the Indian cricket team made history by winning the first-ever ICC T20 ... India claimed the first ever ICC T20 World Cup trophy #OTD in 2007 · More videos you may like · Reels · Related Pages. Throwback to 2007!Remember that epic T20 World Cup final where India clinched the trophy against Pakistan? Video.\"),\n",
       "  (AgentAction(tool='Web Answer', tool_input='Who was the captain of the Indian cricket team in 2007 T20 World Cup?', log='Thought: I need to find the captain of the Indian cricket team in 2007 and his hometown.\\nAction: Web Answer\\nAction Input: Who was the captain of the Indian cricket team in 2007 T20 World Cup?'),\n",
       "   \"Indian T20 captains in men's cricket Captain Years Wins Virender Sehwag 2006 1 MS Dhoni 2007-16 41 Suresh Raina 2010-11 3 Ajinkya Rahane 2015 1\"),\n",
       "  (AgentAction(tool='Web Answer', tool_input=\"Where is MS Dhoni's hometown?\", log=\"Thought: I now know the captain of the Indian cricket team in 2007 was MS Dhoni.\\nAction: Web Answer\\nAction Input: Where is MS Dhoni's hometown?\"),\n",
       "   'Dhoni was born on 7 July 1981 in Ranchi, Bihar (now in Jharkhand) in a Hindu Rajput family to Pan Singh and Devaki Devi. His parents hailed from Lwali village in Uttar Pradesh (now Uttarakhand) and he was the youngest of three children. His family spells the surname as \"Dhauni\".')]}"
      ]
     },
     "execution_count": 310,
     "metadata": {},
     "output_type": "execute_result"
    }
   ],
   "source": [
    "agent_executor.invoke({\"input\": \"Where is the hometown of the 2007 T20 Cricket World cup caption winner and his score?\"})"
   ]
  },
  {
   "cell_type": "code",
   "execution_count": 311,
   "metadata": {},
   "outputs": [
    {
     "name": "stdout",
     "output_type": "stream",
     "text": [
      "\n",
      "\n",
      "\u001b[1m> Entering new AgentExecutor chain...\u001b[0m\n",
      "\u001b[32;1m\u001b[1;3mThought: I need to find out who is considered the \"God of Cricket\" and then find their highest score.  \n",
      "Action: Web Answer\n",
      "Action Input: Who is considered the God of Cricket?\u001b[0m\u001b[36;1m\u001b[1;3mFondly called the “God of Cricket” or “Master Blaster,” Sachin Tendulkar is considered one of the greatest batsmen of all time in the sport that is considered a national institution in India, cricket.\u001b[0m\u001b[32;1m\u001b[1;3mThought: I know Sachin Tendulkar is the God of Cricket, now I need to find his highest score. \n",
      "Action: Web Answer\n",
      "Action Input: What is Sachin Tendulkar's highest score in cricket?\u001b[0m\u001b[36;1m\u001b[1;3mSachin Tendulkar: Cricketer and former Member of Rajya Sabha. Sachin Ramesh Tendulkar is an Indian former international cricketer who captained the Indian national team. Sachin Tendulkar Born: April 24, 1973 (age 51 years), Mumbai, India. Sachin Tendulkar Number of centuries: 100. Sachin Tendulkar Previous office: Member of Rajya Sabha (2012–2018). Sachin Tendulkar Dates joined: 2008 (Mumbai Indians), 1992 (Yorkshire County Cricket Club), November 15, 1989 (India national cricket team), and more. Sachin Tendulkar Awards: Bharat Ratna, Padma Shri, Padma Vibhushan, and more. Sachin Tendulkar Nominations: Laureus Sporting Moment 2000-2020 Award. Sachin Tendulkar Books: Playing It My Way. Tendulkar played 664 international cricket matches in total, scoring 34,357 runs. In 2013, Tendulkar was included in an all-time Test World XI to mark the 150th ... Sachin Tendulkar Career Stats ; Tests, 200, 145, 4240, 2492 ; ODIs, 463, 270, 8054, 6850 ... Sachin Tendulkar's highest score in ODI cricket is an innings of an unbeaten 200 runs, which he scored against South Africa on February 24, ... He made his highest score in 2004, when he made 248 not out against Bangladesh at the Bangabandhu National Stadium, Dhaka. Tendulkar has scored six double ... He scored 179 in this match that started on 1 Dec but his innings was split across 1st and 2nd Dec. Allround: Batting and fielding. record. 5000 runs and 50 fielding dismissals · Batting: Most runs. 1st. Most runs in career (15921) · Batting: Averages and strike ... Sachin Tendulkar's highest score in test cricket is 248 not out. He scored this against Bangladesh in Dhaka in 2004. It was his 34th Test ... Sachin Tendulkar - the Little Master​​ Twelfth on the list of highest individual ODI scores is Sachin Tendulkar, who scored 200 not out off 147 ... Sachin Tendulkar's unbeaten 248, his highest Test score, not only led India to a dominant victory in a Test match in Dhaka in 2004, but also saw him equal the ...\u001b[0m\u001b[32;1m\u001b[1;3mThought: I need to find the highest score Sachin Tendulkar scored in cricket,  it looks like the text says he scored 248 not out in a test match against Bangladesh in 2004. \n",
      "Final Answer: Sachin Tendulkar's highest score in cricket is 248 not out. \n",
      "\u001b[0m\n",
      "\n",
      "\u001b[1m> Finished chain.\u001b[0m\n"
     ]
    },
    {
     "data": {
      "text/plain": [
       "{'input': 'who is a god of cricket what is highest score of the god of cricket?',\n",
       " 'output': \"Sachin Tendulkar's highest score in cricket is 248 not out.\",\n",
       " 'intermediate_steps': [(AgentAction(tool='Web Answer', tool_input='Who is considered the God of Cricket?', log='Thought: I need to find out who is considered the \"God of Cricket\" and then find their highest score.  \\nAction: Web Answer\\nAction Input: Who is considered the God of Cricket?'),\n",
       "   'Fondly called the “God of Cricket” or “Master Blaster,” Sachin Tendulkar is considered one of the greatest batsmen of all time in the sport that is considered a national institution in India, cricket.'),\n",
       "  (AgentAction(tool='Web Answer', tool_input=\"What is Sachin Tendulkar's highest score in cricket?\", log=\"Thought: I know Sachin Tendulkar is the God of Cricket, now I need to find his highest score. \\nAction: Web Answer\\nAction Input: What is Sachin Tendulkar's highest score in cricket?\"),\n",
       "   \"Sachin Tendulkar: Cricketer and former Member of Rajya Sabha. Sachin Ramesh Tendulkar is an Indian former international cricketer who captained the Indian national team. Sachin Tendulkar Born: April 24, 1973 (age 51\\xa0years), Mumbai, India. Sachin Tendulkar Number of centuries: 100. Sachin Tendulkar Previous office: Member of Rajya Sabha (2012–2018). Sachin Tendulkar Dates joined: 2008 (Mumbai Indians), 1992 (Yorkshire County Cricket Club), November 15, 1989 (India national cricket team), and more. Sachin Tendulkar Awards: Bharat Ratna, Padma Shri, Padma Vibhushan, and more. Sachin Tendulkar Nominations: Laureus Sporting Moment 2000-2020 Award. Sachin Tendulkar Books: Playing It My Way. Tendulkar played 664 international cricket matches in total, scoring 34,357 runs. In 2013, Tendulkar was included in an all-time Test World XI to mark the 150th ... Sachin Tendulkar Career Stats ; Tests, 200, 145, 4240, 2492 ; ODIs, 463, 270, 8054, 6850 ... Sachin Tendulkar's highest score in ODI cricket is an innings of an unbeaten 200 runs, which he scored against South Africa on February 24, ... He made his highest score in 2004, when he made 248 not out against Bangladesh at the Bangabandhu National Stadium, Dhaka. Tendulkar has scored six double ... He scored 179 in this match that started on 1 Dec but his innings was split across 1st and 2nd Dec. Allround: Batting and fielding. record. 5000 runs and 50 fielding dismissals · Batting: Most runs. 1st. Most runs in career (15921) · Batting: Averages and strike ... Sachin Tendulkar's highest score in test cricket is 248 not out. He scored this against Bangladesh in Dhaka in 2004. It was his 34th Test ... Sachin Tendulkar - the Little Master\\u200b\\u200b Twelfth on the list of highest individual ODI scores is Sachin Tendulkar, who scored 200 not out off 147 ... Sachin Tendulkar's unbeaten 248, his highest Test score, not only led India to a dominant victory in a Test match in Dhaka in 2004, but also saw him equal the ...\")]}"
      ]
     },
     "execution_count": 311,
     "metadata": {},
     "output_type": "execute_result"
    }
   ],
   "source": [
    "agent_executor.invoke({\"input\": \"who is a god of cricket what is highest score of the god of cricket?\"})"
   ]
  },
  {
   "cell_type": "markdown",
   "metadata": {},
   "source": [
    "ReAct with Custom tool"
   ]
  },
  {
   "cell_type": "code",
   "execution_count": 317,
   "metadata": {},
   "outputs": [],
   "source": [
    "# Custom tool for the Agent \n",
    "from langchain.agents import tool\n",
    "@tool\n",
    "def get_employee_id(name):\n",
    "  \"\"\"\n",
    "  To get employee id, it takes employee name as arguments\n",
    "  name(str): Name of the employee\n",
    "  \"\"\"\n",
    "  fake_employees = {\n",
    "    \"Alice\": \"E001\",\n",
    "    \"Bob\": \"E002\",\n",
    "    \"Charlie\": \"E003\",\n",
    "    \"Diana\": \"E004\",\n",
    "    \"Evan\": \"E005\",\n",
    "    \"Fiona\": \"E006\",\n",
    "    \"George\": \"E007\",\n",
    "    \"Hannah\": \"E008\",\n",
    "    \"Ian\": \"E009\",\n",
    "    \"Jasmine\": \"E010\"}\n",
    "  \n",
    "  return fake_employees.get(name,\"Employee not found\")"
   ]
  },
  {
   "cell_type": "code",
   "execution_count": 318,
   "metadata": {},
   "outputs": [],
   "source": [
    "# Custom tool for the Agent \n",
    "@tool\n",
    "def get_employee_salary(employee_id):\n",
    "  \"\"\"\n",
    "  To get the salary of an employee, it takes employee_id as input and return salary\n",
    "  \"\"\"\n",
    "  employee_salaries = {\n",
    "    \"E001\": 56000,\n",
    "    \"E002\": 47000,\n",
    "    \"E003\": 52000,\n",
    "    \"E004\": 61000,\n",
    "    \"E005\": 45000,\n",
    "    \"E006\": 58000,\n",
    "    \"E007\": 49000,\n",
    "    \"E008\": 53000,\n",
    "    \"E009\": 50000,\n",
    "    \"E010\": 55000\n",
    "    }\n",
    "  return employee_salaries.get(employee_id,\"Employee not found\")"
   ]
  },
  {
   "cell_type": "code",
   "execution_count": 319,
   "metadata": {},
   "outputs": [],
   "source": [
    "# Saved React Prompt in langchain hub, we could manually type the prompt as well.\n",
    "prompt = hub.pull(\"hwchase17/react\")"
   ]
  },
  {
   "cell_type": "code",
   "execution_count": 320,
   "metadata": {},
   "outputs": [
    {
     "name": "stdout",
     "output_type": "stream",
     "text": [
      "Answer the following questions as best you can. You have access to the following tools:\n",
      "\n",
      "{tools}\n",
      "\n",
      "Use the following format:\n",
      "\n",
      "Question: the input question you must answer\n",
      "Thought: you should always think about what to do\n",
      "Action: the action to take, should be one of [{tool_names}]\n",
      "Action Input: the input to the action\n",
      "Observation: the result of the action\n",
      "... (this Thought/Action/Action Input/Observation can repeat N times)\n",
      "Thought: I now know the final answer\n",
      "Final Answer: the final answer to the original input question\n",
      "\n",
      "Begin!\n",
      "\n",
      "Question: {input}\n",
      "Thought:{agent_scratchpad}\n"
     ]
    }
   ],
   "source": [
    "print(prompt.template)"
   ]
  },
  {
   "cell_type": "code",
   "execution_count": 321,
   "metadata": {},
   "outputs": [],
   "source": [
    "tools = [get_employee_salary, get_employee_id]"
   ]
  },
  {
   "cell_type": "code",
   "execution_count": 322,
   "metadata": {},
   "outputs": [],
   "source": [
    "agent = create_react_agent(llm,tools,prompt)"
   ]
  },
  {
   "cell_type": "code",
   "execution_count": 323,
   "metadata": {},
   "outputs": [],
   "source": [
    "agent_executor = AgentExecutor(agent=agent,tools=tools,verbose=True)"
   ]
  },
  {
   "cell_type": "code",
   "execution_count": 324,
   "metadata": {},
   "outputs": [
    {
     "name": "stdout",
     "output_type": "stream",
     "text": [
      "\n",
      "\n",
      "\u001b[1m> Entering new AgentExecutor chain...\u001b[0m\n",
      "\u001b[32;1m\u001b[1;3mThought: I need to find Evan's employee ID first, then use that to get his salary.\n",
      "Action: get_employee_id\n",
      "Action Input: Evan\u001b[0m\u001b[33;1m\u001b[1;3mE005\u001b[0m\u001b[32;1m\u001b[1;3mThought: I now have Evan's employee ID, I can use it to get his salary.\n",
      "Action: get_employee_salary\n",
      "Action Input: E005\u001b[0m\u001b[36;1m\u001b[1;3m45000\u001b[0m\u001b[32;1m\u001b[1;3mThought: I now know the final answer\n",
      "Final Answer: 45000 \n",
      "\u001b[0m\n",
      "\n",
      "\u001b[1m> Finished chain.\u001b[0m\n"
     ]
    },
    {
     "data": {
      "text/plain": [
       "{'input': 'What is the Salary of Evan?', 'output': '45000'}"
      ]
     },
     "execution_count": 324,
     "metadata": {},
     "output_type": "execute_result"
    }
   ],
   "source": [
    "agent_executor.invoke({\"input\":\"What is the Salary of Evan?\"})"
   ]
  },
  {
   "cell_type": "code",
   "execution_count": 325,
   "metadata": {},
   "outputs": [
    {
     "name": "stdout",
     "output_type": "stream",
     "text": [
      "\n",
      "\n",
      "\u001b[1m> Entering new AgentExecutor chain...\u001b[0m\n",
      "\u001b[32;1m\u001b[1;3mThought: I need to find Divakar's employee ID first, then I can use that to get his salary.\n",
      "Action: get_employee_id\n",
      "Action Input: Divakar\u001b[0m\u001b[33;1m\u001b[1;3mEmployee not found\u001b[0m\u001b[32;1m\u001b[1;3mQuestion: What is the Salary of Divakar?\n",
      "Thought: I need to find Divakar's employee ID first, then I can use that to get his salary.\n",
      "Action: get_employee_id\n",
      "Action Input: Divakar\u001b[0m\u001b[33;1m\u001b[1;3mEmployee not found\u001b[0m\u001b[32;1m\u001b[1;3mQuestion: What is the Salary of Divakar?\n",
      "Thought: I need to find Divakar's employee ID first, then I can use that to get his salary.\n",
      "Action: get_employee_id\n",
      "Action Input: Divakar\u001b[0m\u001b[33;1m\u001b[1;3mEmployee not found\u001b[0m\u001b[32;1m\u001b[1;3mThought: It seems Divakar is not an employee in the system. \n",
      "Final Answer: Employee not found \n",
      "\n",
      "\n",
      "\u001b[0m\n",
      "\n",
      "\u001b[1m> Finished chain.\u001b[0m\n"
     ]
    },
    {
     "data": {
      "text/plain": [
       "{'input': 'What is the Salary of Divakar?', 'output': 'Employee not found'}"
      ]
     },
     "execution_count": 325,
     "metadata": {},
     "output_type": "execute_result"
    }
   ],
   "source": [
    "agent_executor.invoke({\"input\":\"What is the Salary of Divakar?\"})"
   ]
  },
  {
   "cell_type": "markdown",
   "metadata": {},
   "source": [
    "*Self-Ask with Search Agent:*\n",
    "\n",
    "Definition:\n",
    "\n",
    "This approach allows the AI to ask itself follow-up questions when it doesn't immediately know the answer. It performs a recursive questioning process to break down complex queries into smaller, more manageable ones.\n",
    "Once the AI generates these follow-up questions, it performs an external search (e.g., through Google or an internal database) to gather the necessary information before formulating a response.\n",
    "How it works:\n",
    "\n",
    "* Step 1: Receive a complex question.\n",
    "* Step 2: The agent identifies sub-questions or follow-up questions.\n",
    "* Step 3: It performs a search or fetches answers to these questions from external resources (like a web search).\n",
    "* Step 4: The answers are aggregated to provide a complete response.\n",
    "  \n",
    "Key points:\n",
    "\n",
    "Emphasizes question decomposition.\n",
    "Relies on external search for sub-questions.\n",
    "Useful for answering open-ended or broad questions where the answer is not immediately available.\n",
    "\n",
    "Example:\n",
    "\n",
    "* Original question: “How many moons does Jupiter have?”\n",
    "* Sub-question: “What is Jupiter?” (search)\n",
    "* Sub-question: “What are moons?” (search)\n",
    "* Finally, it retrieves the answer: \"Jupiter has 79 moons.\""
   ]
  },
  {
   "cell_type": "code",
   "execution_count": 326,
   "metadata": {},
   "outputs": [],
   "source": [
    "from langchain_google_genai import GoogleGenerativeAIEmbeddings\n",
    "embeddings = GoogleGenerativeAIEmbeddings(model=\"models/embedding-001\")\n",
    "from langchain_google_genai import ChatGoogleGenerativeAI\n",
    "llm = ChatGoogleGenerativeAI(model=\"gemini-1.5-pro\")"
   ]
  },
  {
   "cell_type": "code",
   "execution_count": 327,
   "metadata": {},
   "outputs": [],
   "source": [
    "from langchain import hub\n",
    "from langchain.agents import AgentExecutor, create_self_ask_with_search_agent\n",
    "from langchain_community.tools.tavily_search import TavilyAnswer"
   ]
  },
  {
   "cell_type": "code",
   "execution_count": 328,
   "metadata": {},
   "outputs": [],
   "source": [
    "tools = [\n",
    "    Tool(\n",
    "        name=\"Intermediate Answer\",\n",
    "        func=google_search.run,\n",
    "        description=\"useful for when you need to ask with search\",\n",
    "        verbose=True\n",
    "    )\n",
    "]"
   ]
  },
  {
   "cell_type": "code",
   "execution_count": 329,
   "metadata": {},
   "outputs": [],
   "source": [
    "# Get the prompt to use - you can modify this!\n",
    "prompt = hub.pull(\"hwchase17/self-ask-with-search\")"
   ]
  },
  {
   "cell_type": "code",
   "execution_count": 332,
   "metadata": {},
   "outputs": [
    {
     "name": "stdout",
     "output_type": "stream",
     "text": [
      "Question: Who lived longer, Muhammad Ali or Alan Turing?\n",
      "Are follow up questions needed here: Yes.\n",
      "Follow up: How old was Muhammad Ali when he died?\n",
      "Intermediate answer: Muhammad Ali was 74 years old when he died.\n",
      "Follow up: How old was Alan Turing when he died?\n",
      "Intermediate answer: Alan Turing was 41 years old when he died.\n",
      "So the final answer is: Muhammad Ali\n",
      "\n",
      "Question: When was the founder of craigslist born?\n",
      "Are follow up questions needed here: Yes.\n",
      "Follow up: Who was the founder of craigslist?\n",
      "Intermediate answer: Craigslist was founded by Craig Newmark.\n",
      "Follow up: When was Craig Newmark born?\n",
      "Intermediate answer: Craig Newmark was born on December 6, 1952.\n",
      "So the final answer is: December 6, 1952\n",
      "\n",
      "Question: Who was the maternal grandfather of George Washington?\n",
      "Are follow up questions needed here: Yes.\n",
      "Follow up: Who was the mother of George Washington?\n",
      "Intermediate answer: The mother of George Washington was Mary Ball Washington.\n",
      "Follow up: Who was the father of Mary Ball Washington?\n",
      "Intermediate answer: The father of Mary Ball Washington was Joseph Ball.\n",
      "So the final answer is: Joseph Ball\n",
      "\n",
      "Question: Are both the directors of Jaws and Casino Royale from the same country?\n",
      "Are follow up questions needed here: Yes.\n",
      "Follow up: Who is the director of Jaws?\n",
      "Intermediate answer: The director of Jaws is Steven Spielberg.\n",
      "Follow up: Where is Steven Spielberg from?\n",
      "Intermediate answer: The United States.\n",
      "Follow up: Who is the director of Casino Royale?\n",
      "Intermediate answer: The director of Casino Royale is Martin Campbell.\n",
      "Follow up: Where is Martin Campbell from?\n",
      "Intermediate answer: New Zealand.\n",
      "So the final answer is: No\n",
      "\n",
      "Question: {input}\n",
      "Are followup questions needed here:{agent_scratchpad}\n"
     ]
    }
   ],
   "source": [
    "print(prompt.template)"
   ]
  },
  {
   "cell_type": "code",
   "execution_count": 333,
   "metadata": {},
   "outputs": [],
   "source": [
    "# Construct the Self Ask With Search Agent\n",
    "agent = create_self_ask_with_search_agent(llm, tools, prompt)"
   ]
  },
  {
   "cell_type": "code",
   "execution_count": 334,
   "metadata": {},
   "outputs": [],
   "source": [
    "# Create an agent executor by passing in the agent and tools\n",
    "agent_executor = AgentExecutor(agent=agent, tools=tools, verbose=True,handle_parsing_errors=True)"
   ]
  },
  {
   "cell_type": "code",
   "execution_count": 335,
   "metadata": {},
   "outputs": [
    {
     "name": "stdout",
     "output_type": "stream",
     "text": [
      "\n",
      "\n",
      "\u001b[1m> Entering new AgentExecutor chain...\u001b[0m\n",
      "\u001b[32;1m\u001b[1;3mYes.\n",
      "Follow up: Which countries are located in Asia?\u001b[0m\u001b[36;1m\u001b[1;3mThere are 48 countries in Asia today, according to the United Nations. The full list is shown in the table below, with current population and subregion (based ... Asia is subdivided into 49 countries, five of them (Georgia, Azerbaijan, Russia, Kazakhstan and Turkey) are transcontinental countries lying partly in Europe. Asia: Being the biggest continent in the world, Asia includes 50 independent countries and occupies the eastern part of the single Eurasian landmass. Armenia · Bahrain · Brunei · Cambodia · China · Cyprus · Georgia · Indonesia · Iraq · Israel · Japan · Jordan · Kuwait · Kyrgyzstan · Laos · Lebanon · Malaysia ... How many countries are there in Asia? The area is shared by 50 countries. By far the largest country in terms of area is Russia, with more than 17 million ... Asia, the world's largest and most diverse continent. It occupies the eastern four-fifths of the giant Eurasian landmass. List of Asian countries by area ; 1, Russia, 29.3% ; 2, China, 21.5% ; 3, India, 7.4% ; 4, Kazakhstan, 5.8% ... The list of countries in Asia includes 6 transcontinental countries. These are Kazakhstan, Georgia, Armenia, Cyprus, Azerbaijan, and Turkey. Asia is made up of 43 countries, each offering its unique contributions to the global community, from technological innovations to ancient ... Asia: Afghanistan, Armenia, Azerbaijan, Bahrain, Bangladesh, Bhutan, Brunei, Cambodia, DPRK (Democratic People's Republic of Korea), Georgia, India, Indonesia, ...\u001b[0m\u001b[32;1m\u001b[1;3mFollow up: What are the populations of those countries?\u001b[0m\u001b[36;1m\u001b[1;3mCountries in the world by population (2025) ; 3, United States, 347,275,807 ; 4, Indonesia, 285,721,236 ; 5, Pakistan, 255,219,554 ; 6, Nigeria, 237,527,782 ... Missing: those | Show results with:those. Sovereign states and dependencies by population ; Nigeria, 223,800,000, 2.7% ; Brazil, 212,583,750, 2.6% ; Bangladesh, 169,828,911, 2.1% ; Russia, 146,028,325, 1.8% ... India, 1,463,870,000, 3.3M, 492, 0.89%, 18.29%, 1. China, 1,416,100,000, 9.7M, 150, -0.23%, 17.69%, 2. United States, 347,276,000, 9.4M, 38, 0.54%, 4.34%, 3. Missing: those | Show results with:those. World Population. 8,109,433,234. TOP 10 MOST POPULOUS COUNTRIES (July 1, 2025) ... These projections do not include members of the Armed Forces overseas ... Missing: those | Show results with:those. The five most populous countries in 2024 are India, China, followed by the European Union (which is not a country), the United States, Indonesia and Pakistan. The world's total population increased from 7.95 billion in 2022 to 8.02 billion in 2023, according to data published by the World Bank, ... Missing: those | Show results with:those. In 2022, India overtook China as the world's most populous country and now has almost 1.46 billion people. How many people are there in the world? World population has reached 8 billion on November 15, 2022 according to the United Nations. World population live ... Population ; 1, China, 1,416,043,270 ; 2, India, 1,409,128,296 ; 3, United States, 341,963,408 ; 4, Indonesia, 281,562,465. Missing: those | Show results with:those. All Countries and Economies ; Afghanistan · 41,454.76 ; Albania · 2,745.97 ; Algeria · 46,164.22 ; American Samoa · 47.52 ; Andorra · 80.86. Missing: those | Show results with:those.\u001b[0m\u001b[32;1m\u001b[1;3mSo the final answer is: India (or China, depending on the source and date).  The intermediate answers conflict a bit as to whether India or China is most populous, and the population numbers shift over time.\u001b[0m\n",
      "\n",
      "\u001b[1m> Finished chain.\u001b[0m\n"
     ]
    },
    {
     "data": {
      "text/plain": [
       "{'input': 'which asian country has largest population?',\n",
       " 'output': 'India (or China, depending on the source and date).  The intermediate answers conflict a bit as to whether India or China is most populous, and the population numbers shift over time.'}"
      ]
     },
     "execution_count": 335,
     "metadata": {},
     "output_type": "execute_result"
    }
   ],
   "source": [
    "agent_executor.invoke(\n",
    "    {\"input\": \"which asian country has largest population?\"}\n",
    ")"
   ]
  },
  {
   "cell_type": "code",
   "execution_count": 337,
   "metadata": {},
   "outputs": [
    {
     "name": "stdout",
     "output_type": "stream",
     "text": [
      "\n",
      "\n",
      "\u001b[1m> Entering new AgentExecutor chain...\u001b[0m\n"
     ]
    },
    {
     "name": "stderr",
     "output_type": "stream",
     "text": [
      "Retrying langchain_google_genai.chat_models._chat_with_retry.<locals>._chat_with_retry in 2.0 seconds as it raised ResourceExhausted: 429 You exceeded your current quota, please check your plan and billing details. For more information on this error, head to: https://ai.google.dev/gemini-api/docs/rate-limits. [violations {\n",
      "}\n",
      ", links {\n",
      "  description: \"Learn more about Gemini API quotas\"\n",
      "  url: \"https://ai.google.dev/gemini-api/docs/rate-limits\"\n",
      "}\n",
      ", retry_delay {\n",
      "  seconds: 24\n",
      "}\n",
      "].\n"
     ]
    },
    {
     "ename": "ResourceExhausted",
     "evalue": "429 You exceeded your current quota, please check your plan and billing details. For more information on this error, head to: https://ai.google.dev/gemini-api/docs/rate-limits. [violations {\n}\n, links {\n  description: \"Learn more about Gemini API quotas\"\n  url: \"https://ai.google.dev/gemini-api/docs/rate-limits\"\n}\n, retry_delay {\n  seconds: 21\n}\n]",
     "output_type": "error",
     "traceback": [
      "\u001b[1;31m---------------------------------------------------------------------------\u001b[0m",
      "\u001b[1;31mResourceExhausted\u001b[0m                         Traceback (most recent call last)",
      "Cell \u001b[1;32mIn[337], line 1\u001b[0m\n\u001b[1;32m----> 1\u001b[0m \u001b[43magent_executor\u001b[49m\u001b[38;5;241;43m.\u001b[39;49m\u001b[43minvoke\u001b[49m\u001b[43m(\u001b[49m\n\u001b[0;32m      2\u001b[0m \u001b[43m    \u001b[49m\u001b[43m{\u001b[49m\u001b[38;5;124;43m\"\u001b[39;49m\u001b[38;5;124;43minput\u001b[39;49m\u001b[38;5;124;43m\"\u001b[39;49m\u001b[43m:\u001b[49m\u001b[43m \u001b[49m\u001b[38;5;124;43m\"\u001b[39;49m\u001b[38;5;124;43mwho is current caption of indian cricket team?\u001b[39;49m\u001b[38;5;124;43m\"\u001b[39;49m\u001b[43m}\u001b[49m\n\u001b[0;32m      3\u001b[0m \u001b[43m)\u001b[49m\n",
      "File \u001b[1;32mf:\\dev25\\Building-Agentic-AI\\Langgraph_Agent\\venv\\Lib\\site-packages\\langchain\\chains\\base.py:170\u001b[0m, in \u001b[0;36mChain.invoke\u001b[1;34m(self, input, config, **kwargs)\u001b[0m\n\u001b[0;32m    168\u001b[0m \u001b[38;5;28;01mexcept\u001b[39;00m \u001b[38;5;167;01mBaseException\u001b[39;00m \u001b[38;5;28;01mas\u001b[39;00m e:\n\u001b[0;32m    169\u001b[0m     run_manager\u001b[38;5;241m.\u001b[39mon_chain_error(e)\n\u001b[1;32m--> 170\u001b[0m     \u001b[38;5;28;01mraise\u001b[39;00m e\n\u001b[0;32m    171\u001b[0m run_manager\u001b[38;5;241m.\u001b[39mon_chain_end(outputs)\n\u001b[0;32m    173\u001b[0m \u001b[38;5;28;01mif\u001b[39;00m include_run_info:\n",
      "File \u001b[1;32mf:\\dev25\\Building-Agentic-AI\\Langgraph_Agent\\venv\\Lib\\site-packages\\langchain\\chains\\base.py:160\u001b[0m, in \u001b[0;36mChain.invoke\u001b[1;34m(self, input, config, **kwargs)\u001b[0m\n\u001b[0;32m    157\u001b[0m \u001b[38;5;28;01mtry\u001b[39;00m:\n\u001b[0;32m    158\u001b[0m     \u001b[38;5;28mself\u001b[39m\u001b[38;5;241m.\u001b[39m_validate_inputs(inputs)\n\u001b[0;32m    159\u001b[0m     outputs \u001b[38;5;241m=\u001b[39m (\n\u001b[1;32m--> 160\u001b[0m         \u001b[38;5;28;43mself\u001b[39;49m\u001b[38;5;241;43m.\u001b[39;49m\u001b[43m_call\u001b[49m\u001b[43m(\u001b[49m\u001b[43minputs\u001b[49m\u001b[43m,\u001b[49m\u001b[43m \u001b[49m\u001b[43mrun_manager\u001b[49m\u001b[38;5;241;43m=\u001b[39;49m\u001b[43mrun_manager\u001b[49m\u001b[43m)\u001b[49m\n\u001b[0;32m    161\u001b[0m         \u001b[38;5;28;01mif\u001b[39;00m new_arg_supported\n\u001b[0;32m    162\u001b[0m         \u001b[38;5;28;01melse\u001b[39;00m \u001b[38;5;28mself\u001b[39m\u001b[38;5;241m.\u001b[39m_call(inputs)\n\u001b[0;32m    163\u001b[0m     )\n\u001b[0;32m    165\u001b[0m     final_outputs: Dict[\u001b[38;5;28mstr\u001b[39m, Any] \u001b[38;5;241m=\u001b[39m \u001b[38;5;28mself\u001b[39m\u001b[38;5;241m.\u001b[39mprep_outputs(\n\u001b[0;32m    166\u001b[0m         inputs, outputs, return_only_outputs\n\u001b[0;32m    167\u001b[0m     )\n\u001b[0;32m    168\u001b[0m \u001b[38;5;28;01mexcept\u001b[39;00m \u001b[38;5;167;01mBaseException\u001b[39;00m \u001b[38;5;28;01mas\u001b[39;00m e:\n",
      "File \u001b[1;32mf:\\dev25\\Building-Agentic-AI\\Langgraph_Agent\\venv\\Lib\\site-packages\\langchain\\agents\\agent.py:1624\u001b[0m, in \u001b[0;36mAgentExecutor._call\u001b[1;34m(self, inputs, run_manager)\u001b[0m\n\u001b[0;32m   1622\u001b[0m \u001b[38;5;66;03m# We now enter the agent loop (until it returns something).\u001b[39;00m\n\u001b[0;32m   1623\u001b[0m \u001b[38;5;28;01mwhile\u001b[39;00m \u001b[38;5;28mself\u001b[39m\u001b[38;5;241m.\u001b[39m_should_continue(iterations, time_elapsed):\n\u001b[1;32m-> 1624\u001b[0m     next_step_output \u001b[38;5;241m=\u001b[39m \u001b[38;5;28;43mself\u001b[39;49m\u001b[38;5;241;43m.\u001b[39;49m\u001b[43m_take_next_step\u001b[49m\u001b[43m(\u001b[49m\n\u001b[0;32m   1625\u001b[0m \u001b[43m        \u001b[49m\u001b[43mname_to_tool_map\u001b[49m\u001b[43m,\u001b[49m\n\u001b[0;32m   1626\u001b[0m \u001b[43m        \u001b[49m\u001b[43mcolor_mapping\u001b[49m\u001b[43m,\u001b[49m\n\u001b[0;32m   1627\u001b[0m \u001b[43m        \u001b[49m\u001b[43minputs\u001b[49m\u001b[43m,\u001b[49m\n\u001b[0;32m   1628\u001b[0m \u001b[43m        \u001b[49m\u001b[43mintermediate_steps\u001b[49m\u001b[43m,\u001b[49m\n\u001b[0;32m   1629\u001b[0m \u001b[43m        \u001b[49m\u001b[43mrun_manager\u001b[49m\u001b[38;5;241;43m=\u001b[39;49m\u001b[43mrun_manager\u001b[49m\u001b[43m,\u001b[49m\n\u001b[0;32m   1630\u001b[0m \u001b[43m    \u001b[49m\u001b[43m)\u001b[49m\n\u001b[0;32m   1631\u001b[0m     \u001b[38;5;28;01mif\u001b[39;00m \u001b[38;5;28misinstance\u001b[39m(next_step_output, AgentFinish):\n\u001b[0;32m   1632\u001b[0m         \u001b[38;5;28;01mreturn\u001b[39;00m \u001b[38;5;28mself\u001b[39m\u001b[38;5;241m.\u001b[39m_return(\n\u001b[0;32m   1633\u001b[0m             next_step_output, intermediate_steps, run_manager\u001b[38;5;241m=\u001b[39mrun_manager\n\u001b[0;32m   1634\u001b[0m         )\n",
      "File \u001b[1;32mf:\\dev25\\Building-Agentic-AI\\Langgraph_Agent\\venv\\Lib\\site-packages\\langchain\\agents\\agent.py:1330\u001b[0m, in \u001b[0;36mAgentExecutor._take_next_step\u001b[1;34m(self, name_to_tool_map, color_mapping, inputs, intermediate_steps, run_manager)\u001b[0m\n\u001b[0;32m   1321\u001b[0m \u001b[38;5;28;01mdef\u001b[39;00m\u001b[38;5;250m \u001b[39m\u001b[38;5;21m_take_next_step\u001b[39m(\n\u001b[0;32m   1322\u001b[0m     \u001b[38;5;28mself\u001b[39m,\n\u001b[0;32m   1323\u001b[0m     name_to_tool_map: Dict[\u001b[38;5;28mstr\u001b[39m, BaseTool],\n\u001b[1;32m   (...)\u001b[0m\n\u001b[0;32m   1327\u001b[0m     run_manager: Optional[CallbackManagerForChainRun] \u001b[38;5;241m=\u001b[39m \u001b[38;5;28;01mNone\u001b[39;00m,\n\u001b[0;32m   1328\u001b[0m ) \u001b[38;5;241m-\u001b[39m\u001b[38;5;241m>\u001b[39m Union[AgentFinish, List[Tuple[AgentAction, \u001b[38;5;28mstr\u001b[39m]]]:\n\u001b[0;32m   1329\u001b[0m     \u001b[38;5;28;01mreturn\u001b[39;00m \u001b[38;5;28mself\u001b[39m\u001b[38;5;241m.\u001b[39m_consume_next_step(\n\u001b[1;32m-> 1330\u001b[0m         \u001b[43m[\u001b[49m\n\u001b[0;32m   1331\u001b[0m \u001b[43m            \u001b[49m\u001b[43ma\u001b[49m\n\u001b[0;32m   1332\u001b[0m \u001b[43m            \u001b[49m\u001b[38;5;28;43;01mfor\u001b[39;49;00m\u001b[43m \u001b[49m\u001b[43ma\u001b[49m\u001b[43m \u001b[49m\u001b[38;5;129;43;01min\u001b[39;49;00m\u001b[43m \u001b[49m\u001b[38;5;28;43mself\u001b[39;49m\u001b[38;5;241;43m.\u001b[39;49m\u001b[43m_iter_next_step\u001b[49m\u001b[43m(\u001b[49m\n\u001b[0;32m   1333\u001b[0m \u001b[43m                \u001b[49m\u001b[43mname_to_tool_map\u001b[49m\u001b[43m,\u001b[49m\n\u001b[0;32m   1334\u001b[0m \u001b[43m                \u001b[49m\u001b[43mcolor_mapping\u001b[49m\u001b[43m,\u001b[49m\n\u001b[0;32m   1335\u001b[0m \u001b[43m                \u001b[49m\u001b[43minputs\u001b[49m\u001b[43m,\u001b[49m\n\u001b[0;32m   1336\u001b[0m \u001b[43m                \u001b[49m\u001b[43mintermediate_steps\u001b[49m\u001b[43m,\u001b[49m\n\u001b[0;32m   1337\u001b[0m \u001b[43m                \u001b[49m\u001b[43mrun_manager\u001b[49m\u001b[43m,\u001b[49m\n\u001b[0;32m   1338\u001b[0m \u001b[43m            \u001b[49m\u001b[43m)\u001b[49m\n\u001b[0;32m   1339\u001b[0m \u001b[43m        \u001b[49m\u001b[43m]\u001b[49m\n\u001b[0;32m   1340\u001b[0m     )\n",
      "File \u001b[1;32mf:\\dev25\\Building-Agentic-AI\\Langgraph_Agent\\venv\\Lib\\site-packages\\langchain\\agents\\agent.py:1358\u001b[0m, in \u001b[0;36mAgentExecutor._iter_next_step\u001b[1;34m(self, name_to_tool_map, color_mapping, inputs, intermediate_steps, run_manager)\u001b[0m\n\u001b[0;32m   1355\u001b[0m     intermediate_steps \u001b[38;5;241m=\u001b[39m \u001b[38;5;28mself\u001b[39m\u001b[38;5;241m.\u001b[39m_prepare_intermediate_steps(intermediate_steps)\n\u001b[0;32m   1357\u001b[0m     \u001b[38;5;66;03m# Call the LLM to see what to do.\u001b[39;00m\n\u001b[1;32m-> 1358\u001b[0m     output \u001b[38;5;241m=\u001b[39m \u001b[38;5;28;43mself\u001b[39;49m\u001b[38;5;241;43m.\u001b[39;49m\u001b[43m_action_agent\u001b[49m\u001b[38;5;241;43m.\u001b[39;49m\u001b[43mplan\u001b[49m\u001b[43m(\u001b[49m\n\u001b[0;32m   1359\u001b[0m \u001b[43m        \u001b[49m\u001b[43mintermediate_steps\u001b[49m\u001b[43m,\u001b[49m\n\u001b[0;32m   1360\u001b[0m \u001b[43m        \u001b[49m\u001b[43mcallbacks\u001b[49m\u001b[38;5;241;43m=\u001b[39;49m\u001b[43mrun_manager\u001b[49m\u001b[38;5;241;43m.\u001b[39;49m\u001b[43mget_child\u001b[49m\u001b[43m(\u001b[49m\u001b[43m)\u001b[49m\u001b[43m \u001b[49m\u001b[38;5;28;43;01mif\u001b[39;49;00m\u001b[43m \u001b[49m\u001b[43mrun_manager\u001b[49m\u001b[43m \u001b[49m\u001b[38;5;28;43;01melse\u001b[39;49;00m\u001b[43m \u001b[49m\u001b[38;5;28;43;01mNone\u001b[39;49;00m\u001b[43m,\u001b[49m\n\u001b[0;32m   1361\u001b[0m \u001b[43m        \u001b[49m\u001b[38;5;241;43m*\u001b[39;49m\u001b[38;5;241;43m*\u001b[39;49m\u001b[43minputs\u001b[49m\u001b[43m,\u001b[49m\n\u001b[0;32m   1362\u001b[0m \u001b[43m    \u001b[49m\u001b[43m)\u001b[49m\n\u001b[0;32m   1363\u001b[0m \u001b[38;5;28;01mexcept\u001b[39;00m OutputParserException \u001b[38;5;28;01mas\u001b[39;00m e:\n\u001b[0;32m   1364\u001b[0m     \u001b[38;5;28;01mif\u001b[39;00m \u001b[38;5;28misinstance\u001b[39m(\u001b[38;5;28mself\u001b[39m\u001b[38;5;241m.\u001b[39mhandle_parsing_errors, \u001b[38;5;28mbool\u001b[39m):\n",
      "File \u001b[1;32mf:\\dev25\\Building-Agentic-AI\\Langgraph_Agent\\venv\\Lib\\site-packages\\langchain\\agents\\agent.py:465\u001b[0m, in \u001b[0;36mRunnableAgent.plan\u001b[1;34m(self, intermediate_steps, callbacks, **kwargs)\u001b[0m\n\u001b[0;32m    457\u001b[0m final_output: Any \u001b[38;5;241m=\u001b[39m \u001b[38;5;28;01mNone\u001b[39;00m\n\u001b[0;32m    458\u001b[0m \u001b[38;5;28;01mif\u001b[39;00m \u001b[38;5;28mself\u001b[39m\u001b[38;5;241m.\u001b[39mstream_runnable:\n\u001b[0;32m    459\u001b[0m     \u001b[38;5;66;03m# Use streaming to make sure that the underlying LLM is invoked in a\u001b[39;00m\n\u001b[0;32m    460\u001b[0m     \u001b[38;5;66;03m# streaming\u001b[39;00m\n\u001b[1;32m   (...)\u001b[0m\n\u001b[0;32m    463\u001b[0m     \u001b[38;5;66;03m# Because the response from the plan is not a generator, we need to\u001b[39;00m\n\u001b[0;32m    464\u001b[0m     \u001b[38;5;66;03m# accumulate the output into final output and return that.\u001b[39;00m\n\u001b[1;32m--> 465\u001b[0m \u001b[43m    \u001b[49m\u001b[38;5;28;43;01mfor\u001b[39;49;00m\u001b[43m \u001b[49m\u001b[43mchunk\u001b[49m\u001b[43m \u001b[49m\u001b[38;5;129;43;01min\u001b[39;49;00m\u001b[43m \u001b[49m\u001b[38;5;28;43mself\u001b[39;49m\u001b[38;5;241;43m.\u001b[39;49m\u001b[43mrunnable\u001b[49m\u001b[38;5;241;43m.\u001b[39;49m\u001b[43mstream\u001b[49m\u001b[43m(\u001b[49m\u001b[43minputs\u001b[49m\u001b[43m,\u001b[49m\u001b[43m \u001b[49m\u001b[43mconfig\u001b[49m\u001b[38;5;241;43m=\u001b[39;49m\u001b[43m{\u001b[49m\u001b[38;5;124;43m\"\u001b[39;49m\u001b[38;5;124;43mcallbacks\u001b[39;49m\u001b[38;5;124;43m\"\u001b[39;49m\u001b[43m:\u001b[49m\u001b[43m \u001b[49m\u001b[43mcallbacks\u001b[49m\u001b[43m}\u001b[49m\u001b[43m)\u001b[49m\u001b[43m:\u001b[49m\n\u001b[0;32m    466\u001b[0m \u001b[43m        \u001b[49m\u001b[38;5;28;43;01mif\u001b[39;49;00m\u001b[43m \u001b[49m\u001b[43mfinal_output\u001b[49m\u001b[43m \u001b[49m\u001b[38;5;129;43;01mis\u001b[39;49;00m\u001b[43m \u001b[49m\u001b[38;5;28;43;01mNone\u001b[39;49;00m\u001b[43m:\u001b[49m\n\u001b[0;32m    467\u001b[0m \u001b[43m            \u001b[49m\u001b[43mfinal_output\u001b[49m\u001b[43m \u001b[49m\u001b[38;5;241;43m=\u001b[39;49m\u001b[43m \u001b[49m\u001b[43mchunk\u001b[49m\n",
      "File \u001b[1;32mf:\\dev25\\Building-Agentic-AI\\Langgraph_Agent\\venv\\Lib\\site-packages\\langchain_core\\runnables\\base.py:3409\u001b[0m, in \u001b[0;36mRunnableSequence.stream\u001b[1;34m(self, input, config, **kwargs)\u001b[0m\n\u001b[0;32m   3403\u001b[0m \u001b[38;5;28;01mdef\u001b[39;00m\u001b[38;5;250m \u001b[39m\u001b[38;5;21mstream\u001b[39m(\n\u001b[0;32m   3404\u001b[0m     \u001b[38;5;28mself\u001b[39m,\n\u001b[0;32m   3405\u001b[0m     \u001b[38;5;28minput\u001b[39m: Input,\n\u001b[0;32m   3406\u001b[0m     config: Optional[RunnableConfig] \u001b[38;5;241m=\u001b[39m \u001b[38;5;28;01mNone\u001b[39;00m,\n\u001b[0;32m   3407\u001b[0m     \u001b[38;5;241m*\u001b[39m\u001b[38;5;241m*\u001b[39mkwargs: Optional[Any],\n\u001b[0;32m   3408\u001b[0m ) \u001b[38;5;241m-\u001b[39m\u001b[38;5;241m>\u001b[39m Iterator[Output]:\n\u001b[1;32m-> 3409\u001b[0m     \u001b[38;5;28;01myield from\u001b[39;00m \u001b[38;5;28mself\u001b[39m\u001b[38;5;241m.\u001b[39mtransform(\u001b[38;5;28miter\u001b[39m([\u001b[38;5;28minput\u001b[39m]), config, \u001b[38;5;241m*\u001b[39m\u001b[38;5;241m*\u001b[39mkwargs)\n",
      "File \u001b[1;32mf:\\dev25\\Building-Agentic-AI\\Langgraph_Agent\\venv\\Lib\\site-packages\\langchain_core\\runnables\\base.py:3396\u001b[0m, in \u001b[0;36mRunnableSequence.transform\u001b[1;34m(self, input, config, **kwargs)\u001b[0m\n\u001b[0;32m   3390\u001b[0m \u001b[38;5;28;01mdef\u001b[39;00m\u001b[38;5;250m \u001b[39m\u001b[38;5;21mtransform\u001b[39m(\n\u001b[0;32m   3391\u001b[0m     \u001b[38;5;28mself\u001b[39m,\n\u001b[0;32m   3392\u001b[0m     \u001b[38;5;28minput\u001b[39m: Iterator[Input],\n\u001b[0;32m   3393\u001b[0m     config: Optional[RunnableConfig] \u001b[38;5;241m=\u001b[39m \u001b[38;5;28;01mNone\u001b[39;00m,\n\u001b[0;32m   3394\u001b[0m     \u001b[38;5;241m*\u001b[39m\u001b[38;5;241m*\u001b[39mkwargs: Optional[Any],\n\u001b[0;32m   3395\u001b[0m ) \u001b[38;5;241m-\u001b[39m\u001b[38;5;241m>\u001b[39m Iterator[Output]:\n\u001b[1;32m-> 3396\u001b[0m     \u001b[38;5;28;01myield from\u001b[39;00m \u001b[38;5;28mself\u001b[39m\u001b[38;5;241m.\u001b[39m_transform_stream_with_config(\n\u001b[0;32m   3397\u001b[0m         \u001b[38;5;28minput\u001b[39m,\n\u001b[0;32m   3398\u001b[0m         \u001b[38;5;28mself\u001b[39m\u001b[38;5;241m.\u001b[39m_transform,\n\u001b[0;32m   3399\u001b[0m         patch_config(config, run_name\u001b[38;5;241m=\u001b[39m(config \u001b[38;5;129;01mor\u001b[39;00m {})\u001b[38;5;241m.\u001b[39mget(\u001b[38;5;124m\"\u001b[39m\u001b[38;5;124mrun_name\u001b[39m\u001b[38;5;124m\"\u001b[39m) \u001b[38;5;129;01mor\u001b[39;00m \u001b[38;5;28mself\u001b[39m\u001b[38;5;241m.\u001b[39mname),\n\u001b[0;32m   3400\u001b[0m         \u001b[38;5;241m*\u001b[39m\u001b[38;5;241m*\u001b[39mkwargs,\n\u001b[0;32m   3401\u001b[0m     )\n",
      "File \u001b[1;32mf:\\dev25\\Building-Agentic-AI\\Langgraph_Agent\\venv\\Lib\\site-packages\\langchain_core\\runnables\\base.py:2196\u001b[0m, in \u001b[0;36mRunnable._transform_stream_with_config\u001b[1;34m(self, input, transformer, config, run_type, **kwargs)\u001b[0m\n\u001b[0;32m   2194\u001b[0m \u001b[38;5;28;01mtry\u001b[39;00m:\n\u001b[0;32m   2195\u001b[0m     \u001b[38;5;28;01mwhile\u001b[39;00m \u001b[38;5;28;01mTrue\u001b[39;00m:\n\u001b[1;32m-> 2196\u001b[0m         chunk: Output \u001b[38;5;241m=\u001b[39m \u001b[43mcontext\u001b[49m\u001b[38;5;241;43m.\u001b[39;49m\u001b[43mrun\u001b[49m\u001b[43m(\u001b[49m\u001b[38;5;28;43mnext\u001b[39;49m\u001b[43m,\u001b[49m\u001b[43m \u001b[49m\u001b[43miterator\u001b[49m\u001b[43m)\u001b[49m  \u001b[38;5;66;03m# type: ignore\u001b[39;00m\n\u001b[0;32m   2197\u001b[0m         \u001b[38;5;28;01myield\u001b[39;00m chunk\n\u001b[0;32m   2198\u001b[0m         \u001b[38;5;28;01mif\u001b[39;00m final_output_supported:\n",
      "File \u001b[1;32mf:\\dev25\\Building-Agentic-AI\\Langgraph_Agent\\venv\\Lib\\site-packages\\langchain_core\\runnables\\base.py:3359\u001b[0m, in \u001b[0;36mRunnableSequence._transform\u001b[1;34m(self, input, run_manager, config, **kwargs)\u001b[0m\n\u001b[0;32m   3356\u001b[0m     \u001b[38;5;28;01melse\u001b[39;00m:\n\u001b[0;32m   3357\u001b[0m         final_pipeline \u001b[38;5;241m=\u001b[39m step\u001b[38;5;241m.\u001b[39mtransform(final_pipeline, config)\n\u001b[1;32m-> 3359\u001b[0m \u001b[38;5;28;01myield from\u001b[39;00m final_pipeline\n",
      "File \u001b[1;32mf:\\dev25\\Building-Agentic-AI\\Langgraph_Agent\\venv\\Lib\\site-packages\\langchain_core\\runnables\\base.py:1414\u001b[0m, in \u001b[0;36mRunnable.transform\u001b[1;34m(self, input, config, **kwargs)\u001b[0m\n\u001b[0;32m   1411\u001b[0m final: Input\n\u001b[0;32m   1412\u001b[0m got_first_val \u001b[38;5;241m=\u001b[39m \u001b[38;5;28;01mFalse\u001b[39;00m\n\u001b[1;32m-> 1414\u001b[0m \u001b[43m\u001b[49m\u001b[38;5;28;43;01mfor\u001b[39;49;00m\u001b[43m \u001b[49m\u001b[43michunk\u001b[49m\u001b[43m \u001b[49m\u001b[38;5;129;43;01min\u001b[39;49;00m\u001b[43m \u001b[49m\u001b[38;5;28;43minput\u001b[39;49m\u001b[43m:\u001b[49m\n\u001b[0;32m   1415\u001b[0m \u001b[43m    \u001b[49m\u001b[38;5;66;43;03m# The default implementation of transform is to buffer input and\u001b[39;49;00m\n\u001b[0;32m   1416\u001b[0m \u001b[43m    \u001b[49m\u001b[38;5;66;43;03m# then call stream.\u001b[39;49;00m\n\u001b[0;32m   1417\u001b[0m \u001b[43m    \u001b[49m\u001b[38;5;66;43;03m# It'll attempt to gather all input into a single chunk using\u001b[39;49;00m\n\u001b[0;32m   1418\u001b[0m \u001b[43m    \u001b[49m\u001b[38;5;66;43;03m# the `+` operator.\u001b[39;49;00m\n\u001b[0;32m   1419\u001b[0m \u001b[43m    \u001b[49m\u001b[38;5;66;43;03m# If the input is not addable, then we'll assume that we can\u001b[39;49;00m\n\u001b[0;32m   1420\u001b[0m \u001b[43m    \u001b[49m\u001b[38;5;66;43;03m# only operate on the last chunk,\u001b[39;49;00m\n\u001b[0;32m   1421\u001b[0m \u001b[43m    \u001b[49m\u001b[38;5;66;43;03m# and we'll iterate until we get to the last chunk.\u001b[39;49;00m\n\u001b[0;32m   1422\u001b[0m \u001b[43m    \u001b[49m\u001b[38;5;28;43;01mif\u001b[39;49;00m\u001b[43m \u001b[49m\u001b[38;5;129;43;01mnot\u001b[39;49;00m\u001b[43m \u001b[49m\u001b[43mgot_first_val\u001b[49m\u001b[43m:\u001b[49m\n\u001b[0;32m   1423\u001b[0m \u001b[43m        \u001b[49m\u001b[43mfinal\u001b[49m\u001b[43m \u001b[49m\u001b[38;5;241;43m=\u001b[39;49m\u001b[43m \u001b[49m\u001b[43michunk\u001b[49m\n",
      "File \u001b[1;32mf:\\dev25\\Building-Agentic-AI\\Langgraph_Agent\\venv\\Lib\\site-packages\\langchain_core\\runnables\\base.py:5567\u001b[0m, in \u001b[0;36mRunnableBindingBase.transform\u001b[1;34m(self, input, config, **kwargs)\u001b[0m\n\u001b[0;32m   5561\u001b[0m \u001b[38;5;28;01mdef\u001b[39;00m\u001b[38;5;250m \u001b[39m\u001b[38;5;21mtransform\u001b[39m(\n\u001b[0;32m   5562\u001b[0m     \u001b[38;5;28mself\u001b[39m,\n\u001b[0;32m   5563\u001b[0m     \u001b[38;5;28minput\u001b[39m: Iterator[Input],\n\u001b[0;32m   5564\u001b[0m     config: Optional[RunnableConfig] \u001b[38;5;241m=\u001b[39m \u001b[38;5;28;01mNone\u001b[39;00m,\n\u001b[0;32m   5565\u001b[0m     \u001b[38;5;241m*\u001b[39m\u001b[38;5;241m*\u001b[39mkwargs: Any,\n\u001b[0;32m   5566\u001b[0m ) \u001b[38;5;241m-\u001b[39m\u001b[38;5;241m>\u001b[39m Iterator[Output]:\n\u001b[1;32m-> 5567\u001b[0m     \u001b[38;5;28;01myield from\u001b[39;00m \u001b[38;5;28mself\u001b[39m\u001b[38;5;241m.\u001b[39mbound\u001b[38;5;241m.\u001b[39mtransform(\n\u001b[0;32m   5568\u001b[0m         \u001b[38;5;28minput\u001b[39m,\n\u001b[0;32m   5569\u001b[0m         \u001b[38;5;28mself\u001b[39m\u001b[38;5;241m.\u001b[39m_merge_configs(config),\n\u001b[0;32m   5570\u001b[0m         \u001b[38;5;241m*\u001b[39m\u001b[38;5;241m*\u001b[39m{\u001b[38;5;241m*\u001b[39m\u001b[38;5;241m*\u001b[39m\u001b[38;5;28mself\u001b[39m\u001b[38;5;241m.\u001b[39mkwargs, \u001b[38;5;241m*\u001b[39m\u001b[38;5;241m*\u001b[39mkwargs},\n\u001b[0;32m   5571\u001b[0m     )\n",
      "File \u001b[1;32mf:\\dev25\\Building-Agentic-AI\\Langgraph_Agent\\venv\\Lib\\site-packages\\langchain_core\\runnables\\base.py:1432\u001b[0m, in \u001b[0;36mRunnable.transform\u001b[1;34m(self, input, config, **kwargs)\u001b[0m\n\u001b[0;32m   1429\u001b[0m             final \u001b[38;5;241m=\u001b[39m ichunk\n\u001b[0;32m   1431\u001b[0m \u001b[38;5;28;01mif\u001b[39;00m got_first_val:\n\u001b[1;32m-> 1432\u001b[0m     \u001b[38;5;28;01myield from\u001b[39;00m \u001b[38;5;28mself\u001b[39m\u001b[38;5;241m.\u001b[39mstream(final, config, \u001b[38;5;241m*\u001b[39m\u001b[38;5;241m*\u001b[39mkwargs)\n",
      "File \u001b[1;32mf:\\dev25\\Building-Agentic-AI\\Langgraph_Agent\\venv\\Lib\\site-packages\\langchain_core\\language_models\\chat_models.py:415\u001b[0m, in \u001b[0;36mBaseChatModel.stream\u001b[1;34m(self, input, config, stop, **kwargs)\u001b[0m\n\u001b[0;32m    412\u001b[0m     \u001b[38;5;28mself\u001b[39m\u001b[38;5;241m.\u001b[39mrate_limiter\u001b[38;5;241m.\u001b[39macquire(blocking\u001b[38;5;241m=\u001b[39m\u001b[38;5;28;01mTrue\u001b[39;00m)\n\u001b[0;32m    414\u001b[0m \u001b[38;5;28;01mtry\u001b[39;00m:\n\u001b[1;32m--> 415\u001b[0m \u001b[43m    \u001b[49m\u001b[38;5;28;43;01mfor\u001b[39;49;00m\u001b[43m \u001b[49m\u001b[43mchunk\u001b[49m\u001b[43m \u001b[49m\u001b[38;5;129;43;01min\u001b[39;49;00m\u001b[43m \u001b[49m\u001b[38;5;28;43mself\u001b[39;49m\u001b[38;5;241;43m.\u001b[39;49m\u001b[43m_stream\u001b[49m\u001b[43m(\u001b[49m\u001b[43mmessages\u001b[49m\u001b[43m,\u001b[49m\u001b[43m \u001b[49m\u001b[43mstop\u001b[49m\u001b[38;5;241;43m=\u001b[39;49m\u001b[43mstop\u001b[49m\u001b[43m,\u001b[49m\u001b[43m \u001b[49m\u001b[38;5;241;43m*\u001b[39;49m\u001b[38;5;241;43m*\u001b[39;49m\u001b[43mkwargs\u001b[49m\u001b[43m)\u001b[49m\u001b[43m:\u001b[49m\n\u001b[0;32m    416\u001b[0m \u001b[43m        \u001b[49m\u001b[38;5;28;43;01mif\u001b[39;49;00m\u001b[43m \u001b[49m\u001b[43mchunk\u001b[49m\u001b[38;5;241;43m.\u001b[39;49m\u001b[43mmessage\u001b[49m\u001b[38;5;241;43m.\u001b[39;49m\u001b[43mid\u001b[49m\u001b[43m \u001b[49m\u001b[38;5;129;43;01mis\u001b[39;49;00m\u001b[43m \u001b[49m\u001b[38;5;28;43;01mNone\u001b[39;49;00m\u001b[43m:\u001b[49m\n\u001b[0;32m    417\u001b[0m \u001b[43m            \u001b[49m\u001b[43mchunk\u001b[49m\u001b[38;5;241;43m.\u001b[39;49m\u001b[43mmessage\u001b[49m\u001b[38;5;241;43m.\u001b[39;49m\u001b[43mid\u001b[49m\u001b[43m \u001b[49m\u001b[38;5;241;43m=\u001b[39;49m\u001b[43m \u001b[49m\u001b[38;5;124;43mf\u001b[39;49m\u001b[38;5;124;43m\"\u001b[39;49m\u001b[38;5;124;43mrun-\u001b[39;49m\u001b[38;5;132;43;01m{\u001b[39;49;00m\u001b[43mrun_manager\u001b[49m\u001b[38;5;241;43m.\u001b[39;49m\u001b[43mrun_id\u001b[49m\u001b[38;5;132;43;01m}\u001b[39;49;00m\u001b[38;5;124;43m\"\u001b[39;49m\n",
      "File \u001b[1;32mf:\\dev25\\Building-Agentic-AI\\Langgraph_Agent\\venv\\Lib\\site-packages\\langchain_google_genai\\chat_models.py:1044\u001b[0m, in \u001b[0;36mChatGoogleGenerativeAI._stream\u001b[1;34m(self, messages, stop, run_manager, tools, functions, safety_settings, tool_config, generation_config, cached_content, tool_choice, **kwargs)\u001b[0m\n\u001b[0;32m   1018\u001b[0m \u001b[38;5;28;01mdef\u001b[39;00m\u001b[38;5;250m \u001b[39m\u001b[38;5;21m_stream\u001b[39m(\n\u001b[0;32m   1019\u001b[0m     \u001b[38;5;28mself\u001b[39m,\n\u001b[0;32m   1020\u001b[0m     messages: List[BaseMessage],\n\u001b[1;32m   (...)\u001b[0m\n\u001b[0;32m   1031\u001b[0m     \u001b[38;5;241m*\u001b[39m\u001b[38;5;241m*\u001b[39mkwargs: Any,\n\u001b[0;32m   1032\u001b[0m ) \u001b[38;5;241m-\u001b[39m\u001b[38;5;241m>\u001b[39m Iterator[ChatGenerationChunk]:\n\u001b[0;32m   1033\u001b[0m     request \u001b[38;5;241m=\u001b[39m \u001b[38;5;28mself\u001b[39m\u001b[38;5;241m.\u001b[39m_prepare_request(\n\u001b[0;32m   1034\u001b[0m         messages,\n\u001b[0;32m   1035\u001b[0m         stop\u001b[38;5;241m=\u001b[39mstop,\n\u001b[1;32m   (...)\u001b[0m\n\u001b[0;32m   1042\u001b[0m         tool_choice\u001b[38;5;241m=\u001b[39mtool_choice,\n\u001b[0;32m   1043\u001b[0m     )\n\u001b[1;32m-> 1044\u001b[0m     response: GenerateContentResponse \u001b[38;5;241m=\u001b[39m \u001b[43m_chat_with_retry\u001b[49m\u001b[43m(\u001b[49m\n\u001b[0;32m   1045\u001b[0m \u001b[43m        \u001b[49m\u001b[43mrequest\u001b[49m\u001b[38;5;241;43m=\u001b[39;49m\u001b[43mrequest\u001b[49m\u001b[43m,\u001b[49m\n\u001b[0;32m   1046\u001b[0m \u001b[43m        \u001b[49m\u001b[43mgeneration_method\u001b[49m\u001b[38;5;241;43m=\u001b[39;49m\u001b[38;5;28;43mself\u001b[39;49m\u001b[38;5;241;43m.\u001b[39;49m\u001b[43mclient\u001b[49m\u001b[38;5;241;43m.\u001b[39;49m\u001b[43mstream_generate_content\u001b[49m\u001b[43m,\u001b[49m\n\u001b[0;32m   1047\u001b[0m \u001b[43m        \u001b[49m\u001b[38;5;241;43m*\u001b[39;49m\u001b[38;5;241;43m*\u001b[39;49m\u001b[43mkwargs\u001b[49m\u001b[43m,\u001b[49m\n\u001b[0;32m   1048\u001b[0m \u001b[43m        \u001b[49m\u001b[43mmetadata\u001b[49m\u001b[38;5;241;43m=\u001b[39;49m\u001b[38;5;28;43mself\u001b[39;49m\u001b[38;5;241;43m.\u001b[39;49m\u001b[43mdefault_metadata\u001b[49m\u001b[43m,\u001b[49m\n\u001b[0;32m   1049\u001b[0m \u001b[43m    \u001b[49m\u001b[43m)\u001b[49m\n\u001b[0;32m   1051\u001b[0m     prev_usage_metadata: UsageMetadata \u001b[38;5;241m|\u001b[39m \u001b[38;5;28;01mNone\u001b[39;00m \u001b[38;5;241m=\u001b[39m \u001b[38;5;28;01mNone\u001b[39;00m\n\u001b[0;32m   1052\u001b[0m     \u001b[38;5;28;01mfor\u001b[39;00m chunk \u001b[38;5;129;01min\u001b[39;00m response:\n",
      "File \u001b[1;32mf:\\dev25\\Building-Agentic-AI\\Langgraph_Agent\\venv\\Lib\\site-packages\\langchain_google_genai\\chat_models.py:196\u001b[0m, in \u001b[0;36m_chat_with_retry\u001b[1;34m(generation_method, **kwargs)\u001b[0m\n\u001b[0;32m    193\u001b[0m     \u001b[38;5;28;01mexcept\u001b[39;00m \u001b[38;5;167;01mException\u001b[39;00m \u001b[38;5;28;01mas\u001b[39;00m e:\n\u001b[0;32m    194\u001b[0m         \u001b[38;5;28;01mraise\u001b[39;00m e\n\u001b[1;32m--> 196\u001b[0m \u001b[38;5;28;01mreturn\u001b[39;00m \u001b[43m_chat_with_retry\u001b[49m\u001b[43m(\u001b[49m\u001b[38;5;241;43m*\u001b[39;49m\u001b[38;5;241;43m*\u001b[39;49m\u001b[43mkwargs\u001b[49m\u001b[43m)\u001b[49m\n",
      "File \u001b[1;32mf:\\dev25\\Building-Agentic-AI\\Langgraph_Agent\\venv\\Lib\\site-packages\\tenacity\\__init__.py:336\u001b[0m, in \u001b[0;36mBaseRetrying.wraps.<locals>.wrapped_f\u001b[1;34m(*args, **kw)\u001b[0m\n\u001b[0;32m    334\u001b[0m copy \u001b[38;5;241m=\u001b[39m \u001b[38;5;28mself\u001b[39m\u001b[38;5;241m.\u001b[39mcopy()\n\u001b[0;32m    335\u001b[0m wrapped_f\u001b[38;5;241m.\u001b[39mstatistics \u001b[38;5;241m=\u001b[39m copy\u001b[38;5;241m.\u001b[39mstatistics  \u001b[38;5;66;03m# type: ignore[attr-defined]\u001b[39;00m\n\u001b[1;32m--> 336\u001b[0m \u001b[38;5;28;01mreturn\u001b[39;00m \u001b[43mcopy\u001b[49m\u001b[43m(\u001b[49m\u001b[43mf\u001b[49m\u001b[43m,\u001b[49m\u001b[43m \u001b[49m\u001b[38;5;241;43m*\u001b[39;49m\u001b[43margs\u001b[49m\u001b[43m,\u001b[49m\u001b[43m \u001b[49m\u001b[38;5;241;43m*\u001b[39;49m\u001b[38;5;241;43m*\u001b[39;49m\u001b[43mkw\u001b[49m\u001b[43m)\u001b[49m\n",
      "File \u001b[1;32mf:\\dev25\\Building-Agentic-AI\\Langgraph_Agent\\venv\\Lib\\site-packages\\tenacity\\__init__.py:475\u001b[0m, in \u001b[0;36mRetrying.__call__\u001b[1;34m(self, fn, *args, **kwargs)\u001b[0m\n\u001b[0;32m    473\u001b[0m retry_state \u001b[38;5;241m=\u001b[39m RetryCallState(retry_object\u001b[38;5;241m=\u001b[39m\u001b[38;5;28mself\u001b[39m, fn\u001b[38;5;241m=\u001b[39mfn, args\u001b[38;5;241m=\u001b[39margs, kwargs\u001b[38;5;241m=\u001b[39mkwargs)\n\u001b[0;32m    474\u001b[0m \u001b[38;5;28;01mwhile\u001b[39;00m \u001b[38;5;28;01mTrue\u001b[39;00m:\n\u001b[1;32m--> 475\u001b[0m     do \u001b[38;5;241m=\u001b[39m \u001b[38;5;28;43mself\u001b[39;49m\u001b[38;5;241;43m.\u001b[39;49m\u001b[43miter\u001b[49m\u001b[43m(\u001b[49m\u001b[43mretry_state\u001b[49m\u001b[38;5;241;43m=\u001b[39;49m\u001b[43mretry_state\u001b[49m\u001b[43m)\u001b[49m\n\u001b[0;32m    476\u001b[0m     \u001b[38;5;28;01mif\u001b[39;00m \u001b[38;5;28misinstance\u001b[39m(do, DoAttempt):\n\u001b[0;32m    477\u001b[0m         \u001b[38;5;28;01mtry\u001b[39;00m:\n",
      "File \u001b[1;32mf:\\dev25\\Building-Agentic-AI\\Langgraph_Agent\\venv\\Lib\\site-packages\\tenacity\\__init__.py:376\u001b[0m, in \u001b[0;36mBaseRetrying.iter\u001b[1;34m(self, retry_state)\u001b[0m\n\u001b[0;32m    374\u001b[0m result \u001b[38;5;241m=\u001b[39m \u001b[38;5;28;01mNone\u001b[39;00m\n\u001b[0;32m    375\u001b[0m \u001b[38;5;28;01mfor\u001b[39;00m action \u001b[38;5;129;01min\u001b[39;00m \u001b[38;5;28mself\u001b[39m\u001b[38;5;241m.\u001b[39miter_state\u001b[38;5;241m.\u001b[39mactions:\n\u001b[1;32m--> 376\u001b[0m     result \u001b[38;5;241m=\u001b[39m \u001b[43maction\u001b[49m\u001b[43m(\u001b[49m\u001b[43mretry_state\u001b[49m\u001b[43m)\u001b[49m\n\u001b[0;32m    377\u001b[0m \u001b[38;5;28;01mreturn\u001b[39;00m result\n",
      "File \u001b[1;32mf:\\dev25\\Building-Agentic-AI\\Langgraph_Agent\\venv\\Lib\\site-packages\\tenacity\\__init__.py:418\u001b[0m, in \u001b[0;36mBaseRetrying._post_stop_check_actions.<locals>.exc_check\u001b[1;34m(rs)\u001b[0m\n\u001b[0;32m    416\u001b[0m retry_exc \u001b[38;5;241m=\u001b[39m \u001b[38;5;28mself\u001b[39m\u001b[38;5;241m.\u001b[39mretry_error_cls(fut)\n\u001b[0;32m    417\u001b[0m \u001b[38;5;28;01mif\u001b[39;00m \u001b[38;5;28mself\u001b[39m\u001b[38;5;241m.\u001b[39mreraise:\n\u001b[1;32m--> 418\u001b[0m     \u001b[38;5;28;01mraise\u001b[39;00m \u001b[43mretry_exc\u001b[49m\u001b[38;5;241;43m.\u001b[39;49m\u001b[43mreraise\u001b[49m\u001b[43m(\u001b[49m\u001b[43m)\u001b[49m\n\u001b[0;32m    419\u001b[0m \u001b[38;5;28;01mraise\u001b[39;00m retry_exc \u001b[38;5;28;01mfrom\u001b[39;00m\u001b[38;5;250m \u001b[39m\u001b[38;5;21;01mfut\u001b[39;00m\u001b[38;5;21;01m.\u001b[39;00m\u001b[38;5;21;01mexception\u001b[39;00m()\n",
      "File \u001b[1;32mf:\\dev25\\Building-Agentic-AI\\Langgraph_Agent\\venv\\Lib\\site-packages\\tenacity\\__init__.py:185\u001b[0m, in \u001b[0;36mRetryError.reraise\u001b[1;34m(self)\u001b[0m\n\u001b[0;32m    183\u001b[0m \u001b[38;5;28;01mdef\u001b[39;00m\u001b[38;5;250m \u001b[39m\u001b[38;5;21mreraise\u001b[39m(\u001b[38;5;28mself\u001b[39m) \u001b[38;5;241m-\u001b[39m\u001b[38;5;241m>\u001b[39m t\u001b[38;5;241m.\u001b[39mNoReturn:\n\u001b[0;32m    184\u001b[0m     \u001b[38;5;28;01mif\u001b[39;00m \u001b[38;5;28mself\u001b[39m\u001b[38;5;241m.\u001b[39mlast_attempt\u001b[38;5;241m.\u001b[39mfailed:\n\u001b[1;32m--> 185\u001b[0m         \u001b[38;5;28;01mraise\u001b[39;00m \u001b[38;5;28;43mself\u001b[39;49m\u001b[38;5;241;43m.\u001b[39;49m\u001b[43mlast_attempt\u001b[49m\u001b[38;5;241;43m.\u001b[39;49m\u001b[43mresult\u001b[49m\u001b[43m(\u001b[49m\u001b[43m)\u001b[49m\n\u001b[0;32m    186\u001b[0m     \u001b[38;5;28;01mraise\u001b[39;00m \u001b[38;5;28mself\u001b[39m\n",
      "File \u001b[1;32mf:\\dev25\\Building-Agentic-AI\\Langgraph_Agent\\venv\\Lib\\concurrent\\futures\\_base.py:449\u001b[0m, in \u001b[0;36mFuture.result\u001b[1;34m(self, timeout)\u001b[0m\n\u001b[0;32m    447\u001b[0m     \u001b[38;5;28;01mraise\u001b[39;00m CancelledError()\n\u001b[0;32m    448\u001b[0m \u001b[38;5;28;01melif\u001b[39;00m \u001b[38;5;28mself\u001b[39m\u001b[38;5;241m.\u001b[39m_state \u001b[38;5;241m==\u001b[39m FINISHED:\n\u001b[1;32m--> 449\u001b[0m     \u001b[38;5;28;01mreturn\u001b[39;00m \u001b[38;5;28;43mself\u001b[39;49m\u001b[38;5;241;43m.\u001b[39;49m\u001b[43m__get_result\u001b[49m\u001b[43m(\u001b[49m\u001b[43m)\u001b[49m\n\u001b[0;32m    451\u001b[0m \u001b[38;5;28mself\u001b[39m\u001b[38;5;241m.\u001b[39m_condition\u001b[38;5;241m.\u001b[39mwait(timeout)\n\u001b[0;32m    453\u001b[0m \u001b[38;5;28;01mif\u001b[39;00m \u001b[38;5;28mself\u001b[39m\u001b[38;5;241m.\u001b[39m_state \u001b[38;5;129;01min\u001b[39;00m [CANCELLED, CANCELLED_AND_NOTIFIED]:\n",
      "File \u001b[1;32mf:\\dev25\\Building-Agentic-AI\\Langgraph_Agent\\venv\\Lib\\concurrent\\futures\\_base.py:401\u001b[0m, in \u001b[0;36mFuture.__get_result\u001b[1;34m(self)\u001b[0m\n\u001b[0;32m    399\u001b[0m \u001b[38;5;28;01mif\u001b[39;00m \u001b[38;5;28mself\u001b[39m\u001b[38;5;241m.\u001b[39m_exception:\n\u001b[0;32m    400\u001b[0m     \u001b[38;5;28;01mtry\u001b[39;00m:\n\u001b[1;32m--> 401\u001b[0m         \u001b[38;5;28;01mraise\u001b[39;00m \u001b[38;5;28mself\u001b[39m\u001b[38;5;241m.\u001b[39m_exception\n\u001b[0;32m    402\u001b[0m     \u001b[38;5;28;01mfinally\u001b[39;00m:\n\u001b[0;32m    403\u001b[0m         \u001b[38;5;66;03m# Break a reference cycle with the exception in self._exception\u001b[39;00m\n\u001b[0;32m    404\u001b[0m         \u001b[38;5;28mself\u001b[39m \u001b[38;5;241m=\u001b[39m \u001b[38;5;28;01mNone\u001b[39;00m\n",
      "File \u001b[1;32mf:\\dev25\\Building-Agentic-AI\\Langgraph_Agent\\venv\\Lib\\site-packages\\tenacity\\__init__.py:478\u001b[0m, in \u001b[0;36mRetrying.__call__\u001b[1;34m(self, fn, *args, **kwargs)\u001b[0m\n\u001b[0;32m    476\u001b[0m \u001b[38;5;28;01mif\u001b[39;00m \u001b[38;5;28misinstance\u001b[39m(do, DoAttempt):\n\u001b[0;32m    477\u001b[0m     \u001b[38;5;28;01mtry\u001b[39;00m:\n\u001b[1;32m--> 478\u001b[0m         result \u001b[38;5;241m=\u001b[39m \u001b[43mfn\u001b[49m\u001b[43m(\u001b[49m\u001b[38;5;241;43m*\u001b[39;49m\u001b[43margs\u001b[49m\u001b[43m,\u001b[49m\u001b[43m \u001b[49m\u001b[38;5;241;43m*\u001b[39;49m\u001b[38;5;241;43m*\u001b[39;49m\u001b[43mkwargs\u001b[49m\u001b[43m)\u001b[49m\n\u001b[0;32m    479\u001b[0m     \u001b[38;5;28;01mexcept\u001b[39;00m \u001b[38;5;167;01mBaseException\u001b[39;00m:  \u001b[38;5;66;03m# noqa: B902\u001b[39;00m\n\u001b[0;32m    480\u001b[0m         retry_state\u001b[38;5;241m.\u001b[39mset_exception(sys\u001b[38;5;241m.\u001b[39mexc_info())  \u001b[38;5;66;03m# type: ignore[arg-type]\u001b[39;00m\n",
      "File \u001b[1;32mf:\\dev25\\Building-Agentic-AI\\Langgraph_Agent\\venv\\Lib\\site-packages\\langchain_google_genai\\chat_models.py:194\u001b[0m, in \u001b[0;36m_chat_with_retry.<locals>._chat_with_retry\u001b[1;34m(**kwargs)\u001b[0m\n\u001b[0;32m    190\u001b[0m     \u001b[38;5;28;01mraise\u001b[39;00m ChatGoogleGenerativeAIError(\n\u001b[0;32m    191\u001b[0m         \u001b[38;5;124mf\u001b[39m\u001b[38;5;124m\"\u001b[39m\u001b[38;5;124mInvalid argument provided to Gemini: \u001b[39m\u001b[38;5;132;01m{\u001b[39;00me\u001b[38;5;132;01m}\u001b[39;00m\u001b[38;5;124m\"\u001b[39m\n\u001b[0;32m    192\u001b[0m     ) \u001b[38;5;28;01mfrom\u001b[39;00m\u001b[38;5;250m \u001b[39m\u001b[38;5;21;01me\u001b[39;00m\n\u001b[0;32m    193\u001b[0m \u001b[38;5;28;01mexcept\u001b[39;00m \u001b[38;5;167;01mException\u001b[39;00m \u001b[38;5;28;01mas\u001b[39;00m e:\n\u001b[1;32m--> 194\u001b[0m     \u001b[38;5;28;01mraise\u001b[39;00m e\n",
      "File \u001b[1;32mf:\\dev25\\Building-Agentic-AI\\Langgraph_Agent\\venv\\Lib\\site-packages\\langchain_google_genai\\chat_models.py:178\u001b[0m, in \u001b[0;36m_chat_with_retry.<locals>._chat_with_retry\u001b[1;34m(**kwargs)\u001b[0m\n\u001b[0;32m    175\u001b[0m \u001b[38;5;129m@retry_decorator\u001b[39m\n\u001b[0;32m    176\u001b[0m \u001b[38;5;28;01mdef\u001b[39;00m\u001b[38;5;250m \u001b[39m\u001b[38;5;21m_chat_with_retry\u001b[39m(\u001b[38;5;241m*\u001b[39m\u001b[38;5;241m*\u001b[39mkwargs: Any) \u001b[38;5;241m-\u001b[39m\u001b[38;5;241m>\u001b[39m Any:\n\u001b[0;32m    177\u001b[0m     \u001b[38;5;28;01mtry\u001b[39;00m:\n\u001b[1;32m--> 178\u001b[0m         \u001b[38;5;28;01mreturn\u001b[39;00m \u001b[43mgeneration_method\u001b[49m\u001b[43m(\u001b[49m\u001b[38;5;241;43m*\u001b[39;49m\u001b[38;5;241;43m*\u001b[39;49m\u001b[43mkwargs\u001b[49m\u001b[43m)\u001b[49m\n\u001b[0;32m    179\u001b[0m     \u001b[38;5;66;03m# Do not retry for these errors.\u001b[39;00m\n\u001b[0;32m    180\u001b[0m     \u001b[38;5;28;01mexcept\u001b[39;00m google\u001b[38;5;241m.\u001b[39mapi_core\u001b[38;5;241m.\u001b[39mexceptions\u001b[38;5;241m.\u001b[39mFailedPrecondition \u001b[38;5;28;01mas\u001b[39;00m exc:\n",
      "File \u001b[1;32mf:\\dev25\\Building-Agentic-AI\\Langgraph_Agent\\venv\\Lib\\site-packages\\google\\ai\\generativelanguage_v1beta\\services\\generative_service\\client.py:1143\u001b[0m, in \u001b[0;36mGenerativeServiceClient.stream_generate_content\u001b[1;34m(self, request, model, contents, retry, timeout, metadata)\u001b[0m\n\u001b[0;32m   1140\u001b[0m \u001b[38;5;28mself\u001b[39m\u001b[38;5;241m.\u001b[39m_validate_universe_domain()\n\u001b[0;32m   1142\u001b[0m \u001b[38;5;66;03m# Send the request.\u001b[39;00m\n\u001b[1;32m-> 1143\u001b[0m response \u001b[38;5;241m=\u001b[39m \u001b[43mrpc\u001b[49m\u001b[43m(\u001b[49m\n\u001b[0;32m   1144\u001b[0m \u001b[43m    \u001b[49m\u001b[43mrequest\u001b[49m\u001b[43m,\u001b[49m\n\u001b[0;32m   1145\u001b[0m \u001b[43m    \u001b[49m\u001b[43mretry\u001b[49m\u001b[38;5;241;43m=\u001b[39;49m\u001b[43mretry\u001b[49m\u001b[43m,\u001b[49m\n\u001b[0;32m   1146\u001b[0m \u001b[43m    \u001b[49m\u001b[43mtimeout\u001b[49m\u001b[38;5;241;43m=\u001b[39;49m\u001b[43mtimeout\u001b[49m\u001b[43m,\u001b[49m\n\u001b[0;32m   1147\u001b[0m \u001b[43m    \u001b[49m\u001b[43mmetadata\u001b[49m\u001b[38;5;241;43m=\u001b[39;49m\u001b[43mmetadata\u001b[49m\u001b[43m,\u001b[49m\n\u001b[0;32m   1148\u001b[0m \u001b[43m\u001b[49m\u001b[43m)\u001b[49m\n\u001b[0;32m   1150\u001b[0m \u001b[38;5;66;03m# Done; return the response.\u001b[39;00m\n\u001b[0;32m   1151\u001b[0m \u001b[38;5;28;01mreturn\u001b[39;00m response\n",
      "File \u001b[1;32mf:\\dev25\\Building-Agentic-AI\\Langgraph_Agent\\venv\\Lib\\site-packages\\google\\api_core\\gapic_v1\\method.py:131\u001b[0m, in \u001b[0;36m_GapicCallable.__call__\u001b[1;34m(self, timeout, retry, compression, *args, **kwargs)\u001b[0m\n\u001b[0;32m    128\u001b[0m \u001b[38;5;28;01mif\u001b[39;00m \u001b[38;5;28mself\u001b[39m\u001b[38;5;241m.\u001b[39m_compression \u001b[38;5;129;01mis\u001b[39;00m \u001b[38;5;129;01mnot\u001b[39;00m \u001b[38;5;28;01mNone\u001b[39;00m:\n\u001b[0;32m    129\u001b[0m     kwargs[\u001b[38;5;124m\"\u001b[39m\u001b[38;5;124mcompression\u001b[39m\u001b[38;5;124m\"\u001b[39m] \u001b[38;5;241m=\u001b[39m compression\n\u001b[1;32m--> 131\u001b[0m \u001b[38;5;28;01mreturn\u001b[39;00m \u001b[43mwrapped_func\u001b[49m\u001b[43m(\u001b[49m\u001b[38;5;241;43m*\u001b[39;49m\u001b[43margs\u001b[49m\u001b[43m,\u001b[49m\u001b[43m \u001b[49m\u001b[38;5;241;43m*\u001b[39;49m\u001b[38;5;241;43m*\u001b[39;49m\u001b[43mkwargs\u001b[49m\u001b[43m)\u001b[49m\n",
      "File \u001b[1;32mf:\\dev25\\Building-Agentic-AI\\Langgraph_Agent\\venv\\Lib\\site-packages\\google\\api_core\\retry\\retry_unary.py:293\u001b[0m, in \u001b[0;36mRetry.__call__.<locals>.retry_wrapped_func\u001b[1;34m(*args, **kwargs)\u001b[0m\n\u001b[0;32m    289\u001b[0m target \u001b[38;5;241m=\u001b[39m functools\u001b[38;5;241m.\u001b[39mpartial(func, \u001b[38;5;241m*\u001b[39margs, \u001b[38;5;241m*\u001b[39m\u001b[38;5;241m*\u001b[39mkwargs)\n\u001b[0;32m    290\u001b[0m sleep_generator \u001b[38;5;241m=\u001b[39m exponential_sleep_generator(\n\u001b[0;32m    291\u001b[0m     \u001b[38;5;28mself\u001b[39m\u001b[38;5;241m.\u001b[39m_initial, \u001b[38;5;28mself\u001b[39m\u001b[38;5;241m.\u001b[39m_maximum, multiplier\u001b[38;5;241m=\u001b[39m\u001b[38;5;28mself\u001b[39m\u001b[38;5;241m.\u001b[39m_multiplier\n\u001b[0;32m    292\u001b[0m )\n\u001b[1;32m--> 293\u001b[0m \u001b[38;5;28;01mreturn\u001b[39;00m \u001b[43mretry_target\u001b[49m\u001b[43m(\u001b[49m\n\u001b[0;32m    294\u001b[0m \u001b[43m    \u001b[49m\u001b[43mtarget\u001b[49m\u001b[43m,\u001b[49m\n\u001b[0;32m    295\u001b[0m \u001b[43m    \u001b[49m\u001b[38;5;28;43mself\u001b[39;49m\u001b[38;5;241;43m.\u001b[39;49m\u001b[43m_predicate\u001b[49m\u001b[43m,\u001b[49m\n\u001b[0;32m    296\u001b[0m \u001b[43m    \u001b[49m\u001b[43msleep_generator\u001b[49m\u001b[43m,\u001b[49m\n\u001b[0;32m    297\u001b[0m \u001b[43m    \u001b[49m\u001b[43mtimeout\u001b[49m\u001b[38;5;241;43m=\u001b[39;49m\u001b[38;5;28;43mself\u001b[39;49m\u001b[38;5;241;43m.\u001b[39;49m\u001b[43m_timeout\u001b[49m\u001b[43m,\u001b[49m\n\u001b[0;32m    298\u001b[0m \u001b[43m    \u001b[49m\u001b[43mon_error\u001b[49m\u001b[38;5;241;43m=\u001b[39;49m\u001b[43mon_error\u001b[49m\u001b[43m,\u001b[49m\n\u001b[0;32m    299\u001b[0m \u001b[43m\u001b[49m\u001b[43m)\u001b[49m\n",
      "File \u001b[1;32mf:\\dev25\\Building-Agentic-AI\\Langgraph_Agent\\venv\\Lib\\site-packages\\google\\api_core\\retry\\retry_unary.py:153\u001b[0m, in \u001b[0;36mretry_target\u001b[1;34m(target, predicate, sleep_generator, timeout, on_error, exception_factory, **kwargs)\u001b[0m\n\u001b[0;32m    149\u001b[0m \u001b[38;5;66;03m# pylint: disable=broad-except\u001b[39;00m\n\u001b[0;32m    150\u001b[0m \u001b[38;5;66;03m# This function explicitly must deal with broad exceptions.\u001b[39;00m\n\u001b[0;32m    151\u001b[0m \u001b[38;5;28;01mexcept\u001b[39;00m \u001b[38;5;167;01mException\u001b[39;00m \u001b[38;5;28;01mas\u001b[39;00m exc:\n\u001b[0;32m    152\u001b[0m     \u001b[38;5;66;03m# defer to shared logic for handling errors\u001b[39;00m\n\u001b[1;32m--> 153\u001b[0m     \u001b[43m_retry_error_helper\u001b[49m\u001b[43m(\u001b[49m\n\u001b[0;32m    154\u001b[0m \u001b[43m        \u001b[49m\u001b[43mexc\u001b[49m\u001b[43m,\u001b[49m\n\u001b[0;32m    155\u001b[0m \u001b[43m        \u001b[49m\u001b[43mdeadline\u001b[49m\u001b[43m,\u001b[49m\n\u001b[0;32m    156\u001b[0m \u001b[43m        \u001b[49m\u001b[43msleep\u001b[49m\u001b[43m,\u001b[49m\n\u001b[0;32m    157\u001b[0m \u001b[43m        \u001b[49m\u001b[43merror_list\u001b[49m\u001b[43m,\u001b[49m\n\u001b[0;32m    158\u001b[0m \u001b[43m        \u001b[49m\u001b[43mpredicate\u001b[49m\u001b[43m,\u001b[49m\n\u001b[0;32m    159\u001b[0m \u001b[43m        \u001b[49m\u001b[43mon_error\u001b[49m\u001b[43m,\u001b[49m\n\u001b[0;32m    160\u001b[0m \u001b[43m        \u001b[49m\u001b[43mexception_factory\u001b[49m\u001b[43m,\u001b[49m\n\u001b[0;32m    161\u001b[0m \u001b[43m        \u001b[49m\u001b[43mtimeout\u001b[49m\u001b[43m,\u001b[49m\n\u001b[0;32m    162\u001b[0m \u001b[43m    \u001b[49m\u001b[43m)\u001b[49m\n\u001b[0;32m    163\u001b[0m     \u001b[38;5;66;03m# if exception not raised, sleep before next attempt\u001b[39;00m\n\u001b[0;32m    164\u001b[0m     time\u001b[38;5;241m.\u001b[39msleep(sleep)\n",
      "File \u001b[1;32mf:\\dev25\\Building-Agentic-AI\\Langgraph_Agent\\venv\\Lib\\site-packages\\google\\api_core\\retry\\retry_base.py:212\u001b[0m, in \u001b[0;36m_retry_error_helper\u001b[1;34m(exc, deadline, next_sleep, error_list, predicate_fn, on_error_fn, exc_factory_fn, original_timeout)\u001b[0m\n\u001b[0;32m    206\u001b[0m \u001b[38;5;28;01mif\u001b[39;00m \u001b[38;5;129;01mnot\u001b[39;00m predicate_fn(exc):\n\u001b[0;32m    207\u001b[0m     final_exc, source_exc \u001b[38;5;241m=\u001b[39m exc_factory_fn(\n\u001b[0;32m    208\u001b[0m         error_list,\n\u001b[0;32m    209\u001b[0m         RetryFailureReason\u001b[38;5;241m.\u001b[39mNON_RETRYABLE_ERROR,\n\u001b[0;32m    210\u001b[0m         original_timeout,\n\u001b[0;32m    211\u001b[0m     )\n\u001b[1;32m--> 212\u001b[0m     \u001b[38;5;28;01mraise\u001b[39;00m final_exc \u001b[38;5;28;01mfrom\u001b[39;00m\u001b[38;5;250m \u001b[39m\u001b[38;5;21;01msource_exc\u001b[39;00m\n\u001b[0;32m    213\u001b[0m \u001b[38;5;28;01mif\u001b[39;00m on_error_fn \u001b[38;5;129;01mis\u001b[39;00m \u001b[38;5;129;01mnot\u001b[39;00m \u001b[38;5;28;01mNone\u001b[39;00m:\n\u001b[0;32m    214\u001b[0m     on_error_fn(exc)\n",
      "File \u001b[1;32mf:\\dev25\\Building-Agentic-AI\\Langgraph_Agent\\venv\\Lib\\site-packages\\google\\api_core\\retry\\retry_unary.py:144\u001b[0m, in \u001b[0;36mretry_target\u001b[1;34m(target, predicate, sleep_generator, timeout, on_error, exception_factory, **kwargs)\u001b[0m\n\u001b[0;32m    142\u001b[0m \u001b[38;5;28;01mfor\u001b[39;00m sleep \u001b[38;5;129;01min\u001b[39;00m sleep_generator:\n\u001b[0;32m    143\u001b[0m     \u001b[38;5;28;01mtry\u001b[39;00m:\n\u001b[1;32m--> 144\u001b[0m         result \u001b[38;5;241m=\u001b[39m \u001b[43mtarget\u001b[49m\u001b[43m(\u001b[49m\u001b[43m)\u001b[49m\n\u001b[0;32m    145\u001b[0m         \u001b[38;5;28;01mif\u001b[39;00m inspect\u001b[38;5;241m.\u001b[39misawaitable(result):\n\u001b[0;32m    146\u001b[0m             warnings\u001b[38;5;241m.\u001b[39mwarn(_ASYNC_RETRY_WARNING)\n",
      "File \u001b[1;32mf:\\dev25\\Building-Agentic-AI\\Langgraph_Agent\\venv\\Lib\\site-packages\\google\\api_core\\timeout.py:130\u001b[0m, in \u001b[0;36mTimeToDeadlineTimeout.__call__.<locals>.func_with_timeout\u001b[1;34m(*args, **kwargs)\u001b[0m\n\u001b[0;32m    126\u001b[0m         remaining_timeout \u001b[38;5;241m=\u001b[39m \u001b[38;5;28mself\u001b[39m\u001b[38;5;241m.\u001b[39m_timeout\n\u001b[0;32m    128\u001b[0m     kwargs[\u001b[38;5;124m\"\u001b[39m\u001b[38;5;124mtimeout\u001b[39m\u001b[38;5;124m\"\u001b[39m] \u001b[38;5;241m=\u001b[39m remaining_timeout\n\u001b[1;32m--> 130\u001b[0m \u001b[38;5;28;01mreturn\u001b[39;00m \u001b[43mfunc\u001b[49m\u001b[43m(\u001b[49m\u001b[38;5;241;43m*\u001b[39;49m\u001b[43margs\u001b[49m\u001b[43m,\u001b[49m\u001b[43m \u001b[49m\u001b[38;5;241;43m*\u001b[39;49m\u001b[38;5;241;43m*\u001b[39;49m\u001b[43mkwargs\u001b[49m\u001b[43m)\u001b[49m\n",
      "File \u001b[1;32mf:\\dev25\\Building-Agentic-AI\\Langgraph_Agent\\venv\\Lib\\site-packages\\google\\api_core\\grpc_helpers.py:174\u001b[0m, in \u001b[0;36m_wrap_stream_errors.<locals>.error_remapped_callable\u001b[1;34m(*args, **kwargs)\u001b[0m\n\u001b[0;32m    170\u001b[0m     \u001b[38;5;28;01mreturn\u001b[39;00m _StreamingResponseIterator(\n\u001b[0;32m    171\u001b[0m         result, prefetch_first_result\u001b[38;5;241m=\u001b[39mprefetch_first\n\u001b[0;32m    172\u001b[0m     )\n\u001b[0;32m    173\u001b[0m \u001b[38;5;28;01mexcept\u001b[39;00m grpc\u001b[38;5;241m.\u001b[39mRpcError \u001b[38;5;28;01mas\u001b[39;00m exc:\n\u001b[1;32m--> 174\u001b[0m     \u001b[38;5;28;01mraise\u001b[39;00m exceptions\u001b[38;5;241m.\u001b[39mfrom_grpc_error(exc) \u001b[38;5;28;01mfrom\u001b[39;00m\u001b[38;5;250m \u001b[39m\u001b[38;5;21;01mexc\u001b[39;00m\n",
      "\u001b[1;31mResourceExhausted\u001b[0m: 429 You exceeded your current quota, please check your plan and billing details. For more information on this error, head to: https://ai.google.dev/gemini-api/docs/rate-limits. [violations {\n}\n, links {\n  description: \"Learn more about Gemini API quotas\"\n  url: \"https://ai.google.dev/gemini-api/docs/rate-limits\"\n}\n, retry_delay {\n  seconds: 21\n}\n]"
     ]
    }
   ],
   "source": [
    "agent_executor.invoke(\n",
    "    {\"input\": \"who is current caption of indian cricket team?\"}\n",
    ")"
   ]
  },
  {
   "cell_type": "code",
   "execution_count": null,
   "metadata": {},
   "outputs": [],
   "source": []
  }
 ],
 "metadata": {
  "kernelspec": {
   "display_name": "Python 3",
   "language": "python",
   "name": "python3"
  },
  "language_info": {
   "codemirror_mode": {
    "name": "ipython",
    "version": 3
   },
   "file_extension": ".py",
   "mimetype": "text/x-python",
   "name": "python",
   "nbconvert_exporter": "python",
   "pygments_lexer": "ipython3",
   "version": "3.12.0"
  }
 },
 "nbformat": 4,
 "nbformat_minor": 2
}
